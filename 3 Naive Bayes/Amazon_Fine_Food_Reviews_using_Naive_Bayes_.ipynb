{
  "nbformat": 4,
  "nbformat_minor": 0,
  "metadata": {
    "colab": {
      "name": "Amazon Fine Food Reviews using Naive Bayes .ipynb",
      "provenance": [],
      "collapsed_sections": [
        "k06v0gYWQFd9",
        "hC2MnolmT-kH",
        "eLcBoFd4c2oy",
        "ZG0hzxl2qJre",
        "lrx6XF_pqqNx",
        "H21weXqczeUb"
      ],
      "include_colab_link": true
    },
    "kernelspec": {
      "display_name": "Python 3",
      "language": "python",
      "name": "python3"
    }
  },
  "cells": [
    {
      "cell_type": "markdown",
      "metadata": {
        "id": "view-in-github",
        "colab_type": "text"
      },
      "source": [
        "<a href=\"https://colab.research.google.com/github/Dummy-Bug/Amazon-Fine-Food-Reviews/blob/master/3%20Naive%20Bayes/Amazon_Fine_Food_Reviews_using_Naive_Bayes_.ipynb\" target=\"_parent\"><img src=\"https://colab.research.google.com/assets/colab-badge.svg\" alt=\"Open In Colab\"/></a>"
      ]
    },
    {
      "cell_type": "code",
      "metadata": {
        "id": "PvDdRsHgCAY5"
      },
      "source": [
        "%matplotlib inline\n",
        "import warnings\n",
        "warnings.filterwarnings(\"ignore\")\n",
        "\n",
        "\n",
        "\n",
        "import sqlite3\n",
        "import pandas as pd\n",
        "import numpy as np\n",
        "import nltk\n",
        "import string\n",
        "import matplotlib.pyplot as plt\n",
        "import seaborn as sns\n",
        "from sklearn.feature_extraction.text import TfidfTransformer\n",
        "\n",
        "from sklearn.metrics import confusion_matrix\n",
        "from sklearn import metrics\n",
        "from sklearn.metrics import roc_curve, auc\n",
        "from nltk.stem.porter import PorterStemmer\n",
        "\n",
        "import re\n",
        "\n",
        "import string\n",
        "from nltk.corpus import stopwords\n",
        "from nltk.stem import PorterStemmer\n",
        "from nltk.stem.wordnet import WordNetLemmatizer\n",
        "\n",
        "from gensim.models import KeyedVectors\n",
        "import pickle\n",
        "\n",
        "from tqdm import tqdm\n",
        "import os"
      ],
      "execution_count": null,
      "outputs": []
    },
    {
      "cell_type": "code",
      "metadata": {
        "colab": {
          "base_uri": "https://localhost:8080/"
        },
        "id": "2B70Fd6cd93z",
        "outputId": "28f2f752-ffc4-4da2-c5fc-c2f286d25b01"
      },
      "source": [
        "! sudo pip install imbalanced-learn"
      ],
      "execution_count": null,
      "outputs": [
        {
          "name": "stdout",
          "output_type": "stream",
          "text": [
            "Requirement already satisfied: imbalanced-learn in /usr/local/lib/python3.7/dist-packages (0.8.1)\n",
            "Requirement already satisfied: numpy>=1.13.3 in /usr/local/lib/python3.7/dist-packages (from imbalanced-learn) (1.19.5)\n",
            "Requirement already satisfied: joblib>=0.11 in /usr/local/lib/python3.7/dist-packages (from imbalanced-learn) (1.1.0)\n",
            "Requirement already satisfied: scikit-learn>=0.24 in /usr/local/lib/python3.7/dist-packages (from imbalanced-learn) (1.0.1)\n",
            "Requirement already satisfied: scipy>=0.19.1 in /usr/local/lib/python3.7/dist-packages (from imbalanced-learn) (1.4.1)\n",
            "Requirement already satisfied: threadpoolctl>=2.0.0 in /usr/local/lib/python3.7/dist-packages (from scikit-learn>=0.24->imbalanced-learn) (3.0.0)\n"
          ]
        }
      ]
    },
    {
      "cell_type": "code",
      "metadata": {
        "colab": {
          "base_uri": "https://localhost:8080/"
        },
        "id": "_sJPOt7seDow",
        "outputId": "f0ae9c97-def9-40de-bae9-d7b689302032"
      },
      "source": [
        "# check version number\n",
        "import imblearn\n",
        "print(imblearn.__version__)"
      ],
      "execution_count": null,
      "outputs": [
        {
          "name": "stdout",
          "output_type": "stream",
          "text": [
            "0.8.1\n"
          ]
        }
      ]
    },
    {
      "cell_type": "markdown",
      "metadata": {
        "id": "QOI7X2YgCAY_"
      },
      "source": [
        "# [1]. Reading Data"
      ]
    },
    {
      "cell_type": "code",
      "metadata": {
        "colab": {
          "base_uri": "https://localhost:8080/"
        },
        "id": "VxDPNWYCOQuc",
        "outputId": "7fdc99e7-2eb8-4fbb-d54f-768f86c2bbf9"
      },
      "source": [
        "from google.colab import drive\n",
        "drive.mount('/content/drive')"
      ],
      "execution_count": null,
      "outputs": [
        {
          "name": "stdout",
          "output_type": "stream",
          "text": [
            "Mounted at /content/drive\n"
          ]
        }
      ]
    },
    {
      "cell_type": "code",
      "metadata": {
        "colab": {
          "base_uri": "https://localhost:8080/",
          "height": 432
        },
        "id": "3iYH2p1ECAZA",
        "outputId": "e22709f8-6a07-465a-f402-5bb4832c408a"
      },
      "source": [
        "# using the SQLite Table to read data.\n",
        "con = sqlite3.connect('/content/drive/MyDrive/Data sets/database.sqlite') \n",
        "# filtering only positive and negative reviews i.e. \n",
        "# not taking into consideration those reviews with Score = 3\n",
        "# SELECT * FROM Reviews WHERE Score != 3 LIMIT 500000, will give top 500000 data points\n",
        "# you can change the number to any other number based on your computing power\n",
        "\n",
        "# * for tsne assignment you can take 5k data points *\n",
        "\n",
        "filtered_data = pd.read_sql_query(\"\"\" SELECT * FROM Reviews WHERE Score != 3 limit 20000 \"\"\", con)\n",
        "print(\"Number of data points in our data\", filtered_data.shape)\n",
        "filtered_data.head()\n"
      ],
      "execution_count": null,
      "outputs": [
        {
          "name": "stdout",
          "output_type": "stream",
          "text": [
            "Number of data points in our data (20000, 10)\n"
          ]
        },
        {
          "data": {
            "text/html": [
              "<div>\n",
              "<style scoped>\n",
              "    .dataframe tbody tr th:only-of-type {\n",
              "        vertical-align: middle;\n",
              "    }\n",
              "\n",
              "    .dataframe tbody tr th {\n",
              "        vertical-align: top;\n",
              "    }\n",
              "\n",
              "    .dataframe thead th {\n",
              "        text-align: right;\n",
              "    }\n",
              "</style>\n",
              "<table border=\"1\" class=\"dataframe\">\n",
              "  <thead>\n",
              "    <tr style=\"text-align: right;\">\n",
              "      <th></th>\n",
              "      <th>Id</th>\n",
              "      <th>ProductId</th>\n",
              "      <th>UserId</th>\n",
              "      <th>ProfileName</th>\n",
              "      <th>HelpfulnessNumerator</th>\n",
              "      <th>HelpfulnessDenominator</th>\n",
              "      <th>Score</th>\n",
              "      <th>Time</th>\n",
              "      <th>Summary</th>\n",
              "      <th>Text</th>\n",
              "    </tr>\n",
              "  </thead>\n",
              "  <tbody>\n",
              "    <tr>\n",
              "      <th>0</th>\n",
              "      <td>1</td>\n",
              "      <td>B001E4KFG0</td>\n",
              "      <td>A3SGXH7AUHU8GW</td>\n",
              "      <td>delmartian</td>\n",
              "      <td>1</td>\n",
              "      <td>1</td>\n",
              "      <td>5</td>\n",
              "      <td>1303862400</td>\n",
              "      <td>Good Quality Dog Food</td>\n",
              "      <td>I have bought several of the Vitality canned dog food pr...</td>\n",
              "    </tr>\n",
              "    <tr>\n",
              "      <th>1</th>\n",
              "      <td>2</td>\n",
              "      <td>B00813GRG4</td>\n",
              "      <td>A1D87F6ZCVE5NK</td>\n",
              "      <td>dll pa</td>\n",
              "      <td>0</td>\n",
              "      <td>0</td>\n",
              "      <td>1</td>\n",
              "      <td>1346976000</td>\n",
              "      <td>Not as Advertised</td>\n",
              "      <td>Product arrived labeled as Jumbo Salted Peanuts...the pe...</td>\n",
              "    </tr>\n",
              "    <tr>\n",
              "      <th>2</th>\n",
              "      <td>3</td>\n",
              "      <td>B000LQOCH0</td>\n",
              "      <td>ABXLMWJIXXAIN</td>\n",
              "      <td>Natalia Corres \"Natalia Corres\"</td>\n",
              "      <td>1</td>\n",
              "      <td>1</td>\n",
              "      <td>4</td>\n",
              "      <td>1219017600</td>\n",
              "      <td>\"Delight\" says it all</td>\n",
              "      <td>This is a confection that has been around a few centurie...</td>\n",
              "    </tr>\n",
              "    <tr>\n",
              "      <th>3</th>\n",
              "      <td>4</td>\n",
              "      <td>B000UA0QIQ</td>\n",
              "      <td>A395BORC6FGVXV</td>\n",
              "      <td>Karl</td>\n",
              "      <td>3</td>\n",
              "      <td>3</td>\n",
              "      <td>2</td>\n",
              "      <td>1307923200</td>\n",
              "      <td>Cough Medicine</td>\n",
              "      <td>If you are looking for the secret ingredient in Robituss...</td>\n",
              "    </tr>\n",
              "    <tr>\n",
              "      <th>4</th>\n",
              "      <td>5</td>\n",
              "      <td>B006K2ZZ7K</td>\n",
              "      <td>A1UQRSCLF8GW1T</td>\n",
              "      <td>Michael D. Bigham \"M. Wassir\"</td>\n",
              "      <td>0</td>\n",
              "      <td>0</td>\n",
              "      <td>5</td>\n",
              "      <td>1350777600</td>\n",
              "      <td>Great taffy</td>\n",
              "      <td>Great taffy at a great price.  There was a wide assortme...</td>\n",
              "    </tr>\n",
              "  </tbody>\n",
              "</table>\n",
              "</div>"
            ],
            "text/plain": [
              "   Id  ...                                                         Text\n",
              "0   1  ...  I have bought several of the Vitality canned dog food pr...\n",
              "1   2  ...  Product arrived labeled as Jumbo Salted Peanuts...the pe...\n",
              "2   3  ...  This is a confection that has been around a few centurie...\n",
              "3   4  ...  If you are looking for the secret ingredient in Robituss...\n",
              "4   5  ...  Great taffy at a great price.  There was a wide assortme...\n",
              "\n",
              "[5 rows x 10 columns]"
            ]
          },
          "execution_count": 187,
          "metadata": {},
          "output_type": "execute_result"
        }
      ]
    },
    {
      "cell_type": "code",
      "metadata": {
        "colab": {
          "base_uri": "https://localhost:8080/"
        },
        "id": "00_hLLHFHu2I",
        "outputId": "bdced1df-2f4d-4e63-902d-ef8873e3259d"
      },
      "source": [
        "filtered_data['Score'].value_counts()"
      ],
      "execution_count": null,
      "outputs": [
        {
          "data": {
            "text/plain": [
              "5    13745\n",
              "4     3110\n",
              "1     1953\n",
              "2     1192\n",
              "Name: Score, dtype: int64"
            ]
          },
          "execution_count": 188,
          "metadata": {},
          "output_type": "execute_result"
        }
      ]
    },
    {
      "cell_type": "markdown",
      "metadata": {
        "id": "M_KaIXnR-AUd"
      },
      "source": [
        "let's make the dataset balanced using Undersampling"
      ]
    },
    {
      "cell_type": "code",
      "metadata": {
        "colab": {
          "base_uri": "https://localhost:8080/",
          "height": 1000
        },
        "id": "o5dPrgyQDN7s",
        "outputId": "f1d5376f-1ae4-4bfd-dcd5-490d33e683b0"
      },
      "source": [
        "# Give reviews with Score>3 a positive rating, and reviews with a score<3 a negative rating.\n",
        "def partition(x):\n",
        "    if x < 3:\n",
        "        return 0 # 0 here means negative review\n",
        "    return 1 # it means review is positive\n",
        "\n",
        "# changing reviews with score less than 3 to be positive and vice-versa\n",
        "\n",
        "actualScore = filtered_data['Score']\n",
        "positiveNegative = actualScore.apply(partition) # we can use .apply() also but .map is preffered for series\n",
        "filtered_data['Score'] = positiveNegative\n",
        "\n",
        "print(\"Number of data points in our data\", filtered_data.shape)\n",
        "filtered_data"
      ],
      "execution_count": null,
      "outputs": [
        {
          "name": "stdout",
          "output_type": "stream",
          "text": [
            "Number of data points in our data (20000, 10)\n"
          ]
        },
        {
          "data": {
            "text/html": [
              "<div>\n",
              "<style scoped>\n",
              "    .dataframe tbody tr th:only-of-type {\n",
              "        vertical-align: middle;\n",
              "    }\n",
              "\n",
              "    .dataframe tbody tr th {\n",
              "        vertical-align: top;\n",
              "    }\n",
              "\n",
              "    .dataframe thead th {\n",
              "        text-align: right;\n",
              "    }\n",
              "</style>\n",
              "<table border=\"1\" class=\"dataframe\">\n",
              "  <thead>\n",
              "    <tr style=\"text-align: right;\">\n",
              "      <th></th>\n",
              "      <th>Id</th>\n",
              "      <th>ProductId</th>\n",
              "      <th>UserId</th>\n",
              "      <th>ProfileName</th>\n",
              "      <th>HelpfulnessNumerator</th>\n",
              "      <th>HelpfulnessDenominator</th>\n",
              "      <th>Score</th>\n",
              "      <th>Time</th>\n",
              "      <th>Summary</th>\n",
              "      <th>Text</th>\n",
              "    </tr>\n",
              "  </thead>\n",
              "  <tbody>\n",
              "    <tr>\n",
              "      <th>0</th>\n",
              "      <td>1</td>\n",
              "      <td>B001E4KFG0</td>\n",
              "      <td>A3SGXH7AUHU8GW</td>\n",
              "      <td>delmartian</td>\n",
              "      <td>1</td>\n",
              "      <td>1</td>\n",
              "      <td>1</td>\n",
              "      <td>1303862400</td>\n",
              "      <td>Good Quality Dog Food</td>\n",
              "      <td>I have bought several of the Vitality canned dog food pr...</td>\n",
              "    </tr>\n",
              "    <tr>\n",
              "      <th>1</th>\n",
              "      <td>2</td>\n",
              "      <td>B00813GRG4</td>\n",
              "      <td>A1D87F6ZCVE5NK</td>\n",
              "      <td>dll pa</td>\n",
              "      <td>0</td>\n",
              "      <td>0</td>\n",
              "      <td>0</td>\n",
              "      <td>1346976000</td>\n",
              "      <td>Not as Advertised</td>\n",
              "      <td>Product arrived labeled as Jumbo Salted Peanuts...the pe...</td>\n",
              "    </tr>\n",
              "    <tr>\n",
              "      <th>2</th>\n",
              "      <td>3</td>\n",
              "      <td>B000LQOCH0</td>\n",
              "      <td>ABXLMWJIXXAIN</td>\n",
              "      <td>Natalia Corres \"Natalia Corres\"</td>\n",
              "      <td>1</td>\n",
              "      <td>1</td>\n",
              "      <td>1</td>\n",
              "      <td>1219017600</td>\n",
              "      <td>\"Delight\" says it all</td>\n",
              "      <td>This is a confection that has been around a few centurie...</td>\n",
              "    </tr>\n",
              "    <tr>\n",
              "      <th>3</th>\n",
              "      <td>4</td>\n",
              "      <td>B000UA0QIQ</td>\n",
              "      <td>A395BORC6FGVXV</td>\n",
              "      <td>Karl</td>\n",
              "      <td>3</td>\n",
              "      <td>3</td>\n",
              "      <td>0</td>\n",
              "      <td>1307923200</td>\n",
              "      <td>Cough Medicine</td>\n",
              "      <td>If you are looking for the secret ingredient in Robituss...</td>\n",
              "    </tr>\n",
              "    <tr>\n",
              "      <th>4</th>\n",
              "      <td>5</td>\n",
              "      <td>B006K2ZZ7K</td>\n",
              "      <td>A1UQRSCLF8GW1T</td>\n",
              "      <td>Michael D. Bigham \"M. Wassir\"</td>\n",
              "      <td>0</td>\n",
              "      <td>0</td>\n",
              "      <td>1</td>\n",
              "      <td>1350777600</td>\n",
              "      <td>Great taffy</td>\n",
              "      <td>Great taffy at a great price.  There was a wide assortme...</td>\n",
              "    </tr>\n",
              "    <tr>\n",
              "      <th>...</th>\n",
              "      <td>...</td>\n",
              "      <td>...</td>\n",
              "      <td>...</td>\n",
              "      <td>...</td>\n",
              "      <td>...</td>\n",
              "      <td>...</td>\n",
              "      <td>...</td>\n",
              "      <td>...</td>\n",
              "      <td>...</td>\n",
              "      <td>...</td>\n",
              "    </tr>\n",
              "    <tr>\n",
              "      <th>19995</th>\n",
              "      <td>21784</td>\n",
              "      <td>B000KV61FC</td>\n",
              "      <td>A3FVKI0UH9DO2A</td>\n",
              "      <td>S. Malosh</td>\n",
              "      <td>1</td>\n",
              "      <td>1</td>\n",
              "      <td>1</td>\n",
              "      <td>1319414400</td>\n",
              "      <td>Occupies my dog for hours!</td>\n",
              "      <td>My 5-month-old Black Lab/Boston Terrier mix is a very cu...</td>\n",
              "    </tr>\n",
              "    <tr>\n",
              "      <th>19996</th>\n",
              "      <td>21785</td>\n",
              "      <td>B000KV61FC</td>\n",
              "      <td>A3ACVJEAM4L2LQ</td>\n",
              "      <td>Elb</td>\n",
              "      <td>1</td>\n",
              "      <td>1</td>\n",
              "      <td>1</td>\n",
              "      <td>1319155200</td>\n",
              "      <td>Keeps my big Dog busy for a long time!</td>\n",
              "      <td>My Doberman/pointer mix has a lot of extra energy and re...</td>\n",
              "    </tr>\n",
              "    <tr>\n",
              "      <th>19997</th>\n",
              "      <td>21786</td>\n",
              "      <td>B000KV61FC</td>\n",
              "      <td>AHHWZ4723VGOL</td>\n",
              "      <td>Sherry Lynn</td>\n",
              "      <td>1</td>\n",
              "      <td>1</td>\n",
              "      <td>0</td>\n",
              "      <td>1318809600</td>\n",
              "      <td>poor quality !!!!</td>\n",
              "      <td>This is a poor excuse for a dog toy . It lasted all of t...</td>\n",
              "    </tr>\n",
              "    <tr>\n",
              "      <th>19998</th>\n",
              "      <td>21787</td>\n",
              "      <td>B000KV61FC</td>\n",
              "      <td>A2O4CZ102I8Q2K</td>\n",
              "      <td>jus42day</td>\n",
              "      <td>1</td>\n",
              "      <td>1</td>\n",
              "      <td>1</td>\n",
              "      <td>1316649600</td>\n",
              "      <td>Great Product.</td>\n",
              "      <td>I bought this item unsure if my dogs would like it. Not ...</td>\n",
              "    </tr>\n",
              "    <tr>\n",
              "      <th>19999</th>\n",
              "      <td>21788</td>\n",
              "      <td>B000KV61FC</td>\n",
              "      <td>A3I4GCI6XTX1BB</td>\n",
              "      <td>Eric C. Vizinas \"Q\"</td>\n",
              "      <td>1</td>\n",
              "      <td>1</td>\n",
              "      <td>1</td>\n",
              "      <td>1316563200</td>\n",
              "      <td>This made ALL the difference</td>\n",
              "      <td>I've got a dog who gets bored while I'm away and in a la...</td>\n",
              "    </tr>\n",
              "  </tbody>\n",
              "</table>\n",
              "<p>20000 rows × 10 columns</p>\n",
              "</div>"
            ],
            "text/plain": [
              "          Id  ...                                                         Text\n",
              "0          1  ...  I have bought several of the Vitality canned dog food pr...\n",
              "1          2  ...  Product arrived labeled as Jumbo Salted Peanuts...the pe...\n",
              "2          3  ...  This is a confection that has been around a few centurie...\n",
              "3          4  ...  If you are looking for the secret ingredient in Robituss...\n",
              "4          5  ...  Great taffy at a great price.  There was a wide assortme...\n",
              "...      ...  ...                                                          ...\n",
              "19995  21784  ...  My 5-month-old Black Lab/Boston Terrier mix is a very cu...\n",
              "19996  21785  ...  My Doberman/pointer mix has a lot of extra energy and re...\n",
              "19997  21786  ...  This is a poor excuse for a dog toy . It lasted all of t...\n",
              "19998  21787  ...  I bought this item unsure if my dogs would like it. Not ...\n",
              "19999  21788  ...  I've got a dog who gets bored while I'm away and in a la...\n",
              "\n",
              "[20000 rows x 10 columns]"
            ]
          },
          "execution_count": 189,
          "metadata": {},
          "output_type": "execute_result"
        }
      ]
    },
    {
      "cell_type": "code",
      "metadata": {
        "colab": {
          "base_uri": "https://localhost:8080/"
        },
        "id": "rxAfSEqxHS9M",
        "outputId": "6e9c1c85-a088-441f-f376-90bd3cb6d37d"
      },
      "source": [
        "filtered_data[\"Score\"].value_counts()"
      ],
      "execution_count": null,
      "outputs": [
        {
          "data": {
            "text/plain": [
              "1    16855\n",
              "0     3145\n",
              "Name: Score, dtype: int64"
            ]
          },
          "execution_count": 190,
          "metadata": {},
          "output_type": "execute_result"
        }
      ]
    },
    {
      "cell_type": "code",
      "metadata": {
        "id": "I1jf03kECAZF"
      },
      "source": [
        "display = pd.read_sql_query(\"\"\"\n",
        "SELECT UserId, ProductId, ProfileName, Time, Score, Text, COUNT(*)\n",
        "FROM Reviews\n",
        "GROUP BY UserId\n",
        "HAVING COUNT(*)>1\n",
        "\"\"\", con) # selecting the reviews from only those users who have reviewed more than one products. "
      ],
      "execution_count": null,
      "outputs": []
    },
    {
      "cell_type": "code",
      "metadata": {
        "colab": {
          "base_uri": "https://localhost:8080/",
          "height": 223
        },
        "id": "Ja8xSefOCAZH",
        "outputId": "0570e0ae-d545-401a-9899-fa49ba0a4c78"
      },
      "source": [
        "print(display.shape)\n",
        "display.head()"
      ],
      "execution_count": null,
      "outputs": [
        {
          "name": "stdout",
          "output_type": "stream",
          "text": [
            "(80668, 7)\n"
          ]
        },
        {
          "data": {
            "text/html": [
              "<div>\n",
              "<style scoped>\n",
              "    .dataframe tbody tr th:only-of-type {\n",
              "        vertical-align: middle;\n",
              "    }\n",
              "\n",
              "    .dataframe tbody tr th {\n",
              "        vertical-align: top;\n",
              "    }\n",
              "\n",
              "    .dataframe thead th {\n",
              "        text-align: right;\n",
              "    }\n",
              "</style>\n",
              "<table border=\"1\" class=\"dataframe\">\n",
              "  <thead>\n",
              "    <tr style=\"text-align: right;\">\n",
              "      <th></th>\n",
              "      <th>UserId</th>\n",
              "      <th>ProductId</th>\n",
              "      <th>ProfileName</th>\n",
              "      <th>Time</th>\n",
              "      <th>Score</th>\n",
              "      <th>Text</th>\n",
              "      <th>COUNT(*)</th>\n",
              "    </tr>\n",
              "  </thead>\n",
              "  <tbody>\n",
              "    <tr>\n",
              "      <th>0</th>\n",
              "      <td>#oc-R115TNMSPFT9I7</td>\n",
              "      <td>B007Y59HVM</td>\n",
              "      <td>Breyton</td>\n",
              "      <td>1331510400</td>\n",
              "      <td>2</td>\n",
              "      <td>Overall its just OK when considering the price of other ...</td>\n",
              "      <td>2</td>\n",
              "    </tr>\n",
              "    <tr>\n",
              "      <th>1</th>\n",
              "      <td>#oc-R11D9D7SHXIJB9</td>\n",
              "      <td>B005HG9ET0</td>\n",
              "      <td>Louis E. Emory \"hoppy\"</td>\n",
              "      <td>1342396800</td>\n",
              "      <td>5</td>\n",
              "      <td>My wife has recurring extreme muscle spasms, usually lat...</td>\n",
              "      <td>3</td>\n",
              "    </tr>\n",
              "    <tr>\n",
              "      <th>2</th>\n",
              "      <td>#oc-R11DNU2NBKQ23Z</td>\n",
              "      <td>B007Y59HVM</td>\n",
              "      <td>Kim Cieszykowski</td>\n",
              "      <td>1348531200</td>\n",
              "      <td>1</td>\n",
              "      <td>This coffee is horrible and unfortunately not eligible f...</td>\n",
              "      <td>2</td>\n",
              "    </tr>\n",
              "    <tr>\n",
              "      <th>3</th>\n",
              "      <td>#oc-R11O5J5ZVQE25C</td>\n",
              "      <td>B005HG9ET0</td>\n",
              "      <td>Penguin Chick</td>\n",
              "      <td>1346889600</td>\n",
              "      <td>5</td>\n",
              "      <td>This will be the bottle that you grab from the fridge if...</td>\n",
              "      <td>3</td>\n",
              "    </tr>\n",
              "    <tr>\n",
              "      <th>4</th>\n",
              "      <td>#oc-R12KPBODL2B5ZD</td>\n",
              "      <td>B007OSBE1U</td>\n",
              "      <td>Christopher P. Presta</td>\n",
              "      <td>1348617600</td>\n",
              "      <td>1</td>\n",
              "      <td>I didnt like this coffee. Instead of telling you why I d...</td>\n",
              "      <td>2</td>\n",
              "    </tr>\n",
              "  </tbody>\n",
              "</table>\n",
              "</div>"
            ],
            "text/plain": [
              "               UserId  ... COUNT(*)\n",
              "0  #oc-R115TNMSPFT9I7  ...        2\n",
              "1  #oc-R11D9D7SHXIJB9  ...        3\n",
              "2  #oc-R11DNU2NBKQ23Z  ...        2\n",
              "3  #oc-R11O5J5ZVQE25C  ...        3\n",
              "4  #oc-R12KPBODL2B5ZD  ...        2\n",
              "\n",
              "[5 rows x 7 columns]"
            ]
          },
          "execution_count": 192,
          "metadata": {},
          "output_type": "execute_result"
        }
      ]
    },
    {
      "cell_type": "code",
      "metadata": {
        "colab": {
          "base_uri": "https://localhost:8080/",
          "height": 519
        },
        "id": "o5Xl_-kQMvij",
        "outputId": "9929680a-e77c-4b54-ec11-69bf3035ee49"
      },
      "source": [
        "data = pd.read_sql_query(\"\"\"\n",
        "SELECT *\n",
        "FROM Reviews\n",
        "where UserId = 'AZY10LLTJ71NX'\n",
        "\"\"\", con) # selecting all the reviews posted by User\n",
        "\n",
        "data"
      ],
      "execution_count": null,
      "outputs": [
        {
          "data": {
            "text/html": [
              "<div>\n",
              "<style scoped>\n",
              "    .dataframe tbody tr th:only-of-type {\n",
              "        vertical-align: middle;\n",
              "    }\n",
              "\n",
              "    .dataframe tbody tr th {\n",
              "        vertical-align: top;\n",
              "    }\n",
              "\n",
              "    .dataframe thead th {\n",
              "        text-align: right;\n",
              "    }\n",
              "</style>\n",
              "<table border=\"1\" class=\"dataframe\">\n",
              "  <thead>\n",
              "    <tr style=\"text-align: right;\">\n",
              "      <th></th>\n",
              "      <th>Id</th>\n",
              "      <th>ProductId</th>\n",
              "      <th>UserId</th>\n",
              "      <th>ProfileName</th>\n",
              "      <th>HelpfulnessNumerator</th>\n",
              "      <th>HelpfulnessDenominator</th>\n",
              "      <th>Score</th>\n",
              "      <th>Time</th>\n",
              "      <th>Summary</th>\n",
              "      <th>Text</th>\n",
              "    </tr>\n",
              "  </thead>\n",
              "  <tbody>\n",
              "    <tr>\n",
              "      <th>0</th>\n",
              "      <td>35174</td>\n",
              "      <td>B001ATMQK2</td>\n",
              "      <td>AZY10LLTJ71NX</td>\n",
              "      <td>undertheshrine \"undertheshrine\"</td>\n",
              "      <td>1</td>\n",
              "      <td>1</td>\n",
              "      <td>5</td>\n",
              "      <td>1296691200</td>\n",
              "      <td>Have you seen how much Ranch 99 is trying to charge!!</td>\n",
              "      <td>I bought this 6 pack because for the price that my local...</td>\n",
              "    </tr>\n",
              "    <tr>\n",
              "      <th>1</th>\n",
              "      <td>332195</td>\n",
              "      <td>B001P7AXXG</td>\n",
              "      <td>AZY10LLTJ71NX</td>\n",
              "      <td>undertheshrine \"undertheshrine\"</td>\n",
              "      <td>1</td>\n",
              "      <td>1</td>\n",
              "      <td>5</td>\n",
              "      <td>1303776000</td>\n",
              "      <td>BEST MICROWAVE POPCORN EVER!!!!</td>\n",
              "      <td>This popcorn is probably the best microwave popcorn you ...</td>\n",
              "    </tr>\n",
              "    <tr>\n",
              "      <th>2</th>\n",
              "      <td>333057</td>\n",
              "      <td>B000MYW2ZA</td>\n",
              "      <td>AZY10LLTJ71NX</td>\n",
              "      <td>undertheshrine \"undertheshrine\"</td>\n",
              "      <td>0</td>\n",
              "      <td>0</td>\n",
              "      <td>5</td>\n",
              "      <td>1334707200</td>\n",
              "      <td>works for me.  lost 10-15 pounds my first month</td>\n",
              "      <td>I was recommended to try green tea extract to lose weigh...</td>\n",
              "    </tr>\n",
              "    <tr>\n",
              "      <th>3</th>\n",
              "      <td>340773</td>\n",
              "      <td>B0043CVIBG</td>\n",
              "      <td>AZY10LLTJ71NX</td>\n",
              "      <td>undertheshrine \"undertheshrine\"</td>\n",
              "      <td>4</td>\n",
              "      <td>4</td>\n",
              "      <td>5</td>\n",
              "      <td>1303776000</td>\n",
              "      <td>girl scout thin mint in disguise</td>\n",
              "      <td>if you love thin mint cookies that the girl scouts sell,...</td>\n",
              "    </tr>\n",
              "    <tr>\n",
              "      <th>4</th>\n",
              "      <td>404703</td>\n",
              "      <td>B006P7E5ZI</td>\n",
              "      <td>AZY10LLTJ71NX</td>\n",
              "      <td>undertheshrine \"undertheshrine\"</td>\n",
              "      <td>0</td>\n",
              "      <td>0</td>\n",
              "      <td>5</td>\n",
              "      <td>1334707200</td>\n",
              "      <td>works for me.  lost 10-15 pounds my first month</td>\n",
              "      <td>I was recommended to try green tea extract to lose weigh...</td>\n",
              "    </tr>\n",
              "  </tbody>\n",
              "</table>\n",
              "</div>"
            ],
            "text/plain": [
              "       Id  ...                                                         Text\n",
              "0   35174  ...  I bought this 6 pack because for the price that my local...\n",
              "1  332195  ...  This popcorn is probably the best microwave popcorn you ...\n",
              "2  333057  ...  I was recommended to try green tea extract to lose weigh...\n",
              "3  340773  ...  if you love thin mint cookies that the girl scouts sell,...\n",
              "4  404703  ...  I was recommended to try green tea extract to lose weigh...\n",
              "\n",
              "[5 rows x 10 columns]"
            ]
          },
          "execution_count": 193,
          "metadata": {},
          "output_type": "execute_result"
        }
      ]
    },
    {
      "cell_type": "code",
      "metadata": {
        "colab": {
          "base_uri": "https://localhost:8080/",
          "height": 81
        },
        "id": "GXL9rYxVM9FK",
        "outputId": "38642928-e0be-4e81-ea5f-8bd56ce4ee42"
      },
      "source": [
        "data = pd.read_sql_query(\"\"\"\n",
        "SELECT count(*)\n",
        "FROM Reviews\n",
        "where UserId = 'AZY10LLTJ71NX'\n",
        "\"\"\", con) # selecting all the reviews posted by User\n",
        "\n",
        "data  # it will count all the reviews "
      ],
      "execution_count": null,
      "outputs": [
        {
          "data": {
            "text/html": [
              "<div>\n",
              "<style scoped>\n",
              "    .dataframe tbody tr th:only-of-type {\n",
              "        vertical-align: middle;\n",
              "    }\n",
              "\n",
              "    .dataframe tbody tr th {\n",
              "        vertical-align: top;\n",
              "    }\n",
              "\n",
              "    .dataframe thead th {\n",
              "        text-align: right;\n",
              "    }\n",
              "</style>\n",
              "<table border=\"1\" class=\"dataframe\">\n",
              "  <thead>\n",
              "    <tr style=\"text-align: right;\">\n",
              "      <th></th>\n",
              "      <th>count(*)</th>\n",
              "    </tr>\n",
              "  </thead>\n",
              "  <tbody>\n",
              "    <tr>\n",
              "      <th>0</th>\n",
              "      <td>5</td>\n",
              "    </tr>\n",
              "  </tbody>\n",
              "</table>\n",
              "</div>"
            ],
            "text/plain": [
              "   count(*)\n",
              "0         5"
            ]
          },
          "execution_count": 194,
          "metadata": {},
          "output_type": "execute_result"
        }
      ]
    },
    {
      "cell_type": "code",
      "metadata": {
        "colab": {
          "base_uri": "https://localhost:8080/",
          "height": 81
        },
        "id": "u5ctUTW-CAZK",
        "outputId": "1e3e8cc7-3a4f-49d3-d98e-d89b66b22e6b"
      },
      "source": [
        "display[display['UserId']=='AZY10LLTJ71NX']"
      ],
      "execution_count": null,
      "outputs": [
        {
          "data": {
            "text/html": [
              "<div>\n",
              "<style scoped>\n",
              "    .dataframe tbody tr th:only-of-type {\n",
              "        vertical-align: middle;\n",
              "    }\n",
              "\n",
              "    .dataframe tbody tr th {\n",
              "        vertical-align: top;\n",
              "    }\n",
              "\n",
              "    .dataframe thead th {\n",
              "        text-align: right;\n",
              "    }\n",
              "</style>\n",
              "<table border=\"1\" class=\"dataframe\">\n",
              "  <thead>\n",
              "    <tr style=\"text-align: right;\">\n",
              "      <th></th>\n",
              "      <th>UserId</th>\n",
              "      <th>ProductId</th>\n",
              "      <th>ProfileName</th>\n",
              "      <th>Time</th>\n",
              "      <th>Score</th>\n",
              "      <th>Text</th>\n",
              "      <th>COUNT(*)</th>\n",
              "    </tr>\n",
              "  </thead>\n",
              "  <tbody>\n",
              "    <tr>\n",
              "      <th>80638</th>\n",
              "      <td>AZY10LLTJ71NX</td>\n",
              "      <td>B006P7E5ZI</td>\n",
              "      <td>undertheshrine \"undertheshrine\"</td>\n",
              "      <td>1334707200</td>\n",
              "      <td>5</td>\n",
              "      <td>I was recommended to try green tea extract to lose weigh...</td>\n",
              "      <td>5</td>\n",
              "    </tr>\n",
              "  </tbody>\n",
              "</table>\n",
              "</div>"
            ],
            "text/plain": [
              "              UserId  ... COUNT(*)\n",
              "80638  AZY10LLTJ71NX  ...        5\n",
              "\n",
              "[1 rows x 7 columns]"
            ]
          },
          "execution_count": 195,
          "metadata": {},
          "output_type": "execute_result"
        }
      ]
    },
    {
      "cell_type": "code",
      "metadata": {
        "colab": {
          "base_uri": "https://localhost:8080/"
        },
        "id": "JsxAxA8BcdF9",
        "outputId": "7a738012-ed29-4069-f59d-eefe67cbae59"
      },
      "source": [
        "display[display['UserId']=='AZY10LLTJ71NX']['Text']"
      ],
      "execution_count": null,
      "outputs": [
        {
          "data": {
            "text/plain": [
              "80638    I was recommended to try green tea extract to lose weigh...\n",
              "Name: Text, dtype: object"
            ]
          },
          "execution_count": 196,
          "metadata": {},
          "output_type": "execute_result"
        }
      ]
    },
    {
      "cell_type": "markdown",
      "metadata": {
        "id": "4Sb6wVUzdHo-"
      },
      "source": [
        "https://stackoverflow.com/questions/25351968/how-can-i-display-full-non-truncated-dataframe-information-in-html-when-conver"
      ]
    },
    {
      "cell_type": "code",
      "metadata": {
        "colab": {
          "base_uri": "https://localhost:8080/"
        },
        "id": "zwyhnd5Tc7JF",
        "outputId": "04d73ecd-06fa-4856-a426-3de4df84b01e"
      },
      "source": [
        "pd.set_option('display.max_colwidth', None) # to view the whoole text.\n",
        "display[display['UserId']=='AZY10LLTJ71NX']['Text']"
      ],
      "execution_count": null,
      "outputs": [
        {
          "data": {
            "text/plain": [
              "80638    I was recommended to try green tea extract to lose weight.  my first month I lost 10-15lbs.  I will continue taking these to see how well they work in the long term.\n",
              "Name: Text, dtype: object"
            ]
          },
          "execution_count": 197,
          "metadata": {},
          "output_type": "execute_result"
        }
      ]
    },
    {
      "cell_type": "code",
      "metadata": {
        "colab": {
          "base_uri": "https://localhost:8080/"
        },
        "id": "tiaXnkZxCAZO",
        "outputId": "63c36fbf-369e-4aa1-9f0d-567135070412"
      },
      "source": [
        "display['COUNT(*)'].sum() # Number of Unique review givers."
      ],
      "execution_count": null,
      "outputs": [
        {
          "data": {
            "text/plain": [
              "393063"
            ]
          },
          "execution_count": 198,
          "metadata": {},
          "output_type": "execute_result"
        }
      ]
    },
    {
      "cell_type": "markdown",
      "metadata": {
        "id": "TX5b3dc5CAZS"
      },
      "source": [
        "#  Exploratory Data Analysis\n",
        "\n",
        "## [2] Data Cleaning: Deduplication\n",
        "\n",
        "It is observed (as shown in the table below) that the reviews data had many duplicate entries. Hence it was necessary to remove duplicates in order to get unbiased results for the analysis of the data.  Following is an example:"
      ]
    },
    {
      "cell_type": "code",
      "metadata": {
        "colab": {
          "base_uri": "https://localhost:8080/",
          "height": 900
        },
        "id": "4jW_0WxCCAZT",
        "scrolled": false,
        "outputId": "af1d7a92-6bfa-42e2-97ab-958af612ec50"
      },
      "source": [
        "display= pd.read_sql_query(\"\"\"\n",
        "SELECT *\n",
        "FROM Reviews\n",
        "WHERE Score != 3 AND UserId=\"AR5J8UI46CURR\"\n",
        "ORDER BY ProductID\n",
        "\"\"\", con)\n",
        "display.tail()"
      ],
      "execution_count": null,
      "outputs": [
        {
          "data": {
            "text/html": [
              "<div>\n",
              "<style scoped>\n",
              "    .dataframe tbody tr th:only-of-type {\n",
              "        vertical-align: middle;\n",
              "    }\n",
              "\n",
              "    .dataframe tbody tr th {\n",
              "        vertical-align: top;\n",
              "    }\n",
              "\n",
              "    .dataframe thead th {\n",
              "        text-align: right;\n",
              "    }\n",
              "</style>\n",
              "<table border=\"1\" class=\"dataframe\">\n",
              "  <thead>\n",
              "    <tr style=\"text-align: right;\">\n",
              "      <th></th>\n",
              "      <th>Id</th>\n",
              "      <th>ProductId</th>\n",
              "      <th>UserId</th>\n",
              "      <th>ProfileName</th>\n",
              "      <th>HelpfulnessNumerator</th>\n",
              "      <th>HelpfulnessDenominator</th>\n",
              "      <th>Score</th>\n",
              "      <th>Time</th>\n",
              "      <th>Summary</th>\n",
              "      <th>Text</th>\n",
              "    </tr>\n",
              "  </thead>\n",
              "  <tbody>\n",
              "    <tr>\n",
              "      <th>0</th>\n",
              "      <td>78445</td>\n",
              "      <td>B000HDL1RQ</td>\n",
              "      <td>AR5J8UI46CURR</td>\n",
              "      <td>Geetha Krishnan</td>\n",
              "      <td>2</td>\n",
              "      <td>2</td>\n",
              "      <td>5</td>\n",
              "      <td>1199577600</td>\n",
              "      <td>LOACKER QUADRATINI VANILLA WAFERS</td>\n",
              "      <td>DELICIOUS WAFERS. I FIND THAT EUROPEAN WAFERS ARE LESS SWEET ( LESS SUGAR AND CARBOHYDRATES) BUT VERY DELECTABLE.</td>\n",
              "    </tr>\n",
              "    <tr>\n",
              "      <th>1</th>\n",
              "      <td>138317</td>\n",
              "      <td>B000HDOPYC</td>\n",
              "      <td>AR5J8UI46CURR</td>\n",
              "      <td>Geetha Krishnan</td>\n",
              "      <td>2</td>\n",
              "      <td>2</td>\n",
              "      <td>5</td>\n",
              "      <td>1199577600</td>\n",
              "      <td>LOACKER QUADRATINI VANILLA WAFERS</td>\n",
              "      <td>DELICIOUS WAFERS. I FIND THAT EUROPEAN WAFERS ARE LESS SWEET ( LESS SUGAR AND CARBOHYDRATES) BUT VERY DELECTABLE.</td>\n",
              "    </tr>\n",
              "    <tr>\n",
              "      <th>2</th>\n",
              "      <td>138277</td>\n",
              "      <td>B000HDOPYM</td>\n",
              "      <td>AR5J8UI46CURR</td>\n",
              "      <td>Geetha Krishnan</td>\n",
              "      <td>2</td>\n",
              "      <td>2</td>\n",
              "      <td>5</td>\n",
              "      <td>1199577600</td>\n",
              "      <td>LOACKER QUADRATINI VANILLA WAFERS</td>\n",
              "      <td>DELICIOUS WAFERS. I FIND THAT EUROPEAN WAFERS ARE LESS SWEET ( LESS SUGAR AND CARBOHYDRATES) BUT VERY DELECTABLE.</td>\n",
              "    </tr>\n",
              "    <tr>\n",
              "      <th>3</th>\n",
              "      <td>73791</td>\n",
              "      <td>B000HDOPZG</td>\n",
              "      <td>AR5J8UI46CURR</td>\n",
              "      <td>Geetha Krishnan</td>\n",
              "      <td>2</td>\n",
              "      <td>2</td>\n",
              "      <td>5</td>\n",
              "      <td>1199577600</td>\n",
              "      <td>LOACKER QUADRATINI VANILLA WAFERS</td>\n",
              "      <td>DELICIOUS WAFERS. I FIND THAT EUROPEAN WAFERS ARE LESS SWEET ( LESS SUGAR AND CARBOHYDRATES) BUT VERY DELECTABLE.</td>\n",
              "    </tr>\n",
              "    <tr>\n",
              "      <th>4</th>\n",
              "      <td>155049</td>\n",
              "      <td>B000PAQ75C</td>\n",
              "      <td>AR5J8UI46CURR</td>\n",
              "      <td>Geetha Krishnan</td>\n",
              "      <td>2</td>\n",
              "      <td>2</td>\n",
              "      <td>5</td>\n",
              "      <td>1199577600</td>\n",
              "      <td>LOACKER QUADRATINI VANILLA WAFERS</td>\n",
              "      <td>DELICIOUS WAFERS. I FIND THAT EUROPEAN WAFERS ARE LESS SWEET ( LESS SUGAR AND CARBOHYDRATES) BUT VERY DELECTABLE.</td>\n",
              "    </tr>\n",
              "  </tbody>\n",
              "</table>\n",
              "</div>"
            ],
            "text/plain": [
              "       Id  ...                                                                                                               Text\n",
              "0   78445  ...  DELICIOUS WAFERS. I FIND THAT EUROPEAN WAFERS ARE LESS SWEET ( LESS SUGAR AND CARBOHYDRATES) BUT VERY DELECTABLE.\n",
              "1  138317  ...  DELICIOUS WAFERS. I FIND THAT EUROPEAN WAFERS ARE LESS SWEET ( LESS SUGAR AND CARBOHYDRATES) BUT VERY DELECTABLE.\n",
              "2  138277  ...  DELICIOUS WAFERS. I FIND THAT EUROPEAN WAFERS ARE LESS SWEET ( LESS SUGAR AND CARBOHYDRATES) BUT VERY DELECTABLE.\n",
              "3   73791  ...  DELICIOUS WAFERS. I FIND THAT EUROPEAN WAFERS ARE LESS SWEET ( LESS SUGAR AND CARBOHYDRATES) BUT VERY DELECTABLE.\n",
              "4  155049  ...  DELICIOUS WAFERS. I FIND THAT EUROPEAN WAFERS ARE LESS SWEET ( LESS SUGAR AND CARBOHYDRATES) BUT VERY DELECTABLE.\n",
              "\n",
              "[5 rows x 10 columns]"
            ]
          },
          "execution_count": 199,
          "metadata": {},
          "output_type": "execute_result"
        }
      ]
    },
    {
      "cell_type": "markdown",
      "metadata": {
        "id": "BzVTlHiMCAZV"
      },
      "source": [
        "As can be seen above the same user has multiple reviews of the with the same values for HelpfulnessNumerator, HelpfulnessDenominator, Score, Time, Summary and Text  and on doing analysis it was found that <br>\n",
        "<br> \n",
        "ProductId=B000HDOPZG was Loacker Quadratini Vanilla Wafer Cookies, 8.82-Ounce Packages (Pack of 8)<br>\n",
        "<br> \n",
        "ProductId=B000HDL1RQ was Loacker Quadratini Lemon Wafer Cookies, 8.82-Ounce Packages (Pack of 8) and so on<br>\n",
        "\n",
        "It was inferred after analysis that reviews with same parameters other than ProductId belonged to the same product just having different flavour or quantity. Hence in order to reduce redundancy it was decided to eliminate the rows having same parameters.<br>\n",
        "\n",
        "The method used for the same was that we first sort the data according to ProductId and then just keep the first similar product review and delelte the others. for eg. in the above just the review for ProductId=B000HDL1RQ remains. This method ensures that there is only one representative for each product and deduplication without sorting would lead to possibility of different representatives still existing for the same product."
      ]
    },
    {
      "cell_type": "markdown",
      "metadata": {
        "id": "w6R-TGYYRJFq"
      },
      "source": [
        "https://github.com/Dummy-Bug/AI-and-ML/blob/master/Pandas/sort_values_and_sort_index.ipynb"
      ]
    },
    {
      "cell_type": "code",
      "metadata": {
        "id": "DGy2NM7BCAZX"
      },
      "source": [
        "# Sorting data according to ProductId in ascending order\n",
        "sorted_data = filtered_data.sort_values(by = ['ProductId'], axis=0, ascending=True, inplace=False, kind='quicksort', na_position='last')"
      ],
      "execution_count": null,
      "outputs": []
    },
    {
      "cell_type": "markdown",
      "metadata": {
        "id": "852rVGVWiivG"
      },
      "source": [
        "https://pandas.pydata.org/docs/reference/api/pandas.DataFrame.drop_duplicates.html"
      ]
    },
    {
      "cell_type": "code",
      "metadata": {
        "colab": {
          "base_uri": "https://localhost:8080/"
        },
        "id": "8b-O13XVCAZZ",
        "outputId": "67061173-4536-4ff0-b6cf-a4c5a3090df5"
      },
      "source": [
        "# Deduplication of entries\n",
        "final = sorted_data.drop_duplicates(subset={\"UserId\",\"ProfileName\",\"Time\",\"Text\"}, keep='first', inplace=False)\n",
        "final.shape"
      ],
      "execution_count": null,
      "outputs": [
        {
          "data": {
            "text/plain": [
              "(19354, 10)"
            ]
          },
          "execution_count": 201,
          "metadata": {},
          "output_type": "execute_result"
        }
      ]
    },
    {
      "cell_type": "code",
      "metadata": {
        "colab": {
          "base_uri": "https://localhost:8080/"
        },
        "id": "S72Yh-rHCAZc",
        "outputId": "2ea426c5-37fd-4557-9e7f-eba04af343cf"
      },
      "source": [
        "# Checking to see how much % of data still remains\n",
        "(final['Id'].size*1.0)/(filtered_data['Id'].size*1.0)*100"
      ],
      "execution_count": null,
      "outputs": [
        {
          "data": {
            "text/plain": [
              "96.77"
            ]
          },
          "execution_count": 202,
          "metadata": {},
          "output_type": "execute_result"
        }
      ]
    },
    {
      "cell_type": "markdown",
      "metadata": {
        "id": "LO5nLKeFCAZf"
      },
      "source": [
        "<b>Observation:-</b> It was also seen that in two rows given below the value of HelpfulnessNumerator is greater than HelpfulnessDenominator which is not practically possible hence these two rows too are removed from calcualtions"
      ]
    },
    {
      "cell_type": "markdown",
      "metadata": {
        "id": "3NdyINqqj6aS"
      },
      "source": [
        "https://towardsdatascience.com/6-pandas-display-options-you-should-memories-84adf8887bc3"
      ]
    },
    {
      "cell_type": "code",
      "metadata": {
        "colab": {
          "base_uri": "https://localhost:8080/",
          "height": 1000
        },
        "id": "L9z5lrsiCAZh",
        "outputId": "22f5e24d-d5fe-4911-94ba-dde047532e00"
      },
      "source": [
        "display= pd.read_sql_query(\"\"\"\n",
        "SELECT *\n",
        "FROM Reviews\n",
        "WHERE Score != 3 AND Id=44737 OR Id=64422\n",
        "ORDER BY ProductID\n",
        "\"\"\", con)\n",
        "\n",
        "display.head()"
      ],
      "execution_count": null,
      "outputs": [
        {
          "data": {
            "text/html": [
              "<div>\n",
              "<style scoped>\n",
              "    .dataframe tbody tr th:only-of-type {\n",
              "        vertical-align: middle;\n",
              "    }\n",
              "\n",
              "    .dataframe tbody tr th {\n",
              "        vertical-align: top;\n",
              "    }\n",
              "\n",
              "    .dataframe thead th {\n",
              "        text-align: right;\n",
              "    }\n",
              "</style>\n",
              "<table border=\"1\" class=\"dataframe\">\n",
              "  <thead>\n",
              "    <tr style=\"text-align: right;\">\n",
              "      <th></th>\n",
              "      <th>Id</th>\n",
              "      <th>ProductId</th>\n",
              "      <th>UserId</th>\n",
              "      <th>ProfileName</th>\n",
              "      <th>HelpfulnessNumerator</th>\n",
              "      <th>HelpfulnessDenominator</th>\n",
              "      <th>Score</th>\n",
              "      <th>Time</th>\n",
              "      <th>Summary</th>\n",
              "      <th>Text</th>\n",
              "    </tr>\n",
              "  </thead>\n",
              "  <tbody>\n",
              "    <tr>\n",
              "      <th>0</th>\n",
              "      <td>64422</td>\n",
              "      <td>B000MIDROQ</td>\n",
              "      <td>A161DK06JJMCYF</td>\n",
              "      <td>J. E. Stephens \"Jeanne\"</td>\n",
              "      <td>3</td>\n",
              "      <td>1</td>\n",
              "      <td>5</td>\n",
              "      <td>1224892800</td>\n",
              "      <td>Bought This for My Son at College</td>\n",
              "      <td>My son loves spaghetti so I didn't hesitate ordering this for him. He says they are great. I have tried them myself and they are delicious. Just open and pop them in the microwave. It is very easy. The best thing about ordering from Amazon grocery is that they deliver to your door. If you have a loved one that lives far away and may have limited transportation this is the answer. Just order what you want them to have and Amazon takes care of the rest.</td>\n",
              "    </tr>\n",
              "    <tr>\n",
              "      <th>1</th>\n",
              "      <td>44737</td>\n",
              "      <td>B001EQ55RW</td>\n",
              "      <td>A2V0I904FH7ABY</td>\n",
              "      <td>Ram</td>\n",
              "      <td>3</td>\n",
              "      <td>2</td>\n",
              "      <td>4</td>\n",
              "      <td>1212883200</td>\n",
              "      <td>Pure cocoa taste with crunchy almonds inside</td>\n",
              "      <td>It was almost a 'love at first bite' - the perfectly roasted almond with a nice thin layer of pure flavorful cocoa on the top.&lt;br /&gt;&lt;br /&gt;You can smell the cocoa as soon as you open the canister - making you want to take a bite.&lt;br /&gt;&lt;br /&gt;You may or may not like the taste of this cocoa roasted almonds depending on your likingness for cocoa.  We are so much used to the taste of chocolate (which is actually cocoa + many other ingredients like milk ...) - that you might have never really tasted really cocoa.&lt;br /&gt;&lt;br /&gt;Tasting this item it like tasting and enjoying flavorful pure raw cocoa with crunchy almonds in the center.  Get yourself a box and see for yourself what real cocoa + almonds is !&lt;br /&gt;&lt;br /&gt;Where this product loses a star is in its packaging - the external sleeve is kind of comes in one piece, so if you try to remove the lid, the external sleeve kind of tends to come off fully - so careful when you are removing the external sleeve for the canister.</td>\n",
              "    </tr>\n",
              "  </tbody>\n",
              "</table>\n",
              "</div>"
            ],
            "text/plain": [
              "      Id  ...                                                                                                                                                                                                                                                                                                                                                                                                                                                                                                                                                                                                                                                                                                                                                                                                                                                                                                                                                                                                              Text\n",
              "0  64422  ...                                                                                                                                                                                                                                                                                                                                                                                                                                                                                                                                           My son loves spaghetti so I didn't hesitate ordering this for him. He says they are great. I have tried them myself and they are delicious. Just open and pop them in the microwave. It is very easy. The best thing about ordering from Amazon grocery is that they deliver to your door. If you have a loved one that lives far away and may have limited transportation this is the answer. Just order what you want them to have and Amazon takes care of the rest.\n",
              "1  44737  ...  It was almost a 'love at first bite' - the perfectly roasted almond with a nice thin layer of pure flavorful cocoa on the top.<br /><br />You can smell the cocoa as soon as you open the canister - making you want to take a bite.<br /><br />You may or may not like the taste of this cocoa roasted almonds depending on your likingness for cocoa.  We are so much used to the taste of chocolate (which is actually cocoa + many other ingredients like milk ...) - that you might have never really tasted really cocoa.<br /><br />Tasting this item it like tasting and enjoying flavorful pure raw cocoa with crunchy almonds in the center.  Get yourself a box and see for yourself what real cocoa + almonds is !<br /><br />Where this product loses a star is in its packaging - the external sleeve is kind of comes in one piece, so if you try to remove the lid, the external sleeve kind of tends to come off fully - so careful when you are removing the external sleeve for the canister.\n",
              "\n",
              "[2 rows x 10 columns]"
            ]
          },
          "execution_count": 203,
          "metadata": {},
          "output_type": "execute_result"
        }
      ]
    },
    {
      "cell_type": "code",
      "metadata": {
        "colab": {
          "base_uri": "https://localhost:8080/",
          "height": 216
        },
        "id": "k7_8a5Qnj8q_",
        "outputId": "b44f47a9-53b1-4bd8-b398-982f1617ab18"
      },
      "source": [
        "pd.set_option('display.max_colwidth', 60)\n",
        "display= pd.read_sql_query(\"\"\"\n",
        "SELECT *\n",
        "FROM Reviews\n",
        "WHERE Score != 3 AND Id=44737 OR Id=64422\n",
        "ORDER BY ProductID\n",
        "\"\"\", con)\n",
        "\n",
        "display.head()"
      ],
      "execution_count": null,
      "outputs": [
        {
          "data": {
            "text/html": [
              "<div>\n",
              "<style scoped>\n",
              "    .dataframe tbody tr th:only-of-type {\n",
              "        vertical-align: middle;\n",
              "    }\n",
              "\n",
              "    .dataframe tbody tr th {\n",
              "        vertical-align: top;\n",
              "    }\n",
              "\n",
              "    .dataframe thead th {\n",
              "        text-align: right;\n",
              "    }\n",
              "</style>\n",
              "<table border=\"1\" class=\"dataframe\">\n",
              "  <thead>\n",
              "    <tr style=\"text-align: right;\">\n",
              "      <th></th>\n",
              "      <th>Id</th>\n",
              "      <th>ProductId</th>\n",
              "      <th>UserId</th>\n",
              "      <th>ProfileName</th>\n",
              "      <th>HelpfulnessNumerator</th>\n",
              "      <th>HelpfulnessDenominator</th>\n",
              "      <th>Score</th>\n",
              "      <th>Time</th>\n",
              "      <th>Summary</th>\n",
              "      <th>Text</th>\n",
              "    </tr>\n",
              "  </thead>\n",
              "  <tbody>\n",
              "    <tr>\n",
              "      <th>0</th>\n",
              "      <td>64422</td>\n",
              "      <td>B000MIDROQ</td>\n",
              "      <td>A161DK06JJMCYF</td>\n",
              "      <td>J. E. Stephens \"Jeanne\"</td>\n",
              "      <td>3</td>\n",
              "      <td>1</td>\n",
              "      <td>5</td>\n",
              "      <td>1224892800</td>\n",
              "      <td>Bought This for My Son at College</td>\n",
              "      <td>My son loves spaghetti so I didn't hesitate ordering thi...</td>\n",
              "    </tr>\n",
              "    <tr>\n",
              "      <th>1</th>\n",
              "      <td>44737</td>\n",
              "      <td>B001EQ55RW</td>\n",
              "      <td>A2V0I904FH7ABY</td>\n",
              "      <td>Ram</td>\n",
              "      <td>3</td>\n",
              "      <td>2</td>\n",
              "      <td>4</td>\n",
              "      <td>1212883200</td>\n",
              "      <td>Pure cocoa taste with crunchy almonds inside</td>\n",
              "      <td>It was almost a 'love at first bite' - the perfectly roa...</td>\n",
              "    </tr>\n",
              "  </tbody>\n",
              "</table>\n",
              "</div>"
            ],
            "text/plain": [
              "      Id  ...                                                         Text\n",
              "0  64422  ...  My son loves spaghetti so I didn't hesitate ordering thi...\n",
              "1  44737  ...  It was almost a 'love at first bite' - the perfectly roa...\n",
              "\n",
              "[2 rows x 10 columns]"
            ]
          },
          "execution_count": 204,
          "metadata": {},
          "output_type": "execute_result"
        }
      ]
    },
    {
      "cell_type": "code",
      "metadata": {
        "id": "8Tphk1piCAZk"
      },
      "source": [
        "final = final[final.HelpfulnessNumerator<=final.HelpfulnessDenominator]"
      ],
      "execution_count": null,
      "outputs": []
    },
    {
      "cell_type": "code",
      "metadata": {
        "colab": {
          "base_uri": "https://localhost:8080/"
        },
        "id": "8TpsGDdJCAZm",
        "outputId": "f493d94e-314d-48a5-88b3-354d05e5f4b9"
      },
      "source": [
        "#Before starting the next phase of preprocessing lets see the number of entries left\n",
        "print(final.shape)\n",
        "\n",
        "#How many positive and negative reviews are present in our dataset?\n",
        "final['Score'].value_counts()"
      ],
      "execution_count": null,
      "outputs": [
        {
          "name": "stdout",
          "output_type": "stream",
          "text": [
            "(19354, 10)\n"
          ]
        },
        {
          "data": {
            "text/plain": [
              "1    16339\n",
              "0     3015\n",
              "Name: Score, dtype: int64"
            ]
          },
          "execution_count": 206,
          "metadata": {},
          "output_type": "execute_result"
        }
      ]
    },
    {
      "cell_type": "markdown",
      "metadata": {
        "id": "QrFUMBQYek2x"
      },
      "source": [
        "Datset is Highly Imbalanced !!\n",
        "\n",
        "https://machinelearningmastery.com/random-oversampling-and-undersampling-for-imbalanced-classification//\n"
      ]
    },
    {
      "cell_type": "code",
      "metadata": {
        "colab": {
          "base_uri": "https://localhost:8080/",
          "height": 467
        },
        "id": "RH5h9t_Tdz_T",
        "outputId": "c6102e75-b5b1-4ada-ee0e-a5b524b24371"
      },
      "source": [
        "final.head()"
      ],
      "execution_count": null,
      "outputs": [
        {
          "data": {
            "text/html": [
              "<div>\n",
              "<style scoped>\n",
              "    .dataframe tbody tr th:only-of-type {\n",
              "        vertical-align: middle;\n",
              "    }\n",
              "\n",
              "    .dataframe tbody tr th {\n",
              "        vertical-align: top;\n",
              "    }\n",
              "\n",
              "    .dataframe thead th {\n",
              "        text-align: right;\n",
              "    }\n",
              "</style>\n",
              "<table border=\"1\" class=\"dataframe\">\n",
              "  <thead>\n",
              "    <tr style=\"text-align: right;\">\n",
              "      <th></th>\n",
              "      <th>Id</th>\n",
              "      <th>ProductId</th>\n",
              "      <th>UserId</th>\n",
              "      <th>ProfileName</th>\n",
              "      <th>HelpfulnessNumerator</th>\n",
              "      <th>HelpfulnessDenominator</th>\n",
              "      <th>Score</th>\n",
              "      <th>Time</th>\n",
              "      <th>Summary</th>\n",
              "      <th>Text</th>\n",
              "    </tr>\n",
              "  </thead>\n",
              "  <tbody>\n",
              "    <tr>\n",
              "      <th>2547</th>\n",
              "      <td>2775</td>\n",
              "      <td>B00002NCJC</td>\n",
              "      <td>A13RRPGE79XFFH</td>\n",
              "      <td>reader48</td>\n",
              "      <td>0</td>\n",
              "      <td>0</td>\n",
              "      <td>1</td>\n",
              "      <td>1281052800</td>\n",
              "      <td>Flies Begone</td>\n",
              "      <td>We have used the Victor fly bait for 3 seasons.  Can't b...</td>\n",
              "    </tr>\n",
              "    <tr>\n",
              "      <th>2546</th>\n",
              "      <td>2774</td>\n",
              "      <td>B00002NCJC</td>\n",
              "      <td>A196AJHU9EASJN</td>\n",
              "      <td>Alex Chaffee</td>\n",
              "      <td>0</td>\n",
              "      <td>0</td>\n",
              "      <td>1</td>\n",
              "      <td>1282953600</td>\n",
              "      <td>thirty bucks?</td>\n",
              "      <td>Why is this $[...] when the same product is available fo...</td>\n",
              "    </tr>\n",
              "    <tr>\n",
              "      <th>1146</th>\n",
              "      <td>1245</td>\n",
              "      <td>B00002Z754</td>\n",
              "      <td>A29Z5PI9BW2PU3</td>\n",
              "      <td>Robbie</td>\n",
              "      <td>7</td>\n",
              "      <td>7</td>\n",
              "      <td>1</td>\n",
              "      <td>961718400</td>\n",
              "      <td>Great Product</td>\n",
              "      <td>This was a really good idea and the final product is out...</td>\n",
              "    </tr>\n",
              "    <tr>\n",
              "      <th>1145</th>\n",
              "      <td>1244</td>\n",
              "      <td>B00002Z754</td>\n",
              "      <td>A3B8RCEI0FXFI6</td>\n",
              "      <td>B G Chase</td>\n",
              "      <td>10</td>\n",
              "      <td>10</td>\n",
              "      <td>1</td>\n",
              "      <td>962236800</td>\n",
              "      <td>WOW Make your own 'slickers' !</td>\n",
              "      <td>I just received my shipment and could hardly wait to try...</td>\n",
              "    </tr>\n",
              "    <tr>\n",
              "      <th>8696</th>\n",
              "      <td>9527</td>\n",
              "      <td>B00005V3DC</td>\n",
              "      <td>A8KY7S48EW7LW</td>\n",
              "      <td>A. Daly \"AD\"</td>\n",
              "      <td>0</td>\n",
              "      <td>0</td>\n",
              "      <td>1</td>\n",
              "      <td>1350172800</td>\n",
              "      <td>The Best Cleansing Tea I've Ever Had</td>\n",
              "      <td>I've used this brand for years. If you're feeling clogge...</td>\n",
              "    </tr>\n",
              "  </tbody>\n",
              "</table>\n",
              "</div>"
            ],
            "text/plain": [
              "        Id  ...                                                         Text\n",
              "2547  2775  ...  We have used the Victor fly bait for 3 seasons.  Can't b...\n",
              "2546  2774  ...  Why is this $[...] when the same product is available fo...\n",
              "1146  1245  ...  This was a really good idea and the final product is out...\n",
              "1145  1244  ...  I just received my shipment and could hardly wait to try...\n",
              "8696  9527  ...  I've used this brand for years. If you're feeling clogge...\n",
              "\n",
              "[5 rows x 10 columns]"
            ]
          },
          "execution_count": 207,
          "metadata": {},
          "output_type": "execute_result"
        }
      ]
    },
    {
      "cell_type": "code",
      "metadata": {
        "colab": {
          "base_uri": "https://localhost:8080/",
          "height": 1000
        },
        "id": "DoDYInUyd3Wj",
        "outputId": "3bd29812-5d0b-4672-9287-bfbcce202ab0"
      },
      "source": [
        "final.reset_index()"
      ],
      "execution_count": null,
      "outputs": [
        {
          "data": {
            "text/html": [
              "<div>\n",
              "<style scoped>\n",
              "    .dataframe tbody tr th:only-of-type {\n",
              "        vertical-align: middle;\n",
              "    }\n",
              "\n",
              "    .dataframe tbody tr th {\n",
              "        vertical-align: top;\n",
              "    }\n",
              "\n",
              "    .dataframe thead th {\n",
              "        text-align: right;\n",
              "    }\n",
              "</style>\n",
              "<table border=\"1\" class=\"dataframe\">\n",
              "  <thead>\n",
              "    <tr style=\"text-align: right;\">\n",
              "      <th></th>\n",
              "      <th>index</th>\n",
              "      <th>Id</th>\n",
              "      <th>ProductId</th>\n",
              "      <th>UserId</th>\n",
              "      <th>ProfileName</th>\n",
              "      <th>HelpfulnessNumerator</th>\n",
              "      <th>HelpfulnessDenominator</th>\n",
              "      <th>Score</th>\n",
              "      <th>Time</th>\n",
              "      <th>Summary</th>\n",
              "      <th>Text</th>\n",
              "    </tr>\n",
              "  </thead>\n",
              "  <tbody>\n",
              "    <tr>\n",
              "      <th>0</th>\n",
              "      <td>2547</td>\n",
              "      <td>2775</td>\n",
              "      <td>B00002NCJC</td>\n",
              "      <td>A13RRPGE79XFFH</td>\n",
              "      <td>reader48</td>\n",
              "      <td>0</td>\n",
              "      <td>0</td>\n",
              "      <td>1</td>\n",
              "      <td>1281052800</td>\n",
              "      <td>Flies Begone</td>\n",
              "      <td>We have used the Victor fly bait for 3 seasons.  Can't b...</td>\n",
              "    </tr>\n",
              "    <tr>\n",
              "      <th>1</th>\n",
              "      <td>2546</td>\n",
              "      <td>2774</td>\n",
              "      <td>B00002NCJC</td>\n",
              "      <td>A196AJHU9EASJN</td>\n",
              "      <td>Alex Chaffee</td>\n",
              "      <td>0</td>\n",
              "      <td>0</td>\n",
              "      <td>1</td>\n",
              "      <td>1282953600</td>\n",
              "      <td>thirty bucks?</td>\n",
              "      <td>Why is this $[...] when the same product is available fo...</td>\n",
              "    </tr>\n",
              "    <tr>\n",
              "      <th>2</th>\n",
              "      <td>1146</td>\n",
              "      <td>1245</td>\n",
              "      <td>B00002Z754</td>\n",
              "      <td>A29Z5PI9BW2PU3</td>\n",
              "      <td>Robbie</td>\n",
              "      <td>7</td>\n",
              "      <td>7</td>\n",
              "      <td>1</td>\n",
              "      <td>961718400</td>\n",
              "      <td>Great Product</td>\n",
              "      <td>This was a really good idea and the final product is out...</td>\n",
              "    </tr>\n",
              "    <tr>\n",
              "      <th>3</th>\n",
              "      <td>1145</td>\n",
              "      <td>1244</td>\n",
              "      <td>B00002Z754</td>\n",
              "      <td>A3B8RCEI0FXFI6</td>\n",
              "      <td>B G Chase</td>\n",
              "      <td>10</td>\n",
              "      <td>10</td>\n",
              "      <td>1</td>\n",
              "      <td>962236800</td>\n",
              "      <td>WOW Make your own 'slickers' !</td>\n",
              "      <td>I just received my shipment and could hardly wait to try...</td>\n",
              "    </tr>\n",
              "    <tr>\n",
              "      <th>4</th>\n",
              "      <td>8696</td>\n",
              "      <td>9527</td>\n",
              "      <td>B00005V3DC</td>\n",
              "      <td>A8KY7S48EW7LW</td>\n",
              "      <td>A. Daly \"AD\"</td>\n",
              "      <td>0</td>\n",
              "      <td>0</td>\n",
              "      <td>1</td>\n",
              "      <td>1350172800</td>\n",
              "      <td>The Best Cleansing Tea I've Ever Had</td>\n",
              "      <td>I've used this brand for years. If you're feeling clogge...</td>\n",
              "    </tr>\n",
              "    <tr>\n",
              "      <th>...</th>\n",
              "      <td>...</td>\n",
              "      <td>...</td>\n",
              "      <td>...</td>\n",
              "      <td>...</td>\n",
              "      <td>...</td>\n",
              "      <td>...</td>\n",
              "      <td>...</td>\n",
              "      <td>...</td>\n",
              "      <td>...</td>\n",
              "      <td>...</td>\n",
              "      <td>...</td>\n",
              "    </tr>\n",
              "    <tr>\n",
              "      <th>19349</th>\n",
              "      <td>11590</td>\n",
              "      <td>12621</td>\n",
              "      <td>B009KP6HBM</td>\n",
              "      <td>A3UCO959VA9MV</td>\n",
              "      <td>Maryann Wardach</td>\n",
              "      <td>0</td>\n",
              "      <td>0</td>\n",
              "      <td>1</td>\n",
              "      <td>1299024000</td>\n",
              "      <td>cappucino t-discs</td>\n",
              "      <td>Some product work needs to be done on the discs. I have ...</td>\n",
              "    </tr>\n",
              "    <tr>\n",
              "      <th>19350</th>\n",
              "      <td>11588</td>\n",
              "      <td>12619</td>\n",
              "      <td>B009KP6HBM</td>\n",
              "      <td>A20NB4UBW4WDKG</td>\n",
              "      <td>Gerardo \"GD\"</td>\n",
              "      <td>1</td>\n",
              "      <td>1</td>\n",
              "      <td>1</td>\n",
              "      <td>1293321600</td>\n",
              "      <td>Coffe shop quality capuccino at home</td>\n",
              "      <td>I love coffee. Usually I would not recommend Maxwell Hou...</td>\n",
              "    </tr>\n",
              "    <tr>\n",
              "      <th>19351</th>\n",
              "      <td>11589</td>\n",
              "      <td>12620</td>\n",
              "      <td>B009KP6HBM</td>\n",
              "      <td>A3D9NUCR4RXDPY</td>\n",
              "      <td>Kathleen San Martino</td>\n",
              "      <td>1</td>\n",
              "      <td>1</td>\n",
              "      <td>1</td>\n",
              "      <td>1292544000</td>\n",
              "      <td>Very,Very Good</td>\n",
              "      <td>This cappuccino is very good and tastes almost as good a...</td>\n",
              "    </tr>\n",
              "    <tr>\n",
              "      <th>19352</th>\n",
              "      <td>1362</td>\n",
              "      <td>1478</td>\n",
              "      <td>B009UOFU20</td>\n",
              "      <td>AJVB004EB0MVK</td>\n",
              "      <td>D. Christofferson</td>\n",
              "      <td>0</td>\n",
              "      <td>0</td>\n",
              "      <td>0</td>\n",
              "      <td>1345852800</td>\n",
              "      <td>weak coffee not good for a premium product and price</td>\n",
              "      <td>This coffee supposedly is premium, it tastes watery--ver...</td>\n",
              "    </tr>\n",
              "    <tr>\n",
              "      <th>19353</th>\n",
              "      <td>5259</td>\n",
              "      <td>5703</td>\n",
              "      <td>B009WSNWC4</td>\n",
              "      <td>AMP7K1O84DH1T</td>\n",
              "      <td>ESTY</td>\n",
              "      <td>0</td>\n",
              "      <td>0</td>\n",
              "      <td>1</td>\n",
              "      <td>1351209600</td>\n",
              "      <td>DELICIOUS</td>\n",
              "      <td>Purchased this product at a local store in NY and my kid...</td>\n",
              "    </tr>\n",
              "  </tbody>\n",
              "</table>\n",
              "<p>19354 rows × 11 columns</p>\n",
              "</div>"
            ],
            "text/plain": [
              "       index  ...                                                         Text\n",
              "0       2547  ...  We have used the Victor fly bait for 3 seasons.  Can't b...\n",
              "1       2546  ...  Why is this $[...] when the same product is available fo...\n",
              "2       1146  ...  This was a really good idea and the final product is out...\n",
              "3       1145  ...  I just received my shipment and could hardly wait to try...\n",
              "4       8696  ...  I've used this brand for years. If you're feeling clogge...\n",
              "...      ...  ...                                                          ...\n",
              "19349  11590  ...  Some product work needs to be done on the discs. I have ...\n",
              "19350  11588  ...  I love coffee. Usually I would not recommend Maxwell Hou...\n",
              "19351  11589  ...  This cappuccino is very good and tastes almost as good a...\n",
              "19352   1362  ...  This coffee supposedly is premium, it tastes watery--ver...\n",
              "19353   5259  ...  Purchased this product at a local store in NY and my kid...\n",
              "\n",
              "[19354 rows x 11 columns]"
            ]
          },
          "execution_count": 208,
          "metadata": {},
          "output_type": "execute_result"
        }
      ]
    },
    {
      "cell_type": "markdown",
      "metadata": {
        "id": "RxBsuBylCAZr"
      },
      "source": [
        "# [3].  Text Preprocessing.\n",
        "\n",
        "Now that we have finished deduplication our data requires some preprocessing before we go on further with analysis and making the prediction model.\n",
        "\n",
        "Hence in the Preprocessing phase we do the following in the order below:-\n",
        "\n",
        "1. Begin by removing the html tags\n",
        "2. Remove any punctuations or limited set of special characters like , or . or # etc.\n",
        "3. Check if the word is made up of english letters and is not alpha-numeric\n",
        "4. Check to see if the length of the word is greater than 2 (as it was researched that there is no adjective in 2-letters)\n",
        "5. Convert the word to lowercase\n",
        "6. Remove Stopwords\n",
        "7. Finally Snowball Stemming the word (it was obsereved to be better than Porter Stemming)<br>\n",
        "\n",
        "After which we collect the words used to describe positive and negative reviews"
      ]
    },
    {
      "cell_type": "code",
      "metadata": {
        "colab": {
          "base_uri": "https://localhost:8080/"
        },
        "id": "QxCSbeOKnhMd",
        "outputId": "6f208dbb-0aee-429f-9034-c4c9f03facf7"
      },
      "source": [
        "Text = final['Text']\n",
        "Text.head()"
      ],
      "execution_count": null,
      "outputs": [
        {
          "data": {
            "text/plain": [
              "2547    We have used the Victor fly bait for 3 seasons.  Can't b...\n",
              "2546    Why is this $[...] when the same product is available fo...\n",
              "1146    This was a really good idea and the final product is out...\n",
              "1145    I just received my shipment and could hardly wait to try...\n",
              "8696    I've used this brand for years. If you're feeling clogge...\n",
              "Name: Text, dtype: object"
            ]
          },
          "execution_count": 209,
          "metadata": {},
          "output_type": "execute_result"
        }
      ]
    },
    {
      "cell_type": "code",
      "metadata": {
        "id": "lNHWbzBaCAZ3"
      },
      "source": [
        "\n",
        "# https://stackoverflow.com/a/47091490/4084039\n",
        "import re\n",
        "\n",
        "def decontracted(phrase):\n",
        "    # specific\n",
        "    phrase = re.sub(r\"won't\", \"will not\", phrase)\n",
        "    phrase = re.sub(r\"can\\'t\", \"can not\", phrase)\n",
        "\n",
        "    # general\n",
        "    phrase = re.sub(r\"n\\'t\", \" not\", phrase)\n",
        "    phrase = re.sub(r\"\\'re\", \" are\", phrase)\n",
        "    phrase = re.sub(r\"\\'s\", \" is\", phrase)\n",
        "    phrase = re.sub(r\"\\'d\", \" would\", phrase)\n",
        "    phrase = re.sub(r\"\\'ll\", \" will\", phrase)\n",
        "    phrase = re.sub(r\"\\'t\", \" not\", phrase)\n",
        "    phrase = re.sub(r\"\\'ve\", \" have\", phrase)\n",
        "    phrase = re.sub(r\"\\'m\", \" am\", phrase)\n",
        "    return phrase"
      ],
      "execution_count": null,
      "outputs": []
    },
    {
      "cell_type": "code",
      "metadata": {
        "id": "Xsr4xHkJCAaA"
      },
      "source": [
        "# https://gist.github.com/sebleier/554280\n",
        "# we are removing the words from the stop words list: 'no', 'nor', 'not'\n",
        "# <br /><br /> ==> after the above steps, we are getting \"br br\"\n",
        "# we are including them into stop words list\n",
        "# instead of <br /> if we have <br/> these tags would have revmoved in the 1st step\n",
        "\n",
        "stopwords= set(['br', 'the', 'i', 'me', 'my', 'myself', 'we', 'our', 'ours', 'ourselves', 'you', \"you're\", \"you've\",\\\n",
        "            \"you'll\", \"you'd\", 'your', 'yours', 'yourself', 'yourselves', 'he', 'him', 'his', 'himself', \\\n",
        "            'she', \"she's\", 'her', 'hers', 'herself', 'it', \"it's\", 'its', 'itself', 'they', 'them', 'their',\\\n",
        "            'theirs', 'themselves', 'what', 'which', 'who', 'whom', 'this', 'that', \"that'll\", 'these', 'those', \\\n",
        "            'am', 'is', 'are', 'was', 'were', 'be', 'been', 'being', 'have', 'has', 'had', 'having', 'do', 'does', \\\n",
        "            'did', 'doing', 'a', 'an', 'the', 'and', 'but', 'if', 'or', 'because', 'as', 'until', 'while', 'of', \\\n",
        "            'at', 'by', 'for', 'with', 'about', 'against', 'between', 'into', 'through', 'during', 'before', 'after',\\\n",
        "            'above', 'below', 'to', 'from', 'up', 'down', 'in', 'out', 'on', 'off', 'over', 'under', 'again', 'further',\\\n",
        "            'then', 'once', 'here', 'there', 'when', 'where', 'why', 'how', 'all', 'any', 'both', 'each', 'few', 'more',\\\n",
        "            'most', 'other', 'some', 'such', 'only', 'own', 'same', 'so', 'than', 'too', 'very', \\\n",
        "            's', 't', 'can', 'will', 'just', 'don', \"don't\", 'should', \"should've\", 'now', 'd', 'll', 'm', 'o', 're', \\\n",
        "            've', 'y', 'ain', 'aren', \"aren't\", 'couldn', \"couldn't\", 'didn', \"didn't\", 'doesn', \"doesn't\", 'hadn',\\\n",
        "            \"hadn't\", 'hasn', \"hasn't\", 'haven', \"haven't\", 'isn', \"isn't\", 'ma', 'mightn', \"mightn't\", 'mustn',\\\n",
        "            \"mustn't\", 'needn', \"needn't\", 'shan', \"shan't\", 'shouldn', \"shouldn't\", 'wasn', \"wasn't\", 'weren', \"weren't\", \\\n",
        "            'won', \"won't\", 'wouldn', \"wouldn't\"])"
      ],
      "execution_count": null,
      "outputs": []
    },
    {
      "cell_type": "code",
      "metadata": {
        "id": "MgsJ09NpCAaB"
      },
      "source": [
        "from tqdm import tqdm\n",
        "from bs4 import BeautifulSoup\n",
        "\n",
        "def preprocessing_data(Text):\n",
        "    preprocessed_text = []\n",
        "    # tqdm is for printing the status bar\n",
        "    for sentence in tqdm(Text.values):\n",
        "        sentence = re.sub(r\"http\\S+\", \"\", sentence)\n",
        "        sentence = BeautifulSoup(sentence, 'lxml').get_text()\n",
        "        sentence = decontracted(sentence)\n",
        "        sentence = re.sub(\"\\S*\\d\\S*\", \"\", sentence).strip()\n",
        "        sentence = re.sub('[^A-Za-z]+', ' ', sentence) # anything not a word will be removed.\n",
        "        # https://gist.github.com/sebleier/554280\n",
        "        sentence = ' '.join(e.lower() for e in sentence.split() if e.lower() not in stopwords)\n",
        "        preprocessed_text.append(sentence.strip())\n",
        "    return preprocessed_text"
      ],
      "execution_count": null,
      "outputs": []
    },
    {
      "cell_type": "code",
      "metadata": {
        "colab": {
          "base_uri": "https://localhost:8080/"
        },
        "id": "xhEa1pB9aSNB",
        "outputId": "846ef3a0-4412-45d0-b427-933fa1f3b715"
      },
      "source": [
        "%time\n",
        "preprocessed_reviews = []\n",
        "preprocessed_reviews = preprocessing_data(final['Text'])\n"
      ],
      "execution_count": null,
      "outputs": [
        {
          "name": "stdout",
          "output_type": "stream",
          "text": [
            "CPU times: user 3 µs, sys: 0 ns, total: 3 µs\n",
            "Wall time: 8.58 µs\n"
          ]
        },
        {
          "name": "stderr",
          "output_type": "stream",
          "text": [
            "100%|██████████| 19354/19354 [00:07<00:00, 2553.14it/s]\n"
          ]
        }
      ]
    },
    {
      "cell_type": "markdown",
      "metadata": {
        "id": "VZDkCw-uPgi8"
      },
      "source": [
        "<h3> Modeling"
      ]
    },
    {
      "cell_type": "code",
      "metadata": {
        "colab": {
          "base_uri": "https://localhost:8080/"
        },
        "id": "MmwnD7Dtxcnr",
        "outputId": "f9d879b5-115c-4167-e006-fbd815dd0c40"
      },
      "source": [
        "final['Score'].value_counts() # dataset is highly imbalanced so some of the metrics(like accuracy) may not be good for evaluation"
      ],
      "execution_count": null,
      "outputs": [
        {
          "data": {
            "text/plain": [
              "1    16339\n",
              "0     3015\n",
              "Name: Score, dtype: int64"
            ]
          },
          "execution_count": 214,
          "metadata": {},
          "output_type": "execute_result"
        }
      ]
    },
    {
      "cell_type": "code",
      "metadata": {
        "colab": {
          "base_uri": "https://localhost:8080/"
        },
        "id": "1cpZ0i1VKGfW",
        "outputId": "6bdfa0bd-c7ba-4eb0-963c-d6148bb8c0a2"
      },
      "source": [
        "print(type(preprocessed_reviews))\n",
        "len(preprocessed_reviews)"
      ],
      "execution_count": null,
      "outputs": [
        {
          "name": "stdout",
          "output_type": "stream",
          "text": [
            "<class 'list'>\n"
          ]
        },
        {
          "data": {
            "text/plain": [
              "19354"
            ]
          },
          "execution_count": 215,
          "metadata": {},
          "output_type": "execute_result"
        }
      ]
    },
    {
      "cell_type": "code",
      "metadata": {
        "colab": {
          "base_uri": "https://localhost:8080/"
        },
        "id": "F60nJJZPLIxW",
        "outputId": "b0584815-7541-4dc1-e0fd-e8e7d1443ded"
      },
      "source": [
        "print(type(final['Score']) )\n",
        "\n",
        "X = np.array(preprocessed_reviews)\n",
        "y = np.array(final.Score)\n",
        "print(type(X),type(y))"
      ],
      "execution_count": null,
      "outputs": [
        {
          "name": "stdout",
          "output_type": "stream",
          "text": [
            "<class 'pandas.core.series.Series'>\n",
            "<class 'numpy.ndarray'> <class 'numpy.ndarray'>\n"
          ]
        }
      ]
    },
    {
      "cell_type": "markdown",
      "metadata": {
        "id": "binpWBVNOYgn"
      },
      "source": [
        "https://stackoverflow.com/questions/34842405/parameter-stratify-from-method-train-test-split-scikit-learn"
      ]
    },
    {
      "cell_type": "code",
      "metadata": {
        "id": "f0ifONkNL8mA"
      },
      "source": [
        "from sklearn.model_selection import train_test_split\n",
        "\n",
        "X_train, X_test, Y_train, Y_test = train_test_split(X,y,test_size = 0.33,random_state=42,stratify=y)"
      ],
      "execution_count": null,
      "outputs": []
    },
    {
      "cell_type": "code",
      "metadata": {
        "colab": {
          "base_uri": "https://localhost:8080/"
        },
        "id": "__zyQbEkNmYi",
        "outputId": "11692adf-b2f2-4e7d-d919-865054562181"
      },
      "source": [
        "print(\"size of X_train = \",len(X_train),type(X_train))\n",
        "print(\"size of X_test  = \",len(X_test), type(X_test))\n",
        "print(\"size of Y_train = \",len(Y_train),type(Y_train))\n",
        "print(\"size of Y_test  = \",len(Y_test), type(Y_test))"
      ],
      "execution_count": null,
      "outputs": [
        {
          "name": "stdout",
          "output_type": "stream",
          "text": [
            "size of X_train =  12967 <class 'numpy.ndarray'>\n",
            "size of X_test  =  6387 <class 'numpy.ndarray'>\n",
            "size of Y_train =  12967 <class 'numpy.ndarray'>\n",
            "size of Y_test  =  6387 <class 'numpy.ndarray'>\n"
          ]
        }
      ]
    },
    {
      "cell_type": "markdown",
      "metadata": {
        "id": "y81UDvs9Oena"
      },
      "source": [
        "<h3> Cross Validation"
      ]
    },
    {
      "cell_type": "code",
      "metadata": {
        "id": "K-sKAbZGN60D"
      },
      "source": [
        "X_train,X_cv,Y_train,Y_cv = train_test_split(X_train,Y_train,test_size = 0.33,random_state=42,stratify = Y_train) "
      ],
      "execution_count": null,
      "outputs": []
    },
    {
      "cell_type": "code",
      "metadata": {
        "colab": {
          "base_uri": "https://localhost:8080/"
        },
        "id": "_pu7A0VMPl-3",
        "outputId": "7c84ab1e-e5cc-4de5-ff2b-c49f9eff8939"
      },
      "source": [
        "print(\"size of X_train = \",len(X_train),type(X_train))\n",
        "print(\"size of X_cv    = \",len(X_cv),   type(X_cv))\n",
        "print(\"size of Y_train = \",len(Y_train),type(Y_train))\n",
        "print(\"size of Y_cv    = \",len(Y_cv),   type(Y_cv))"
      ],
      "execution_count": null,
      "outputs": [
        {
          "name": "stdout",
          "output_type": "stream",
          "text": [
            "size of X_train =  8687 <class 'numpy.ndarray'>\n",
            "size of X_cv    =  4280 <class 'numpy.ndarray'>\n",
            "size of Y_train =  8687 <class 'numpy.ndarray'>\n",
            "size of Y_cv    =  4280 <class 'numpy.ndarray'>\n"
          ]
        }
      ]
    },
    {
      "cell_type": "code",
      "metadata": {
        "colab": {
          "base_uri": "https://localhost:8080/",
          "height": 53
        },
        "id": "nafx7qT_QU3r",
        "outputId": "b475d872-9dff-4b55-dddd-819cb700ff48"
      },
      "source": [
        "X_train[5]"
      ],
      "execution_count": null,
      "outputs": [
        {
          "data": {
            "application/vnd.google.colaboratory.intrinsic+json": {
              "type": "string"
            },
            "text/plain": [
              "'eating regular spicy several years definitely superior non microwave kind shake bag directed make sure not stacked put popcorn setting microwave soooo good'"
            ]
          },
          "execution_count": 221,
          "metadata": {},
          "output_type": "execute_result"
        }
      ]
    },
    {
      "cell_type": "markdown",
      "metadata": {
        "id": "k06v0gYWQFd9"
      },
      "source": [
        "##  BOW (Unigram) \n",
        "\n",
        "https://github.com/scikit-learn/scikit-learn/blob/0d378913b/sklearn/feature_extraction/text.py#L884"
      ]
    },
    {
      "cell_type": "code",
      "metadata": {
        "id": "3mkUiApUPzdz"
      },
      "source": [
        "from sklearn.feature_extraction.text import CountVectorizer\n",
        "\n",
        "vectorizer = CountVectorizer(max_features=5000)\n",
        "\n",
        "vectorizer.fit(X_train) # fitting on the training data,building the vocabulary and stuff.\n",
        "\n",
        "BOW_X_train = vectorizer.transform(X_train) \n",
        "BOW_X_cv    = vectorizer.transform(X_cv)\n",
        "BOW_X_test  = vectorizer.transform(X_test)"
      ],
      "execution_count": null,
      "outputs": []
    },
    {
      "cell_type": "code",
      "metadata": {
        "colab": {
          "base_uri": "https://localhost:8080/"
        },
        "id": "h_BPraUTQIY3",
        "outputId": "787aac35-fa2d-4431-bafb-a25a1328e25d"
      },
      "source": [
        "print(\"some feature names:--\",vectorizer.get_feature_names()[:10])\n",
        "\n",
        "print(\"BOW_X_train\",BOW_X_train.shape)\n",
        "print(\"BOW_X_cv   \",BOW_X_cv.shape)\n",
        "print(\"BOW_X_test \",BOW_X_test.shape)\n",
        "\n",
        "print(type(BOW_X_train))"
      ],
      "execution_count": null,
      "outputs": [
        {
          "name": "stdout",
          "output_type": "stream",
          "text": [
            "some feature names:-- ['ability', 'able', 'absolute', 'absolutely', 'absorb', 'absorbed', 'acai', 'accept', 'acceptable', 'access']\n",
            "BOW_X_train (8687, 5000)\n",
            "BOW_X_cv    (4280, 5000)\n",
            "BOW_X_test  (6387, 5000)\n",
            "<class 'scipy.sparse.csr.csr_matrix'>\n"
          ]
        }
      ]
    },
    {
      "cell_type": "code",
      "metadata": {
        "colab": {
          "base_uri": "https://localhost:8080/"
        },
        "id": "WqhlpYoQoClB",
        "outputId": "f3ed6621-1cf0-447d-df0b-5ef654892b1d"
      },
      "source": [
        "print(\"Y_train\",Y_train.shape)\n",
        "print(\"Y_cv   \",Y_cv.shape)\n",
        "print(\"Y_test\",Y_test.shape)"
      ],
      "execution_count": null,
      "outputs": [
        {
          "name": "stdout",
          "output_type": "stream",
          "text": [
            "Y_train (8687,)\n",
            "Y_cv    (4280,)\n",
            "Y_test (6387,)\n"
          ]
        }
      ]
    },
    {
      "cell_type": "code",
      "metadata": {
        "colab": {
          "base_uri": "https://localhost:8080/"
        },
        "id": "sS1a_vbkkzx_",
        "outputId": "8d21fe64-5e16-48d4-e1af-81265a390a96"
      },
      "source": [
        "from imblearn.over_sampling import SMOTE\n",
        "from collections import Counter\n",
        "\n",
        "print(Counter(Y_train))\n",
        "\n",
        "# oversample = SMOTE()\n",
        "# BOW_X_train, Y_train = oversample.fit_resample(BOW_X_train, Y_train)\n",
        "\n",
        "print(Counter(Y_train))"
      ],
      "execution_count": null,
      "outputs": [
        {
          "name": "stdout",
          "output_type": "stream",
          "text": [
            "Counter({1: 7334, 0: 1353})\n",
            "Counter({1: 7334, 0: 1353})\n"
          ]
        }
      ]
    },
    {
      "cell_type": "markdown",
      "metadata": {
        "id": "cYj-TuEZVPhv"
      },
      "source": [
        "<h3> Naive Bayes on BOW"
      ]
    },
    {
      "cell_type": "markdown",
      "metadata": {
        "id": "mSmApourlapj"
      },
      "source": [
        "https://scikit-learn.org/stable/modules/naive_bayes.html"
      ]
    },
    {
      "cell_type": "code",
      "metadata": {
        "colab": {
          "base_uri": "https://localhost:8080/"
        },
        "id": "gVzV-AWWUPEW",
        "outputId": "1cc14a60-8eb5-43fb-a0a9-a3a93867331d"
      },
      "source": [
        "%time\n",
        "\n",
        "from sklearn.naive_bayes import MultinomialNB\n",
        "from sklearn.metrics import   accuracy_score, precision_score , recall_score , f1_score\n",
        "\n",
        "accuracy_list  = []\n",
        "precision_list = []\n",
        "recall_list    = []\n",
        "f1_Score_list  = []\n",
        "alpha_list     = []\n",
        "\n",
        "alpha = 0.001 \n",
        "\n",
        "while alpha <= 10:\n",
        "  alpha_list.append(np.round(alpha,3))\n",
        "  alpha = alpha*2\n",
        "\n",
        "print(alpha_list)\n",
        "\n",
        "for i in tqdm(alpha_list):\n",
        "\n",
        "  clf = MultinomialNB(alpha= i)\n",
        "  \n",
        "  clf.fit(BOW_X_train,Y_train) # fitting the model in BOW training data\n",
        "  pred = clf.predict(BOW_X_cv) # predicting the labels of cross validation data\n",
        "\n",
        "    \n",
        "  accuracy  = accuracy_score(Y_cv,pred)*100\n",
        "  precision = np.round(precision_score(Y_cv,pred,average = 'binary')*100)\n",
        "  recall    = np.round(recall_score(Y_cv,pred,average = 'binary')*100) \n",
        "  f1_Score  = np.round( f1_score(Y_cv,pred,average = 'binary')*100) \n",
        "  \n",
        "  accuracy_list.append(accuracy)\n",
        "  precision_list.append(precision)\n",
        "  recall_list.append(recall)\n",
        "  f1_Score_list.append(f1_Score)\n",
        "  \n",
        "  \n",
        "  print(\"---\"*30)\n",
        "  print(\"for Alpha = \",i)\n",
        "  \n",
        "  print(\"Accuracy         = \",accuracy)\n",
        "  print(\"Precision_score  = \",precision)\n",
        "  print(\"Recall_score     = \",recall)\n",
        "  print(\"f1 Score         = \",f1_Score)\n",
        "  print(\"\\n\")\n",
        "\n",
        "print(alpha_list)\n",
        "print(\"Best Accuracy  = \",max(accuracy_list))\n",
        "print(\"Best Precision = \",max(precision_list))\n",
        "print(\"Best f1_score  = \",max(f1_Score_list))"
      ],
      "execution_count": null,
      "outputs": [
        {
          "name": "stdout",
          "output_type": "stream",
          "text": [
            "CPU times: user 2 µs, sys: 1 µs, total: 3 µs\n",
            "Wall time: 5.72 µs\n",
            "[0.001, 0.002, 0.004, 0.008, 0.016, 0.032, 0.064, 0.128, 0.256, 0.512, 1.024, 2.048, 4.096, 8.192]\n"
          ]
        },
        {
          "name": "stderr",
          "output_type": "stream",
          "text": [
            " 43%|████▎     | 6/14 [00:00<00:00, 56.35it/s]"
          ]
        },
        {
          "name": "stdout",
          "output_type": "stream",
          "text": [
            "------------------------------------------------------------------------------------------\n",
            "for Alpha =  0.001\n",
            "Accuracy         =  88.64485981308411\n",
            "Precision_score  =  92.0\n",
            "Recall_score     =  95.0\n",
            "f1 Score         =  93.0\n",
            "\n",
            "\n",
            "------------------------------------------------------------------------------------------\n",
            "for Alpha =  0.002\n",
            "Accuracy         =  88.85514018691589\n",
            "Precision_score  =  92.0\n",
            "Recall_score     =  95.0\n",
            "f1 Score         =  94.0\n",
            "\n",
            "\n",
            "------------------------------------------------------------------------------------------\n",
            "for Alpha =  0.004\n",
            "Accuracy         =  88.9018691588785\n",
            "Precision_score  =  92.0\n",
            "Recall_score     =  95.0\n",
            "f1 Score         =  94.0\n",
            "\n",
            "\n",
            "------------------------------------------------------------------------------------------\n",
            "for Alpha =  0.008\n",
            "Accuracy         =  88.92523364485982\n",
            "Precision_score  =  92.0\n",
            "Recall_score     =  95.0\n",
            "f1 Score         =  94.0\n",
            "\n",
            "\n",
            "------------------------------------------------------------------------------------------\n",
            "for Alpha =  0.016\n",
            "Accuracy         =  88.9018691588785\n",
            "Precision_score  =  92.0\n",
            "Recall_score     =  95.0\n",
            "f1 Score         =  94.0\n",
            "\n",
            "\n",
            "------------------------------------------------------------------------------------------\n",
            "for Alpha =  0.032\n",
            "Accuracy         =  88.94859813084112\n",
            "Precision_score  =  92.0\n",
            "Recall_score     =  95.0\n",
            "f1 Score         =  94.0\n",
            "\n",
            "\n",
            "------------------------------------------------------------------------------------------\n",
            "for Alpha =  0.064\n",
            "Accuracy         =  89.08878504672897\n",
            "Precision_score  =  93.0\n",
            "Recall_score     =  94.0\n",
            "f1 Score         =  94.0\n",
            "\n",
            "\n",
            "------------------------------------------------------------------------------------------\n",
            "for Alpha =  0.128\n",
            "Accuracy         =  89.36915887850468\n",
            "Precision_score  =  93.0\n",
            "Recall_score     =  94.0\n",
            "f1 Score         =  94.0\n",
            "\n",
            "\n",
            "------------------------------------------------------------------------------------------\n",
            "for Alpha =  0.256\n",
            "Accuracy         =  89.43925233644859\n",
            "Precision_score  =  93.0\n",
            "Recall_score     =  94.0\n",
            "f1 Score         =  94.0\n",
            "\n",
            "\n",
            "------------------------------------------------------------------------------------------\n",
            "for Alpha =  0.512\n",
            "Accuracy         =  89.27570093457943\n",
            "Precision_score  =  93.0\n",
            "Recall_score     =  94.0\n",
            "f1 Score         =  94.0\n",
            "\n",
            "\n",
            "------------------------------------------------------------------------------------------\n",
            "for Alpha =  1.024\n",
            "Accuracy         =  89.53271028037383\n",
            "Precision_score  =  93.0\n",
            "Recall_score     =  94.0\n",
            "f1 Score         =  94.0\n",
            "\n",
            "\n"
          ]
        },
        {
          "name": "stderr",
          "output_type": "stream",
          "text": [
            "100%|██████████| 14/14 [00:00<00:00, 49.24it/s]"
          ]
        },
        {
          "name": "stdout",
          "output_type": "stream",
          "text": [
            "------------------------------------------------------------------------------------------\n",
            "for Alpha =  2.048\n",
            "Accuracy         =  89.57943925233644\n",
            "Precision_score  =  93.0\n",
            "Recall_score     =  95.0\n",
            "f1 Score         =  94.0\n",
            "\n",
            "\n",
            "------------------------------------------------------------------------------------------\n",
            "for Alpha =  4.096\n",
            "Accuracy         =  89.06542056074767\n",
            "Precision_score  =  91.0\n",
            "Recall_score     =  97.0\n",
            "f1 Score         =  94.0\n",
            "\n",
            "\n",
            "------------------------------------------------------------------------------------------\n",
            "for Alpha =  8.192\n",
            "Accuracy         =  87.40654205607477\n",
            "Precision_score  =  88.0\n",
            "Recall_score     =  98.0\n",
            "f1 Score         =  93.0\n",
            "\n",
            "\n",
            "[0.001, 0.002, 0.004, 0.008, 0.016, 0.032, 0.064, 0.128, 0.256, 0.512, 1.024, 2.048, 4.096, 8.192]\n",
            "Best Accuracy  =  89.57943925233644\n",
            "Best Precision =  93.0\n",
            "Best f1_score  =  94.0\n"
          ]
        },
        {
          "name": "stderr",
          "output_type": "stream",
          "text": [
            "\n"
          ]
        }
      ]
    },
    {
      "cell_type": "code",
      "metadata": {
        "colab": {
          "base_uri": "https://localhost:8080/",
          "height": 658
        },
        "id": "S5i_Q7bkhQ3h",
        "outputId": "db9b5818-7f55-41e1-eb10-0eaca2c705a9"
      },
      "source": [
        "plt.figure( figsize = (12,10) )\n",
        "\n",
        "plt.subplot(2,2,1)\n",
        "plt.plot(alpha_list,accuracy_list,'go-')\n",
        "plt.xlabel(\"ALpha\")\n",
        "plt.ylabel(\"Accuracy\")\n",
        "\n",
        "plt.subplot(2,2,2)\n",
        "plt.plot(alpha_list,precision_list,'bo-')\n",
        "plt.xlabel(\"ALpha\")\n",
        "plt.ylabel(\"Precision\")\n",
        "\n",
        "plt.subplot(2,2,3)\n",
        "plt.plot(alpha_list,recall_list,'ro-')\n",
        "plt.xlabel(\"ALpha\")\n",
        "plt.ylabel(\"Recall\")\n",
        "\n",
        "plt.subplot(2,2,4)\n",
        "plt.plot(alpha_list,f1_Score_list)\n",
        "plt.xlabel(\"ALpha\")\n",
        "plt.ylabel(\"f1_Score\")\n",
        "\n",
        "print(\"Optimal ALpha according to Accuracy = \", alpha_list[accuracy_list.index(max(accuracy_list))])\n",
        "print(\"Optimal ALpha according to Precision = \", alpha_list[precision_list.index(max(precision_list))])\n",
        "print(\"Optimal ALpha according to F1_score = \", alpha_list[f1_Score_list.index(max(f1_Score_list))])"
      ],
      "execution_count": null,
      "outputs": [
        {
          "name": "stdout",
          "output_type": "stream",
          "text": [
            "Optimal ALpha according to Accuracy =  2.048\n",
            "Optimal ALpha according to Precision =  0.064\n",
            "Optimal ALpha according to F1_score =  0.002\n"
          ]
        },
        {
          "data": {
            "image/png": "[encoded data removed]",
            "text/plain": [
              "<Figure size 864x720 with 4 Axes>"
            ]
          },
          "metadata": {
            "needs_background": "light"
          },
          "output_type": "display_data"
        }
      ]
    },
    {
      "cell_type": "markdown",
      "metadata": {
        "id": "zxku1Yt-EAbI"
      },
      "source": [
        "so Optimal alpha is around 2 accoridng to Accuracy, Precision and F1 score\n",
        "\n",
        "Recall requires higher value of alpha but then we would have to compromise with accuracy and precision."
      ]
    },
    {
      "cell_type": "markdown",
      "metadata": {
        "id": "g44ksQhV0Bpk"
      },
      "source": [
        "ROC is prefered as the scoring metric over the precision and the recall for cross validation \n",
        "\n",
        "https://machinelearningmastery.com/roc-curves-and-precision-recall-curves-for-imbalanced-classification/\n",
        "\n",
        "\n",
        "AUC and ROC are used only in Binary class classification problems\n",
        "\n",
        "For Imbalanced Data set AUC can be high for even Dumb Model ."
      ]
    },
    {
      "cell_type": "code",
      "metadata": {
        "colab": {
          "base_uri": "https://localhost:8080/",
          "height": 473
        },
        "id": "Y-nThsE4lRMG",
        "outputId": "33202159-df13-4ae5-cbf7-7d2e5223a879"
      },
      "source": [
        "%time\n",
        "from sklearn.metrics import roc_auc_score\n",
        "\n",
        "\n",
        "auc_cv     = []\n",
        "auc_train  = []\n",
        "alpha_list = []\n",
        "\n",
        "alpha = 0.001 \n",
        "\n",
        "while alpha <= 6:\n",
        "  alpha_list.append(np.round(alpha,3))\n",
        "  alpha = alpha*2\n",
        "\n",
        "\n",
        "for i in tqdm(alpha_list):\n",
        "\n",
        "  clf = MultinomialNB(alpha = i)\n",
        "\n",
        "  clf.fit(BOW_X_train,Y_train)\n",
        "  y_hat = clf.predict_proba(BOW_X_cv) # predict probabilities.\n",
        "  pos_prob = y_hat[:,1]               # selecting probabilities of positive class only.\n",
        "  auc_cv.append(roc_auc_score(Y_cv,pos_prob))\n",
        "\n",
        "  y_hat = clf.predict_proba(BOW_X_train)\n",
        "  pos_prob = y_hat[:,1]\n",
        "  auc_train.append(roc_auc_score(Y_train,pos_prob)) # appending the auc_score of different alpha for training data.\n",
        "\n",
        "\n",
        "plt.figure( figsize = (10,6) )\n",
        "\n",
        "plt.plot(alpha_list,auc_train,label = \"AUC Train\")\n",
        "plt.scatter(alpha_list,auc_train,label = \"AUC Train\")\n",
        "\n",
        "plt.plot(alpha_list,auc_cv,label = 'AUC Cv')\n",
        "plt.scatter(alpha_list,auc_cv,label = 'AUC Cv')\n",
        "\n",
        "plt.title(\"AUC vs K\")\n",
        "plt.xlabel('K')\n",
        "plt.ylabel('AUC')\n",
        "plt.legend() \n",
        "\n",
        "plt.show()\n",
        "\n",
        "difference_list = np.array(auc_train) - np.array(auc_cv)\n",
        "minimum_difference_index = np.argmin(difference_list)\n",
        "\n",
        "print(\"Best Alpha according to AUC-Roc is = \",alpha_list[minimum_difference_index])"
      ],
      "execution_count": null,
      "outputs": [
        {
          "name": "stdout",
          "output_type": "stream",
          "text": [
            "CPU times: user 2 µs, sys: 0 ns, total: 2 µs\n",
            "Wall time: 5.72 µs\n"
          ]
        },
        {
          "name": "stderr",
          "output_type": "stream",
          "text": [
            "100%|██████████| 13/13 [00:00<00:00, 57.71it/s]\n"
          ]
        },
        {
          "data": {
            "image/png": "[encoded data removed]",
            "text/plain": [
              "<Figure size 720x432 with 1 Axes>"
            ]
          },
          "metadata": {
            "needs_background": "light"
          },
          "output_type": "display_data"
        },
        {
          "name": "stdout",
          "output_type": "stream",
          "text": [
            "Best Alpha according to AUC-Roc is =  2.048\n"
          ]
        }
      ]
    },
    {
      "cell_type": "markdown",
      "metadata": {
        "id": "VzHpjlEDG4QL"
      },
      "source": [
        "Best Alpha according to AUC-Roc is =  2.048 , which aligning optimal k of accuracy, precision ."
      ]
    },
    {
      "cell_type": "code",
      "metadata": {
        "colab": {
          "base_uri": "https://localhost:8080/",
          "height": 548
        },
        "id": "2sY3zk4xqZtD",
        "outputId": "129aa2df-0134-45bf-cab1-0c6e0b92062c"
      },
      "source": [
        "%time\n",
        "\n",
        "from sklearn.metrics import   roc_auc_score\n",
        "\n",
        "clf = MultinomialNB(alpha = 2.048)\n",
        "\n",
        "clf.fit(BOW_X_train,Y_train)\n",
        "\n",
        "y_hat = clf.predict_proba(BOW_X_cv)\n",
        "pos_prob_cv = y_hat[:,1]\n",
        "\n",
        "fpr_test, tpr_test, thresholds = roc_curve(Y_cv,pos_prob_cv)\n",
        "\n",
        "y_hat = clf.predict_proba(BOW_X_train)\n",
        "pos_prob_train = y_hat[:,1]\n",
        "\n",
        "fpr_train, tpr_train, thresholds = roc_curve(Y_train,pos_prob_train)\n",
        "\n",
        "plt.figure(figsize=(10,8))\n",
        "\n",
        "plt.plot(fpr_test, tpr_test ,label = \" Cross Validated ROC, AUC  = \" + str(roc_auc_score(Y_cv,pos_prob_cv)))\n",
        "plt.plot(fpr_train,tpr_train,label = \" TRAIN ROC, AUC            = \" + str(roc_auc_score(Y_train,pos_prob_train)))\n",
        "\n",
        "plt.title('ROC')\n",
        "plt.xlabel('FPR')\n",
        "plt.ylabel('TPR')\n",
        "plt.legend()\n",
        "\n",
        "plt.show()"
      ],
      "execution_count": null,
      "outputs": [
        {
          "name": "stdout",
          "output_type": "stream",
          "text": [
            "CPU times: user 2 µs, sys: 0 ns, total: 2 µs\n",
            "Wall time: 5.96 µs\n"
          ]
        },
        {
          "data": {
            "image/png": "[encoded data removed]",
            "text/plain": [
              "<Figure size 720x576 with 1 Axes>"
            ]
          },
          "metadata": {
            "needs_background": "light"
          },
          "output_type": "display_data"
        }
      ]
    },
    {
      "cell_type": "markdown",
      "metadata": {
        "id": "lY9QC4TWE7rL"
      },
      "source": [
        "0.89 AUC is very good, means our model is able to distinguish positive class points from negative class points 89 percent of the times."
      ]
    },
    {
      "cell_type": "code",
      "metadata": {
        "id": "Y51fiqquYpnE"
      },
      "source": [
        "from sklearn.metrics import plot_confusion_matrix\n",
        "from sklearn.metrics import classification_report\n",
        "\n",
        "def plot_confusionMatrix(optimal_alpha,X_train,X_test,Y_train,Y_test):\n",
        "  # plotting Confusion Matrix\n",
        "\n",
        "  clf = MultinomialNB(alpha = optimal_alpha)\n",
        "\n",
        "  clf.fit(X_train,Y_train)\n",
        "  pred = clf.predict(X_test)\n",
        "\n",
        "  print(classification_report(Y_test, pred))\n",
        "  plot_confusion_matrix(clf, X_test, Y_test)\n",
        "\n",
        "\n",
        "  plt.show()"
      ],
      "execution_count": null,
      "outputs": []
    },
    {
      "cell_type": "code",
      "metadata": {
        "colab": {
          "base_uri": "https://localhost:8080/",
          "height": 435
        },
        "id": "j7GMAJFWGddo",
        "outputId": "ae91e654-4987-4ce2-85df-fd450b91fd2e"
      },
      "source": [
        "plot_confusionMatrix(2.048,BOW_X_train,BOW_X_test,Y_train,Y_test)"
      ],
      "execution_count": null,
      "outputs": [
        {
          "name": "stdout",
          "output_type": "stream",
          "text": [
            "              precision    recall  f1-score   support\n",
            "\n",
            "           0       0.69      0.58      0.63       995\n",
            "           1       0.92      0.95      0.94      5392\n",
            "\n",
            "    accuracy                           0.89      6387\n",
            "   macro avg       0.81      0.77      0.79      6387\n",
            "weighted avg       0.89      0.89      0.89      6387\n",
            "\n"
          ]
        },
        {
          "data": {
            "image/png": "[encoded data removed]",
            "text/plain": [
              "<Figure size 432x288 with 2 Axes>"
            ]
          },
          "metadata": {
            "needs_background": "light"
          },
          "output_type": "display_data"
        }
      ]
    },
    {
      "cell_type": "markdown",
      "metadata": {
        "id": "HIwsgEr7Tb65"
      },
      "source": [
        "In imbalanced datasets, the goal is to improve recall without hurting precision. These goals, however, are often conflicting, since in order to increase the TP for the minority class, the number of FP is also often increased, resulting in reduced precision.\n",
        "\n",
        "https://machinelearningmastery.com/precision-recall-and-f-measure-for-imbalanced-classification/"
      ]
    },
    {
      "cell_type": "markdown",
      "metadata": {
        "id": "dECuJNSkd_fl"
      },
      "source": [
        "https://www.codegrepper.com/code-examples/python/skplt.metrics.plot_confusion_matrix"
      ]
    },
    {
      "cell_type": "markdown",
      "metadata": {
        "id": "BSqvhG--g5Z-"
      },
      "source": [
        "https://towardsdatascience.com/7-over-sampling-techniques-to-handle-imbalanced-data-ec51c8db349f"
      ]
    },
    {
      "cell_type": "markdown",
      "metadata": {
        "id": "hC2MnolmT-kH"
      },
      "source": [
        "## <h3> BOW(Bi-gram)"
      ]
    },
    {
      "cell_type": "code",
      "metadata": {
        "id": "4UVa1clMPLnW"
      },
      "source": [
        "from sklearn.feature_extraction.text import CountVectorizer\n",
        "\n",
        "vectorizer = CountVectorizer(ngram_range = (2,2),max_features= 5000)\n",
        "\n",
        "vectorizer.fit(X_train) # fitting on the training data,building the vocabulary and stuff.\n",
        "\n",
        "BOW_X_train = vectorizer.transform(X_train) \n",
        "BOW_X_cv    = vectorizer.transform(X_cv)\n",
        "BOW_X_test  = vectorizer.transform(X_test)"
      ],
      "execution_count": null,
      "outputs": []
    },
    {
      "cell_type": "code",
      "metadata": {
        "colab": {
          "base_uri": "https://localhost:8080/"
        },
        "id": "SEUUXcfdUpbn",
        "outputId": "b4592499-3920-472f-da0d-f9b871c362f3"
      },
      "source": [
        "print(\"some feature names:--\",vectorizer.get_feature_names()[:10])\n",
        "\n",
        "print(\"BOW_X_train\",BOW_X_train.shape)\n",
        "print(\"BOW_X_cv   \",BOW_X_cv.shape)\n",
        "print(\"BOW_X_test \",BOW_X_test.shape)\n",
        "\n",
        "print(type(BOW_X_train))"
      ],
      "execution_count": null,
      "outputs": [
        {
          "name": "stdout",
          "output_type": "stream",
          "text": [
            "some feature names:-- ['able buy', 'able eat', 'able find', 'able get', 'able make', 'able order', 'able purchase', 'able use', 'absolute best', 'absolute favorite']\n",
            "BOW_X_train (8687, 5000)\n",
            "BOW_X_cv    (4280, 5000)\n",
            "BOW_X_test  (6387, 5000)\n",
            "<class 'scipy.sparse.csr.csr_matrix'>\n"
          ]
        }
      ]
    },
    {
      "cell_type": "code",
      "metadata": {
        "colab": {
          "base_uri": "https://localhost:8080/",
          "height": 473
        },
        "id": "DoPpY0jNU_qF",
        "outputId": "95aefc3f-bef9-4b0c-b95c-c1a128a99937"
      },
      "source": [
        "%time\n",
        "from sklearn.metrics import roc_auc_score\n",
        "\n",
        "\n",
        "auc_cv     = []\n",
        "auc_train  = []\n",
        "alpha_list = []\n",
        "\n",
        "alpha = 0.001 \n",
        "\n",
        "while alpha <= 6:\n",
        "  alpha_list.append(np.round(alpha,3))\n",
        "  alpha = alpha*2\n",
        "\n",
        "\n",
        "for i in tqdm(alpha_list):\n",
        "\n",
        "  clf = MultinomialNB(alpha = i)\n",
        "\n",
        "  clf.fit(BOW_X_train,Y_train)\n",
        "  y_hat = clf.predict_proba(BOW_X_cv) # predict probabilities.\n",
        "  pos_prob = y_hat[:,1]               # selecting probabilities of positive class only.\n",
        "  auc_cv.append(roc_auc_score(Y_cv,pos_prob))\n",
        "\n",
        "  y_hat = clf.predict_proba(BOW_X_train)\n",
        "  pos_prob = y_hat[:,1]\n",
        "  auc_train.append(roc_auc_score(Y_train,pos_prob)) # appending the auc_score of different alpha for training data.\n",
        "\n",
        "\n",
        "plt.figure( figsize = (10,6) )\n",
        "\n",
        "plt.plot(alpha_list,auc_train,label = \"AUC Train\")\n",
        "plt.scatter(alpha_list,auc_train,label = \"AUC Train\")\n",
        "\n",
        "plt.plot(alpha_list,auc_cv,label = 'AUC Cv')\n",
        "plt.scatter(alpha_list,auc_cv,label = 'AUC Cv')\n",
        "\n",
        "plt.title(\"AUC vs K\")\n",
        "plt.xlabel('K')\n",
        "plt.ylabel('AUC')\n",
        "plt.legend() \n",
        "\n",
        "plt.show()\n",
        "\n",
        "difference_list = np.array(auc_train) - np.array(auc_cv)\n",
        "minimum_difference_index = np.argmin(difference_list)\n",
        "\n",
        "print(\"Best Alpha according to AUC-Roc is = \",alpha_list[minimum_difference_index])"
      ],
      "execution_count": null,
      "outputs": [
        {
          "name": "stdout",
          "output_type": "stream",
          "text": [
            "CPU times: user 3 µs, sys: 0 ns, total: 3 µs\n",
            "Wall time: 6.44 µs\n"
          ]
        },
        {
          "name": "stderr",
          "output_type": "stream",
          "text": [
            "100%|██████████| 13/13 [00:00<00:00, 62.87it/s]\n"
          ]
        },
        {
          "data": {
            "image/png": "[encoded data removed]",
            "text/plain": [
              "<Figure size 720x432 with 1 Axes>"
            ]
          },
          "metadata": {
            "needs_background": "light"
          },
          "output_type": "display_data"
        },
        {
          "name": "stdout",
          "output_type": "stream",
          "text": [
            "Best Alpha according to AUC-Roc is =  2.048\n"
          ]
        }
      ]
    },
    {
      "cell_type": "markdown",
      "metadata": {
        "id": "NrpZKk-rWIAj"
      },
      "source": [
        "optimal Alpha is same as that of unigram"
      ]
    },
    {
      "cell_type": "code",
      "metadata": {
        "colab": {
          "base_uri": "https://localhost:8080/",
          "height": 548
        },
        "id": "aA_cC_44VjIg",
        "outputId": "d5c6ffdc-c572-4a91-a2c9-f1f59166e43d"
      },
      "source": [
        "%time\n",
        "\n",
        "from sklearn.metrics import   roc_auc_score\n",
        "\n",
        "clf = MultinomialNB(alpha = 2.048)\n",
        "\n",
        "clf.fit(BOW_X_train,Y_train)\n",
        "\n",
        "y_hat = clf.predict_proba(BOW_X_cv)\n",
        "pos_prob_cv = y_hat[:,1]\n",
        "\n",
        "fpr_test, tpr_test, thresholds = roc_curve(Y_cv,pos_prob_cv)\n",
        "\n",
        "y_hat = clf.predict_proba(BOW_X_train)\n",
        "pos_prob_train = y_hat[:,1]\n",
        "\n",
        "fpr_train, tpr_train, thresholds = roc_curve(Y_train,pos_prob_train)\n",
        "\n",
        "plt.figure(figsize=(10,8))\n",
        "\n",
        "plt.plot(fpr_test, tpr_test ,label = \" Cross Validated ROC, AUC  = \" + str(roc_auc_score(Y_cv,pos_prob_cv)))\n",
        "plt.plot(fpr_train,tpr_train,label = \" TRAIN ROC, AUC            = \" + str(roc_auc_score(Y_train,pos_prob_train)))\n",
        "\n",
        "plt.title('ROC')\n",
        "plt.xlabel('FPR')\n",
        "plt.ylabel('TPR')\n",
        "plt.legend()\n",
        "\n",
        "plt.show()"
      ],
      "execution_count": null,
      "outputs": [
        {
          "name": "stdout",
          "output_type": "stream",
          "text": [
            "CPU times: user 2 µs, sys: 1e+03 ns, total: 3 µs\n",
            "Wall time: 6.44 µs\n"
          ]
        },
        {
          "data": {
            "image/png": "[encoded data removed]",
            "text/plain": [
              "<Figure size 720x576 with 1 Axes>"
            ]
          },
          "metadata": {
            "needs_background": "light"
          },
          "output_type": "display_data"
        }
      ]
    },
    {
      "cell_type": "markdown",
      "metadata": {
        "id": "cP7EGdlvWyCH"
      },
      "source": [
        "Better AUC for Bigram compared to simple Unigram , 91 percent AUC is very very good"
      ]
    },
    {
      "cell_type": "code",
      "metadata": {
        "colab": {
          "base_uri": "https://localhost:8080/",
          "height": 435
        },
        "id": "u_xbUfZdXB4X",
        "outputId": "3d3dd831-9973-423b-f370-50b36589854a"
      },
      "source": [
        "plot_confusionMatrix(2.048,BOW_X_train,BOW_X_test,Y_train,Y_test)\n"
      ],
      "execution_count": null,
      "outputs": [
        {
          "name": "stdout",
          "output_type": "stream",
          "text": [
            "              precision    recall  f1-score   support\n",
            "\n",
            "           0       0.70      0.66      0.68       995\n",
            "           1       0.94      0.95      0.94      5392\n",
            "\n",
            "    accuracy                           0.90      6387\n",
            "   macro avg       0.82      0.80      0.81      6387\n",
            "weighted avg       0.90      0.90      0.90      6387\n",
            "\n"
          ]
        },
        {
          "data": {
            "image/png": "[encoded data removed]",
            "text/plain": [
              "<Figure size 432x288 with 2 Axes>"
            ]
          },
          "metadata": {
            "needs_background": "light"
          },
          "output_type": "display_data"
        }
      ]
    },
    {
      "cell_type": "markdown",
      "metadata": {
        "id": "tOVj9xMhcxye"
      },
      "source": [
        "our main diognals performance has improved\n",
        "\n",
        "\n",
        "*   Precision , Recall and F1_score has imporved of negative points\n",
        "\n",
        "*   Precision of positive points has also improved\n",
        "\n"
      ]
    },
    {
      "cell_type": "markdown",
      "metadata": {
        "id": "eLcBoFd4c2oy"
      },
      "source": [
        "## <h3> BOW (ngram_range(1,2)"
      ]
    },
    {
      "cell_type": "code",
      "metadata": {
        "id": "RcmHBrQXcjfq"
      },
      "source": [
        "from sklearn.feature_extraction.text import CountVectorizer\n",
        "\n",
        "vectorizer = CountVectorizer(ngram_range=(1,2),max_features=5000)\n",
        "\n",
        "vectorizer.fit(X_train) # fitting on the training data,building the vocabulary and stuff.\n",
        "\n",
        "BOW_X_train = vectorizer.transform(X_train) \n",
        "BOW_X_cv    = vectorizer.transform(X_cv)\n",
        "BOW_X_test  = vectorizer.transform(X_test)"
      ],
      "execution_count": null,
      "outputs": []
    },
    {
      "cell_type": "code",
      "metadata": {
        "id": "63tXUglSt9T7"
      },
      "source": [
        "from sklearn.preprocessing import Normalizer # let's feed normalize data \n",
        "Data_normalizer = Normalizer(norm='l2').fit(BOW_X_train)\n",
        "\n",
        "BOW_X_train     = Data_normalizer.transform(BOW_X_train)\n",
        "BOW_X_cv        = Data_normalizer.transform(BOW_X_cv)\n",
        "BOW_X_test      = Data_normalizer.transform(BOW_X_test)"
      ],
      "execution_count": null,
      "outputs": []
    },
    {
      "cell_type": "code",
      "metadata": {
        "colab": {
          "base_uri": "https://localhost:8080/"
        },
        "id": "prJD2kjhdI3o",
        "outputId": "183db411-e917-42a3-d2bf-364fcfbae0a8"
      },
      "source": [
        "print(\"some feature names:--\",vectorizer.get_feature_names()[:10])\n",
        "\n",
        "print(\"BOW_X_train\",BOW_X_train.shape)\n",
        "print(\"BOW_X_cv   \",BOW_X_cv.shape)\n",
        "print(\"BOW_X_test \",BOW_X_test.shape)\n",
        "\n",
        "print(type(BOW_X_train))"
      ],
      "execution_count": null,
      "outputs": [
        {
          "name": "stdout",
          "output_type": "stream",
          "text": [
            "some feature names:-- ['able', 'able buy', 'able eat', 'able find', 'able get', 'absolute', 'absolute favorite', 'absolutely', 'absolutely best', 'absolutely delicious']\n",
            "BOW_X_train (8687, 5000)\n",
            "BOW_X_cv    (4280, 5000)\n",
            "BOW_X_test  (6387, 5000)\n",
            "<class 'scipy.sparse.csr.csr_matrix'>\n"
          ]
        }
      ]
    },
    {
      "cell_type": "code",
      "metadata": {
        "colab": {
          "base_uri": "https://localhost:8080/",
          "height": 473
        },
        "id": "54NlWm7kdYeM",
        "outputId": "1ef9e0aa-94da-4a73-d65c-687db680dfc6"
      },
      "source": [
        "%time\n",
        "from sklearn.metrics import roc_auc_score\n",
        "\n",
        "\n",
        "auc_cv     = []\n",
        "auc_train  = []\n",
        "alpha_list = []\n",
        "\n",
        "alpha = 0.001 \n",
        "\n",
        "while alpha <= 4:\n",
        "  alpha_list.append(np.round(alpha,3))\n",
        "  alpha = alpha*2\n",
        "\n",
        "\n",
        "for i in tqdm(alpha_list):\n",
        "\n",
        "  clf = MultinomialNB(alpha = i)\n",
        "\n",
        "  clf.fit(BOW_X_train,Y_train)\n",
        "  y_hat = clf.predict_proba(BOW_X_cv) # predict probabilities.\n",
        "  pos_prob = y_hat[:,1]               # selecting probabilities of positive class only.\n",
        "  auc_cv.append(roc_auc_score(Y_cv,pos_prob))\n",
        "\n",
        "  y_hat = clf.predict_proba(BOW_X_train)\n",
        "  pos_prob = y_hat[:,1]\n",
        "  auc_train.append(roc_auc_score(Y_train,pos_prob)) # appending the auc_score of different alpha for training data.\n",
        "\n",
        "\n",
        "plt.figure( figsize = (10,6) )\n",
        "\n",
        "plt.plot(alpha_list,auc_train,label = \"AUC Train\")\n",
        "plt.scatter(alpha_list,auc_train,label = \"AUC Train\")\n",
        "\n",
        "plt.plot(alpha_list,auc_cv,label = 'AUC Cv')\n",
        "plt.scatter(alpha_list,auc_cv,label = 'AUC Cv')\n",
        "\n",
        "plt.title(\"AUC vs K\")\n",
        "plt.xlabel('K')\n",
        "plt.ylabel('AUC')\n",
        "plt.legend() \n",
        "\n",
        "plt.show()\n",
        "\n",
        "difference_list = np.array(auc_train) - np.array(auc_cv)\n",
        "minimum_difference_index = np.argmin(difference_list)\n",
        "\n",
        "print(\"Best Alpha according to AUC-Roc is = \",alpha_list[minimum_difference_index])"
      ],
      "execution_count": null,
      "outputs": [
        {
          "name": "stdout",
          "output_type": "stream",
          "text": [
            "CPU times: user 2 µs, sys: 0 ns, total: 2 µs\n",
            "Wall time: 5.96 µs\n"
          ]
        },
        {
          "name": "stderr",
          "output_type": "stream",
          "text": [
            "100%|██████████| 12/12 [00:00<00:00, 59.73it/s]\n"
          ]
        },
        {
          "data": {
            "image/png": "[encoded data removed]",
            "text/plain": [
              "<Figure size 720x432 with 1 Axes>"
            ]
          },
          "metadata": {
            "needs_background": "light"
          },
          "output_type": "display_data"
        },
        {
          "name": "stdout",
          "output_type": "stream",
          "text": [
            "Best Alpha according to AUC-Roc is =  0.512\n"
          ]
        }
      ]
    },
    {
      "cell_type": "markdown",
      "metadata": {
        "id": "O_Aof2coeq63"
      },
      "source": [
        "Our Alplha has reduced from 2.048 to 0.512 , Let's see if there is an improvement in performance or not."
      ]
    },
    {
      "cell_type": "code",
      "metadata": {
        "colab": {
          "base_uri": "https://localhost:8080/",
          "height": 548
        },
        "id": "Om07xTf2dhb-",
        "outputId": "3dc45e43-566a-447b-fe3f-b85bd7f7bcad"
      },
      "source": [
        "%time\n",
        "\n",
        "from sklearn.metrics import   roc_auc_score\n",
        "\n",
        "clf = MultinomialNB(alpha = 0.512)\n",
        "\n",
        "clf.fit(BOW_X_train,Y_train)\n",
        "\n",
        "y_hat = clf.predict_proba(BOW_X_cv)\n",
        "pos_prob_cv = y_hat[:,1]\n",
        "\n",
        "fpr_test, tpr_test, thresholds = roc_curve(Y_cv,pos_prob_cv)\n",
        "\n",
        "y_hat = clf.predict_proba(BOW_X_train)\n",
        "pos_prob_train = y_hat[:,1]\n",
        "\n",
        "fpr_train, tpr_train, thresholds = roc_curve(Y_train,pos_prob_train)\n",
        "\n",
        "plt.figure(figsize=(10,8))\n",
        "\n",
        "plt.plot(fpr_test, tpr_test ,label = \" Cross Validated ROC, AUC  = \" + str(roc_auc_score(Y_cv,pos_prob_cv)))\n",
        "plt.plot(fpr_train,tpr_train,label = \" TRAIN ROC, AUC            = \" + str(roc_auc_score(Y_train,pos_prob_train)))\n",
        "\n",
        "plt.title('ROC')\n",
        "plt.xlabel('FPR')\n",
        "plt.ylabel('TPR')\n",
        "plt.legend()\n",
        "\n",
        "plt.show()"
      ],
      "execution_count": null,
      "outputs": [
        {
          "name": "stdout",
          "output_type": "stream",
          "text": [
            "CPU times: user 3 µs, sys: 0 ns, total: 3 µs\n",
            "Wall time: 6.2 µs\n"
          ]
        },
        {
          "data": {
            "image/png": "[encoded data removed]",
            "text/plain": [
              "<Figure size 720x576 with 1 Axes>"
            ]
          },
          "metadata": {
            "needs_background": "light"
          },
          "output_type": "display_data"
        }
      ]
    },
    {
      "cell_type": "markdown",
      "metadata": {
        "id": "7zLdG5SLiLnx"
      },
      "source": [
        "Auc has increased from 0.91 to 0.93 ⚡\n",
        "\n",
        "The lesser the difference in train and test AUC , means lesser is the overfitting "
      ]
    },
    {
      "cell_type": "code",
      "metadata": {
        "colab": {
          "base_uri": "https://localhost:8080/",
          "height": 435
        },
        "id": "lBDlRs47dw0Q",
        "outputId": "d0833854-2910-4667-f777-eb38e91eb712"
      },
      "source": [
        "plot_confusionMatrix(0.512,BOW_X_train,BOW_X_test,Y_train,Y_test)"
      ],
      "execution_count": null,
      "outputs": [
        {
          "name": "stdout",
          "output_type": "stream",
          "text": [
            "              precision    recall  f1-score   support\n",
            "\n",
            "           0       0.93      0.16      0.27       995\n",
            "           1       0.87      1.00      0.93      5392\n",
            "\n",
            "    accuracy                           0.87      6387\n",
            "   macro avg       0.90      0.58      0.60      6387\n",
            "weighted avg       0.88      0.87      0.82      6387\n",
            "\n"
          ]
        },
        {
          "data": {
            "image/png": "[encoded data removed]",
            "text/plain": [
              "<Figure size 432x288 with 2 Axes>"
            ]
          },
          "metadata": {
            "needs_background": "light"
          },
          "output_type": "display_data"
        }
      ]
    },
    {
      "cell_type": "markdown",
      "metadata": {
        "id": "1uykt25ipLtY"
      },
      "source": [
        "* Recall of positive points is maximum\n",
        "\n",
        "* Precision of negative points has increased vastly \n",
        "\n",
        "* Recall and f1 score performance is poor of negative class"
      ]
    },
    {
      "cell_type": "markdown",
      "metadata": {
        "id": "sLL1hGFwvuOI"
      },
      "source": [
        "<h3> Feature Importance </h3>\n",
        "\n",
        "\n",
        "\n",
        "\n",
        "https://numpy.org/doc/stable/reference/generated/numpy.argsort.html"
      ]
    },
    {
      "cell_type": "code",
      "metadata": {
        "colab": {
          "base_uri": "https://localhost:8080/"
        },
        "id": "uM-07BfZvtKi",
        "outputId": "1398bc78-284c-4947-cc46-8819599751ab"
      },
      "source": [
        "clf = MultinomialNB(alpha = 0.512) # taking optimal Alpha from ngram_range(1,2)\n",
        "\n",
        "clf.fit(BOW_X_train,Y_train)\n",
        "\n",
        "features = clf.feature_log_prob_\n",
        "feature_names = vectorizer.get_feature_names()\n",
        "\n",
        "print(\"Features shape \",features.shape)\n",
        "\n",
        "negative_features = features[0]\n",
        "positive_features = features[1]\n",
        "\n",
        "sorted_negative_feature = np.argsort(negative_features)[::-1]\n",
        "sorted_positive_feature = np.argsort(positive_features)[::-1]"
      ],
      "execution_count": null,
      "outputs": [
        {
          "name": "stdout",
          "output_type": "stream",
          "text": [
            "Features shape  (2, 5000)\n"
          ]
        }
      ]
    },
    {
      "cell_type": "code",
      "metadata": {
        "colab": {
          "base_uri": "https://localhost:8080/"
        },
        "id": "rtOl8hmRx8E1",
        "outputId": "29ff0c1c-1b8f-4a46-fddd-5cfccf591156"
      },
      "source": [
        "print(\"Negative feature top 10 :\")\n",
        "print(\"-\"*30)\n",
        "for i in list(sorted_negative_feature[0:10]):\n",
        "    print(\"%s\\t -->\\t%f  \"%(feature_names[i],negative_features[i]))\n",
        "    \n",
        "print(\"\\n Positive feature top 10 :\")\n",
        "print(\"-\"*30)\n",
        "for i in list(sorted_positive_feature[0:10]):\n",
        "    print(\"%s\\t -->\\t%f  \"%(feature_names[i],positive_features[i]))"
      ],
      "execution_count": null,
      "outputs": [
        {
          "name": "stdout",
          "output_type": "stream",
          "text": [
            "Negative feature top 10 :\n",
            "------------------------------\n",
            "not\t -->\t-3.522510  \n",
            "like\t -->\t-4.687490  \n",
            "would\t -->\t-4.870570  \n",
            "product\t -->\t-4.939515  \n",
            "taste\t -->\t-4.970110  \n",
            "one\t -->\t-5.259010  \n",
            "good\t -->\t-5.366193  \n",
            "flavor\t -->\t-5.473666  \n",
            "no\t -->\t-5.475969  \n",
            "coffee\t -->\t-5.489217  \n",
            "\n",
            " Positive feature top 10 :\n",
            "------------------------------\n",
            "not\t -->\t-3.896907  \n",
            "great\t -->\t-4.576673  \n",
            "like\t -->\t-4.630117  \n",
            "good\t -->\t-4.648139  \n",
            "love\t -->\t-4.887182  \n",
            "coffee\t -->\t-4.941034  \n",
            "one\t -->\t-4.945804  \n",
            "product\t -->\t-5.037362  \n",
            "taste\t -->\t-5.077175  \n",
            "flavor\t -->\t-5.177298  \n"
          ]
        }
      ]
    },
    {
      "cell_type": "markdown",
      "metadata": {
        "id": "ZG0hzxl2qJre"
      },
      "source": [
        "# BOW(ngram_range(1,3)"
      ]
    },
    {
      "cell_type": "code",
      "metadata": {
        "id": "HUo01lxKd6P0"
      },
      "source": [
        "from sklearn.feature_extraction.text import CountVectorizer\n",
        "\n",
        "vectorizer = CountVectorizer(ngram_range=(1,3),max_features=10000)\n",
        "\n",
        "vectorizer.fit(X_train) # fitting on the training data,building the vocabulary and stuff.\n",
        "\n",
        "BOW_X_train = vectorizer.transform(X_train) \n",
        "BOW_X_cv    = vectorizer.transform(X_cv)\n",
        "BOW_X_test  = vectorizer.transform(X_test)"
      ],
      "execution_count": null,
      "outputs": []
    },
    {
      "cell_type": "code",
      "metadata": {
        "id": "YkN6sQyxtU7W"
      },
      "source": [
        "from sklearn.preprocessing import Normalizer\n",
        "Data_normalizer = Normalizer(norm='l2').fit(BOW_X_train)\n",
        "\n",
        "BOW_X_train     = Data_normalizer.transform(BOW_X_train)\n",
        "BOW_X_cv        = Data_normalizer.transform(BOW_X_cv)\n",
        "BOW_X_test      = Data_normalizer.transform(BOW_X_test)"
      ],
      "execution_count": null,
      "outputs": []
    },
    {
      "cell_type": "code",
      "metadata": {
        "colab": {
          "base_uri": "https://localhost:8080/"
        },
        "id": "ZHrIVTm5l1ma",
        "outputId": "43f877e3-75d2-403f-c9b9-47d1822b6a09"
      },
      "source": [
        "print(\"some feature names:--\",vectorizer.get_feature_names()[:10])\n",
        "\n",
        "print(\"BOW_X_train\",BOW_X_train.shape)\n",
        "print(\"BOW_X_cv   \",BOW_X_cv.shape)\n",
        "print(\"BOW_X_test \",BOW_X_test.shape)\n",
        "\n",
        "print(type(BOW_X_train))"
      ],
      "execution_count": null,
      "outputs": [
        {
          "name": "stdout",
          "output_type": "stream",
          "text": [
            "some feature names:-- ['ability', 'able', 'able buy', 'able eat', 'able find', 'able get', 'able make', 'able order', 'able purchase', 'able use']\n",
            "BOW_X_train (8687, 10000)\n",
            "BOW_X_cv    (4280, 10000)\n",
            "BOW_X_test  (6387, 10000)\n",
            "<class 'scipy.sparse.csr.csr_matrix'>\n"
          ]
        }
      ]
    },
    {
      "cell_type": "code",
      "metadata": {
        "colab": {
          "base_uri": "https://localhost:8080/",
          "height": 473
        },
        "id": "FSHJXDaMl37f",
        "outputId": "5025d840-eb2d-4a99-9f3a-306657e53b3f"
      },
      "source": [
        "%time\n",
        "from sklearn.metrics import roc_auc_score\n",
        "\n",
        "\n",
        "auc_cv     = []\n",
        "auc_train  = []\n",
        "alpha_list = []\n",
        "\n",
        "alpha = 0.001 \n",
        "\n",
        "while alpha <= 4:\n",
        "  alpha_list.append(np.round(alpha,3))\n",
        "  alpha = alpha*2\n",
        "\n",
        "\n",
        "for i in tqdm(alpha_list):\n",
        "\n",
        "  clf = MultinomialNB(alpha = i)\n",
        "\n",
        "  clf.fit(BOW_X_train,Y_train)\n",
        "  y_hat = clf.predict_proba(BOW_X_cv) # predict probabilities.\n",
        "  pos_prob = y_hat[:,1]               # selecting probabilities of positive class only.\n",
        "  auc_cv.append(roc_auc_score(Y_cv,pos_prob))\n",
        "\n",
        "  y_hat = clf.predict_proba(BOW_X_train)\n",
        "  pos_prob = y_hat[:,1]\n",
        "  auc_train.append(roc_auc_score(Y_train,pos_prob)) # appending the auc_score of different alpha for training data.\n",
        "\n",
        "\n",
        "plt.figure( figsize = (10,6) )\n",
        "\n",
        "plt.plot(alpha_list,auc_train,label = \"AUC Train\")\n",
        "plt.scatter(alpha_list,auc_train,label = \"AUC Train\")\n",
        "\n",
        "plt.plot(alpha_list,auc_cv,label = 'AUC Cv')\n",
        "plt.scatter(alpha_list,auc_cv,label = 'AUC Cv')\n",
        "\n",
        "plt.title(\"AUC vs K\")\n",
        "plt.xlabel('K')\n",
        "plt.ylabel('AUC')\n",
        "plt.legend() \n",
        "\n",
        "plt.show()\n",
        "\n",
        "difference_list = np.array(auc_train) - np.array(auc_cv)\n",
        "minimum_difference_index = np.argmin(difference_list)\n",
        "\n",
        "print(\"Best Alpha according to AUC-Roc is = \",alpha_list[minimum_difference_index])"
      ],
      "execution_count": null,
      "outputs": [
        {
          "name": "stdout",
          "output_type": "stream",
          "text": [
            "CPU times: user 3 µs, sys: 0 ns, total: 3 µs\n",
            "Wall time: 7.15 µs\n"
          ]
        },
        {
          "name": "stderr",
          "output_type": "stream",
          "text": [
            "100%|██████████| 12/12 [00:00<00:00, 64.10it/s]\n"
          ]
        },
        {
          "data": {
            "image/png": "[encoded data removed]",
            "text/plain": [
              "<Figure size 720x432 with 1 Axes>"
            ]
          },
          "metadata": {
            "needs_background": "light"
          },
          "output_type": "display_data"
        },
        {
          "name": "stdout",
          "output_type": "stream",
          "text": [
            "Best Alpha according to AUC-Roc is =  0.256\n"
          ]
        }
      ]
    },
    {
      "cell_type": "markdown",
      "metadata": {
        "id": "DerbnWEnm517"
      },
      "source": [
        "K has decreased even more from 0.512 to 0.256"
      ]
    },
    {
      "cell_type": "code",
      "metadata": {
        "colab": {
          "base_uri": "https://localhost:8080/",
          "height": 548
        },
        "id": "fv7lo5I-l6q2",
        "outputId": "7145ae54-97a3-4887-b84f-efb655cf3cef"
      },
      "source": [
        "%time\n",
        "\n",
        "from sklearn.metrics import   roc_auc_score\n",
        "\n",
        "clf = MultinomialNB(alpha = 0.256)\n",
        "\n",
        "clf.fit(BOW_X_train,Y_train)\n",
        "\n",
        "y_hat = clf.predict_proba(BOW_X_cv)\n",
        "pos_prob_cv = y_hat[:,1]\n",
        "\n",
        "fpr_test, tpr_test, thresholds = roc_curve(Y_cv,pos_prob_cv)\n",
        "\n",
        "y_hat = clf.predict_proba(BOW_X_train)\n",
        "pos_prob_train = y_hat[:,1]\n",
        "\n",
        "fpr_train, tpr_train, thresholds = roc_curve(Y_train,pos_prob_train)\n",
        "\n",
        "plt.figure(figsize=(10,8))\n",
        "\n",
        "plt.plot(fpr_test, tpr_test ,label = \" Cross Validated ROC, AUC  = \" + str(roc_auc_score(Y_cv,pos_prob_cv)))\n",
        "plt.plot(fpr_train,tpr_train,label = \" TRAIN ROC, AUC            = \" + str(roc_auc_score(Y_train,pos_prob_train)))\n",
        "\n",
        "plt.title('ROC')\n",
        "plt.xlabel('FPR')\n",
        "plt.ylabel('TPR')\n",
        "plt.legend()\n",
        "\n",
        "plt.show()"
      ],
      "execution_count": null,
      "outputs": [
        {
          "name": "stdout",
          "output_type": "stream",
          "text": [
            "CPU times: user 3 µs, sys: 1e+03 ns, total: 4 µs\n",
            "Wall time: 6.91 µs\n"
          ]
        },
        {
          "data": {
            "image/png": "[encoded data removed]",
            "text/plain": [
              "<Figure size 720x576 with 1 Axes>"
            ]
          },
          "metadata": {
            "needs_background": "light"
          },
          "output_type": "display_data"
        }
      ]
    },
    {
      "cell_type": "markdown",
      "metadata": {
        "id": "jDLb-rvjjgto"
      },
      "source": [
        "AUC is very very good in this case also but The difference in ROC of train and cross validated data is high Hence it may lead to overfitting"
      ]
    },
    {
      "cell_type": "code",
      "metadata": {
        "colab": {
          "base_uri": "https://localhost:8080/",
          "height": 435
        },
        "id": "Kt0W_gMGmDAj",
        "outputId": "5a009124-ee31-4b4b-e485-80546e32175c"
      },
      "source": [
        "plot_confusionMatrix(0.256,BOW_X_train,BOW_X_test,Y_train,Y_test)"
      ],
      "execution_count": null,
      "outputs": [
        {
          "name": "stdout",
          "output_type": "stream",
          "text": [
            "              precision    recall  f1-score   support\n",
            "\n",
            "           0       0.92      0.20      0.33       995\n",
            "           1       0.87      1.00      0.93      5392\n",
            "\n",
            "    accuracy                           0.87      6387\n",
            "   macro avg       0.90      0.60      0.63      6387\n",
            "weighted avg       0.88      0.87      0.84      6387\n",
            "\n"
          ]
        },
        {
          "data": {
            "image/png": "[encoded data removed]",
            "text/plain": [
              "<Figure size 432x288 with 2 Axes>"
            ]
          },
          "metadata": {
            "needs_background": "light"
          },
          "output_type": "display_data"
        }
      ]
    },
    {
      "cell_type": "markdown",
      "metadata": {
        "id": "emi94QPjosMi"
      },
      "source": [
        "Recall and f1 score of -ve class has increased\n",
        "\n",
        "precision of +ve class has decreased "
      ]
    },
    {
      "cell_type": "markdown",
      "metadata": {
        "id": "lrx6XF_pqqNx"
      },
      "source": [
        "# TF-IDF"
      ]
    },
    {
      "cell_type": "code",
      "metadata": {
        "id": "zNsAjYG5qul1"
      },
      "source": [
        "from sklearn.feature_extraction.text import TfidfVectorizer\n",
        "\n",
        "vectorizer  = TfidfVectorizer(ngram_range = (1,2),norm = 'l2',min_df = 10,max_df = 0.7,max_features=5000)\n",
        "\n",
        "tf_idf_X_train = vectorizer.fit_transform(X_train)\n",
        "tf_idf_X_cv    = vectorizer.transform(X_cv)\n",
        "tf_idf_X_test  = vectorizer.transform(X_test)"
      ],
      "execution_count": null,
      "outputs": []
    },
    {
      "cell_type": "code",
      "metadata": {
        "colab": {
          "base_uri": "https://localhost:8080/"
        },
        "id": "y8-dVoCZrHrh",
        "outputId": "b14d1075-fc9c-45dd-c555-996bd8b9d46a"
      },
      "source": [
        "print(\"some feature names:--\",vectorizer.get_feature_names()[:10])\n",
        "\n",
        "print(\"tf_idf_X_train\",tf_idf_X_train.shape)\n",
        "print(\"tf_idf_X_cv   \",tf_idf_X_cv.shape)\n",
        "print(\"tf_idf_X_test \",tf_idf_X_test.shape)\n",
        "\n",
        "print(type(tf_idf_X_train))"
      ],
      "execution_count": null,
      "outputs": [
        {
          "name": "stdout",
          "output_type": "stream",
          "text": [
            "some feature names:-- ['able', 'able buy', 'able eat', 'able find', 'able get', 'absolute', 'absolute favorite', 'absolutely', 'absolutely best', 'absolutely delicious']\n",
            "tf_idf_X_train (8687, 5000)\n",
            "tf_idf_X_cv    (4280, 5000)\n",
            "tf_idf_X_test  (6387, 5000)\n",
            "<class 'scipy.sparse.csr.csr_matrix'>\n"
          ]
        }
      ]
    },
    {
      "cell_type": "code",
      "metadata": {
        "colab": {
          "base_uri": "https://localhost:8080/",
          "height": 473
        },
        "id": "r55_EBFjsvye",
        "outputId": "340b1592-04be-4562-e711-be3857203f41"
      },
      "source": [
        "%time\n",
        "from sklearn.metrics import roc_auc_score\n",
        "\n",
        "\n",
        "auc_cv     = []\n",
        "auc_train  = []\n",
        "alpha_list = []\n",
        "\n",
        "alpha = 0.001 \n",
        "\n",
        "while alpha <= 6:\n",
        "  alpha_list.append(np.round(alpha,3))\n",
        "  alpha = alpha*2\n",
        "\n",
        "\n",
        "for i in tqdm(alpha_list):\n",
        "\n",
        "  clf = MultinomialNB(alpha = i)\n",
        "\n",
        "  clf.fit(tf_idf_X_train,Y_train)\n",
        "  y_hat = clf.predict_proba(tf_idf_X_cv) # predict probabilities.\n",
        "  pos_prob = y_hat[:,1]               # selecting probabilities of positive class only.\n",
        "  auc_cv.append(roc_auc_score(Y_cv,pos_prob))\n",
        "\n",
        "  y_hat = clf.predict_proba(tf_idf_X_train)\n",
        "  pos_prob = y_hat[:,1]\n",
        "  auc_train.append(roc_auc_score(Y_train,pos_prob)) # appending the auc_score of different alpha for training data.\n",
        "\n",
        "\n",
        "plt.figure( figsize = (10,6) )\n",
        "\n",
        "plt.plot(alpha_list,auc_train,label = \"AUC Train\")\n",
        "plt.scatter(alpha_list,auc_train,label = \"AUC Train\")\n",
        "\n",
        "plt.plot(alpha_list,auc_cv,label = 'AUC Cv')\n",
        "plt.scatter(alpha_list,auc_cv,label = 'AUC Cv')\n",
        "\n",
        "plt.title(\"AUC vs K\")\n",
        "plt.xlabel('K')\n",
        "plt.ylabel('AUC')\n",
        "plt.legend() \n",
        "\n",
        "plt.show()\n",
        "\n",
        "difference_list = np.array(auc_train) - np.array(auc_cv)\n",
        "minimum_difference_index = np.argmin(difference_list)\n",
        "\n",
        "print(\"Best Alpha according to AUC-Roc is = \",alpha_list[minimum_difference_index])"
      ],
      "execution_count": null,
      "outputs": [
        {
          "name": "stdout",
          "output_type": "stream",
          "text": [
            "CPU times: user 3 µs, sys: 0 ns, total: 3 µs\n",
            "Wall time: 6.44 µs\n"
          ]
        },
        {
          "name": "stderr",
          "output_type": "stream",
          "text": [
            "100%|██████████| 13/13 [00:00<00:00, 64.05it/s]\n"
          ]
        },
        {
          "data": {
            "image/png": "[encoded data removed]",
            "text/plain": [
              "<Figure size 720x432 with 1 Axes>"
            ]
          },
          "metadata": {
            "needs_background": "light"
          },
          "output_type": "display_data"
        },
        {
          "name": "stdout",
          "output_type": "stream",
          "text": [
            "Best Alpha according to AUC-Roc is =  0.512\n"
          ]
        }
      ]
    },
    {
      "cell_type": "code",
      "metadata": {
        "colab": {
          "base_uri": "https://localhost:8080/",
          "height": 548
        },
        "id": "iDRF7qlkxyKs",
        "outputId": "75cde25e-543e-4c54-c529-d39a2447f5d3"
      },
      "source": [
        "%time\n",
        "\n",
        "\n",
        "clf = MultinomialNB(alpha = 0.512)\n",
        "\n",
        "clf.fit(tf_idf_X_train,Y_train)\n",
        "\n",
        "y_hat = clf.predict_proba(tf_idf_X_cv)\n",
        "pos_prob_cv = y_hat[:,1]\n",
        "\n",
        "fpr_test, tpr_test, thresholds = roc_curve(Y_cv,pos_prob_cv)\n",
        "\n",
        "y_hat = clf.predict_proba(tf_idf_X_train)\n",
        "pos_prob_train = y_hat[:,1]\n",
        "\n",
        "fpr_train, tpr_train, thresholds = roc_curve(Y_train,pos_prob_train)\n",
        "\n",
        "plt.figure(figsize=(10,8))\n",
        "\n",
        "plt.plot(fpr_test, tpr_test ,label = \" Cross Validated ROC, AUC  = \" + str(roc_auc_score(Y_cv,pos_prob_cv)))\n",
        "plt.plot(fpr_train,tpr_train,label = \" TRAIN ROC, AUC            = \" + str(roc_auc_score(Y_train,pos_prob_train)))\n",
        "\n",
        "plt.title('ROC')\n",
        "plt.xlabel('FPR')\n",
        "plt.ylabel('TPR')\n",
        "plt.legend()\n",
        "\n",
        "plt.show()"
      ],
      "execution_count": null,
      "outputs": [
        {
          "name": "stdout",
          "output_type": "stream",
          "text": [
            "CPU times: user 3 µs, sys: 1 µs, total: 4 µs\n",
            "Wall time: 6.2 µs\n"
          ]
        },
        {
          "data": {
            "image/png": "[encoded data removed]",
            "text/plain": [
              "<Figure size 720x576 with 1 Axes>"
            ]
          },
          "metadata": {
            "needs_background": "light"
          },
          "output_type": "display_data"
        }
      ]
    },
    {
      "cell_type": "markdown",
      "metadata": {
        "id": "KwGv4REGnr3s"
      },
      "source": [
        "very same ROC comparing to BOW(ngram_range(1,2)"
      ]
    },
    {
      "cell_type": "code",
      "metadata": {
        "colab": {
          "base_uri": "https://localhost:8080/",
          "height": 435
        },
        "id": "xULRHz48yBJw",
        "outputId": "74aca965-8bbc-4c6a-bbbe-cf5ae1757577"
      },
      "source": [
        "plot_confusionMatrix(0.512,tf_idf_X_train,tf_idf_X_test,Y_train,Y_test)"
      ],
      "execution_count": null,
      "outputs": [
        {
          "name": "stdout",
          "output_type": "stream",
          "text": [
            "              precision    recall  f1-score   support\n",
            "\n",
            "           0       0.92      0.24      0.39       995\n",
            "           1       0.88      1.00      0.93      5392\n",
            "\n",
            "    accuracy                           0.88      6387\n",
            "   macro avg       0.90      0.62      0.66      6387\n",
            "weighted avg       0.88      0.88      0.85      6387\n",
            "\n"
          ]
        },
        {
          "data": {
            "image/png": "[encoded data removed]",
            "text/plain": [
              "<Figure size 432x288 with 2 Axes>"
            ]
          },
          "metadata": {
            "needs_background": "light"
          },
          "output_type": "display_data"
        }
      ]
    },
    {
      "cell_type": "markdown",
      "metadata": {
        "id": "UnIuANlFn5-h"
      },
      "source": [
        "-ve class\n",
        "\n",
        "*   Precision Improved\n",
        "*   Recall    Improved\n",
        "*   f1 score  Improved\n",
        "\n",
        "+ve class\n",
        "*  precision improved\n",
        "*  Recall is same \n",
        "*  f1 score is same\n",
        "\n",
        "Area Under the Curve of ROC is similar to BOW(ngram_range(1,2))\n"
      ]
    },
    {
      "cell_type": "markdown",
      "metadata": {
        "id": "MUjnVXBEtvz0"
      },
      "source": [
        "<h3> Feature Importance </h3>\n",
        "\n",
        "https://stackoverflow.com/questions/50526898/how-to-get-feature-importance-in-naive-bayes"
      ]
    },
    {
      "cell_type": "code",
      "metadata": {
        "colab": {
          "base_uri": "https://localhost:8080/"
        },
        "id": "uSki1IOUuXjw",
        "outputId": "c981c2ec-3f47-40ee-9372-a90387d34c89"
      },
      "source": [
        "clf = MultinomialNB(alpha = 0.512) # taking optimal Alpha from ngram_range(1,2)\n",
        "\n",
        "clf.fit(tf_idf_X_train,Y_train)\n",
        "\n",
        "features = clf.feature_log_prob_\n",
        "feature_names = vectorizer.get_feature_names()\n",
        "\n",
        "print(\"Features shape \",features.shape)\n",
        "\n",
        "negative_features = features[0]\n",
        "positive_features = features[1]\n",
        "\n",
        "sorted_negative_feature = np.argsort(negative_features)[::-1]\n",
        "sorted_positive_feature = np.argsort(positive_features)[::-1]"
      ],
      "execution_count": null,
      "outputs": [
        {
          "name": "stdout",
          "output_type": "stream",
          "text": [
            "Features shape  (2, 5000)\n"
          ]
        }
      ]
    },
    {
      "cell_type": "code",
      "metadata": {
        "colab": {
          "base_uri": "https://localhost:8080/"
        },
        "id": "g-7KdkuOy0Qc",
        "outputId": "b53d00c9-bedd-4557-a90b-f6fe6b26e50d"
      },
      "source": [
        "print(\"Negative feature top 10 :\")\n",
        "print(\"-\"*30)\n",
        "for i in list(sorted_negative_feature[0:10]):\n",
        "    print(\"%s\\t -->\\t%f  \"%(feature_names[i],negative_features[i]))\n",
        "    \n",
        "print(\"\\n Positive feature top 10 :\")\n",
        "print(\"-\"*30)\n",
        "for i in list(sorted_positive_feature[0:10]):\n",
        "    print(\"%s\\t -->\\t%f  \"%(feature_names[i],positive_features[i]))"
      ],
      "execution_count": null,
      "outputs": [
        {
          "name": "stdout",
          "output_type": "stream",
          "text": [
            "Negative feature top 10 :\n",
            "------------------------------\n",
            "not\t -->\t-4.588775  \n",
            "like\t -->\t-5.444759  \n",
            "would\t -->\t-5.489124  \n",
            "product\t -->\t-5.528021  \n",
            "taste\t -->\t-5.575316  \n",
            "coffee\t -->\t-5.910892  \n",
            "one\t -->\t-5.913113  \n",
            "no\t -->\t-5.987873  \n",
            "flavor\t -->\t-6.013967  \n",
            "even\t -->\t-6.056274  \n",
            "\n",
            " Positive feature top 10 :\n",
            "------------------------------\n",
            "not\t -->\t-4.968811  \n",
            "great\t -->\t-5.275102  \n",
            "good\t -->\t-5.361271  \n",
            "coffee\t -->\t-5.362972  \n",
            "like\t -->\t-5.391964  \n",
            "love\t -->\t-5.477905  \n",
            "one\t -->\t-5.597446  \n",
            "tea\t -->\t-5.621846  \n",
            "product\t -->\t-5.624947  \n",
            "taste\t -->\t-5.696545  \n"
          ]
        }
      ]
    },
    {
      "cell_type": "markdown",
      "metadata": {
        "id": "H21weXqczeUb"
      },
      "source": [
        "# Conclusions"
      ]
    },
    {
      "cell_type": "code",
      "metadata": {
        "colab": {
          "base_uri": "https://localhost:8080/"
        },
        "id": "7pQnwpikzg36",
        "outputId": "9a0797c4-2deb-4d99-cf36-399b6bb31df6"
      },
      "source": [
        "from prettytable import PrettyTable    \n",
        "\n",
        "x = PrettyTable()\n",
        "\n",
        "x.field_names = [\"Vectorizer\",\"ngram_range\", \"Hyperameter(alpha)\",\"AUC\"]\n",
        "\n",
        "x.add_row( [\"BOW\",(1,1),2.048,0.911] )\n",
        "x.add_row( [\"BOW\",(2,2),2.048,0.911] )\n",
        "\n",
        "x.add_row( [\"BOW\",(1,2),0.512,0.937] )\n",
        "x.add_row( [\"BOW\",(1,3),0.256,0.939] )\n",
        "\n",
        "x.add_row([\"TFIDF\",(1,2),0.512,0.936])\n",
        "\n",
        "print(x)"
      ],
      "execution_count": null,
      "outputs": [
        {
          "name": "stdout",
          "output_type": "stream",
          "text": [
            "+------------+-------------+--------------------+-------+\n",
            "| Vectorizer | ngram_range | Hyperameter(alpha) |  AUC  |\n",
            "+------------+-------------+--------------------+-------+\n",
            "|    BOW     |    (1, 1)   |       2.048        | 0.911 |\n",
            "|    BOW     |    (2, 2)   |       2.048        | 0.911 |\n",
            "|    BOW     |    (1, 2)   |       0.512        | 0.937 |\n",
            "|    BOW     |    (1, 3)   |       0.256        | 0.939 |\n",
            "|   TFIDF    |    (1, 2)   |       0.512        | 0.936 |\n",
            "+------------+-------------+--------------------+-------+\n"
          ]
        }
      ]
    },
    {
      "cell_type": "code",
      "metadata": {
        "id": "noe0-s-fzh5T"
      },
      "source": [
        ""
      ],
      "execution_count": null,
      "outputs": []
    }
  ]
}