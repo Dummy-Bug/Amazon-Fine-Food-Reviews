{
  "cells": [
    {
      "cell_type": "markdown",
      "metadata": {
        "colab_type": "text",
        "id": "view-in-github"
      },
      "source": [
        "<a href=\"https://colab.research.google.com/github/Dummy-Bug/Amazon-Fine-Food-Reviews/blob/master/Amazon_Fine_Food_Reviews_using_KNN_.ipynb\" target=\"_parent\"><img src=\"https://colab.research.google.com/assets/colab-badge.svg\" alt=\"Open In Colab\"/></a>"
      ]
    },
    {
      "cell_type": "code",
      "execution_count": 1,
      "metadata": {
        "id": "PvDdRsHgCAY5"
      },
      "outputs": [
        {
          "name": "stderr",
          "output_type": "stream",
          "text": [
            "C:\\Users\\LAXIT RANA\\Anaconda3\\lib\\site-packages\\gensim\\similarities\\__init__.py:15: UserWarning: The gensim.similarities.levenshtein submodule is disabled, because the optional Levenshtein package <https://pypi.org/project/python-Levenshtein/> is unavailable. Install Levenhstein (e.g. `pip install python-Levenshtein`) to suppress this warning.\n",
            "  warnings.warn(msg)\n"
          ]
        }
      ],
      "source": [
        "%matplotlib inline\n",
        "import warnings\n",
        "warnings.filterwarnings(\"ignore\")\n",
        "\n",
        "\n",
        "\n",
        "import sqlite3\n",
        "import pandas as pd\n",
        "import numpy as np\n",
        "import nltk\n",
        "import string\n",
        "import matplotlib.pyplot as plt\n",
        "import seaborn as sns\n",
        "from sklearn.feature_extraction.text import TfidfTransformer\n",
        "\n",
        "from sklearn.metrics import confusion_matrix\n",
        "from sklearn import metrics\n",
        "from sklearn.metrics import roc_curve, auc\n",
        "from nltk.stem.porter import PorterStemmer\n",
        "\n",
        "import re\n",
        "# Tutorial about Python regular expressions: https://pymotw.com/2/re/\n",
        "import string\n",
        "from nltk.corpus import stopwords\n",
        "from nltk.stem import PorterStemmer\n",
        "from nltk.stem.wordnet import WordNetLemmatizer\n",
        "\n",
        "from gensim.models import KeyedVectors\n",
        "import pickle\n",
        "\n",
        "from tqdm import tqdm\n",
        "import os"
      ]
    },
    {
      "cell_type": "markdown",
      "metadata": {
        "id": "QOI7X2YgCAY_"
      },
      "source": [
        "# [1]. Reading Data"
      ]
    },
    {
      "cell_type": "code",
      "execution_count": null,
      "metadata": {
        "colab": {
          "base_uri": "https://localhost:8080/"
        },
        "id": "VxDPNWYCOQuc",
        "outputId": "c70e3a9b-a313-4127-e795-155502ccef5b"
      },
      "outputs": [
        {
          "name": "stdout",
          "output_type": "stream",
          "text": [
            "Drive already mounted at /content/drive; to attempt to forcibly remount, call drive.mount(\"/content/drive\", force_remount=True).\n"
          ]
        }
      ],
      "source": [
        "from google.colab import drive\n",
        "drive.mount('/content/drive')"
      ]
    },
    {
      "cell_type": "code",
      "execution_count": null,
      "metadata": {
        "colab": {
          "base_uri": "https://localhost:8080/",
          "height": 432
        },
        "id": "3iYH2p1ECAZA",
        "outputId": "1fac67a6-e970-4a6a-c2b3-78e96a5b9c3c"
      },
      "outputs": [
        {
          "name": "stdout",
          "output_type": "stream",
          "text": [
            "Number of data points in our data (20000, 10)\n"
          ]
        },
        {
          "data": {
            "text/html": [
              "<div>\n",
              "<style scoped>\n",
              "    .dataframe tbody tr th:only-of-type {\n",
              "        vertical-align: middle;\n",
              "    }\n",
              "\n",
              "    .dataframe tbody tr th {\n",
              "        vertical-align: top;\n",
              "    }\n",
              "\n",
              "    .dataframe thead th {\n",
              "        text-align: right;\n",
              "    }\n",
              "</style>\n",
              "<table border=\"1\" class=\"dataframe\">\n",
              "  <thead>\n",
              "    <tr style=\"text-align: right;\">\n",
              "      <th></th>\n",
              "      <th>Id</th>\n",
              "      <th>ProductId</th>\n",
              "      <th>UserId</th>\n",
              "      <th>ProfileName</th>\n",
              "      <th>HelpfulnessNumerator</th>\n",
              "      <th>HelpfulnessDenominator</th>\n",
              "      <th>Score</th>\n",
              "      <th>Time</th>\n",
              "      <th>Summary</th>\n",
              "      <th>Text</th>\n",
              "    </tr>\n",
              "  </thead>\n",
              "  <tbody>\n",
              "    <tr>\n",
              "      <th>0</th>\n",
              "      <td>1</td>\n",
              "      <td>B001E4KFG0</td>\n",
              "      <td>A3SGXH7AUHU8GW</td>\n",
              "      <td>delmartian</td>\n",
              "      <td>1</td>\n",
              "      <td>1</td>\n",
              "      <td>5</td>\n",
              "      <td>1303862400</td>\n",
              "      <td>Good Quality Dog Food</td>\n",
              "      <td>I have bought several of the Vitality canned dog food pr...</td>\n",
              "    </tr>\n",
              "    <tr>\n",
              "      <th>1</th>\n",
              "      <td>2</td>\n",
              "      <td>B00813GRG4</td>\n",
              "      <td>A1D87F6ZCVE5NK</td>\n",
              "      <td>dll pa</td>\n",
              "      <td>0</td>\n",
              "      <td>0</td>\n",
              "      <td>1</td>\n",
              "      <td>1346976000</td>\n",
              "      <td>Not as Advertised</td>\n",
              "      <td>Product arrived labeled as Jumbo Salted Peanuts...the pe...</td>\n",
              "    </tr>\n",
              "    <tr>\n",
              "      <th>2</th>\n",
              "      <td>3</td>\n",
              "      <td>B000LQOCH0</td>\n",
              "      <td>ABXLMWJIXXAIN</td>\n",
              "      <td>Natalia Corres \"Natalia Corres\"</td>\n",
              "      <td>1</td>\n",
              "      <td>1</td>\n",
              "      <td>4</td>\n",
              "      <td>1219017600</td>\n",
              "      <td>\"Delight\" says it all</td>\n",
              "      <td>This is a confection that has been around a few centurie...</td>\n",
              "    </tr>\n",
              "    <tr>\n",
              "      <th>3</th>\n",
              "      <td>4</td>\n",
              "      <td>B000UA0QIQ</td>\n",
              "      <td>A395BORC6FGVXV</td>\n",
              "      <td>Karl</td>\n",
              "      <td>3</td>\n",
              "      <td>3</td>\n",
              "      <td>2</td>\n",
              "      <td>1307923200</td>\n",
              "      <td>Cough Medicine</td>\n",
              "      <td>If you are looking for the secret ingredient in Robituss...</td>\n",
              "    </tr>\n",
              "    <tr>\n",
              "      <th>4</th>\n",
              "      <td>5</td>\n",
              "      <td>B006K2ZZ7K</td>\n",
              "      <td>A1UQRSCLF8GW1T</td>\n",
              "      <td>Michael D. Bigham \"M. Wassir\"</td>\n",
              "      <td>0</td>\n",
              "      <td>0</td>\n",
              "      <td>5</td>\n",
              "      <td>1350777600</td>\n",
              "      <td>Great taffy</td>\n",
              "      <td>Great taffy at a great price.  There was a wide assortme...</td>\n",
              "    </tr>\n",
              "  </tbody>\n",
              "</table>\n",
              "</div>"
            ],
            "text/plain": [
              "   Id  ...                                                         Text\n",
              "0   1  ...  I have bought several of the Vitality canned dog food pr...\n",
              "1   2  ...  Product arrived labeled as Jumbo Salted Peanuts...the pe...\n",
              "2   3  ...  This is a confection that has been around a few centurie...\n",
              "3   4  ...  If you are looking for the secret ingredient in Robituss...\n",
              "4   5  ...  Great taffy at a great price.  There was a wide assortme...\n",
              "\n",
              "[5 rows x 10 columns]"
            ]
          },
          "execution_count": 371,
          "metadata": {},
          "output_type": "execute_result"
        }
      ],
      "source": [
        "# using the SQLite Table to read data.\n",
        "con = sqlite3.connect('/content/drive/MyDrive/Data sets/database.sqlite') \n",
        "# filtering only positive and negative reviews i.e. \n",
        "# not taking into consideration those reviews with Score = 3\n",
        "# SELECT * FROM Reviews WHERE Score != 3 LIMIT 500000, will give top 500000 data points\n",
        "# you can change the number to any other number based on your computing power\n",
        "\n",
        "# * for tsne assignment you can take 5k data points *\n",
        "\n",
        "filtered_data = pd.read_sql_query(\"\"\" SELECT * FROM Reviews WHERE Score != 3 limit 20000 \"\"\", con)\n",
        "print(\"Number of data points in our data\", filtered_data.shape)\n",
        "filtered_data.head()\n"
      ]
    },
    {
      "cell_type": "code",
      "execution_count": null,
      "metadata": {
        "colab": {
          "base_uri": "https://localhost:8080/"
        },
        "id": "00_hLLHFHu2I",
        "outputId": "adc75dda-2313-486c-fee5-648584f20ba4"
      },
      "outputs": [
        {
          "data": {
            "text/plain": [
              "5    13745\n",
              "4     3110\n",
              "1     1953\n",
              "2     1192\n",
              "Name: Score, dtype: int64"
            ]
          },
          "execution_count": 372,
          "metadata": {},
          "output_type": "execute_result"
        }
      ],
      "source": [
        "filtered_data['Score'].value_counts()"
      ]
    },
    {
      "cell_type": "markdown",
      "metadata": {
        "id": "M_KaIXnR-AUd"
      },
      "source": [
        "let's make the dataset balanced using Undersampling"
      ]
    },
    {
      "cell_type": "code",
      "execution_count": null,
      "metadata": {
        "colab": {
          "base_uri": "https://localhost:8080/",
          "height": 1000
        },
        "id": "o5dPrgyQDN7s",
        "outputId": "011d3d7b-1d7b-4094-e50a-a27fbada3447"
      },
      "outputs": [
        {
          "name": "stdout",
          "output_type": "stream",
          "text": [
            "Number of data points in our data (20000, 10)\n"
          ]
        },
        {
          "data": {
            "text/html": [
              "<div>\n",
              "<style scoped>\n",
              "    .dataframe tbody tr th:only-of-type {\n",
              "        vertical-align: middle;\n",
              "    }\n",
              "\n",
              "    .dataframe tbody tr th {\n",
              "        vertical-align: top;\n",
              "    }\n",
              "\n",
              "    .dataframe thead th {\n",
              "        text-align: right;\n",
              "    }\n",
              "</style>\n",
              "<table border=\"1\" class=\"dataframe\">\n",
              "  <thead>\n",
              "    <tr style=\"text-align: right;\">\n",
              "      <th></th>\n",
              "      <th>Id</th>\n",
              "      <th>ProductId</th>\n",
              "      <th>UserId</th>\n",
              "      <th>ProfileName</th>\n",
              "      <th>HelpfulnessNumerator</th>\n",
              "      <th>HelpfulnessDenominator</th>\n",
              "      <th>Score</th>\n",
              "      <th>Time</th>\n",
              "      <th>Summary</th>\n",
              "      <th>Text</th>\n",
              "    </tr>\n",
              "  </thead>\n",
              "  <tbody>\n",
              "    <tr>\n",
              "      <th>0</th>\n",
              "      <td>1</td>\n",
              "      <td>B001E4KFG0</td>\n",
              "      <td>A3SGXH7AUHU8GW</td>\n",
              "      <td>delmartian</td>\n",
              "      <td>1</td>\n",
              "      <td>1</td>\n",
              "      <td>1</td>\n",
              "      <td>1303862400</td>\n",
              "      <td>Good Quality Dog Food</td>\n",
              "      <td>I have bought several of the Vitality canned dog food pr...</td>\n",
              "    </tr>\n",
              "    <tr>\n",
              "      <th>1</th>\n",
              "      <td>2</td>\n",
              "      <td>B00813GRG4</td>\n",
              "      <td>A1D87F6ZCVE5NK</td>\n",
              "      <td>dll pa</td>\n",
              "      <td>0</td>\n",
              "      <td>0</td>\n",
              "      <td>0</td>\n",
              "      <td>1346976000</td>\n",
              "      <td>Not as Advertised</td>\n",
              "      <td>Product arrived labeled as Jumbo Salted Peanuts...the pe...</td>\n",
              "    </tr>\n",
              "    <tr>\n",
              "      <th>2</th>\n",
              "      <td>3</td>\n",
              "      <td>B000LQOCH0</td>\n",
              "      <td>ABXLMWJIXXAIN</td>\n",
              "      <td>Natalia Corres \"Natalia Corres\"</td>\n",
              "      <td>1</td>\n",
              "      <td>1</td>\n",
              "      <td>1</td>\n",
              "      <td>1219017600</td>\n",
              "      <td>\"Delight\" says it all</td>\n",
              "      <td>This is a confection that has been around a few centurie...</td>\n",
              "    </tr>\n",
              "    <tr>\n",
              "      <th>3</th>\n",
              "      <td>4</td>\n",
              "      <td>B000UA0QIQ</td>\n",
              "      <td>A395BORC6FGVXV</td>\n",
              "      <td>Karl</td>\n",
              "      <td>3</td>\n",
              "      <td>3</td>\n",
              "      <td>0</td>\n",
              "      <td>1307923200</td>\n",
              "      <td>Cough Medicine</td>\n",
              "      <td>If you are looking for the secret ingredient in Robituss...</td>\n",
              "    </tr>\n",
              "    <tr>\n",
              "      <th>4</th>\n",
              "      <td>5</td>\n",
              "      <td>B006K2ZZ7K</td>\n",
              "      <td>A1UQRSCLF8GW1T</td>\n",
              "      <td>Michael D. Bigham \"M. Wassir\"</td>\n",
              "      <td>0</td>\n",
              "      <td>0</td>\n",
              "      <td>1</td>\n",
              "      <td>1350777600</td>\n",
              "      <td>Great taffy</td>\n",
              "      <td>Great taffy at a great price.  There was a wide assortme...</td>\n",
              "    </tr>\n",
              "    <tr>\n",
              "      <th>...</th>\n",
              "      <td>...</td>\n",
              "      <td>...</td>\n",
              "      <td>...</td>\n",
              "      <td>...</td>\n",
              "      <td>...</td>\n",
              "      <td>...</td>\n",
              "      <td>...</td>\n",
              "      <td>...</td>\n",
              "      <td>...</td>\n",
              "      <td>...</td>\n",
              "    </tr>\n",
              "    <tr>\n",
              "      <th>19995</th>\n",
              "      <td>21784</td>\n",
              "      <td>B000KV61FC</td>\n",
              "      <td>A3FVKI0UH9DO2A</td>\n",
              "      <td>S. Malosh</td>\n",
              "      <td>1</td>\n",
              "      <td>1</td>\n",
              "      <td>1</td>\n",
              "      <td>1319414400</td>\n",
              "      <td>Occupies my dog for hours!</td>\n",
              "      <td>My 5-month-old Black Lab/Boston Terrier mix is a very cu...</td>\n",
              "    </tr>\n",
              "    <tr>\n",
              "      <th>19996</th>\n",
              "      <td>21785</td>\n",
              "      <td>B000KV61FC</td>\n",
              "      <td>A3ACVJEAM4L2LQ</td>\n",
              "      <td>Elb</td>\n",
              "      <td>1</td>\n",
              "      <td>1</td>\n",
              "      <td>1</td>\n",
              "      <td>1319155200</td>\n",
              "      <td>Keeps my big Dog busy for a long time!</td>\n",
              "      <td>My Doberman/pointer mix has a lot of extra energy and re...</td>\n",
              "    </tr>\n",
              "    <tr>\n",
              "      <th>19997</th>\n",
              "      <td>21786</td>\n",
              "      <td>B000KV61FC</td>\n",
              "      <td>AHHWZ4723VGOL</td>\n",
              "      <td>Sherry Lynn</td>\n",
              "      <td>1</td>\n",
              "      <td>1</td>\n",
              "      <td>0</td>\n",
              "      <td>1318809600</td>\n",
              "      <td>poor quality !!!!</td>\n",
              "      <td>This is a poor excuse for a dog toy . It lasted all of t...</td>\n",
              "    </tr>\n",
              "    <tr>\n",
              "      <th>19998</th>\n",
              "      <td>21787</td>\n",
              "      <td>B000KV61FC</td>\n",
              "      <td>A2O4CZ102I8Q2K</td>\n",
              "      <td>jus42day</td>\n",
              "      <td>1</td>\n",
              "      <td>1</td>\n",
              "      <td>1</td>\n",
              "      <td>1316649600</td>\n",
              "      <td>Great Product.</td>\n",
              "      <td>I bought this item unsure if my dogs would like it. Not ...</td>\n",
              "    </tr>\n",
              "    <tr>\n",
              "      <th>19999</th>\n",
              "      <td>21788</td>\n",
              "      <td>B000KV61FC</td>\n",
              "      <td>A3I4GCI6XTX1BB</td>\n",
              "      <td>Eric C. Vizinas \"Q\"</td>\n",
              "      <td>1</td>\n",
              "      <td>1</td>\n",
              "      <td>1</td>\n",
              "      <td>1316563200</td>\n",
              "      <td>This made ALL the difference</td>\n",
              "      <td>I've got a dog who gets bored while I'm away and in a la...</td>\n",
              "    </tr>\n",
              "  </tbody>\n",
              "</table>\n",
              "<p>20000 rows × 10 columns</p>\n",
              "</div>"
            ],
            "text/plain": [
              "          Id  ...                                                         Text\n",
              "0          1  ...  I have bought several of the Vitality canned dog food pr...\n",
              "1          2  ...  Product arrived labeled as Jumbo Salted Peanuts...the pe...\n",
              "2          3  ...  This is a confection that has been around a few centurie...\n",
              "3          4  ...  If you are looking for the secret ingredient in Robituss...\n",
              "4          5  ...  Great taffy at a great price.  There was a wide assortme...\n",
              "...      ...  ...                                                          ...\n",
              "19995  21784  ...  My 5-month-old Black Lab/Boston Terrier mix is a very cu...\n",
              "19996  21785  ...  My Doberman/pointer mix has a lot of extra energy and re...\n",
              "19997  21786  ...  This is a poor excuse for a dog toy . It lasted all of t...\n",
              "19998  21787  ...  I bought this item unsure if my dogs would like it. Not ...\n",
              "19999  21788  ...  I've got a dog who gets bored while I'm away and in a la...\n",
              "\n",
              "[20000 rows x 10 columns]"
            ]
          },
          "execution_count": 373,
          "metadata": {},
          "output_type": "execute_result"
        }
      ],
      "source": [
        "# Give reviews with Score>3 a positive rating, and reviews with a score<3 a negative rating.\n",
        "def partition(x):\n",
        "    if x < 3:\n",
        "        return 0 # 0 here means negative review\n",
        "    return 1 # it means review is positive\n",
        "\n",
        "# changing reviews with score less than 3 to be positive and vice-versa\n",
        "\n",
        "actualScore = filtered_data['Score']\n",
        "positiveNegative = actualScore.apply(partition) # we can use .apply() also but .map is preffered for series\n",
        "filtered_data['Score'] = positiveNegative\n",
        "\n",
        "print(\"Number of data points in our data\", filtered_data.shape)\n",
        "filtered_data"
      ]
    },
    {
      "cell_type": "code",
      "execution_count": null,
      "metadata": {
        "colab": {
          "base_uri": "https://localhost:8080/"
        },
        "id": "rxAfSEqxHS9M",
        "outputId": "d05a8aa8-d122-4f6f-b9a7-3004d1c598d1"
      },
      "outputs": [
        {
          "data": {
            "text/plain": [
              "1    16855\n",
              "0     3145\n",
              "Name: Score, dtype: int64"
            ]
          },
          "execution_count": 374,
          "metadata": {},
          "output_type": "execute_result"
        }
      ],
      "source": [
        "filtered_data[\"Score\"].value_counts()"
      ]
    },
    {
      "cell_type": "code",
      "execution_count": null,
      "metadata": {
        "id": "I1jf03kECAZF"
      },
      "outputs": [],
      "source": [
        "display = pd.read_sql_query(\"\"\"\n",
        "SELECT UserId, ProductId, ProfileName, Time, Score, Text, COUNT(*)\n",
        "FROM Reviews\n",
        "GROUP BY UserId\n",
        "HAVING COUNT(*)>1\n",
        "\"\"\", con) # selecting the reviews from only those users who have reviewed more than one products. "
      ]
    },
    {
      "cell_type": "code",
      "execution_count": null,
      "metadata": {
        "colab": {
          "base_uri": "https://localhost:8080/",
          "height": 223
        },
        "id": "Ja8xSefOCAZH",
        "outputId": "727ae28b-b1c7-4784-cb27-acb5a3630ec5"
      },
      "outputs": [
        {
          "name": "stdout",
          "output_type": "stream",
          "text": [
            "(80668, 7)\n"
          ]
        },
        {
          "data": {
            "text/html": [
              "<div>\n",
              "<style scoped>\n",
              "    .dataframe tbody tr th:only-of-type {\n",
              "        vertical-align: middle;\n",
              "    }\n",
              "\n",
              "    .dataframe tbody tr th {\n",
              "        vertical-align: top;\n",
              "    }\n",
              "\n",
              "    .dataframe thead th {\n",
              "        text-align: right;\n",
              "    }\n",
              "</style>\n",
              "<table border=\"1\" class=\"dataframe\">\n",
              "  <thead>\n",
              "    <tr style=\"text-align: right;\">\n",
              "      <th></th>\n",
              "      <th>UserId</th>\n",
              "      <th>ProductId</th>\n",
              "      <th>ProfileName</th>\n",
              "      <th>Time</th>\n",
              "      <th>Score</th>\n",
              "      <th>Text</th>\n",
              "      <th>COUNT(*)</th>\n",
              "    </tr>\n",
              "  </thead>\n",
              "  <tbody>\n",
              "    <tr>\n",
              "      <th>0</th>\n",
              "      <td>#oc-R115TNMSPFT9I7</td>\n",
              "      <td>B007Y59HVM</td>\n",
              "      <td>Breyton</td>\n",
              "      <td>1331510400</td>\n",
              "      <td>2</td>\n",
              "      <td>Overall its just OK when considering the price of other ...</td>\n",
              "      <td>2</td>\n",
              "    </tr>\n",
              "    <tr>\n",
              "      <th>1</th>\n",
              "      <td>#oc-R11D9D7SHXIJB9</td>\n",
              "      <td>B005HG9ET0</td>\n",
              "      <td>Louis E. Emory \"hoppy\"</td>\n",
              "      <td>1342396800</td>\n",
              "      <td>5</td>\n",
              "      <td>My wife has recurring extreme muscle spasms, usually lat...</td>\n",
              "      <td>3</td>\n",
              "    </tr>\n",
              "    <tr>\n",
              "      <th>2</th>\n",
              "      <td>#oc-R11DNU2NBKQ23Z</td>\n",
              "      <td>B007Y59HVM</td>\n",
              "      <td>Kim Cieszykowski</td>\n",
              "      <td>1348531200</td>\n",
              "      <td>1</td>\n",
              "      <td>This coffee is horrible and unfortunately not eligible f...</td>\n",
              "      <td>2</td>\n",
              "    </tr>\n",
              "    <tr>\n",
              "      <th>3</th>\n",
              "      <td>#oc-R11O5J5ZVQE25C</td>\n",
              "      <td>B005HG9ET0</td>\n",
              "      <td>Penguin Chick</td>\n",
              "      <td>1346889600</td>\n",
              "      <td>5</td>\n",
              "      <td>This will be the bottle that you grab from the fridge if...</td>\n",
              "      <td>3</td>\n",
              "    </tr>\n",
              "    <tr>\n",
              "      <th>4</th>\n",
              "      <td>#oc-R12KPBODL2B5ZD</td>\n",
              "      <td>B007OSBE1U</td>\n",
              "      <td>Christopher P. Presta</td>\n",
              "      <td>1348617600</td>\n",
              "      <td>1</td>\n",
              "      <td>I didnt like this coffee. Instead of telling you why I d...</td>\n",
              "      <td>2</td>\n",
              "    </tr>\n",
              "  </tbody>\n",
              "</table>\n",
              "</div>"
            ],
            "text/plain": [
              "               UserId  ... COUNT(*)\n",
              "0  #oc-R115TNMSPFT9I7  ...        2\n",
              "1  #oc-R11D9D7SHXIJB9  ...        3\n",
              "2  #oc-R11DNU2NBKQ23Z  ...        2\n",
              "3  #oc-R11O5J5ZVQE25C  ...        3\n",
              "4  #oc-R12KPBODL2B5ZD  ...        2\n",
              "\n",
              "[5 rows x 7 columns]"
            ]
          },
          "execution_count": 376,
          "metadata": {},
          "output_type": "execute_result"
        }
      ],
      "source": [
        "print(display.shape)\n",
        "display.head()"
      ]
    },
    {
      "cell_type": "code",
      "execution_count": null,
      "metadata": {
        "colab": {
          "base_uri": "https://localhost:8080/",
          "height": 519
        },
        "id": "o5Xl_-kQMvij",
        "outputId": "f064d108-4dc0-4f19-ad04-bd4a05ac59c7"
      },
      "outputs": [
        {
          "data": {
            "text/html": [
              "<div>\n",
              "<style scoped>\n",
              "    .dataframe tbody tr th:only-of-type {\n",
              "        vertical-align: middle;\n",
              "    }\n",
              "\n",
              "    .dataframe tbody tr th {\n",
              "        vertical-align: top;\n",
              "    }\n",
              "\n",
              "    .dataframe thead th {\n",
              "        text-align: right;\n",
              "    }\n",
              "</style>\n",
              "<table border=\"1\" class=\"dataframe\">\n",
              "  <thead>\n",
              "    <tr style=\"text-align: right;\">\n",
              "      <th></th>\n",
              "      <th>Id</th>\n",
              "      <th>ProductId</th>\n",
              "      <th>UserId</th>\n",
              "      <th>ProfileName</th>\n",
              "      <th>HelpfulnessNumerator</th>\n",
              "      <th>HelpfulnessDenominator</th>\n",
              "      <th>Score</th>\n",
              "      <th>Time</th>\n",
              "      <th>Summary</th>\n",
              "      <th>Text</th>\n",
              "    </tr>\n",
              "  </thead>\n",
              "  <tbody>\n",
              "    <tr>\n",
              "      <th>0</th>\n",
              "      <td>35174</td>\n",
              "      <td>B001ATMQK2</td>\n",
              "      <td>AZY10LLTJ71NX</td>\n",
              "      <td>undertheshrine \"undertheshrine\"</td>\n",
              "      <td>1</td>\n",
              "      <td>1</td>\n",
              "      <td>5</td>\n",
              "      <td>1296691200</td>\n",
              "      <td>Have you seen how much Ranch 99 is trying to charge!!</td>\n",
              "      <td>I bought this 6 pack because for the price that my local...</td>\n",
              "    </tr>\n",
              "    <tr>\n",
              "      <th>1</th>\n",
              "      <td>332195</td>\n",
              "      <td>B001P7AXXG</td>\n",
              "      <td>AZY10LLTJ71NX</td>\n",
              "      <td>undertheshrine \"undertheshrine\"</td>\n",
              "      <td>1</td>\n",
              "      <td>1</td>\n",
              "      <td>5</td>\n",
              "      <td>1303776000</td>\n",
              "      <td>BEST MICROWAVE POPCORN EVER!!!!</td>\n",
              "      <td>This popcorn is probably the best microwave popcorn you ...</td>\n",
              "    </tr>\n",
              "    <tr>\n",
              "      <th>2</th>\n",
              "      <td>333057</td>\n",
              "      <td>B000MYW2ZA</td>\n",
              "      <td>AZY10LLTJ71NX</td>\n",
              "      <td>undertheshrine \"undertheshrine\"</td>\n",
              "      <td>0</td>\n",
              "      <td>0</td>\n",
              "      <td>5</td>\n",
              "      <td>1334707200</td>\n",
              "      <td>works for me.  lost 10-15 pounds my first month</td>\n",
              "      <td>I was recommended to try green tea extract to lose weigh...</td>\n",
              "    </tr>\n",
              "    <tr>\n",
              "      <th>3</th>\n",
              "      <td>340773</td>\n",
              "      <td>B0043CVIBG</td>\n",
              "      <td>AZY10LLTJ71NX</td>\n",
              "      <td>undertheshrine \"undertheshrine\"</td>\n",
              "      <td>4</td>\n",
              "      <td>4</td>\n",
              "      <td>5</td>\n",
              "      <td>1303776000</td>\n",
              "      <td>girl scout thin mint in disguise</td>\n",
              "      <td>if you love thin mint cookies that the girl scouts sell,...</td>\n",
              "    </tr>\n",
              "    <tr>\n",
              "      <th>4</th>\n",
              "      <td>404703</td>\n",
              "      <td>B006P7E5ZI</td>\n",
              "      <td>AZY10LLTJ71NX</td>\n",
              "      <td>undertheshrine \"undertheshrine\"</td>\n",
              "      <td>0</td>\n",
              "      <td>0</td>\n",
              "      <td>5</td>\n",
              "      <td>1334707200</td>\n",
              "      <td>works for me.  lost 10-15 pounds my first month</td>\n",
              "      <td>I was recommended to try green tea extract to lose weigh...</td>\n",
              "    </tr>\n",
              "  </tbody>\n",
              "</table>\n",
              "</div>"
            ],
            "text/plain": [
              "       Id  ...                                                         Text\n",
              "0   35174  ...  I bought this 6 pack because for the price that my local...\n",
              "1  332195  ...  This popcorn is probably the best microwave popcorn you ...\n",
              "2  333057  ...  I was recommended to try green tea extract to lose weigh...\n",
              "3  340773  ...  if you love thin mint cookies that the girl scouts sell,...\n",
              "4  404703  ...  I was recommended to try green tea extract to lose weigh...\n",
              "\n",
              "[5 rows x 10 columns]"
            ]
          },
          "execution_count": 377,
          "metadata": {},
          "output_type": "execute_result"
        }
      ],
      "source": [
        "data = pd.read_sql_query(\"\"\"\n",
        "SELECT *\n",
        "FROM Reviews\n",
        "where UserId = 'AZY10LLTJ71NX'\n",
        "\"\"\", con) # selecting all the reviews posted by User\n",
        "\n",
        "data"
      ]
    },
    {
      "cell_type": "code",
      "execution_count": null,
      "metadata": {
        "colab": {
          "base_uri": "https://localhost:8080/",
          "height": 81
        },
        "id": "GXL9rYxVM9FK",
        "outputId": "0018ec3f-3a36-4958-a1f7-0e3dad0ae53d"
      },
      "outputs": [
        {
          "data": {
            "text/html": [
              "<div>\n",
              "<style scoped>\n",
              "    .dataframe tbody tr th:only-of-type {\n",
              "        vertical-align: middle;\n",
              "    }\n",
              "\n",
              "    .dataframe tbody tr th {\n",
              "        vertical-align: top;\n",
              "    }\n",
              "\n",
              "    .dataframe thead th {\n",
              "        text-align: right;\n",
              "    }\n",
              "</style>\n",
              "<table border=\"1\" class=\"dataframe\">\n",
              "  <thead>\n",
              "    <tr style=\"text-align: right;\">\n",
              "      <th></th>\n",
              "      <th>count(*)</th>\n",
              "    </tr>\n",
              "  </thead>\n",
              "  <tbody>\n",
              "    <tr>\n",
              "      <th>0</th>\n",
              "      <td>5</td>\n",
              "    </tr>\n",
              "  </tbody>\n",
              "</table>\n",
              "</div>"
            ],
            "text/plain": [
              "   count(*)\n",
              "0         5"
            ]
          },
          "execution_count": 378,
          "metadata": {},
          "output_type": "execute_result"
        }
      ],
      "source": [
        "data = pd.read_sql_query(\"\"\"\n",
        "SELECT count(*)\n",
        "FROM Reviews\n",
        "where UserId = 'AZY10LLTJ71NX'\n",
        "\"\"\", con) # selecting all the reviews posted by User\n",
        "\n",
        "data  # it will count all the reviews "
      ]
    },
    {
      "cell_type": "code",
      "execution_count": null,
      "metadata": {
        "colab": {
          "base_uri": "https://localhost:8080/",
          "height": 81
        },
        "id": "u5ctUTW-CAZK",
        "outputId": "7a099bb0-cbd8-4361-fcaf-356c3ef25565"
      },
      "outputs": [
        {
          "data": {
            "text/html": [
              "<div>\n",
              "<style scoped>\n",
              "    .dataframe tbody tr th:only-of-type {\n",
              "        vertical-align: middle;\n",
              "    }\n",
              "\n",
              "    .dataframe tbody tr th {\n",
              "        vertical-align: top;\n",
              "    }\n",
              "\n",
              "    .dataframe thead th {\n",
              "        text-align: right;\n",
              "    }\n",
              "</style>\n",
              "<table border=\"1\" class=\"dataframe\">\n",
              "  <thead>\n",
              "    <tr style=\"text-align: right;\">\n",
              "      <th></th>\n",
              "      <th>UserId</th>\n",
              "      <th>ProductId</th>\n",
              "      <th>ProfileName</th>\n",
              "      <th>Time</th>\n",
              "      <th>Score</th>\n",
              "      <th>Text</th>\n",
              "      <th>COUNT(*)</th>\n",
              "    </tr>\n",
              "  </thead>\n",
              "  <tbody>\n",
              "    <tr>\n",
              "      <th>80638</th>\n",
              "      <td>AZY10LLTJ71NX</td>\n",
              "      <td>B006P7E5ZI</td>\n",
              "      <td>undertheshrine \"undertheshrine\"</td>\n",
              "      <td>1334707200</td>\n",
              "      <td>5</td>\n",
              "      <td>I was recommended to try green tea extract to lose weigh...</td>\n",
              "      <td>5</td>\n",
              "    </tr>\n",
              "  </tbody>\n",
              "</table>\n",
              "</div>"
            ],
            "text/plain": [
              "              UserId  ... COUNT(*)\n",
              "80638  AZY10LLTJ71NX  ...        5\n",
              "\n",
              "[1 rows x 7 columns]"
            ]
          },
          "execution_count": 379,
          "metadata": {},
          "output_type": "execute_result"
        }
      ],
      "source": [
        "display[display['UserId']=='AZY10LLTJ71NX']"
      ]
    },
    {
      "cell_type": "code",
      "execution_count": null,
      "metadata": {
        "colab": {
          "base_uri": "https://localhost:8080/"
        },
        "id": "JsxAxA8BcdF9",
        "outputId": "ddf6f18d-8537-4aa3-8443-959a82ad4cba"
      },
      "outputs": [
        {
          "data": {
            "text/plain": [
              "80638    I was recommended to try green tea extract to lose weigh...\n",
              "Name: Text, dtype: object"
            ]
          },
          "execution_count": 380,
          "metadata": {},
          "output_type": "execute_result"
        }
      ],
      "source": [
        "display[display['UserId']=='AZY10LLTJ71NX']['Text']"
      ]
    },
    {
      "cell_type": "markdown",
      "metadata": {
        "id": "4Sb6wVUzdHo-"
      },
      "source": [
        "https://stackoverflow.com/questions/25351968/how-can-i-display-full-non-truncated-dataframe-information-in-html-when-conver"
      ]
    },
    {
      "cell_type": "code",
      "execution_count": null,
      "metadata": {
        "colab": {
          "base_uri": "https://localhost:8080/"
        },
        "id": "zwyhnd5Tc7JF",
        "outputId": "40889999-d176-477b-f5fc-56acbd90bb44"
      },
      "outputs": [
        {
          "data": {
            "text/plain": [
              "80638    I was recommended to try green tea extract to lose weight.  my first month I lost 10-15lbs.  I will continue taking these to see how well they work in the long term.\n",
              "Name: Text, dtype: object"
            ]
          },
          "execution_count": 381,
          "metadata": {},
          "output_type": "execute_result"
        }
      ],
      "source": [
        "pd.set_option('display.max_colwidth', None) # to view the whoole text.\n",
        "display[display['UserId']=='AZY10LLTJ71NX']['Text']"
      ]
    },
    {
      "cell_type": "code",
      "execution_count": null,
      "metadata": {
        "colab": {
          "base_uri": "https://localhost:8080/"
        },
        "id": "tiaXnkZxCAZO",
        "outputId": "c6a7f40b-151f-4048-e772-699b80a1f068"
      },
      "outputs": [
        {
          "data": {
            "text/plain": [
              "393063"
            ]
          },
          "execution_count": 382,
          "metadata": {},
          "output_type": "execute_result"
        }
      ],
      "source": [
        "display['COUNT(*)'].sum() # Number of Unique review givers."
      ]
    },
    {
      "cell_type": "markdown",
      "metadata": {
        "id": "TX5b3dc5CAZS"
      },
      "source": [
        "#  Exploratory Data Analysis\n",
        "\n",
        "## [2] Data Cleaning: Deduplication\n",
        "\n",
        "It is observed (as shown in the table below) that the reviews data had many duplicate entries. Hence it was necessary to remove duplicates in order to get unbiased results for the analysis of the data.  Following is an example:"
      ]
    },
    {
      "cell_type": "code",
      "execution_count": null,
      "metadata": {
        "colab": {
          "base_uri": "https://localhost:8080/",
          "height": 900
        },
        "id": "4jW_0WxCCAZT",
        "outputId": "facf7181-7bc8-4c3c-a8a5-ccdce2af0a13",
        "scrolled": false
      },
      "outputs": [
        {
          "data": {
            "text/html": [
              "<div>\n",
              "<style scoped>\n",
              "    .dataframe tbody tr th:only-of-type {\n",
              "        vertical-align: middle;\n",
              "    }\n",
              "\n",
              "    .dataframe tbody tr th {\n",
              "        vertical-align: top;\n",
              "    }\n",
              "\n",
              "    .dataframe thead th {\n",
              "        text-align: right;\n",
              "    }\n",
              "</style>\n",
              "<table border=\"1\" class=\"dataframe\">\n",
              "  <thead>\n",
              "    <tr style=\"text-align: right;\">\n",
              "      <th></th>\n",
              "      <th>Id</th>\n",
              "      <th>ProductId</th>\n",
              "      <th>UserId</th>\n",
              "      <th>ProfileName</th>\n",
              "      <th>HelpfulnessNumerator</th>\n",
              "      <th>HelpfulnessDenominator</th>\n",
              "      <th>Score</th>\n",
              "      <th>Time</th>\n",
              "      <th>Summary</th>\n",
              "      <th>Text</th>\n",
              "    </tr>\n",
              "  </thead>\n",
              "  <tbody>\n",
              "    <tr>\n",
              "      <th>0</th>\n",
              "      <td>78445</td>\n",
              "      <td>B000HDL1RQ</td>\n",
              "      <td>AR5J8UI46CURR</td>\n",
              "      <td>Geetha Krishnan</td>\n",
              "      <td>2</td>\n",
              "      <td>2</td>\n",
              "      <td>5</td>\n",
              "      <td>1199577600</td>\n",
              "      <td>LOACKER QUADRATINI VANILLA WAFERS</td>\n",
              "      <td>DELICIOUS WAFERS. I FIND THAT EUROPEAN WAFERS ARE LESS SWEET ( LESS SUGAR AND CARBOHYDRATES) BUT VERY DELECTABLE.</td>\n",
              "    </tr>\n",
              "    <tr>\n",
              "      <th>1</th>\n",
              "      <td>138317</td>\n",
              "      <td>B000HDOPYC</td>\n",
              "      <td>AR5J8UI46CURR</td>\n",
              "      <td>Geetha Krishnan</td>\n",
              "      <td>2</td>\n",
              "      <td>2</td>\n",
              "      <td>5</td>\n",
              "      <td>1199577600</td>\n",
              "      <td>LOACKER QUADRATINI VANILLA WAFERS</td>\n",
              "      <td>DELICIOUS WAFERS. I FIND THAT EUROPEAN WAFERS ARE LESS SWEET ( LESS SUGAR AND CARBOHYDRATES) BUT VERY DELECTABLE.</td>\n",
              "    </tr>\n",
              "    <tr>\n",
              "      <th>2</th>\n",
              "      <td>138277</td>\n",
              "      <td>B000HDOPYM</td>\n",
              "      <td>AR5J8UI46CURR</td>\n",
              "      <td>Geetha Krishnan</td>\n",
              "      <td>2</td>\n",
              "      <td>2</td>\n",
              "      <td>5</td>\n",
              "      <td>1199577600</td>\n",
              "      <td>LOACKER QUADRATINI VANILLA WAFERS</td>\n",
              "      <td>DELICIOUS WAFERS. I FIND THAT EUROPEAN WAFERS ARE LESS SWEET ( LESS SUGAR AND CARBOHYDRATES) BUT VERY DELECTABLE.</td>\n",
              "    </tr>\n",
              "    <tr>\n",
              "      <th>3</th>\n",
              "      <td>73791</td>\n",
              "      <td>B000HDOPZG</td>\n",
              "      <td>AR5J8UI46CURR</td>\n",
              "      <td>Geetha Krishnan</td>\n",
              "      <td>2</td>\n",
              "      <td>2</td>\n",
              "      <td>5</td>\n",
              "      <td>1199577600</td>\n",
              "      <td>LOACKER QUADRATINI VANILLA WAFERS</td>\n",
              "      <td>DELICIOUS WAFERS. I FIND THAT EUROPEAN WAFERS ARE LESS SWEET ( LESS SUGAR AND CARBOHYDRATES) BUT VERY DELECTABLE.</td>\n",
              "    </tr>\n",
              "    <tr>\n",
              "      <th>4</th>\n",
              "      <td>155049</td>\n",
              "      <td>B000PAQ75C</td>\n",
              "      <td>AR5J8UI46CURR</td>\n",
              "      <td>Geetha Krishnan</td>\n",
              "      <td>2</td>\n",
              "      <td>2</td>\n",
              "      <td>5</td>\n",
              "      <td>1199577600</td>\n",
              "      <td>LOACKER QUADRATINI VANILLA WAFERS</td>\n",
              "      <td>DELICIOUS WAFERS. I FIND THAT EUROPEAN WAFERS ARE LESS SWEET ( LESS SUGAR AND CARBOHYDRATES) BUT VERY DELECTABLE.</td>\n",
              "    </tr>\n",
              "  </tbody>\n",
              "</table>\n",
              "</div>"
            ],
            "text/plain": [
              "       Id  ...                                                                                                               Text\n",
              "0   78445  ...  DELICIOUS WAFERS. I FIND THAT EUROPEAN WAFERS ARE LESS SWEET ( LESS SUGAR AND CARBOHYDRATES) BUT VERY DELECTABLE.\n",
              "1  138317  ...  DELICIOUS WAFERS. I FIND THAT EUROPEAN WAFERS ARE LESS SWEET ( LESS SUGAR AND CARBOHYDRATES) BUT VERY DELECTABLE.\n",
              "2  138277  ...  DELICIOUS WAFERS. I FIND THAT EUROPEAN WAFERS ARE LESS SWEET ( LESS SUGAR AND CARBOHYDRATES) BUT VERY DELECTABLE.\n",
              "3   73791  ...  DELICIOUS WAFERS. I FIND THAT EUROPEAN WAFERS ARE LESS SWEET ( LESS SUGAR AND CARBOHYDRATES) BUT VERY DELECTABLE.\n",
              "4  155049  ...  DELICIOUS WAFERS. I FIND THAT EUROPEAN WAFERS ARE LESS SWEET ( LESS SUGAR AND CARBOHYDRATES) BUT VERY DELECTABLE.\n",
              "\n",
              "[5 rows x 10 columns]"
            ]
          },
          "execution_count": 383,
          "metadata": {},
          "output_type": "execute_result"
        }
      ],
      "source": [
        "display= pd.read_sql_query(\"\"\"\n",
        "SELECT *\n",
        "FROM Reviews\n",
        "WHERE Score != 3 AND UserId=\"AR5J8UI46CURR\"\n",
        "ORDER BY ProductID\n",
        "\"\"\", con)\n",
        "display.tail()"
      ]
    },
    {
      "cell_type": "markdown",
      "metadata": {
        "id": "BzVTlHiMCAZV"
      },
      "source": [
        "As can be seen above the same user has multiple reviews of the with the same values for HelpfulnessNumerator, HelpfulnessDenominator, Score, Time, Summary and Text  and on doing analysis it was found that <br>\n",
        "<br> \n",
        "ProductId=B000HDOPZG was Loacker Quadratini Vanilla Wafer Cookies, 8.82-Ounce Packages (Pack of 8)<br>\n",
        "<br> \n",
        "ProductId=B000HDL1RQ was Loacker Quadratini Lemon Wafer Cookies, 8.82-Ounce Packages (Pack of 8) and so on<br>\n",
        "\n",
        "It was inferred after analysis that reviews with same parameters other than ProductId belonged to the same product just having different flavour or quantity. Hence in order to reduce redundancy it was decided to eliminate the rows having same parameters.<br>\n",
        "\n",
        "The method used for the same was that we first sort the data according to ProductId and then just keep the first similar product review and delelte the others. for eg. in the above just the review for ProductId=B000HDL1RQ remains. This method ensures that there is only one representative for each product and deduplication without sorting would lead to possibility of different representatives still existing for the same product."
      ]
    },
    {
      "cell_type": "markdown",
      "metadata": {
        "id": "w6R-TGYYRJFq"
      },
      "source": [
        "https://github.com/Dummy-Bug/AI-and-ML/blob/master/Pandas/sort_values_and_sort_index.ipynb"
      ]
    },
    {
      "cell_type": "code",
      "execution_count": null,
      "metadata": {
        "id": "DGy2NM7BCAZX"
      },
      "outputs": [],
      "source": [
        "# Sorting data according to ProductId in ascending order\n",
        "sorted_data = filtered_data.sort_values(by = ['ProductId'], axis=0, ascending=True, inplace=False, kind='quicksort', na_position='last')"
      ]
    },
    {
      "cell_type": "markdown",
      "metadata": {
        "id": "852rVGVWiivG"
      },
      "source": [
        "https://pandas.pydata.org/docs/reference/api/pandas.DataFrame.drop_duplicates.html"
      ]
    },
    {
      "cell_type": "code",
      "execution_count": null,
      "metadata": {
        "colab": {
          "base_uri": "https://localhost:8080/"
        },
        "id": "8b-O13XVCAZZ",
        "outputId": "549e8176-f2c1-4340-8c12-fec9d1f167da"
      },
      "outputs": [
        {
          "data": {
            "text/plain": [
              "(19354, 10)"
            ]
          },
          "execution_count": 385,
          "metadata": {},
          "output_type": "execute_result"
        }
      ],
      "source": [
        "# Deduplication of entries\n",
        "final = sorted_data.drop_duplicates(subset={\"UserId\",\"ProfileName\",\"Time\",\"Text\"}, keep='first', inplace=False)\n",
        "final.shape"
      ]
    },
    {
      "cell_type": "code",
      "execution_count": null,
      "metadata": {
        "colab": {
          "base_uri": "https://localhost:8080/"
        },
        "id": "S72Yh-rHCAZc",
        "outputId": "3b99af1e-d179-446f-ea3b-fd557095fd02"
      },
      "outputs": [
        {
          "data": {
            "text/plain": [
              "96.77"
            ]
          },
          "execution_count": 386,
          "metadata": {},
          "output_type": "execute_result"
        }
      ],
      "source": [
        "# Checking to see how much % of data still remains\n",
        "(final['Id'].size*1.0)/(filtered_data['Id'].size*1.0)*100"
      ]
    },
    {
      "cell_type": "markdown",
      "metadata": {
        "id": "LO5nLKeFCAZf"
      },
      "source": [
        "<b>Observation:-</b> It was also seen that in two rows given below the value of HelpfulnessNumerator is greater than HelpfulnessDenominator which is not practically possible hence these two rows too are removed from calcualtions"
      ]
    },
    {
      "cell_type": "markdown",
      "metadata": {
        "id": "3NdyINqqj6aS"
      },
      "source": [
        "https://towardsdatascience.com/6-pandas-display-options-you-should-memories-84adf8887bc3"
      ]
    },
    {
      "cell_type": "code",
      "execution_count": null,
      "metadata": {
        "colab": {
          "base_uri": "https://localhost:8080/",
          "height": 1000
        },
        "id": "L9z5lrsiCAZh",
        "outputId": "dca3dd3e-89dd-4cf7-c763-a418692051e7"
      },
      "outputs": [
        {
          "data": {
            "text/html": [
              "<div>\n",
              "<style scoped>\n",
              "    .dataframe tbody tr th:only-of-type {\n",
              "        vertical-align: middle;\n",
              "    }\n",
              "\n",
              "    .dataframe tbody tr th {\n",
              "        vertical-align: top;\n",
              "    }\n",
              "\n",
              "    .dataframe thead th {\n",
              "        text-align: right;\n",
              "    }\n",
              "</style>\n",
              "<table border=\"1\" class=\"dataframe\">\n",
              "  <thead>\n",
              "    <tr style=\"text-align: right;\">\n",
              "      <th></th>\n",
              "      <th>Id</th>\n",
              "      <th>ProductId</th>\n",
              "      <th>UserId</th>\n",
              "      <th>ProfileName</th>\n",
              "      <th>HelpfulnessNumerator</th>\n",
              "      <th>HelpfulnessDenominator</th>\n",
              "      <th>Score</th>\n",
              "      <th>Time</th>\n",
              "      <th>Summary</th>\n",
              "      <th>Text</th>\n",
              "    </tr>\n",
              "  </thead>\n",
              "  <tbody>\n",
              "    <tr>\n",
              "      <th>0</th>\n",
              "      <td>64422</td>\n",
              "      <td>B000MIDROQ</td>\n",
              "      <td>A161DK06JJMCYF</td>\n",
              "      <td>J. E. Stephens \"Jeanne\"</td>\n",
              "      <td>3</td>\n",
              "      <td>1</td>\n",
              "      <td>5</td>\n",
              "      <td>1224892800</td>\n",
              "      <td>Bought This for My Son at College</td>\n",
              "      <td>My son loves spaghetti so I didn't hesitate ordering this for him. He says they are great. I have tried them myself and they are delicious. Just open and pop them in the microwave. It is very easy. The best thing about ordering from Amazon grocery is that they deliver to your door. If you have a loved one that lives far away and may have limited transportation this is the answer. Just order what you want them to have and Amazon takes care of the rest.</td>\n",
              "    </tr>\n",
              "    <tr>\n",
              "      <th>1</th>\n",
              "      <td>44737</td>\n",
              "      <td>B001EQ55RW</td>\n",
              "      <td>A2V0I904FH7ABY</td>\n",
              "      <td>Ram</td>\n",
              "      <td>3</td>\n",
              "      <td>2</td>\n",
              "      <td>4</td>\n",
              "      <td>1212883200</td>\n",
              "      <td>Pure cocoa taste with crunchy almonds inside</td>\n",
              "      <td>It was almost a 'love at first bite' - the perfectly roasted almond with a nice thin layer of pure flavorful cocoa on the top.&lt;br /&gt;&lt;br /&gt;You can smell the cocoa as soon as you open the canister - making you want to take a bite.&lt;br /&gt;&lt;br /&gt;You may or may not like the taste of this cocoa roasted almonds depending on your likingness for cocoa.  We are so much used to the taste of chocolate (which is actually cocoa + many other ingredients like milk ...) - that you might have never really tasted really cocoa.&lt;br /&gt;&lt;br /&gt;Tasting this item it like tasting and enjoying flavorful pure raw cocoa with crunchy almonds in the center.  Get yourself a box and see for yourself what real cocoa + almonds is !&lt;br /&gt;&lt;br /&gt;Where this product loses a star is in its packaging - the external sleeve is kind of comes in one piece, so if you try to remove the lid, the external sleeve kind of tends to come off fully - so careful when you are removing the external sleeve for the canister.</td>\n",
              "    </tr>\n",
              "  </tbody>\n",
              "</table>\n",
              "</div>"
            ],
            "text/plain": [
              "      Id  ...                                                                                                                                                                                                                                                                                                                                                                                                                                                                                                                                                                                                                                                                                                                                                                                                                                                                                                                                                                                                              Text\n",
              "0  64422  ...                                                                                                                                                                                                                                                                                                                                                                                                                                                                                                                                           My son loves spaghetti so I didn't hesitate ordering this for him. He says they are great. I have tried them myself and they are delicious. Just open and pop them in the microwave. It is very easy. The best thing about ordering from Amazon grocery is that they deliver to your door. If you have a loved one that lives far away and may have limited transportation this is the answer. Just order what you want them to have and Amazon takes care of the rest.\n",
              "1  44737  ...  It was almost a 'love at first bite' - the perfectly roasted almond with a nice thin layer of pure flavorful cocoa on the top.<br /><br />You can smell the cocoa as soon as you open the canister - making you want to take a bite.<br /><br />You may or may not like the taste of this cocoa roasted almonds depending on your likingness for cocoa.  We are so much used to the taste of chocolate (which is actually cocoa + many other ingredients like milk ...) - that you might have never really tasted really cocoa.<br /><br />Tasting this item it like tasting and enjoying flavorful pure raw cocoa with crunchy almonds in the center.  Get yourself a box and see for yourself what real cocoa + almonds is !<br /><br />Where this product loses a star is in its packaging - the external sleeve is kind of comes in one piece, so if you try to remove the lid, the external sleeve kind of tends to come off fully - so careful when you are removing the external sleeve for the canister.\n",
              "\n",
              "[2 rows x 10 columns]"
            ]
          },
          "execution_count": 387,
          "metadata": {},
          "output_type": "execute_result"
        }
      ],
      "source": [
        "display= pd.read_sql_query(\"\"\"\n",
        "SELECT *\n",
        "FROM Reviews\n",
        "WHERE Score != 3 AND Id=44737 OR Id=64422\n",
        "ORDER BY ProductID\n",
        "\"\"\", con)\n",
        "\n",
        "display.head()"
      ]
    },
    {
      "cell_type": "code",
      "execution_count": null,
      "metadata": {
        "colab": {
          "base_uri": "https://localhost:8080/",
          "height": 216
        },
        "id": "k7_8a5Qnj8q_",
        "outputId": "87ac7b14-0cb2-47f5-fe57-4ea1e78bf985"
      },
      "outputs": [
        {
          "data": {
            "text/html": [
              "<div>\n",
              "<style scoped>\n",
              "    .dataframe tbody tr th:only-of-type {\n",
              "        vertical-align: middle;\n",
              "    }\n",
              "\n",
              "    .dataframe tbody tr th {\n",
              "        vertical-align: top;\n",
              "    }\n",
              "\n",
              "    .dataframe thead th {\n",
              "        text-align: right;\n",
              "    }\n",
              "</style>\n",
              "<table border=\"1\" class=\"dataframe\">\n",
              "  <thead>\n",
              "    <tr style=\"text-align: right;\">\n",
              "      <th></th>\n",
              "      <th>Id</th>\n",
              "      <th>ProductId</th>\n",
              "      <th>UserId</th>\n",
              "      <th>ProfileName</th>\n",
              "      <th>HelpfulnessNumerator</th>\n",
              "      <th>HelpfulnessDenominator</th>\n",
              "      <th>Score</th>\n",
              "      <th>Time</th>\n",
              "      <th>Summary</th>\n",
              "      <th>Text</th>\n",
              "    </tr>\n",
              "  </thead>\n",
              "  <tbody>\n",
              "    <tr>\n",
              "      <th>0</th>\n",
              "      <td>64422</td>\n",
              "      <td>B000MIDROQ</td>\n",
              "      <td>A161DK06JJMCYF</td>\n",
              "      <td>J. E. Stephens \"Jeanne\"</td>\n",
              "      <td>3</td>\n",
              "      <td>1</td>\n",
              "      <td>5</td>\n",
              "      <td>1224892800</td>\n",
              "      <td>Bought This for My Son at College</td>\n",
              "      <td>My son loves spaghetti so I didn't hesitate ordering thi...</td>\n",
              "    </tr>\n",
              "    <tr>\n",
              "      <th>1</th>\n",
              "      <td>44737</td>\n",
              "      <td>B001EQ55RW</td>\n",
              "      <td>A2V0I904FH7ABY</td>\n",
              "      <td>Ram</td>\n",
              "      <td>3</td>\n",
              "      <td>2</td>\n",
              "      <td>4</td>\n",
              "      <td>1212883200</td>\n",
              "      <td>Pure cocoa taste with crunchy almonds inside</td>\n",
              "      <td>It was almost a 'love at first bite' - the perfectly roa...</td>\n",
              "    </tr>\n",
              "  </tbody>\n",
              "</table>\n",
              "</div>"
            ],
            "text/plain": [
              "      Id  ...                                                         Text\n",
              "0  64422  ...  My son loves spaghetti so I didn't hesitate ordering thi...\n",
              "1  44737  ...  It was almost a 'love at first bite' - the perfectly roa...\n",
              "\n",
              "[2 rows x 10 columns]"
            ]
          },
          "execution_count": 388,
          "metadata": {},
          "output_type": "execute_result"
        }
      ],
      "source": [
        "pd.set_option('display.max_colwidth', 60)\n",
        "display= pd.read_sql_query(\"\"\"\n",
        "SELECT *\n",
        "FROM Reviews\n",
        "WHERE Score != 3 AND Id=44737 OR Id=64422\n",
        "ORDER BY ProductID\n",
        "\"\"\", con)\n",
        "\n",
        "display.head()"
      ]
    },
    {
      "cell_type": "code",
      "execution_count": null,
      "metadata": {
        "id": "8Tphk1piCAZk"
      },
      "outputs": [],
      "source": [
        "final = final[final.HelpfulnessNumerator<=final.HelpfulnessDenominator]"
      ]
    },
    {
      "cell_type": "code",
      "execution_count": null,
      "metadata": {
        "colab": {
          "base_uri": "https://localhost:8080/"
        },
        "id": "8TpsGDdJCAZm",
        "outputId": "eabee9f9-fa21-43d0-c550-e50e67c1a2f6"
      },
      "outputs": [
        {
          "name": "stdout",
          "output_type": "stream",
          "text": [
            "(19354, 10)\n"
          ]
        },
        {
          "data": {
            "text/plain": [
              "1    16339\n",
              "0     3015\n",
              "Name: Score, dtype: int64"
            ]
          },
          "execution_count": 390,
          "metadata": {},
          "output_type": "execute_result"
        }
      ],
      "source": [
        "#Before starting the next phase of preprocessing lets see the number of entries left\n",
        "print(final.shape)\n",
        "\n",
        "#How many positive and negative reviews are present in our dataset?\n",
        "final['Score'].value_counts()"
      ]
    },
    {
      "cell_type": "markdown",
      "metadata": {
        "id": "QrFUMBQYek2x"
      },
      "source": [
        "Datset is Highly Imbalanced !!\n",
        "\n",
        "https://machinelearningmastery.com/random-oversampling-and-undersampling-for-imbalanced-classification//\n"
      ]
    },
    {
      "cell_type": "code",
      "execution_count": null,
      "metadata": {
        "colab": {
          "base_uri": "https://localhost:8080/",
          "height": 467
        },
        "id": "RH5h9t_Tdz_T",
        "outputId": "d5040c62-5e99-4974-ab16-28290f90f1ca"
      },
      "outputs": [
        {
          "data": {
            "text/html": [
              "<div>\n",
              "<style scoped>\n",
              "    .dataframe tbody tr th:only-of-type {\n",
              "        vertical-align: middle;\n",
              "    }\n",
              "\n",
              "    .dataframe tbody tr th {\n",
              "        vertical-align: top;\n",
              "    }\n",
              "\n",
              "    .dataframe thead th {\n",
              "        text-align: right;\n",
              "    }\n",
              "</style>\n",
              "<table border=\"1\" class=\"dataframe\">\n",
              "  <thead>\n",
              "    <tr style=\"text-align: right;\">\n",
              "      <th></th>\n",
              "      <th>Id</th>\n",
              "      <th>ProductId</th>\n",
              "      <th>UserId</th>\n",
              "      <th>ProfileName</th>\n",
              "      <th>HelpfulnessNumerator</th>\n",
              "      <th>HelpfulnessDenominator</th>\n",
              "      <th>Score</th>\n",
              "      <th>Time</th>\n",
              "      <th>Summary</th>\n",
              "      <th>Text</th>\n",
              "    </tr>\n",
              "  </thead>\n",
              "  <tbody>\n",
              "    <tr>\n",
              "      <th>2547</th>\n",
              "      <td>2775</td>\n",
              "      <td>B00002NCJC</td>\n",
              "      <td>A13RRPGE79XFFH</td>\n",
              "      <td>reader48</td>\n",
              "      <td>0</td>\n",
              "      <td>0</td>\n",
              "      <td>1</td>\n",
              "      <td>1281052800</td>\n",
              "      <td>Flies Begone</td>\n",
              "      <td>We have used the Victor fly bait for 3 seasons.  Can't b...</td>\n",
              "    </tr>\n",
              "    <tr>\n",
              "      <th>2546</th>\n",
              "      <td>2774</td>\n",
              "      <td>B00002NCJC</td>\n",
              "      <td>A196AJHU9EASJN</td>\n",
              "      <td>Alex Chaffee</td>\n",
              "      <td>0</td>\n",
              "      <td>0</td>\n",
              "      <td>1</td>\n",
              "      <td>1282953600</td>\n",
              "      <td>thirty bucks?</td>\n",
              "      <td>Why is this $[...] when the same product is available fo...</td>\n",
              "    </tr>\n",
              "    <tr>\n",
              "      <th>1146</th>\n",
              "      <td>1245</td>\n",
              "      <td>B00002Z754</td>\n",
              "      <td>A29Z5PI9BW2PU3</td>\n",
              "      <td>Robbie</td>\n",
              "      <td>7</td>\n",
              "      <td>7</td>\n",
              "      <td>1</td>\n",
              "      <td>961718400</td>\n",
              "      <td>Great Product</td>\n",
              "      <td>This was a really good idea and the final product is out...</td>\n",
              "    </tr>\n",
              "    <tr>\n",
              "      <th>1145</th>\n",
              "      <td>1244</td>\n",
              "      <td>B00002Z754</td>\n",
              "      <td>A3B8RCEI0FXFI6</td>\n",
              "      <td>B G Chase</td>\n",
              "      <td>10</td>\n",
              "      <td>10</td>\n",
              "      <td>1</td>\n",
              "      <td>962236800</td>\n",
              "      <td>WOW Make your own 'slickers' !</td>\n",
              "      <td>I just received my shipment and could hardly wait to try...</td>\n",
              "    </tr>\n",
              "    <tr>\n",
              "      <th>8696</th>\n",
              "      <td>9527</td>\n",
              "      <td>B00005V3DC</td>\n",
              "      <td>A8KY7S48EW7LW</td>\n",
              "      <td>A. Daly \"AD\"</td>\n",
              "      <td>0</td>\n",
              "      <td>0</td>\n",
              "      <td>1</td>\n",
              "      <td>1350172800</td>\n",
              "      <td>The Best Cleansing Tea I've Ever Had</td>\n",
              "      <td>I've used this brand for years. If you're feeling clogge...</td>\n",
              "    </tr>\n",
              "  </tbody>\n",
              "</table>\n",
              "</div>"
            ],
            "text/plain": [
              "        Id  ...                                                         Text\n",
              "2547  2775  ...  We have used the Victor fly bait for 3 seasons.  Can't b...\n",
              "2546  2774  ...  Why is this $[...] when the same product is available fo...\n",
              "1146  1245  ...  This was a really good idea and the final product is out...\n",
              "1145  1244  ...  I just received my shipment and could hardly wait to try...\n",
              "8696  9527  ...  I've used this brand for years. If you're feeling clogge...\n",
              "\n",
              "[5 rows x 10 columns]"
            ]
          },
          "execution_count": 391,
          "metadata": {},
          "output_type": "execute_result"
        }
      ],
      "source": [
        "final.head()"
      ]
    },
    {
      "cell_type": "code",
      "execution_count": null,
      "metadata": {
        "colab": {
          "base_uri": "https://localhost:8080/",
          "height": 1000
        },
        "id": "DoDYInUyd3Wj",
        "outputId": "45b16cbc-fe4f-4607-b5a9-d12e9df40b30"
      },
      "outputs": [
        {
          "data": {
            "text/html": [
              "<div>\n",
              "<style scoped>\n",
              "    .dataframe tbody tr th:only-of-type {\n",
              "        vertical-align: middle;\n",
              "    }\n",
              "\n",
              "    .dataframe tbody tr th {\n",
              "        vertical-align: top;\n",
              "    }\n",
              "\n",
              "    .dataframe thead th {\n",
              "        text-align: right;\n",
              "    }\n",
              "</style>\n",
              "<table border=\"1\" class=\"dataframe\">\n",
              "  <thead>\n",
              "    <tr style=\"text-align: right;\">\n",
              "      <th></th>\n",
              "      <th>index</th>\n",
              "      <th>Id</th>\n",
              "      <th>ProductId</th>\n",
              "      <th>UserId</th>\n",
              "      <th>ProfileName</th>\n",
              "      <th>HelpfulnessNumerator</th>\n",
              "      <th>HelpfulnessDenominator</th>\n",
              "      <th>Score</th>\n",
              "      <th>Time</th>\n",
              "      <th>Summary</th>\n",
              "      <th>Text</th>\n",
              "    </tr>\n",
              "  </thead>\n",
              "  <tbody>\n",
              "    <tr>\n",
              "      <th>0</th>\n",
              "      <td>2547</td>\n",
              "      <td>2775</td>\n",
              "      <td>B00002NCJC</td>\n",
              "      <td>A13RRPGE79XFFH</td>\n",
              "      <td>reader48</td>\n",
              "      <td>0</td>\n",
              "      <td>0</td>\n",
              "      <td>1</td>\n",
              "      <td>1281052800</td>\n",
              "      <td>Flies Begone</td>\n",
              "      <td>We have used the Victor fly bait for 3 seasons.  Can't b...</td>\n",
              "    </tr>\n",
              "    <tr>\n",
              "      <th>1</th>\n",
              "      <td>2546</td>\n",
              "      <td>2774</td>\n",
              "      <td>B00002NCJC</td>\n",
              "      <td>A196AJHU9EASJN</td>\n",
              "      <td>Alex Chaffee</td>\n",
              "      <td>0</td>\n",
              "      <td>0</td>\n",
              "      <td>1</td>\n",
              "      <td>1282953600</td>\n",
              "      <td>thirty bucks?</td>\n",
              "      <td>Why is this $[...] when the same product is available fo...</td>\n",
              "    </tr>\n",
              "    <tr>\n",
              "      <th>2</th>\n",
              "      <td>1146</td>\n",
              "      <td>1245</td>\n",
              "      <td>B00002Z754</td>\n",
              "      <td>A29Z5PI9BW2PU3</td>\n",
              "      <td>Robbie</td>\n",
              "      <td>7</td>\n",
              "      <td>7</td>\n",
              "      <td>1</td>\n",
              "      <td>961718400</td>\n",
              "      <td>Great Product</td>\n",
              "      <td>This was a really good idea and the final product is out...</td>\n",
              "    </tr>\n",
              "    <tr>\n",
              "      <th>3</th>\n",
              "      <td>1145</td>\n",
              "      <td>1244</td>\n",
              "      <td>B00002Z754</td>\n",
              "      <td>A3B8RCEI0FXFI6</td>\n",
              "      <td>B G Chase</td>\n",
              "      <td>10</td>\n",
              "      <td>10</td>\n",
              "      <td>1</td>\n",
              "      <td>962236800</td>\n",
              "      <td>WOW Make your own 'slickers' !</td>\n",
              "      <td>I just received my shipment and could hardly wait to try...</td>\n",
              "    </tr>\n",
              "    <tr>\n",
              "      <th>4</th>\n",
              "      <td>8696</td>\n",
              "      <td>9527</td>\n",
              "      <td>B00005V3DC</td>\n",
              "      <td>A8KY7S48EW7LW</td>\n",
              "      <td>A. Daly \"AD\"</td>\n",
              "      <td>0</td>\n",
              "      <td>0</td>\n",
              "      <td>1</td>\n",
              "      <td>1350172800</td>\n",
              "      <td>The Best Cleansing Tea I've Ever Had</td>\n",
              "      <td>I've used this brand for years. If you're feeling clogge...</td>\n",
              "    </tr>\n",
              "    <tr>\n",
              "      <th>...</th>\n",
              "      <td>...</td>\n",
              "      <td>...</td>\n",
              "      <td>...</td>\n",
              "      <td>...</td>\n",
              "      <td>...</td>\n",
              "      <td>...</td>\n",
              "      <td>...</td>\n",
              "      <td>...</td>\n",
              "      <td>...</td>\n",
              "      <td>...</td>\n",
              "      <td>...</td>\n",
              "    </tr>\n",
              "    <tr>\n",
              "      <th>19349</th>\n",
              "      <td>11590</td>\n",
              "      <td>12621</td>\n",
              "      <td>B009KP6HBM</td>\n",
              "      <td>A3UCO959VA9MV</td>\n",
              "      <td>Maryann Wardach</td>\n",
              "      <td>0</td>\n",
              "      <td>0</td>\n",
              "      <td>1</td>\n",
              "      <td>1299024000</td>\n",
              "      <td>cappucino t-discs</td>\n",
              "      <td>Some product work needs to be done on the discs. I have ...</td>\n",
              "    </tr>\n",
              "    <tr>\n",
              "      <th>19350</th>\n",
              "      <td>11588</td>\n",
              "      <td>12619</td>\n",
              "      <td>B009KP6HBM</td>\n",
              "      <td>A20NB4UBW4WDKG</td>\n",
              "      <td>Gerardo \"GD\"</td>\n",
              "      <td>1</td>\n",
              "      <td>1</td>\n",
              "      <td>1</td>\n",
              "      <td>1293321600</td>\n",
              "      <td>Coffe shop quality capuccino at home</td>\n",
              "      <td>I love coffee. Usually I would not recommend Maxwell Hou...</td>\n",
              "    </tr>\n",
              "    <tr>\n",
              "      <th>19351</th>\n",
              "      <td>11589</td>\n",
              "      <td>12620</td>\n",
              "      <td>B009KP6HBM</td>\n",
              "      <td>A3D9NUCR4RXDPY</td>\n",
              "      <td>Kathleen San Martino</td>\n",
              "      <td>1</td>\n",
              "      <td>1</td>\n",
              "      <td>1</td>\n",
              "      <td>1292544000</td>\n",
              "      <td>Very,Very Good</td>\n",
              "      <td>This cappuccino is very good and tastes almost as good a...</td>\n",
              "    </tr>\n",
              "    <tr>\n",
              "      <th>19352</th>\n",
              "      <td>1362</td>\n",
              "      <td>1478</td>\n",
              "      <td>B009UOFU20</td>\n",
              "      <td>AJVB004EB0MVK</td>\n",
              "      <td>D. Christofferson</td>\n",
              "      <td>0</td>\n",
              "      <td>0</td>\n",
              "      <td>0</td>\n",
              "      <td>1345852800</td>\n",
              "      <td>weak coffee not good for a premium product and price</td>\n",
              "      <td>This coffee supposedly is premium, it tastes watery--ver...</td>\n",
              "    </tr>\n",
              "    <tr>\n",
              "      <th>19353</th>\n",
              "      <td>5259</td>\n",
              "      <td>5703</td>\n",
              "      <td>B009WSNWC4</td>\n",
              "      <td>AMP7K1O84DH1T</td>\n",
              "      <td>ESTY</td>\n",
              "      <td>0</td>\n",
              "      <td>0</td>\n",
              "      <td>1</td>\n",
              "      <td>1351209600</td>\n",
              "      <td>DELICIOUS</td>\n",
              "      <td>Purchased this product at a local store in NY and my kid...</td>\n",
              "    </tr>\n",
              "  </tbody>\n",
              "</table>\n",
              "<p>19354 rows × 11 columns</p>\n",
              "</div>"
            ],
            "text/plain": [
              "       index  ...                                                         Text\n",
              "0       2547  ...  We have used the Victor fly bait for 3 seasons.  Can't b...\n",
              "1       2546  ...  Why is this $[...] when the same product is available fo...\n",
              "2       1146  ...  This was a really good idea and the final product is out...\n",
              "3       1145  ...  I just received my shipment and could hardly wait to try...\n",
              "4       8696  ...  I've used this brand for years. If you're feeling clogge...\n",
              "...      ...  ...                                                          ...\n",
              "19349  11590  ...  Some product work needs to be done on the discs. I have ...\n",
              "19350  11588  ...  I love coffee. Usually I would not recommend Maxwell Hou...\n",
              "19351  11589  ...  This cappuccino is very good and tastes almost as good a...\n",
              "19352   1362  ...  This coffee supposedly is premium, it tastes watery--ver...\n",
              "19353   5259  ...  Purchased this product at a local store in NY and my kid...\n",
              "\n",
              "[19354 rows x 11 columns]"
            ]
          },
          "execution_count": 392,
          "metadata": {},
          "output_type": "execute_result"
        }
      ],
      "source": [
        "final.reset_index()"
      ]
    },
    {
      "cell_type": "markdown",
      "metadata": {
        "id": "RxBsuBylCAZr"
      },
      "source": [
        "# [3].  Text Preprocessing.\n",
        "\n",
        "Now that we have finished deduplication our data requires some preprocessing before we go on further with analysis and making the prediction model.\n",
        "\n",
        "Hence in the Preprocessing phase we do the following in the order below:-\n",
        "\n",
        "1. Begin by removing the html tags\n",
        "2. Remove any punctuations or limited set of special characters like , or . or # etc.\n",
        "3. Check if the word is made up of english letters and is not alpha-numeric\n",
        "4. Check to see if the length of the word is greater than 2 (as it was researched that there is no adjective in 2-letters)\n",
        "5. Convert the word to lowercase\n",
        "6. Remove Stopwords\n",
        "7. Finally Snowball Stemming the word (it was obsereved to be better than Porter Stemming)<br>\n",
        "\n",
        "After which we collect the words used to describe positive and negative reviews"
      ]
    },
    {
      "cell_type": "code",
      "execution_count": null,
      "metadata": {
        "colab": {
          "base_uri": "https://localhost:8080/"
        },
        "id": "QxCSbeOKnhMd",
        "outputId": "0d0ccb75-7906-45b3-a7eb-121a01815d66"
      },
      "outputs": [
        {
          "data": {
            "text/plain": [
              "2547    We have used the Victor fly bait for 3 seasons.  Can't b...\n",
              "2546    Why is this $[...] when the same product is available fo...\n",
              "1146    This was a really good idea and the final product is out...\n",
              "1145    I just received my shipment and could hardly wait to try...\n",
              "8696    I've used this brand for years. If you're feeling clogge...\n",
              "Name: Text, dtype: object"
            ]
          },
          "execution_count": 393,
          "metadata": {},
          "output_type": "execute_result"
        }
      ],
      "source": [
        "Text = final['Text']\n",
        "Text.head()"
      ]
    },
    {
      "cell_type": "code",
      "execution_count": null,
      "metadata": {
        "id": "lNHWbzBaCAZ3"
      },
      "outputs": [],
      "source": [
        "\n",
        "# https://stackoverflow.com/a/47091490/4084039\n",
        "import re\n",
        "\n",
        "def decontracted(phrase):\n",
        "    # specific\n",
        "    phrase = re.sub(r\"won't\", \"will not\", phrase)\n",
        "    phrase = re.sub(r\"can\\'t\", \"can not\", phrase)\n",
        "\n",
        "    # general\n",
        "    phrase = re.sub(r\"n\\'t\", \" not\", phrase)\n",
        "    phrase = re.sub(r\"\\'re\", \" are\", phrase)\n",
        "    phrase = re.sub(r\"\\'s\", \" is\", phrase)\n",
        "    phrase = re.sub(r\"\\'d\", \" would\", phrase)\n",
        "    phrase = re.sub(r\"\\'ll\", \" will\", phrase)\n",
        "    phrase = re.sub(r\"\\'t\", \" not\", phrase)\n",
        "    phrase = re.sub(r\"\\'ve\", \" have\", phrase)\n",
        "    phrase = re.sub(r\"\\'m\", \" am\", phrase)\n",
        "    return phrase"
      ]
    },
    {
      "cell_type": "code",
      "execution_count": null,
      "metadata": {
        "id": "Xsr4xHkJCAaA"
      },
      "outputs": [],
      "source": [
        "# https://gist.github.com/sebleier/554280\n",
        "# we are removing the words from the stop words list: 'no', 'nor', 'not'\n",
        "# <br /><br /> ==> after the above steps, we are getting \"br br\"\n",
        "# we are including them into stop words list\n",
        "# instead of <br /> if we have <br/> these tags would have revmoved in the 1st step\n",
        "\n",
        "stopwords= set(['br', 'the', 'i', 'me', 'my', 'myself', 'we', 'our', 'ours', 'ourselves', 'you', \"you're\", \"you've\",\\\n",
        "            \"you'll\", \"you'd\", 'your', 'yours', 'yourself', 'yourselves', 'he', 'him', 'his', 'himself', \\\n",
        "            'she', \"she's\", 'her', 'hers', 'herself', 'it', \"it's\", 'its', 'itself', 'they', 'them', 'their',\\\n",
        "            'theirs', 'themselves', 'what', 'which', 'who', 'whom', 'this', 'that', \"that'll\", 'these', 'those', \\\n",
        "            'am', 'is', 'are', 'was', 'were', 'be', 'been', 'being', 'have', 'has', 'had', 'having', 'do', 'does', \\\n",
        "            'did', 'doing', 'a', 'an', 'the', 'and', 'but', 'if', 'or', 'because', 'as', 'until', 'while', 'of', \\\n",
        "            'at', 'by', 'for', 'with', 'about', 'against', 'between', 'into', 'through', 'during', 'before', 'after',\\\n",
        "            'above', 'below', 'to', 'from', 'up', 'down', 'in', 'out', 'on', 'off', 'over', 'under', 'again', 'further',\\\n",
        "            'then', 'once', 'here', 'there', 'when', 'where', 'why', 'how', 'all', 'any', 'both', 'each', 'few', 'more',\\\n",
        "            'most', 'other', 'some', 'such', 'only', 'own', 'same', 'so', 'than', 'too', 'very', \\\n",
        "            's', 't', 'can', 'will', 'just', 'don', \"don't\", 'should', \"should've\", 'now', 'd', 'll', 'm', 'o', 're', \\\n",
        "            've', 'y', 'ain', 'aren', \"aren't\", 'couldn', \"couldn't\", 'didn', \"didn't\", 'doesn', \"doesn't\", 'hadn',\\\n",
        "            \"hadn't\", 'hasn', \"hasn't\", 'haven', \"haven't\", 'isn', \"isn't\", 'ma', 'mightn', \"mightn't\", 'mustn',\\\n",
        "            \"mustn't\", 'needn', \"needn't\", 'shan', \"shan't\", 'shouldn', \"shouldn't\", 'wasn', \"wasn't\", 'weren', \"weren't\", \\\n",
        "            'won', \"won't\", 'wouldn', \"wouldn't\"])"
      ]
    },
    {
      "cell_type": "code",
      "execution_count": null,
      "metadata": {
        "id": "MgsJ09NpCAaB"
      },
      "outputs": [],
      "source": [
        "from tqdm import tqdm\n",
        "from bs4 import BeautifulSoup\n",
        "\n",
        "def preprocessing_data(Text):\n",
        "    preprocessed_text = []\n",
        "    # tqdm is for printing the status bar\n",
        "    for sentence in tqdm(Text.values):\n",
        "        sentence = re.sub(r\"http\\S+\", \"\", sentence)\n",
        "        sentence = BeautifulSoup(sentence, 'lxml').get_text()\n",
        "        sentence = decontracted(sentence)\n",
        "        sentence = re.sub(\"\\S*\\d\\S*\", \"\", sentence).strip()\n",
        "        sentence = re.sub('[^A-Za-z]+', ' ', sentence) # anything not a word will be removed.\n",
        "        # https://gist.github.com/sebleier/554280\n",
        "        sentence = ' '.join(e.lower() for e in sentence.split() if e.lower() not in stopwords)\n",
        "        preprocessed_text.append(sentence.strip())\n",
        "    return preprocessed_text"
      ]
    },
    {
      "cell_type": "code",
      "execution_count": null,
      "metadata": {
        "colab": {
          "base_uri": "https://localhost:8080/"
        },
        "id": "xhEa1pB9aSNB",
        "outputId": "a218fdc0-2328-4bf2-d076-eccecc31f121"
      },
      "outputs": [
        {
          "name": "stdout",
          "output_type": "stream",
          "text": [
            "CPU times: user 3 µs, sys: 0 ns, total: 3 µs\n",
            "Wall time: 7.15 µs\n"
          ]
        },
        {
          "name": "stderr",
          "output_type": "stream",
          "text": [
            "100%|██████████| 19354/19354 [00:07<00:00, 2674.64it/s]\n"
          ]
        }
      ],
      "source": [
        "%time\n",
        "preprocessed_reviews = []\n",
        "preprocessed_reviews = preprocessing_data(final['Text'])\n"
      ]
    },
    {
      "cell_type": "markdown",
      "metadata": {
        "id": "VZDkCw-uPgi8"
      },
      "source": [
        "<h3> Modeling"
      ]
    },
    {
      "cell_type": "code",
      "execution_count": null,
      "metadata": {
        "colab": {
          "base_uri": "https://localhost:8080/"
        },
        "id": "MmwnD7Dtxcnr",
        "outputId": "7bfa2ee0-3756-4506-d718-12b2b43e05c1"
      },
      "outputs": [
        {
          "data": {
            "text/plain": [
              "1    16339\n",
              "0     3015\n",
              "Name: Score, dtype: int64"
            ]
          },
          "execution_count": 398,
          "metadata": {},
          "output_type": "execute_result"
        }
      ],
      "source": [
        "final['Score'].value_counts() # dataset is highly imbalanced so some of the metrics(like accuracy) may not be good for evaluation"
      ]
    },
    {
      "cell_type": "code",
      "execution_count": null,
      "metadata": {
        "colab": {
          "base_uri": "https://localhost:8080/"
        },
        "id": "1cpZ0i1VKGfW",
        "outputId": "adea93f0-8a57-4c5e-8d55-9a52ca2f7b3e"
      },
      "outputs": [
        {
          "name": "stdout",
          "output_type": "stream",
          "text": [
            "<class 'list'>\n"
          ]
        },
        {
          "data": {
            "text/plain": [
              "19354"
            ]
          },
          "execution_count": 399,
          "metadata": {},
          "output_type": "execute_result"
        }
      ],
      "source": [
        "print(type(preprocessed_reviews))\n",
        "len(preprocessed_reviews)"
      ]
    },
    {
      "cell_type": "code",
      "execution_count": null,
      "metadata": {
        "colab": {
          "base_uri": "https://localhost:8080/"
        },
        "id": "F60nJJZPLIxW",
        "outputId": "d4ecc1da-915f-4df8-e0ee-26ecc57d94f2"
      },
      "outputs": [
        {
          "name": "stdout",
          "output_type": "stream",
          "text": [
            "<class 'pandas.core.series.Series'>\n",
            "<class 'numpy.ndarray'> <class 'numpy.ndarray'>\n"
          ]
        }
      ],
      "source": [
        "print(type(final['Score']) )\n",
        "\n",
        "X = np.array(preprocessed_reviews)\n",
        "y = np.array(final.Score)\n",
        "print(type(X),type(y))"
      ]
    },
    {
      "cell_type": "markdown",
      "metadata": {
        "id": "binpWBVNOYgn"
      },
      "source": [
        "https://scikit-learn.org/stable/modules/generated/sklearn.model_selection.train_test_split.html"
      ]
    },
    {
      "cell_type": "code",
      "execution_count": null,
      "metadata": {
        "id": "f0ifONkNL8mA"
      },
      "outputs": [],
      "source": [
        "from sklearn.model_selection import train_test_split\n",
        "\n",
        "X_train, X_test, Y_train, Y_test = train_test_split(X,y,test_size = 0.33,random_state=42)"
      ]
    },
    {
      "cell_type": "code",
      "execution_count": null,
      "metadata": {
        "colab": {
          "base_uri": "https://localhost:8080/"
        },
        "id": "__zyQbEkNmYi",
        "outputId": "524a2a0a-363b-49d6-d8e4-faf0f5a4813a"
      },
      "outputs": [
        {
          "name": "stdout",
          "output_type": "stream",
          "text": [
            "size of X_train =  12967 <class 'numpy.ndarray'>\n",
            "size of X_test  =  6387 <class 'numpy.ndarray'>\n",
            "size of Y_train =  12967 <class 'numpy.ndarray'>\n",
            "size of Y_test  =  6387 <class 'numpy.ndarray'>\n"
          ]
        }
      ],
      "source": [
        "print(\"size of X_train = \",len(X_train),type(X_train))\n",
        "print(\"size of X_test  = \",len(X_test), type(X_test))\n",
        "print(\"size of Y_train = \",len(Y_train),type(Y_train))\n",
        "print(\"size of Y_test  = \",len(Y_test), type(Y_test))"
      ]
    },
    {
      "cell_type": "markdown",
      "metadata": {
        "id": "y81UDvs9Oena"
      },
      "source": [
        "<h3> Cross Validation"
      ]
    },
    {
      "cell_type": "code",
      "execution_count": null,
      "metadata": {
        "id": "K-sKAbZGN60D"
      },
      "outputs": [],
      "source": [
        "X_train,X_cv,Y_train,Y_cv = train_test_split(X_train,Y_train,test_size = 0.33,random_state=42) "
      ]
    },
    {
      "cell_type": "code",
      "execution_count": null,
      "metadata": {
        "colab": {
          "base_uri": "https://localhost:8080/"
        },
        "id": "_pu7A0VMPl-3",
        "outputId": "d58a4dc5-2710-4824-a087-f150e9bb8091"
      },
      "outputs": [
        {
          "name": "stdout",
          "output_type": "stream",
          "text": [
            "size of X_train =  8687 <class 'numpy.ndarray'>\n",
            "size of X_cv    =  4280 <class 'numpy.ndarray'>\n",
            "size of Y_train =  8687 <class 'numpy.ndarray'>\n",
            "size of Y_cv    =  4280 <class 'numpy.ndarray'>\n"
          ]
        }
      ],
      "source": [
        "print(\"size of X_train = \",len(X_train),type(X_train))\n",
        "print(\"size of X_cv    = \",len(X_cv),   type(X_cv))\n",
        "print(\"size of Y_train = \",len(Y_train),type(Y_train))\n",
        "print(\"size of Y_cv    = \",len(Y_cv),   type(Y_cv))"
      ]
    },
    {
      "cell_type": "code",
      "execution_count": null,
      "metadata": {
        "colab": {
          "base_uri": "https://localhost:8080/",
          "height": 35
        },
        "id": "nafx7qT_QU3r",
        "outputId": "06bff2b8-2c6b-439f-c37a-57d89132d6d4"
      },
      "outputs": [
        {
          "data": {
            "application/vnd.google.colaboratory.intrinsic+json": {
              "type": "string"
            },
            "text/plain": [
              "'truly not much needs said wolf wake coffee house fantastic'"
            ]
          },
          "execution_count": 405,
          "metadata": {},
          "output_type": "execute_result"
        }
      ],
      "source": [
        "X_train[5]"
      ]
    },
    {
      "cell_type": "markdown",
      "metadata": {
        "id": "k06v0gYWQFd9"
      },
      "source": [
        "##  BOW (Unigram) \n",
        "\n",
        "https://github.com/scikit-learn/scikit-learn/blob/0d378913b/sklearn/feature_extraction/text.py#L884"
      ]
    },
    {
      "cell_type": "code",
      "execution_count": null,
      "metadata": {
        "id": "3mkUiApUPzdz"
      },
      "outputs": [],
      "source": [
        "from sklearn.feature_extraction.text import CountVectorizer\n",
        "\n",
        "vectorizer = CountVectorizer(max_features=5000)\n",
        "\n",
        "vectorizer.fit(X_train) # fitting on the training data,building the vocabulary and stuff.\n",
        "\n",
        "BOW_X_train = vectorizer.transform(X_train) \n",
        "BOW_X_cv    = vectorizer.transform(X_cv)\n",
        "BOW_X_test  = vectorizer.transform(X_test)"
      ]
    },
    {
      "cell_type": "code",
      "execution_count": null,
      "metadata": {
        "colab": {
          "base_uri": "https://localhost:8080/"
        },
        "id": "h_BPraUTQIY3",
        "outputId": "68ec4e6d-05b4-4fd7-eea6-49ee0204f211"
      },
      "outputs": [
        {
          "name": "stdout",
          "output_type": "stream",
          "text": [
            "some feature names:-- ['ability', 'able', 'absolute', 'absolutely', 'absorbed', 'abundant', 'acacia', 'academy', 'acai', 'accept']\n",
            "BOW_X_train (8687, 5000)\n",
            "BOW_X_cv    (4280, 5000)\n",
            "BOW_X_test  (6387, 5000)\n",
            "<class 'scipy.sparse.csr.csr_matrix'>\n"
          ]
        }
      ],
      "source": [
        "print(\"some feature names:--\",vectorizer.get_feature_names()[:10])\n",
        "\n",
        "print(\"BOW_X_train\",BOW_X_train.shape)\n",
        "print(\"BOW_X_cv   \",BOW_X_cv.shape)\n",
        "print(\"BOW_X_test \",BOW_X_test.shape)\n",
        "\n",
        "print(type(BOW_X_train))"
      ]
    },
    {
      "cell_type": "code",
      "execution_count": null,
      "metadata": {
        "colab": {
          "base_uri": "https://localhost:8080/"
        },
        "id": "WqhlpYoQoClB",
        "outputId": "83bad177-eb21-466b-e398-3a33916d2830"
      },
      "outputs": [
        {
          "name": "stdout",
          "output_type": "stream",
          "text": [
            "Y_train (8687,)\n",
            "Y_cv    (4280,)\n",
            "Y_test (6387,)\n"
          ]
        }
      ],
      "source": [
        "print(\"Y_train\",Y_train.shape)\n",
        "print(\"Y_cv   \",Y_cv.shape)\n",
        "print(\"Y_test\",Y_test.shape)"
      ]
    },
    {
      "cell_type": "code",
      "execution_count": null,
      "metadata": {
        "colab": {
          "base_uri": "https://localhost:8080/"
        },
        "id": "sS1a_vbkkzx_",
        "outputId": "3f7c1f03-360a-40fc-bee1-21068c7afd58"
      },
      "outputs": [
        {
          "name": "stdout",
          "output_type": "stream",
          "text": [
            "Counter({1: 7326, 0: 1361})\n",
            "Counter({1: 7326, 0: 1361})\n"
          ]
        }
      ],
      "source": [
        "from imblearn.over_sampling import SMOTE\n",
        "from collections import Counter\n",
        "\n",
        "print(Counter(Y_train))\n",
        "\n",
        "# oversample = SMOTE()\n",
        "# BOW_X_train, Y_train = oversample.fit_resample(BOW_X_train, Y_train)\n",
        "\n",
        "print(Counter(Y_train))"
      ]
    },
    {
      "cell_type": "markdown",
      "metadata": {
        "id": "cYj-TuEZVPhv"
      },
      "source": [
        "<h3> KNN on BOW"
      ]
    },
    {
      "cell_type": "markdown",
      "metadata": {
        "id": "mSmApourlapj"
      },
      "source": [
        "https://scikit-learn.org/stable/modules/generated/sklearn.neighbors.KNeighborsClassifier.html\n",
        "\n",
        "https://scikit-learn.org/stable/modules/generated/sklearn.metrics.accuracy_score.html\n",
        "\n",
        "https://scikit-learn.org/stable/modules/generated/sklearn.metrics.f1_score.html"
      ]
    },
    {
      "cell_type": "code",
      "execution_count": null,
      "metadata": {
        "colab": {
          "base_uri": "https://localhost:8080/"
        },
        "id": "gVzV-AWWUPEW",
        "outputId": "a94344c3-b7a9-4dbb-d85c-00449224466e"
      },
      "outputs": [
        {
          "name": "stdout",
          "output_type": "stream",
          "text": [
            "CPU times: user 4 µs, sys: 0 ns, total: 4 µs\n",
            "Wall time: 8.58 µs\n"
          ]
        },
        {
          "name": "stderr",
          "output_type": "stream",
          "text": [
            "  7%|▋         | 1/14 [00:01<00:24,  1.90s/it]"
          ]
        },
        {
          "name": "stdout",
          "output_type": "stream",
          "text": [
            "------------------------------------------------------------------------------------------\n",
            "for K =  1\n",
            "Accuracy         =  77.07943925233644\n",
            "Precision_score  =  86.0\n",
            "Recall_score     =  86.0\n",
            "f1 Score         =  86.0\n",
            "\n",
            "\n"
          ]
        },
        {
          "name": "stderr",
          "output_type": "stream",
          "text": [
            "\r 14%|█▍        | 2/14 [00:04<00:25,  2.09s/it]"
          ]
        },
        {
          "name": "stdout",
          "output_type": "stream",
          "text": [
            "------------------------------------------------------------------------------------------\n",
            "for K =  17\n",
            "Accuracy         =  84.50934579439252\n",
            "Precision_score  =  85.0\n",
            "Recall_score     =  99.0\n",
            "f1 Score         =  92.0\n",
            "\n",
            "\n"
          ]
        },
        {
          "name": "stderr",
          "output_type": "stream",
          "text": [
            "\r 21%|██▏       | 3/14 [00:06<00:23,  2.15s/it]"
          ]
        },
        {
          "name": "stdout",
          "output_type": "stream",
          "text": [
            "------------------------------------------------------------------------------------------\n",
            "for K =  33\n",
            "Accuracy         =  84.50934579439252\n",
            "Precision_score  =  85.0\n",
            "Recall_score     =  99.0\n",
            "f1 Score         =  92.0\n",
            "\n",
            "\n"
          ]
        },
        {
          "name": "stderr",
          "output_type": "stream",
          "text": [
            "\r 29%|██▊       | 4/14 [00:08<00:21,  2.17s/it]"
          ]
        },
        {
          "name": "stdout",
          "output_type": "stream",
          "text": [
            "------------------------------------------------------------------------------------------\n",
            "for K =  49\n",
            "Accuracy         =  84.62616822429906\n",
            "Precision_score  =  85.0\n",
            "Recall_score     =  100.0\n",
            "f1 Score         =  92.0\n",
            "\n",
            "\n"
          ]
        },
        {
          "name": "stderr",
          "output_type": "stream",
          "text": [
            "\r 36%|███▌      | 5/14 [00:10<00:19,  2.20s/it]"
          ]
        },
        {
          "name": "stdout",
          "output_type": "stream",
          "text": [
            "------------------------------------------------------------------------------------------\n",
            "for K =  65\n",
            "Accuracy         =  84.48598130841121\n",
            "Precision_score  =  85.0\n",
            "Recall_score     =  100.0\n",
            "f1 Score         =  92.0\n",
            "\n",
            "\n"
          ]
        },
        {
          "name": "stderr",
          "output_type": "stream",
          "text": [
            "\r 43%|████▎     | 6/14 [00:12<00:17,  2.20s/it]"
          ]
        },
        {
          "name": "stdout",
          "output_type": "stream",
          "text": [
            "------------------------------------------------------------------------------------------\n",
            "for K =  81\n",
            "Accuracy         =  84.46261682242991\n",
            "Precision_score  =  85.0\n",
            "Recall_score     =  100.0\n",
            "f1 Score         =  92.0\n",
            "\n",
            "\n"
          ]
        },
        {
          "name": "stderr",
          "output_type": "stream",
          "text": [
            "\r 50%|█████     | 7/14 [00:15<00:15,  2.22s/it]"
          ]
        },
        {
          "name": "stdout",
          "output_type": "stream",
          "text": [
            "------------------------------------------------------------------------------------------\n",
            "for K =  97\n",
            "Accuracy         =  84.50934579439252\n",
            "Precision_score  =  85.0\n",
            "Recall_score     =  100.0\n",
            "f1 Score         =  92.0\n",
            "\n",
            "\n"
          ]
        },
        {
          "name": "stderr",
          "output_type": "stream",
          "text": [
            "\r 57%|█████▋    | 8/14 [00:17<00:13,  2.23s/it]"
          ]
        },
        {
          "name": "stdout",
          "output_type": "stream",
          "text": [
            "------------------------------------------------------------------------------------------\n",
            "for K =  113\n",
            "Accuracy         =  84.4392523364486\n",
            "Precision_score  =  85.0\n",
            "Recall_score     =  100.0\n",
            "f1 Score         =  92.0\n",
            "\n",
            "\n"
          ]
        },
        {
          "name": "stderr",
          "output_type": "stream",
          "text": [
            "\r 64%|██████▍   | 9/14 [00:19<00:11,  2.24s/it]"
          ]
        },
        {
          "name": "stdout",
          "output_type": "stream",
          "text": [
            "------------------------------------------------------------------------------------------\n",
            "for K =  129\n",
            "Accuracy         =  84.46261682242991\n",
            "Precision_score  =  84.0\n",
            "Recall_score     =  100.0\n",
            "f1 Score         =  92.0\n",
            "\n",
            "\n"
          ]
        },
        {
          "name": "stderr",
          "output_type": "stream",
          "text": [
            "\r 71%|███████▏  | 10/14 [00:22<00:09,  2.25s/it]"
          ]
        },
        {
          "name": "stdout",
          "output_type": "stream",
          "text": [
            "------------------------------------------------------------------------------------------\n",
            "for K =  145\n",
            "Accuracy         =  84.4392523364486\n",
            "Precision_score  =  84.0\n",
            "Recall_score     =  100.0\n",
            "f1 Score         =  92.0\n",
            "\n",
            "\n"
          ]
        },
        {
          "name": "stderr",
          "output_type": "stream",
          "text": [
            "\r 79%|███████▊  | 11/14 [00:24<00:06,  2.26s/it]"
          ]
        },
        {
          "name": "stdout",
          "output_type": "stream",
          "text": [
            "------------------------------------------------------------------------------------------\n",
            "for K =  161\n",
            "Accuracy         =  84.4392523364486\n",
            "Precision_score  =  84.0\n",
            "Recall_score     =  100.0\n",
            "f1 Score         =  92.0\n",
            "\n",
            "\n"
          ]
        },
        {
          "name": "stderr",
          "output_type": "stream",
          "text": [
            "\r 86%|████████▌ | 12/14 [00:26<00:04,  2.27s/it]"
          ]
        },
        {
          "name": "stdout",
          "output_type": "stream",
          "text": [
            "------------------------------------------------------------------------------------------\n",
            "for K =  177\n",
            "Accuracy         =  84.46261682242991\n",
            "Precision_score  =  84.0\n",
            "Recall_score     =  100.0\n",
            "f1 Score         =  92.0\n",
            "\n",
            "\n"
          ]
        },
        {
          "name": "stderr",
          "output_type": "stream",
          "text": [
            "\r 93%|█████████▎| 13/14 [00:28<00:02,  2.28s/it]"
          ]
        },
        {
          "name": "stdout",
          "output_type": "stream",
          "text": [
            "------------------------------------------------------------------------------------------\n",
            "for K =  193\n",
            "Accuracy         =  84.4392523364486\n",
            "Precision_score  =  84.0\n",
            "Recall_score     =  100.0\n",
            "f1 Score         =  92.0\n",
            "\n",
            "\n"
          ]
        },
        {
          "name": "stderr",
          "output_type": "stream",
          "text": [
            "100%|██████████| 14/14 [00:31<00:00,  2.23s/it]"
          ]
        },
        {
          "name": "stdout",
          "output_type": "stream",
          "text": [
            "------------------------------------------------------------------------------------------\n",
            "for K =  209\n",
            "Accuracy         =  84.4392523364486\n",
            "Precision_score  =  84.0\n",
            "Recall_score     =  100.0\n",
            "f1 Score         =  92.0\n",
            "\n",
            "\n"
          ]
        },
        {
          "name": "stderr",
          "output_type": "stream",
          "text": [
            "\n"
          ]
        }
      ],
      "source": [
        "%time\n",
        "from sklearn.neighbors import KNeighborsClassifier\n",
        "from sklearn.metrics import   accuracy_score\n",
        "from sklearn.metrics import   precision_score\n",
        "from sklearn.metrics import   recall_score\n",
        "from sklearn.metrics import   f1_score\n",
        "\n",
        "accuracy_list  = []\n",
        "precision_list = []\n",
        "recall_list    = []\n",
        "f1_Score_list  = []\n",
        "k_list         = []\n",
        "\n",
        "for i in tqdm(range(1,220,16)):\n",
        "\n",
        "  knn = KNeighborsClassifier(n_neighbors = i, algorithm = 'brute',n_jobs = -1)\n",
        "  \n",
        "  knn.fit(BOW_X_train,Y_train) # fitting the model in BOW training data\n",
        "  pred = knn.predict(BOW_X_cv) # predicting the labels of cross validation data\n",
        "\n",
        "    \n",
        "  accuracy  = accuracy_score(Y_cv,pred)*100\n",
        "  precision = np.round(precision_score(Y_cv,pred,average = 'binary')*100)\n",
        "  recall    = np.round(recall_score(Y_cv,pred,average = 'binary')*100) \n",
        "  f1_Score  = np.round( f1_score(Y_cv,pred,average = 'binary')*100) \n",
        "  \n",
        "  accuracy_list.append(accuracy)\n",
        "  precision_list.append(precision)\n",
        "  recall_list.append(recall)\n",
        "  f1_Score_list.append(f1_Score)\n",
        "  k_list.append(i)\n",
        "  \n",
        "  \n",
        "  print(\"---\"*30)\n",
        "  print(\"for K = \",i)\n",
        "  \n",
        "  print(\"Accuracy         = \",accuracy)\n",
        "  print(\"Precision_score  = \",precision)\n",
        "  print(\"Recall_score     = \",recall)\n",
        "  print(\"f1 Score         = \",f1_Score)\n",
        "  print(\"\\n\")\n"
      ]
    },
    {
      "cell_type": "code",
      "execution_count": null,
      "metadata": {
        "colab": {
          "base_uri": "https://localhost:8080/",
          "height": 627
        },
        "id": "S5i_Q7bkhQ3h",
        "outputId": "40ba0765-99ff-49fc-d07f-ce114fbdb903"
      },
      "outputs": [
        {
          "data": {
            "text/plain": [
              "Text(0, 0.5, 'f1_Score')"
            ]
          },
          "execution_count": 411,
          "metadata": {},
          "output_type": "execute_result"
        },
        {
          "data": {
            "image/png": "[encoded data removed]",
            "text/plain": [
              "<Figure size 864x720 with 4 Axes>"
            ]
          },
          "metadata": {
            "needs_background": "light"
          },
          "output_type": "display_data"
        }
      ],
      "source": [
        "plt.figure( figsize = (12,10) )\n",
        "\n",
        "plt.subplot(2,2,1)\n",
        "plt.plot(k_list,accuracy_list,'go-')\n",
        "plt.xlabel(\"K\")\n",
        "plt.ylabel(\"Accuracy\")\n",
        "\n",
        "plt.subplot(2,2,2)\n",
        "plt.plot(k_list,precision_list,'bo-')\n",
        "plt.xlabel(\"K\")\n",
        "plt.ylabel(\"Precision\")\n",
        "\n",
        "plt.subplot(2,2,3)\n",
        "plt.plot(k_list,recall_list,'ro-')\n",
        "plt.xlabel(\"K\")\n",
        "plt.ylabel(\"Recall\")\n",
        "\n",
        "plt.subplot(2,2,4)\n",
        "plt.plot(k_list,f1_Score_list)\n",
        "plt.xlabel(\"K\")\n",
        "plt.ylabel(\"f1_Score\")"
      ]
    },
    {
      "cell_type": "markdown",
      "metadata": {
        "id": "zxku1Yt-EAbI"
      },
      "source": [
        "any k above 40 is good according to accuracy\n",
        "\n",
        "k above 40 is good according to precision \n",
        "\n",
        "k above 20 has stable precision \n",
        "\n",
        "k above 30 is giving the best f1 score"
      ]
    },
    {
      "cell_type": "markdown",
      "metadata": {
        "id": "g44ksQhV0Bpk"
      },
      "source": [
        "ROC is prefered as the scoring metric over the precision and the recall for cross validation \n",
        "\n",
        "https://machinelearningmastery.com/roc-curves-and-precision-recall-curves-for-imbalanced-classification/\n",
        "\n",
        "\n",
        "AUC and ROC are used only in Binary class classification problems\n",
        "\n",
        "For Imbalanced Data set AUC can be high for even Dumb Model ."
      ]
    },
    {
      "cell_type": "code",
      "execution_count": null,
      "metadata": {
        "colab": {
          "base_uri": "https://localhost:8080/",
          "height": 456
        },
        "id": "Y-nThsE4lRMG",
        "outputId": "1fa3f16a-011b-4cdf-e005-3c5265ea1ad5"
      },
      "outputs": [
        {
          "name": "stdout",
          "output_type": "stream",
          "text": [
            "CPU times: user 3 µs, sys: 0 ns, total: 3 µs\n",
            "Wall time: 6.91 µs\n"
          ]
        },
        {
          "name": "stderr",
          "output_type": "stream",
          "text": [
            "100%|██████████| 10/10 [01:08<00:00,  6.85s/it]\n"
          ]
        },
        {
          "data": {
            "image/png": "[encoded data removed]",
            "text/plain": [
              "<Figure size 720x432 with 1 Axes>"
            ]
          },
          "metadata": {
            "needs_background": "light"
          },
          "output_type": "display_data"
        }
      ],
      "source": [
        "%time\n",
        "from sklearn.metrics import roc_auc_score\n",
        "from sklearn.neighbors import KNeighborsClassifier\n",
        "from sklearn.metrics import   accuracy_score\n",
        "from sklearn.metrics import   precision_score\n",
        "from sklearn.metrics import   recall_score\n",
        "from sklearn.metrics import   f1_score\n",
        "auc_cv    = []\n",
        "auc_train = []\n",
        "k         = list(range(1,200,20) )\n",
        "\n",
        "for i in tqdm(range(1,200,20)):\n",
        "\n",
        "  knn = KNeighborsClassifier(n_neighbors = i, algorithm = 'brute',n_jobs = -1)\n",
        "\n",
        "  knn.fit(BOW_X_train,Y_train)\n",
        "  y_hat = knn.predict_proba(BOW_X_cv) # predict probabilities.\n",
        "  pos_prob = y_hat[:,1]               # selecting probabilities of positive class only.\n",
        "  auc_cv.append(roc_auc_score(Y_cv,pos_prob))\n",
        "\n",
        "  y_hat = knn.predict_proba(BOW_X_train)\n",
        "  pos_prob = y_hat[:,1]\n",
        "  auc_train.append(roc_auc_score(Y_train,pos_prob)) # appending the auc_score of different K for training data.\n",
        "\n",
        "\n",
        "plt.figure( figsize = (10,6) )\n",
        "\n",
        "plt.plot(k,auc_train,label = \"AUC Train\")\n",
        "plt.scatter(k,auc_train,label = \"AUC Train\")\n",
        "\n",
        "plt.plot(k,auc_cv,label = 'AUC Cv')\n",
        "plt.scatter(k,auc_cv,label = 'AUC Cv')\n",
        "\n",
        "plt.title(\"AUC vs K\")\n",
        "plt.xlabel('K')\n",
        "plt.ylabel('AUC')\n",
        "plt.legend() \n",
        "\n",
        "plt.show()"
      ]
    },
    {
      "cell_type": "markdown",
      "metadata": {
        "id": "VzHpjlEDG4QL"
      },
      "source": [
        "* so on the basis of AUC, 50 <= K <= 100 (after 100 both blue and orange lines \n",
        "started declining ) is the  optimal k and on the basis of f1 score optimal k \n",
        "\n",
        "* should be around 27 for 5k dataset points\n",
        "\n",
        "* for 10k dataset points Optimal K according to AUC is 50 to 60"
      ]
    },
    {
      "cell_type": "code",
      "execution_count": null,
      "metadata": {
        "colab": {
          "base_uri": "https://localhost:8080/",
          "height": 548
        },
        "id": "2sY3zk4xqZtD",
        "outputId": "44ca06de-c9a5-4e46-ad29-3638b08fafa9"
      },
      "outputs": [
        {
          "name": "stdout",
          "output_type": "stream",
          "text": [
            "CPU times: user 3 µs, sys: 0 ns, total: 3 µs\n",
            "Wall time: 5.72 µs\n"
          ]
        },
        {
          "data": {
            "image/png": "[encoded data removed]",
            "text/plain": [
              "<Figure size 720x576 with 1 Axes>"
            ]
          },
          "metadata": {
            "needs_background": "light"
          },
          "output_type": "display_data"
        }
      ],
      "source": [
        "%time\n",
        "from sklearn.neighbors import KNeighborsClassifier\n",
        "from sklearn.metrics import   accuracy_score\n",
        "from sklearn.metrics import   precision_score\n",
        "from sklearn.metrics import   recall_score\n",
        "from sklearn.metrics import   f1_score\n",
        "from sklearn.metrics import   roc_auc_score\n",
        "\n",
        "knn = KNeighborsClassifier(n_neighbors=90,algorithm='brute',n_jobs=-1) # selecting k according to AUC\n",
        "\n",
        "knn.fit(BOW_X_train,Y_train)\n",
        "\n",
        "y_hat = knn.predict_proba(BOW_X_cv)\n",
        "pos_prob_cv = y_hat[:,1]\n",
        "\n",
        "fpr_test, tpr_test, thresholds = roc_curve(Y_cv,pos_prob_cv)\n",
        "\n",
        "y_hat = knn.predict_proba(BOW_X_train)\n",
        "pos_prob_train = y_hat[:,1]\n",
        "\n",
        "fpr_train, tpr_train, thresholds = roc_curve(Y_train,pos_prob_train)\n",
        "\n",
        "plt.figure(figsize=(10,8))\n",
        "\n",
        "plt.plot(fpr_test, tpr_test ,label = \" Cross Validated ROC, AUC  = \" + str(roc_auc_score(Y_cv,pos_prob_cv)))\n",
        "plt.plot(fpr_train,tpr_train,label = \" TRAIN ROC, AUC            = \" + str(roc_auc_score(Y_train,pos_prob_train)))\n",
        "\n",
        "plt.title('ROC')\n",
        "plt.xlabel('FPR')\n",
        "plt.ylabel('TPR')\n",
        "plt.legend()\n",
        "\n",
        "plt.show()"
      ]
    },
    {
      "cell_type": "markdown",
      "metadata": {
        "id": "lY9QC4TWE7rL"
      },
      "source": [
        "0.76 AUC is acceptable, means our model is able to distinguish positive class points from negative class points 76 percent of the times."
      ]
    },
    {
      "cell_type": "code",
      "execution_count": null,
      "metadata": {
        "colab": {
          "base_uri": "https://localhost:8080/",
          "height": 473
        },
        "id": "j7GMAJFWGddo",
        "outputId": "d3258e90-681f-4884-960f-b299fefa8d2e"
      },
      "outputs": [
        {
          "name": "stdout",
          "output_type": "stream",
          "text": [
            "Accuracy         =  84.65633317676532\n",
            "Precision_score  =  85.0\n",
            "Recall_score     =  100.0\n",
            "f1 Score         =  92.0\n"
          ]
        },
        {
          "data": {
            "image/png": "[encoded data removed]",
            "text/plain": [
              "<Figure size 576x432 with 2 Axes>"
            ]
          },
          "metadata": {
            "needs_background": "light"
          },
          "output_type": "display_data"
        }
      ],
      "source": [
        "from sklearn.metrics import confusion_matrix\n",
        "\n",
        "knn = KNeighborsClassifier(n_neighbors=90,algorithm = 'brute')\n",
        "\n",
        "knn.fit(BOW_X_train,Y_train)\n",
        "pred = knn.predict(BOW_X_test)\n",
        "\n",
        "accuracy  = accuracy_score(Y_test,pred)*100\n",
        "precision = np.round(precision_score(Y_test,pred,average = 'binary')*100)\n",
        "recall    = np.round(recall_score(Y_test,pred,average = 'binary')*100) \n",
        "f1_Score  = np.round( f1_score(Y_test,pred,average = 'binary')*100) \n",
        "  \n",
        "  \n",
        "print(\"Accuracy         = \",accuracy)\n",
        "print(\"Precision_score  = \",precision)\n",
        "print(\"Recall_score     = \",recall)\n",
        "print(\"f1 Score         = \",f1_Score)\n",
        "\n",
        "matrix      = confusion_matrix(Y_test,pred)\n",
        "class_label = [\"NEGATIVE\",\"POSITIVE\"]\n",
        "\n",
        "df = pd.DataFrame(matrix,index=class_label,columns=class_label)\n",
        "\n",
        "plt.figure(figsize=(8,6))\n",
        "sns.heatmap(df,annot = True)\n",
        "\n",
        "plt.title(\"CONFUSION MATRIX\")\n",
        "plt.xlabel(\"Predicted Label\")\n",
        "plt.ylabel(\"ACTUAL Label\")\n",
        "\n",
        "plt.show()"
      ]
    },
    {
      "cell_type": "code",
      "execution_count": null,
      "metadata": {
        "colab": {
          "base_uri": "https://localhost:8080/",
          "height": 513
        },
        "id": "B3RU-Amlqpix",
        "outputId": "9e3a5360-c0ca-491a-d75e-cc0827ed6d94"
      },
      "outputs": [
        {
          "data": {
            "image/png": "[encoded data removed]",
            "text/plain": [
              "<Figure size 720x576 with 1 Axes>"
            ]
          },
          "metadata": {
            "needs_background": "light"
          },
          "output_type": "display_data"
        }
      ],
      "source": [
        "knn = KNeighborsClassifier(n_neighbors=60,algorithm='brute',n_jobs=-1) # selecting k according to Accuracy\n",
        "\n",
        "knn.fit(BOW_X_train,Y_train)\n",
        "\n",
        "y_hat = knn.predict_proba(BOW_X_cv)\n",
        "pos_prob_test = y_hat[:,1]\n",
        "\n",
        "fpr_test, tpr_test, thresholds = roc_curve(Y_cv,pos_prob_test)\n",
        "\n",
        "y_hat = knn.predict_proba(BOW_X_train)\n",
        "pos_prob_train = y_hat[:,1]\n",
        "\n",
        "fpr_train, tpr_train, thresholds = roc_curve(Y_train,pos_prob_train)\n",
        "\n",
        "plt.figure(figsize=(10,8))\n",
        "\n",
        "plt.plot(fpr_test, tpr_test ,label = \" Cross Validated ROC, AUC  = \" + str(roc_auc_score(Y_cv,pos_prob_test)))\n",
        "plt.plot(fpr_train,tpr_train,label = \" TRAIN ROC, AUC = \" + str(roc_auc_score(Y_train,pos_prob_train)))\n",
        "\n",
        "plt.title('ROC')\n",
        "plt.xlabel('FPR')\n",
        "plt.ylabel('TPR')\n",
        "plt.legend()\n",
        "\n",
        "plt.show()"
      ]
    },
    {
      "cell_type": "markdown",
      "metadata": {
        "id": "zKo8KbUGFuZg"
      },
      "source": [
        "here AUC of cv is 0.75 but the difference in train and cv AUC much bigger than when we selectd k = 90 ,\n",
        "\n",
        "Remember if train error is low and test error is high then it means we are overfitting our model, so we should increase K so that our test error becomes low also,Hence K acording to AUC is preferred here"
      ]
    },
    {
      "cell_type": "code",
      "execution_count": null,
      "metadata": {
        "colab": {
          "base_uri": "https://localhost:8080/",
          "height": 473
        },
        "id": "Ycnb0iXNB6qD",
        "outputId": "16e01b3f-6ea2-4268-8727-4c9c16cb94ee"
      },
      "outputs": [
        {
          "name": "stdout",
          "output_type": "stream",
          "text": [
            "Accuracy         =  84.75027399405042\n",
            "Precision_score  =  85.0\n",
            "Recall_score     =  99.0\n",
            "f1 Score         =  92.0\n"
          ]
        },
        {
          "data": {
            "image/png": "[encoded data removed]",
            "text/plain": [
              "<Figure size 576x432 with 2 Axes>"
            ]
          },
          "metadata": {
            "needs_background": "light"
          },
          "output_type": "display_data"
        }
      ],
      "source": [
        "from sklearn.metrics import confusion_matrix\n",
        "\n",
        "knn = KNeighborsClassifier(n_neighbors=40,algorithm = 'brute')\n",
        "\n",
        "knn.fit(BOW_X_train,Y_train)\n",
        "pred = knn.predict(BOW_X_test)\n",
        "\n",
        "accuracy  = accuracy_score(Y_test,pred)*100\n",
        "precision = np.round(precision_score(Y_test,pred,average = 'binary')*100)\n",
        "recall    = np.round(recall_score(Y_test,pred,average = 'binary')*100) \n",
        "f1_Score  = np.round( f1_score(Y_test,pred,average = 'binary')*100) \n",
        "  \n",
        "  \n",
        "print(\"Accuracy         = \",accuracy)\n",
        "print(\"Precision_score  = \",precision)\n",
        "print(\"Recall_score     = \",recall)\n",
        "print(\"f1 Score         = \",f1_Score)\n",
        "\n",
        "matrix      = confusion_matrix(Y_test,pred)\n",
        "class_label = [\"NEGATIVE\",\"POSITIVE\"]\n",
        "\n",
        "df = pd.DataFrame(matrix,index=class_label,columns=class_label)\n",
        "\n",
        "plt.figure(figsize=(8,6))\n",
        "sns.heatmap(df,annot = True)\n",
        "plt.title(\"CONFUSION MATRIX\")\n",
        "plt.xlabel(\"Predicted Label\")\n",
        "plt.ylabel(\"ACTUAL Label\")\n",
        "\n",
        "plt.show()"
      ]
    },
    {
      "cell_type": "markdown",
      "metadata": {
        "id": "Su0zqtRMIxp3"
      },
      "source": [
        "<h4> Finding Optimal K again using metric = 'cosine'"
      ]
    },
    {
      "cell_type": "code",
      "execution_count": null,
      "metadata": {
        "colab": {
          "base_uri": "https://localhost:8080/",
          "height": 456
        },
        "id": "o-fa3_c-Ivae",
        "outputId": "f5e216ae-7967-42de-9b2c-4e887f31ff09"
      },
      "outputs": [
        {
          "name": "stdout",
          "output_type": "stream",
          "text": [
            "CPU times: user 3 µs, sys: 0 ns, total: 3 µs\n",
            "Wall time: 7.15 µs\n"
          ]
        },
        {
          "name": "stderr",
          "output_type": "stream",
          "text": [
            "100%|██████████| 10/10 [01:08<00:00,  6.84s/it]\n"
          ]
        },
        {
          "data": {
            "image/png": "[encoded data removed]",
            "text/plain": [
              "<Figure size 720x432 with 1 Axes>"
            ]
          },
          "metadata": {
            "needs_background": "light"
          },
          "output_type": "display_data"
        }
      ],
      "source": [
        "%time\n",
        "from sklearn.metrics import roc_auc_score\n",
        "from sklearn.neighbors import KNeighborsClassifier\n",
        "from sklearn.metrics import   accuracy_score\n",
        "from sklearn.metrics import   precision_score\n",
        "from sklearn.metrics import   recall_score\n",
        "from sklearn.metrics import   f1_score\n",
        "auc_cv    = []\n",
        "auc_train = []\n",
        "k         = list(range(1,100,10) )\n",
        "\n",
        "for i in tqdm(range(1,100,10)):\n",
        "\n",
        "  knn = KNeighborsClassifier(n_neighbors = i, algorithm = 'brute',n_jobs = -1,metric= 'cosine')\n",
        "\n",
        "  knn.fit(BOW_X_train,Y_train)\n",
        "  y_hat = knn.predict_proba(BOW_X_cv) # predict probabilities.\n",
        "  pos_prob = y_hat[:,1]               # selecting probabilities of positive class only.\n",
        "  auc_cv.append(roc_auc_score(Y_cv,pos_prob))\n",
        "\n",
        "  y_hat = knn.predict_proba(BOW_X_train)\n",
        "  pos_prob = y_hat[:,1]\n",
        "  auc_train.append(roc_auc_score(Y_train,pos_prob)) # appending the auc_score of different K for training data.\n",
        "\n",
        "\n",
        "plt.figure( figsize = (10,6) )\n",
        "\n",
        "plt.plot(k,auc_train,label = \"AUC Train\")\n",
        "plt.scatter(k,auc_train,label = \"AUC Train\")\n",
        "\n",
        "plt.plot(k,auc_cv,label = 'AUC Cv')\n",
        "plt.scatter(k,auc_cv,label = 'AUC Cv')\n",
        "\n",
        "plt.title(\"AUC vs K\")\n",
        "plt.xlabel('K')\n",
        "plt.ylabel('AUC')\n",
        "plt.legend() \n",
        "\n",
        "plt.show()"
      ]
    },
    {
      "cell_type": "markdown",
      "metadata": {
        "id": "w_do9k4cJBkM"
      },
      "source": [
        "certainly K is reduced when we chose COSINE metric , now accorindg to AUC K = 60 "
      ]
    },
    {
      "cell_type": "code",
      "execution_count": null,
      "metadata": {
        "colab": {
          "base_uri": "https://localhost:8080/",
          "height": 560
        },
        "id": "6doDFNVbJSJd",
        "outputId": "08e18c12-3cf0-4b29-9b82-3d98e13d5724"
      },
      "outputs": [
        {
          "data": {
            "image/png": "[encoded data removed]",
            "text/plain": [
              "<Figure size 576x432 with 2 Axes>"
            ]
          },
          "metadata": {
            "needs_background": "light"
          },
          "output_type": "display_data"
        },
        {
          "name": "stdout",
          "output_type": "stream",
          "text": [
            "              precision    recall  f1-score   support\n",
            "\n",
            "           0       0.80      0.12      0.21       988\n",
            "           1       0.86      0.99      0.92      5399\n",
            "\n",
            "    accuracy                           0.86      6387\n",
            "   macro avg       0.83      0.56      0.57      6387\n",
            "weighted avg       0.85      0.86      0.81      6387\n",
            "\n"
          ]
        }
      ],
      "source": [
        "from sklearn.metrics import confusion_matrix\n",
        "from sklearn.metrics import classification_report\n",
        "\n",
        "knn = KNeighborsClassifier(n_neighbors=60,algorithm = 'brute',metric='cosine')\n",
        "                                               # chosing cosine metric because euclidean distance does not do good in higher dimesnions.\n",
        "knn.fit(BOW_X_train,Y_train)\n",
        "pred = knn.predict(BOW_X_test)\n",
        "\n",
        "matrix      = confusion_matrix(Y_test,pred)\n",
        "class_label = [\"NEGATIVE\",\"POSITIVE\"]\n",
        "\n",
        "df = pd.DataFrame(matrix,index=class_label,columns=class_label)\n",
        "\n",
        "plt.figure(figsize=(8,6))\n",
        "sns.heatmap(df,annot = True)\n",
        "plt.title(\"CONFUSION MATRIX\")\n",
        "plt.xlabel(\"Predicted Label\")\n",
        "plt.ylabel(\"ACTUAL Label\")\n",
        "\n",
        "plt.show()\n",
        "\n",
        "print(classification_report(Y_test, pred))"
      ]
    },
    {
      "cell_type": "markdown",
      "metadata": {
        "id": "wYMQLVaAJr6I"
      },
      "source": [
        "our left diagnol has increased significantly , but recall and f1 score of negative class is terrible."
      ]
    },
    {
      "cell_type": "markdown",
      "metadata": {
        "id": "HIwsgEr7Tb65"
      },
      "source": [
        "In imbalanced datasets, the goal is to improve recall without hurting precision. These goals, however, are often conflicting, since in order to increase the TP for the minority class, the number of FP is also often increased, resulting in reduced precision.\n",
        "\n",
        "https://machinelearningmastery.com/precision-recall-and-f-measure-for-imbalanced-classification/"
      ]
    },
    {
      "cell_type": "markdown",
      "metadata": {
        "id": "dECuJNSkd_fl"
      },
      "source": [
        "https://www.codegrepper.com/code-examples/python/skplt.metrics.plot_confusion_matrix"
      ]
    },
    {
      "cell_type": "markdown",
      "metadata": {
        "id": "BUFXOvmDfcBJ"
      },
      "source": [
        "Why Log-Loss should not be used as scoring metrics for KNN \n",
        "\n",
        "https://medium.com/@bengikoseoglu/why-log-loss-metric-shouldnt-be-used-to-evaluate-nearest-neighbour-classification-1fe314f460a2"
      ]
    },
    {
      "cell_type": "markdown",
      "metadata": {
        "id": "BSqvhG--g5Z-"
      },
      "source": [
        "https://towardsdatascience.com/7-over-sampling-techniques-to-handle-imbalanced-data-ec51c8db349f"
      ]
    },
    {
      "cell_type": "markdown",
      "metadata": {
        "id": "hC2MnolmT-kH"
      },
      "source": [
        "## <h3> BOW(Bi-gram)"
      ]
    },
    {
      "cell_type": "code",
      "execution_count": null,
      "metadata": {
        "id": "4UVa1clMPLnW"
      },
      "outputs": [],
      "source": [
        "from sklearn.feature_extraction.text import CountVectorizer\n",
        "\n",
        "vectorizer = CountVectorizer(ngram_range = (2,2),max_features= 10000)\n",
        "\n",
        "vectorizer.fit(X_train) # fitting on the training data,building the vocabulary and stuff.\n",
        "\n",
        "BOW_X_train = vectorizer.transform(X_train) \n",
        "BOW_X_cv    = vectorizer.transform(X_cv)\n",
        "BOW_X_test  = vectorizer.transform(X_test)"
      ]
    },
    {
      "cell_type": "code",
      "execution_count": null,
      "metadata": {
        "colab": {
          "base_uri": "https://localhost:8080/"
        },
        "id": "SEUUXcfdUpbn",
        "outputId": "7699e93a-7bf2-442d-d9e7-c42b9ceb18b6"
      },
      "outputs": [
        {
          "name": "stdout",
          "output_type": "stream",
          "text": [
            "some feature names:-- ['able buy', 'able eat', 'able find', 'able finish', 'able get', 'able give', 'able make', 'able order', 'able purchase', 'able try']\n",
            "BOW_X_train (8687, 10000)\n",
            "BOW_X_cv    (4280, 10000)\n",
            "BOW_X_test  (6387, 10000)\n",
            "<class 'scipy.sparse.csr.csr_matrix'>\n"
          ]
        }
      ],
      "source": [
        "print(\"some feature names:--\",vectorizer.get_feature_names()[:10])\n",
        "\n",
        "print(\"BOW_X_train\",BOW_X_train.shape)\n",
        "print(\"BOW_X_cv   \",BOW_X_cv.shape)\n",
        "print(\"BOW_X_test \",BOW_X_test.shape)\n",
        "\n",
        "print(type(BOW_X_train))"
      ]
    },
    {
      "cell_type": "code",
      "execution_count": null,
      "metadata": {
        "colab": {
          "base_uri": "https://localhost:8080/",
          "height": 456
        },
        "id": "9HbS_DTfUxvJ",
        "outputId": "46baa688-10f5-45ae-c881-f1ba8e49e0e8"
      },
      "outputs": [
        {
          "name": "stdout",
          "output_type": "stream",
          "text": [
            "CPU times: user 3 µs, sys: 0 ns, total: 3 µs\n",
            "Wall time: 6.91 µs\n"
          ]
        },
        {
          "name": "stderr",
          "output_type": "stream",
          "text": [
            "100%|██████████| 10/10 [00:48<00:00,  4.83s/it]\n"
          ]
        },
        {
          "data": {
            "image/png": "[encoded data removed]",
            "text/plain": [
              "<Figure size 720x432 with 1 Axes>"
            ]
          },
          "metadata": {
            "needs_background": "light"
          },
          "output_type": "display_data"
        }
      ],
      "source": [
        "%time\n",
        "from sklearn.metrics import roc_auc_score\n",
        "from sklearn.neighbors import KNeighborsClassifier\n",
        "\n",
        "auc_cv    = []\n",
        "auc_train = []\n",
        "k         = list(range(1,500,50) )\n",
        "\n",
        "for i in tqdm(range(1,500,50)):\n",
        "\n",
        "  knn = KNeighborsClassifier(n_neighbors = i, algorithm = 'brute',n_jobs = -1)\n",
        "\n",
        "  knn.fit(BOW_X_train,Y_train)\n",
        "  y_hat = knn.predict_proba(BOW_X_cv) # predict probabilities.\n",
        "  pos_prob = y_hat[:,1]               # selecting probabilities of positive class only.\n",
        "  auc_cv.append(roc_auc_score(Y_cv,pos_prob))\n",
        "\n",
        "  y_hat = knn.predict_proba(BOW_X_train)\n",
        "  pos_prob = y_hat[:,1]\n",
        "  auc_train.append(roc_auc_score(Y_train,pos_prob)) # appending the auc_score of different K for training data.\n",
        "\n",
        "\n",
        "plt.figure( figsize = (10,6) )\n",
        "\n",
        "plt.plot(k,auc_train,label = \"AUC Train\")\n",
        "plt.scatter(k,auc_train,label = \"AUC Train\")\n",
        "\n",
        "plt.plot(k,auc_cv,label = 'AUC Cv')\n",
        "plt.scatter(k,auc_cv,label = 'AUC Cv')\n",
        "\n",
        "plt.title(\"AUC vs K\")\n",
        "plt.xlabel('K')\n",
        "plt.ylabel('AUC')\n",
        "plt.legend() \n",
        "\n",
        "plt.show()"
      ]
    },
    {
      "cell_type": "markdown",
      "metadata": {
        "id": "tQmqSxkEV_Gg"
      },
      "source": [
        "Optimal K without using \"cosine\" metric is around 350"
      ]
    },
    {
      "cell_type": "code",
      "execution_count": null,
      "metadata": {
        "colab": {
          "base_uri": "https://localhost:8080/",
          "height": 456
        },
        "id": "DoPpY0jNU_qF",
        "outputId": "30cdab38-3d3a-4065-dd43-15c936db1fb1"
      },
      "outputs": [
        {
          "name": "stdout",
          "output_type": "stream",
          "text": [
            "CPU times: user 3 µs, sys: 0 ns, total: 3 µs\n",
            "Wall time: 8.11 µs\n"
          ]
        },
        {
          "name": "stderr",
          "output_type": "stream",
          "text": [
            "100%|██████████| 16/16 [01:00<00:00,  3.80s/it]\n"
          ]
        },
        {
          "data": {
            "image/png": "[encoded data removed]",
            "text/plain": [
              "<Figure size 720x432 with 1 Axes>"
            ]
          },
          "metadata": {
            "needs_background": "light"
          },
          "output_type": "display_data"
        }
      ],
      "source": [
        "%time\n",
        "from sklearn.metrics import roc_auc_score\n",
        "from sklearn.neighbors import KNeighborsClassifier\n",
        "\n",
        "auc_cv    = []\n",
        "auc_train = []\n",
        "k         = list(range(1,80,5) )\n",
        "\n",
        "for i in tqdm(range(1,80,5)):\n",
        "\n",
        "  knn = KNeighborsClassifier(n_neighbors = i, algorithm = 'brute',n_jobs = -1,metric='cosine')\n",
        "\n",
        "  knn.fit(BOW_X_train,Y_train)\n",
        "  y_hat = knn.predict_proba(BOW_X_cv) # predict probabilities.\n",
        "  pos_prob = y_hat[:,1]               # selecting probabilities of positive class only.\n",
        "  auc_cv.append(roc_auc_score(Y_cv,pos_prob))\n",
        "\n",
        "  y_hat = knn.predict_proba(BOW_X_train)\n",
        "  pos_prob = y_hat[:,1]\n",
        "  auc_train.append(roc_auc_score(Y_train,pos_prob)) # appending the auc_score of different K for training data.\n",
        "\n",
        "\n",
        "plt.figure( figsize = (10,6) )\n",
        "\n",
        "plt.plot(k,auc_train,label = \"AUC Train\")\n",
        "plt.scatter(k,auc_train,label = \"AUC Train\")\n",
        "\n",
        "plt.plot(k,auc_cv,label = 'AUC Cv')\n",
        "plt.scatter(k,auc_cv,label = 'AUC Cv')\n",
        "\n",
        "plt.title(\"AUC vs K\")\n",
        "plt.xlabel('K')\n",
        "plt.ylabel('AUC')\n",
        "plt.legend() \n",
        "\n",
        "plt.show()"
      ]
    },
    {
      "cell_type": "markdown",
      "metadata": {
        "id": "NrpZKk-rWIAj"
      },
      "source": [
        "optimal k is around 55"
      ]
    },
    {
      "cell_type": "code",
      "execution_count": null,
      "metadata": {
        "colab": {
          "base_uri": "https://localhost:8080/",
          "height": 548
        },
        "id": "aA_cC_44VjIg",
        "outputId": "20cb1402-c722-4dfc-ebd1-f6a48f17c975"
      },
      "outputs": [
        {
          "name": "stdout",
          "output_type": "stream",
          "text": [
            "CPU times: user 3 µs, sys: 0 ns, total: 3 µs\n",
            "Wall time: 6.44 µs\n"
          ]
        },
        {
          "data": {
            "image/png": "[encoded data removed]",
            "text/plain": [
              "<Figure size 720x576 with 1 Axes>"
            ]
          },
          "metadata": {
            "needs_background": "light"
          },
          "output_type": "display_data"
        }
      ],
      "source": [
        "%time\n",
        "from sklearn.neighbors import KNeighborsClassifier\n",
        "from sklearn.metrics   import roc_auc_score\n",
        "\n",
        "knn = KNeighborsClassifier(n_neighbors=55,algorithm='brute',n_jobs=-1,metric= 'cosine') # selecting an odd k\n",
        "\n",
        "knn.fit(BOW_X_train,Y_train)\n",
        "\n",
        "y_hat = knn.predict_proba(BOW_X_cv)\n",
        "pos_prob_cv = y_hat[:,1]\n",
        "\n",
        "fpr_test, tpr_test, thresholds = roc_curve(Y_cv,pos_prob_cv)\n",
        "\n",
        "y_hat = knn.predict_proba(BOW_X_train)\n",
        "pos_prob_train = y_hat[:,1]\n",
        "\n",
        "fpr_train, tpr_train, thresholds = roc_curve(Y_train,pos_prob_train)\n",
        "\n",
        "plt.figure(figsize=(10,8))\n",
        "\n",
        "plt.plot(fpr_test, tpr_test ,label = \" Cross Validated ROC, AUC  = \" + str(roc_auc_score(Y_cv,pos_prob_cv)))\n",
        "plt.plot(fpr_train,tpr_train,label = \" TRAIN ROC, AUC            = \" + str(roc_auc_score(Y_train,pos_prob_train)))\n",
        "\n",
        "plt.title('ROC')\n",
        "plt.xlabel('FPR')\n",
        "plt.ylabel('TPR')\n",
        "plt.legend()\n",
        "\n",
        "plt.show()"
      ]
    },
    {
      "cell_type": "markdown",
      "metadata": {
        "id": "cP7EGdlvWyCH"
      },
      "source": [
        "AUC score has increased immensely from 0.76(uni-gram) to 0.83(bi-grams)"
      ]
    },
    {
      "cell_type": "code",
      "execution_count": null,
      "metadata": {
        "colab": {
          "base_uri": "https://localhost:8080/",
          "height": 560
        },
        "id": "u_xbUfZdXB4X",
        "outputId": "dc94e421-e683-41bd-e119-5a3f8c90dd7f"
      },
      "outputs": [
        {
          "data": {
            "image/png": "[encoded data removed]",
            "text/plain": [
              "<Figure size 576x432 with 2 Axes>"
            ]
          },
          "metadata": {
            "needs_background": "light"
          },
          "output_type": "display_data"
        },
        {
          "name": "stdout",
          "output_type": "stream",
          "text": [
            "              precision    recall  f1-score   support\n",
            "\n",
            "           0       0.78      0.13      0.22       988\n",
            "           1       0.86      0.99      0.92      5399\n",
            "\n",
            "    accuracy                           0.86      6387\n",
            "   macro avg       0.82      0.56      0.57      6387\n",
            "weighted avg       0.85      0.86      0.81      6387\n",
            "\n"
          ]
        }
      ],
      "source": [
        "from sklearn.metrics import confusion_matrix\n",
        "from sklearn.metrics import classification_report\n",
        "\n",
        "knn = KNeighborsClassifier(n_neighbors=55,algorithm = 'brute',metric='cosine')\n",
        "                                               # chosing cosine metric because euclidean distance does not do good in higher dimesnions.\n",
        "knn.fit(BOW_X_train,Y_train)\n",
        "pred = knn.predict(BOW_X_test)\n",
        "\n",
        "matrix      = confusion_matrix(Y_test,pred)\n",
        "class_label = [\"NEGATIVE\",\"POSITIVE\"]\n",
        "\n",
        "df = pd.DataFrame(matrix,index=class_label,columns=class_label)\n",
        "\n",
        "plt.figure(figsize=(8,6))\n",
        "sns.heatmap(df,annot = True)\n",
        "plt.title(\"CONFUSION MATRIX\")\n",
        "plt.xlabel(\"Predicted Label\")\n",
        "plt.ylabel(\"ACTUAL Label\")\n",
        "\n",
        "plt.show()\n",
        "\n",
        "print(classification_report(Y_test, pred))"
      ]
    },
    {
      "cell_type": "code",
      "execution_count": null,
      "metadata": {
        "colab": {
          "base_uri": "https://localhost:8080/",
          "height": 560
        },
        "id": "-lx46WEIahHB",
        "outputId": "8a5c8c5c-b808-49ca-d681-ac1fa5000987"
      },
      "outputs": [
        {
          "data": {
            "image/png": "[encoded data removed]",
            "text/plain": [
              "<Figure size 576x432 with 2 Axes>"
            ]
          },
          "metadata": {
            "needs_background": "light"
          },
          "output_type": "display_data"
        },
        {
          "name": "stdout",
          "output_type": "stream",
          "text": [
            "              precision    recall  f1-score   support\n",
            "\n",
            "           0       0.78      0.13      0.22       988\n",
            "           1       0.86      0.99      0.92      5399\n",
            "\n",
            "    accuracy                           0.86      6387\n",
            "   macro avg       0.82      0.56      0.57      6387\n",
            "weighted avg       0.85      0.86      0.81      6387\n",
            "\n"
          ]
        }
      ],
      "source": [
        "from sklearn.metrics import confusion_matrix\n",
        "from sklearn.metrics import classification_report\n",
        "\n",
        "knn = KNeighborsClassifier(n_neighbors=55,algorithm = 'brute',metric='cosine')\n",
        "                                               # chosing cosine metric because euclidean distance does not do good in higher dimesnions.\n",
        "knn.fit(BOW_X_train,Y_train)\n",
        "pred = knn.predict(BOW_X_test)\n",
        "\n",
        "matrix      = confusion_matrix(Y_test,pred)\n",
        "class_label = [\"NEGATIVE\",\"POSITIVE\"]\n",
        "\n",
        "df = pd.DataFrame(matrix,index=class_label,columns=class_label)\n",
        "\n",
        "plt.figure(figsize=(8,6))\n",
        "sns.heatmap(df,annot = True)\n",
        "plt.title(\"CONFUSION MATRIX\")\n",
        "plt.xlabel(\"Predicted Label\")\n",
        "plt.ylabel(\"ACTUAL Label\")\n",
        "\n",
        "plt.show()\n",
        "\n",
        "print(classification_report(Y_test, pred))"
      ]
    },
    {
      "cell_type": "markdown",
      "metadata": {
        "id": "tOVj9xMhcxye"
      },
      "source": [
        "The performance on test data remained the same"
      ]
    },
    {
      "cell_type": "markdown",
      "metadata": {
        "id": "eLcBoFd4c2oy"
      },
      "source": [
        "## <h3> BOW (ngram_range(1,2)"
      ]
    },
    {
      "cell_type": "code",
      "execution_count": null,
      "metadata": {
        "id": "d0Hwmf4SgBEr"
      },
      "outputs": [],
      "source": [
        "from sklearn.model_selection import train_test_split\n",
        "\n",
        "X_train, X_test, Y_train, Y_test = train_test_split(X,y,test_size = 0.33,random_state = 42)"
      ]
    },
    {
      "cell_type": "code",
      "execution_count": null,
      "metadata": {
        "id": "_br337bagCz0"
      },
      "outputs": [],
      "source": [
        "X_train,X_cv,Y_train,Y_cv = train_test_split(X_train,Y_train,test_size = 0.33,random_state = 42) "
      ]
    },
    {
      "cell_type": "code",
      "execution_count": null,
      "metadata": {
        "id": "RcmHBrQXcjfq"
      },
      "outputs": [],
      "source": [
        "from sklearn.feature_extraction.text import CountVectorizer\n",
        "\n",
        "vectorizer = CountVectorizer(ngram_range=(1,2),max_features=5000)\n",
        "\n",
        "vectorizer.fit(X_train) # fitting on the training data,building the vocabulary and stuff.\n",
        "\n",
        "BOW_X_train = vectorizer.transform(X_train) \n",
        "BOW_X_cv    = vectorizer.transform(X_cv)\n",
        "BOW_X_test  = vectorizer.transform(X_test)"
      ]
    },
    {
      "cell_type": "code",
      "execution_count": null,
      "metadata": {
        "id": "63tXUglSt9T7"
      },
      "outputs": [],
      "source": [
        "from sklearn.preprocessing import Normalizer # \"Cosine metric\" requires data to be normalized\n",
        "Data_normalizer = Normalizer(norm='l2').fit(BOW_X_train)\n",
        "\n",
        "BOW_X_train     = Data_normalizer.transform(BOW_X_train)\n",
        "BOW_X_cv        = Data_normalizer.transform(BOW_X_cv)\n",
        "BOW_X_test      = Data_normalizer.transform(BOW_X_test)"
      ]
    },
    {
      "cell_type": "code",
      "execution_count": null,
      "metadata": {
        "colab": {
          "base_uri": "https://localhost:8080/"
        },
        "id": "prJD2kjhdI3o",
        "outputId": "8bfb6baf-bce8-45ec-d833-93d5b0912e0c"
      },
      "outputs": [
        {
          "name": "stdout",
          "output_type": "stream",
          "text": [
            "some feature names:-- ['ability', 'able', 'able buy', 'able find', 'able get', 'able use', 'absolute', 'absolute best', 'absolute favorite', 'absolutely']\n",
            "BOW_X_train (8687, 5000)\n",
            "BOW_X_cv    (4280, 5000)\n",
            "BOW_X_test  (6387, 5000)\n",
            "<class 'scipy.sparse.csr.csr_matrix'>\n"
          ]
        }
      ],
      "source": [
        "print(\"some feature names:--\",vectorizer.get_feature_names()[:10])\n",
        "\n",
        "print(\"BOW_X_train\",BOW_X_train.shape)\n",
        "print(\"BOW_X_cv   \",BOW_X_cv.shape)\n",
        "print(\"BOW_X_test \",BOW_X_test.shape)\n",
        "\n",
        "print(type(BOW_X_train))"
      ]
    },
    {
      "cell_type": "code",
      "execution_count": null,
      "metadata": {
        "colab": {
          "base_uri": "https://localhost:8080/",
          "height": 456
        },
        "id": "54NlWm7kdYeM",
        "outputId": "7884e7d9-de4b-4b46-ffec-33ab19a072bc"
      },
      "outputs": [
        {
          "name": "stdout",
          "output_type": "stream",
          "text": [
            "CPU times: user 3 µs, sys: 0 ns, total: 3 µs\n",
            "Wall time: 6.68 µs\n"
          ]
        },
        {
          "name": "stderr",
          "output_type": "stream",
          "text": [
            "100%|██████████| 7/7 [00:44<00:00,  6.31s/it]\n"
          ]
        },
        {
          "data": {
            "image/png": "[encoded data removed]",
            "text/plain": [
              "<Figure size 720x432 with 1 Axes>"
            ]
          },
          "metadata": {
            "needs_background": "light"
          },
          "output_type": "display_data"
        }
      ],
      "source": [
        "%time\n",
        "from sklearn.metrics import roc_auc_score\n",
        "from sklearn.neighbors import KNeighborsClassifier\n",
        "\n",
        "auc_cv    = []\n",
        "auc_train = []\n",
        "k         = list(range(1,65,10) )\n",
        "\n",
        "for i in tqdm(range(1,65,10)):\n",
        "\n",
        "  knn = KNeighborsClassifier(n_neighbors = i, algorithm = 'brute',n_jobs = -1,metric ='cosine')\n",
        "\n",
        "  knn.fit(BOW_X_train,Y_train)\n",
        "  y_hat = knn.predict_proba(BOW_X_cv) # predict probabilities.\n",
        "  pos_prob = y_hat[:,1]               # selecting probabilities of positive class only.\n",
        "  auc_cv.append(roc_auc_score(Y_cv,pos_prob))\n",
        "\n",
        "  y_hat = knn.predict_proba(BOW_X_train)\n",
        "  pos_prob = y_hat[:,1]\n",
        "  auc_train.append(roc_auc_score(Y_train,pos_prob)) # appending the auc_score of different K for training data.\n",
        "\n",
        "\n",
        "plt.figure( figsize = (10,6) )\n",
        "\n",
        "plt.plot(k,auc_train,label = \"AUC Train\")\n",
        "plt.scatter(k,auc_train,label = \"AUC Train\")\n",
        "\n",
        "plt.plot(k,auc_cv,label = 'AUC Cv')\n",
        "plt.scatter(k,auc_cv,label = 'AUC Cv')\n",
        "\n",
        "plt.title(\"AUC vs K\")\n",
        "plt.xlabel('K')\n",
        "plt.ylabel('AUC')\n",
        "plt.legend() \n",
        "\n",
        "plt.show()"
      ]
    },
    {
      "cell_type": "markdown",
      "metadata": {
        "id": "O_Aof2coeq63"
      },
      "source": [
        "optimal k = 40"
      ]
    },
    {
      "cell_type": "code",
      "execution_count": null,
      "metadata": {
        "colab": {
          "base_uri": "https://localhost:8080/",
          "height": 548
        },
        "id": "Om07xTf2dhb-",
        "outputId": "35d23dea-f7af-4bf2-bb7b-fa67ac6f262e"
      },
      "outputs": [
        {
          "name": "stdout",
          "output_type": "stream",
          "text": [
            "CPU times: user 3 µs, sys: 0 ns, total: 3 µs\n",
            "Wall time: 7.63 µs\n"
          ]
        },
        {
          "data": {
            "image/png": "[encoded data removed]",
            "text/plain": [
              "<Figure size 720x576 with 1 Axes>"
            ]
          },
          "metadata": {
            "needs_background": "light"
          },
          "output_type": "display_data"
        }
      ],
      "source": [
        "%time\n",
        "from sklearn.neighbors import KNeighborsClassifier\n",
        "from sklearn.metrics import   accuracy_score\n",
        "from sklearn.metrics import   precision_score\n",
        "from sklearn.metrics import   recall_score\n",
        "from sklearn.metrics import   f1_score\n",
        "from sklearn.metrics import   roc_auc_score\n",
        "\n",
        "knn = KNeighborsClassifier(n_neighbors=41,algorithm='brute',n_jobs=-1,metric = 'cosine') # selecting k according to AUC\n",
        "\n",
        "knn.fit(BOW_X_train,Y_train)\n",
        "\n",
        "y_hat = knn.predict_proba(BOW_X_cv)\n",
        "pos_prob_cv = y_hat[:,1]\n",
        "\n",
        "fpr_test, tpr_test, thresholds = roc_curve(Y_cv,pos_prob_cv)\n",
        "\n",
        "y_hat = knn.predict_proba(BOW_X_train)\n",
        "pos_prob_train = y_hat[:,1]\n",
        "\n",
        "fpr_train, tpr_train, thresholds = roc_curve(Y_train,pos_prob_train)\n",
        "\n",
        "plt.figure(figsize=(10,8))\n",
        "\n",
        "plt.plot(fpr_test, tpr_test ,label = \" Cross Validated ROC, AUC  = \" + str(roc_auc_score(Y_cv,pos_prob_cv)))\n",
        "plt.plot(fpr_train,tpr_train,label = \" TRAIN ROC, AUC            = \" + str(roc_auc_score(Y_train,pos_prob_train)))\n",
        "\n",
        "plt.title('ROC')\n",
        "plt.xlabel('FPR')\n",
        "plt.ylabel('TPR')\n",
        "plt.legend()\n",
        "\n",
        "plt.show()"
      ]
    },
    {
      "cell_type": "code",
      "execution_count": null,
      "metadata": {
        "colab": {
          "base_uri": "https://localhost:8080/",
          "height": 560
        },
        "id": "lBDlRs47dw0Q",
        "outputId": "6e2dac4b-0053-4753-e815-3e1ce3c1c0f8"
      },
      "outputs": [
        {
          "data": {
            "image/png": "[encoded data removed]",
            "text/plain": [
              "<Figure size 576x432 with 2 Axes>"
            ]
          },
          "metadata": {
            "needs_background": "light"
          },
          "output_type": "display_data"
        },
        {
          "name": "stdout",
          "output_type": "stream",
          "text": [
            "              precision    recall  f1-score   support\n",
            "\n",
            "           0       0.80      0.16      0.27       988\n",
            "           1       0.87      0.99      0.93      5399\n",
            "\n",
            "    accuracy                           0.86      6387\n",
            "   macro avg       0.83      0.58      0.60      6387\n",
            "weighted avg       0.86      0.86      0.82      6387\n",
            "\n"
          ]
        }
      ],
      "source": [
        "from sklearn.metrics import confusion_matrix\n",
        "from sklearn.metrics import classification_report\n",
        "\n",
        "knn = KNeighborsClassifier(n_neighbors=41,algorithm = 'brute',metric='cosine')\n",
        "                                               # chosing cosine metric because euclidean distance does not do good in higher dimesnions.\n",
        "knn.fit(BOW_X_train,Y_train)\n",
        "pred = knn.predict(BOW_X_test)\n",
        "\n",
        "matrix      = confusion_matrix(Y_test,pred)\n",
        "class_label = [\"NEGATIVE\",\"POSITIVE\"]\n",
        "\n",
        "df = pd.DataFrame(matrix,index=class_label,columns=class_label)\n",
        "\n",
        "plt.figure(figsize=(8,6))\n",
        "sns.heatmap(df,annot = True)\n",
        "plt.title(\"CONFUSION MATRIX\")\n",
        "plt.xlabel(\"Predicted Label\")\n",
        "plt.ylabel(\"ACTUAL Label\")\n",
        "\n",
        "plt.show()\n",
        "\n",
        "print(classification_report(Y_test, pred))"
      ]
    },
    {
      "cell_type": "markdown",
      "metadata": {
        "id": "1uykt25ipLtY"
      },
      "source": [
        "we increased \"Precision\" \"Recall\" and \"f1-score\" of the negative class compared to Bi-gram"
      ]
    },
    {
      "cell_type": "markdown",
      "metadata": {
        "id": "ZG0hzxl2qJre"
      },
      "source": [
        "# BOW(ngram_range(1,3)"
      ]
    },
    {
      "cell_type": "code",
      "execution_count": null,
      "metadata": {
        "id": "HUo01lxKd6P0"
      },
      "outputs": [],
      "source": [
        "from sklearn.feature_extraction.text import CountVectorizer\n",
        "\n",
        "vectorizer = CountVectorizer(ngram_range=(1,3),max_features=10000)\n",
        "\n",
        "vectorizer.fit(X_train) # fitting on the training data,building the vocabulary and stuff.\n",
        "\n",
        "BOW_X_train = vectorizer.transform(X_train) \n",
        "BOW_X_cv    = vectorizer.transform(X_cv)\n",
        "BOW_X_test  = vectorizer.transform(X_test)"
      ]
    },
    {
      "cell_type": "code",
      "execution_count": null,
      "metadata": {
        "id": "YkN6sQyxtU7W"
      },
      "outputs": [],
      "source": [
        "from sklearn.preprocessing import Normalizer\n",
        "Data_normalizer = Normalizer(norm='l2').fit(BOW_X_train)\n",
        "\n",
        "BOW_X_train     = Data_normalizer.transform(BOW_X_train)\n",
        "BOW_X_cv        = Data_normalizer.transform(BOW_X_cv)\n",
        "BOW_X_test      = Data_normalizer.transform(BOW_X_test)"
      ]
    },
    {
      "cell_type": "code",
      "execution_count": null,
      "metadata": {
        "colab": {
          "base_uri": "https://localhost:8080/"
        },
        "id": "ZHrIVTm5l1ma",
        "outputId": "382afe76-67a5-416e-8f7d-088b1f12e5ad"
      },
      "outputs": [
        {
          "name": "stdout",
          "output_type": "stream",
          "text": [
            "some feature names:-- ['ability', 'able', 'able buy', 'able eat', 'able find', 'able get', 'able make', 'able order', 'able purchase', 'able use']\n",
            "BOW_X_train (8687, 10000)\n",
            "BOW_X_cv    (4280, 10000)\n",
            "BOW_X_test  (6387, 10000)\n",
            "<class 'scipy.sparse.csr.csr_matrix'>\n"
          ]
        }
      ],
      "source": [
        "print(\"some feature names:--\",vectorizer.get_feature_names()[:10])\n",
        "\n",
        "print(\"BOW_X_train\",BOW_X_train.shape)\n",
        "print(\"BOW_X_cv   \",BOW_X_cv.shape)\n",
        "print(\"BOW_X_test \",BOW_X_test.shape)\n",
        "\n",
        "print(type(BOW_X_train))"
      ]
    },
    {
      "cell_type": "code",
      "execution_count": null,
      "metadata": {
        "colab": {
          "base_uri": "https://localhost:8080/",
          "height": 456
        },
        "id": "FSHJXDaMl37f",
        "outputId": "b82964b7-c2aa-4372-f669-93aa7476265e"
      },
      "outputs": [
        {
          "name": "stdout",
          "output_type": "stream",
          "text": [
            "CPU times: user 4 µs, sys: 0 ns, total: 4 µs\n",
            "Wall time: 6.44 µs\n"
          ]
        },
        {
          "name": "stderr",
          "output_type": "stream",
          "text": [
            "100%|██████████| 7/7 [00:44<00:00,  6.36s/it]\n"
          ]
        },
        {
          "data": {
            "image/png": "[encoded data removed]",
            "text/plain": [
              "<Figure size 720x432 with 1 Axes>"
            ]
          },
          "metadata": {
            "needs_background": "light"
          },
          "output_type": "display_data"
        }
      ],
      "source": [
        "%time\n",
        "from sklearn.metrics import roc_auc_score\n",
        "from sklearn.neighbors import KNeighborsClassifier\n",
        "\n",
        "auc_cv    = []\n",
        "auc_train = []\n",
        "k         = list(range(1,65,10) )\n",
        "\n",
        "for i in tqdm(range(1,65,10)):\n",
        "\n",
        "  knn = KNeighborsClassifier(n_neighbors = i, algorithm = 'brute',n_jobs = -1,metric ='cosine')\n",
        "\n",
        "  knn.fit(BOW_X_train,Y_train)\n",
        "  y_hat = knn.predict_proba(BOW_X_cv) # predict probabilities.\n",
        "  pos_prob = y_hat[:,1]               # selecting probabilities of positive class only.\n",
        "  auc_cv.append(roc_auc_score(Y_cv,pos_prob))\n",
        "\n",
        "  y_hat = knn.predict_proba(BOW_X_train)\n",
        "  pos_prob = y_hat[:,1]\n",
        "  auc_train.append(roc_auc_score(Y_train,pos_prob)) # appending the auc_score of different K for training data.\n",
        "\n",
        "\n",
        "plt.figure( figsize = (10,6) )\n",
        "\n",
        "plt.plot(k,auc_train,label = \"AUC Train\")\n",
        "plt.scatter(k,auc_train,label = \"AUC Train\")\n",
        "\n",
        "plt.plot(k,auc_cv,label = 'AUC Cv')\n",
        "plt.scatter(k,auc_cv,label = 'AUC Cv')\n",
        "\n",
        "plt.title(\"AUC vs K\")\n",
        "plt.xlabel('K')\n",
        "plt.ylabel('AUC')\n",
        "plt.legend() \n",
        "\n",
        "plt.show()"
      ]
    },
    {
      "cell_type": "markdown",
      "metadata": {
        "id": "DerbnWEnm517"
      },
      "source": [
        "Optimal k = 30"
      ]
    },
    {
      "cell_type": "code",
      "execution_count": null,
      "metadata": {
        "colab": {
          "base_uri": "https://localhost:8080/",
          "height": 548
        },
        "id": "fv7lo5I-l6q2",
        "outputId": "f4b879ed-ee14-4487-f479-e15b8f6c15c1"
      },
      "outputs": [
        {
          "name": "stdout",
          "output_type": "stream",
          "text": [
            "CPU times: user 2 µs, sys: 0 ns, total: 2 µs\n",
            "Wall time: 6.68 µs\n"
          ]
        },
        {
          "data": {
            "image/png": "[encoded data removed]",
            "text/plain": [
              "<Figure size 720x576 with 1 Axes>"
            ]
          },
          "metadata": {
            "needs_background": "light"
          },
          "output_type": "display_data"
        }
      ],
      "source": [
        "%time\n",
        "from sklearn.neighbors import KNeighborsClassifier\n",
        "from sklearn.metrics import   roc_auc_score\n",
        "\n",
        "knn = KNeighborsClassifier(n_neighbors=31,algorithm='brute',n_jobs=-1,metric = 'cosine') # selecting k according to AUC\n",
        "\n",
        "knn.fit(BOW_X_train,Y_train)\n",
        "\n",
        "y_hat = knn.predict_proba(BOW_X_cv)\n",
        "pos_prob_cv = y_hat[:,1]\n",
        "\n",
        "fpr_test, tpr_test, thresholds = roc_curve(Y_cv,pos_prob_cv)\n",
        "\n",
        "y_hat = knn.predict_proba(BOW_X_train)\n",
        "pos_prob_train = y_hat[:,1]\n",
        "\n",
        "fpr_train, tpr_train, thresholds = roc_curve(Y_train,pos_prob_train)\n",
        "\n",
        "plt.figure(figsize=(10,8))\n",
        "\n",
        "plt.plot(fpr_test, tpr_test ,label = \" Cross Validated ROC, AUC  = \" + str(roc_auc_score(Y_cv,pos_prob_cv)))\n",
        "plt.plot(fpr_train,tpr_train,label = \" TRAIN ROC, AUC            = \" + str(roc_auc_score(Y_train,pos_prob_train)))\n",
        "\n",
        "plt.title('ROC')\n",
        "plt.xlabel('FPR')\n",
        "plt.ylabel('TPR')\n",
        "plt.legend()\n",
        "\n",
        "plt.show()"
      ]
    },
    {
      "cell_type": "code",
      "execution_count": null,
      "metadata": {
        "colab": {
          "base_uri": "https://localhost:8080/",
          "height": 451
        },
        "id": "Kt0W_gMGmDAj",
        "outputId": "b952e539-a602-44cf-d9e4-a492104d2b04"
      },
      "outputs": [
        {
          "data": {
            "image/png": "[encoded data removed]",
            "text/plain": [
              "<Figure size 432x288 with 2 Axes>"
            ]
          },
          "metadata": {
            "needs_background": "light"
          },
          "output_type": "display_data"
        },
        {
          "name": "stdout",
          "output_type": "stream",
          "text": [
            "              precision    recall  f1-score   support\n",
            "\n",
            "           0       0.80      0.21      0.34       988\n",
            "           1       0.87      0.99      0.93      5399\n",
            "\n",
            "    accuracy                           0.87      6387\n",
            "   macro avg       0.84      0.60      0.63      6387\n",
            "weighted avg       0.86      0.87      0.84      6387\n",
            "\n"
          ]
        }
      ],
      "source": [
        "from sklearn.metrics import confusion_matrix\n",
        "from sklearn.metrics import classification_report\n",
        "\n",
        "knn = KNeighborsClassifier(n_neighbors=31,algorithm = 'brute',metric='cosine')\n",
        "\n",
        "knn.fit(BOW_X_train,Y_train)\n",
        "pred = knn.predict(BOW_X_test)\n",
        "\n",
        "matrix      = confusion_matrix(Y_test,pred)\n",
        "class_label = [\"NEGATIVE\",\"POSITIVE\"]\n",
        "\n",
        "df = pd.DataFrame(matrix,index=class_label,columns=class_label)\n",
        "\n",
        "plt.figure(figsize=(6,4))\n",
        "sns.heatmap(df,annot = True)\n",
        "plt.title(\"CONFUSION MATRIX\")\n",
        "plt.xlabel(\"Predicted Label\")\n",
        "plt.ylabel(\"ACTUAL Label\")\n",
        "\n",
        "plt.show()\n",
        "\n",
        "print(classification_report(Y_test, pred))"
      ]
    },
    {
      "cell_type": "markdown",
      "metadata": {
        "id": "emi94QPjosMi"
      },
      "source": [
        "comparing to our ngram_range(1,2), we were able to increase the \"Recall\" and \"f1_score\" for same precision when used ngram_range(1,2)"
      ]
    },
    {
      "cell_type": "markdown",
      "metadata": {
        "id": "lrx6XF_pqqNx"
      },
      "source": [
        "# TF-IDF"
      ]
    },
    {
      "cell_type": "code",
      "execution_count": null,
      "metadata": {
        "id": "zNsAjYG5qul1"
      },
      "outputs": [],
      "source": [
        "from sklearn.feature_extraction.text import TfidfVectorizer\n",
        "\n",
        "vectorizer  = TfidfVectorizer(ngram_range = (1,2),norm = 'l2',min_df = 10,max_df = 0.7,max_features=5000)\n",
        "\n",
        "tf_idf_X_train = vectorizer.fit_transform(X_train)\n",
        "tf_idf_X_cv    = vectorizer.transform(X_cv)\n",
        "tf_idf_X_test  = vectorizer.transform(X_test)"
      ]
    },
    {
      "cell_type": "code",
      "execution_count": null,
      "metadata": {
        "colab": {
          "base_uri": "https://localhost:8080/"
        },
        "id": "y8-dVoCZrHrh",
        "outputId": "d1bbe6e7-cdab-4f40-f9bf-bbeec3643c0a"
      },
      "outputs": [
        {
          "name": "stdout",
          "output_type": "stream",
          "text": [
            "some feature names:-- ['ability', 'able', 'able buy', 'able find', 'able get', 'able order', 'able use', 'absolute', 'absolute best', 'absolute favorite']\n",
            "tf_idf_X_train (8687, 5000)\n",
            "tf_idf_X_cv    (4280, 5000)\n",
            "tf_idf_X_test  (6387, 5000)\n",
            "<class 'scipy.sparse.csr.csr_matrix'>\n"
          ]
        }
      ],
      "source": [
        "print(\"some feature names:--\",vectorizer.get_feature_names()[:10])\n",
        "\n",
        "print(\"tf_idf_X_train\",tf_idf_X_train.shape)\n",
        "print(\"tf_idf_X_cv   \",tf_idf_X_cv.shape)\n",
        "print(\"tf_idf_X_test \",tf_idf_X_test.shape)\n",
        "\n",
        "print(type(tf_idf_X_train))"
      ]
    },
    {
      "cell_type": "code",
      "execution_count": null,
      "metadata": {
        "colab": {
          "base_uri": "https://localhost:8080/",
          "height": 456
        },
        "id": "r55_EBFjsvye",
        "outputId": "e1e52449-0b33-401d-ef06-c2db7c5e8c16"
      },
      "outputs": [
        {
          "name": "stdout",
          "output_type": "stream",
          "text": [
            "CPU times: user 3 µs, sys: 0 ns, total: 3 µs\n",
            "Wall time: 7.15 µs\n"
          ]
        },
        {
          "name": "stderr",
          "output_type": "stream",
          "text": [
            "100%|██████████| 10/10 [01:04<00:00,  6.43s/it]\n"
          ]
        },
        {
          "data": {
            "image/png": "[encoded data removed]",
            "text/plain": [
              "<Figure size 720x432 with 1 Axes>"
            ]
          },
          "metadata": {
            "needs_background": "light"
          },
          "output_type": "display_data"
        }
      ],
      "source": [
        "%time\n",
        "from sklearn.metrics import roc_auc_score\n",
        "from sklearn.neighbors import KNeighborsClassifier\n",
        "\n",
        "auc_cv    = []\n",
        "auc_train = []\n",
        "k         = list(range(1,70,7) )\n",
        "\n",
        "for i in tqdm(range(1,70,7)):\n",
        "\n",
        "  knn = KNeighborsClassifier(n_neighbors = i, algorithm = 'brute',n_jobs = -1,metric ='cosine')\n",
        "\n",
        "  knn.fit(tf_idf_X_train,Y_train)\n",
        "  y_hat = knn.predict_proba(tf_idf_X_cv) # predict probabilities.\n",
        "  pos_prob = y_hat[:,1]                  # selecting probabilities of positive class only.\n",
        "  auc_cv.append(roc_auc_score(Y_cv,pos_prob))\n",
        "\n",
        "  y_hat = knn.predict_proba(tf_idf_X_train)\n",
        "  pos_prob = y_hat[:,1]\n",
        "  auc_train.append(roc_auc_score(Y_train,pos_prob)) # appending the auc_score of different K for training data.\n",
        "\n",
        "\n",
        "plt.figure( figsize = (10,6) )\n",
        "\n",
        "plt.plot(k,auc_train,label = \"AUC Train\")\n",
        "plt.scatter(k,auc_train,label = \"AUC Train\")\n",
        "\n",
        "plt.plot(k,auc_cv,label = 'AUC Cv')\n",
        "plt.scatter(k,auc_cv,label = 'AUC Cv')\n",
        "\n",
        "plt.title(\"AUC vs K\")\n",
        "plt.xlabel('K')\n",
        "plt.ylabel('AUC')\n",
        "plt.legend() \n",
        "\n",
        "plt.show()"
      ]
    },
    {
      "cell_type": "code",
      "execution_count": null,
      "metadata": {
        "colab": {
          "base_uri": "https://localhost:8080/",
          "height": 548
        },
        "id": "iDRF7qlkxyKs",
        "outputId": "aee64306-dee1-4703-e4d3-2b08de777565"
      },
      "outputs": [
        {
          "name": "stdout",
          "output_type": "stream",
          "text": [
            "CPU times: user 3 µs, sys: 0 ns, total: 3 µs\n",
            "Wall time: 6.91 µs\n"
          ]
        },
        {
          "data": {
            "image/png": "[encoded data removed]",
            "text/plain": [
              "<Figure size 720x576 with 1 Axes>"
            ]
          },
          "metadata": {
            "needs_background": "light"
          },
          "output_type": "display_data"
        }
      ],
      "source": [
        "%time\n",
        "from sklearn.neighbors import KNeighborsClassifier\n",
        "from sklearn.metrics import   roc_auc_score\n",
        "\n",
        "knn = KNeighborsClassifier(n_neighbors=65,algorithm='brute',n_jobs=-1,metric = 'cosine') # selecting k according to AUC\n",
        "\n",
        "knn.fit(tf_idf_X_train,Y_train)\n",
        "\n",
        "y_hat = knn.predict_proba(tf_idf_X_cv)\n",
        "pos_prob_cv = y_hat[:,1]\n",
        "\n",
        "fpr_test, tpr_test, thresholds = roc_curve(Y_cv,pos_prob_cv)\n",
        "\n",
        "y_hat = knn.predict_proba(tf_idf_X_train)\n",
        "pos_prob_train = y_hat[:,1]\n",
        "\n",
        "fpr_train, tpr_train, thresholds = roc_curve(Y_train,pos_prob_train)\n",
        "\n",
        "plt.figure(figsize=(10,8))\n",
        "\n",
        "plt.plot(fpr_test, tpr_test ,label = \" Cross Validated ROC, AUC  = \" + str(roc_auc_score(Y_cv,pos_prob_cv)))\n",
        "plt.plot(fpr_train,tpr_train,label = \" TRAIN ROC, AUC            = \" + str(roc_auc_score(Y_train,pos_prob_train)))\n",
        "\n",
        "plt.title('ROC')\n",
        "plt.xlabel('FPR')\n",
        "plt.ylabel('TPR')\n",
        "plt.legend()\n",
        "\n",
        "plt.show()"
      ]
    },
    {
      "cell_type": "code",
      "execution_count": null,
      "metadata": {
        "colab": {
          "base_uri": "https://localhost:8080/",
          "height": 451
        },
        "id": "xULRHz48yBJw",
        "outputId": "eef39309-b132-4c8b-b319-09f5896022e3"
      },
      "outputs": [
        {
          "data": {
            "image/png": "[encoded data removed]",
            "text/plain": [
              "<Figure size 432x288 with 2 Axes>"
            ]
          },
          "metadata": {
            "needs_background": "light"
          },
          "output_type": "display_data"
        },
        {
          "name": "stdout",
          "output_type": "stream",
          "text": [
            "              precision    recall  f1-score   support\n",
            "\n",
            "           0       0.91      0.05      0.10       988\n",
            "           1       0.85      1.00      0.92      5399\n",
            "\n",
            "    accuracy                           0.85      6387\n",
            "   macro avg       0.88      0.53      0.51      6387\n",
            "weighted avg       0.86      0.85      0.79      6387\n",
            "\n"
          ]
        }
      ],
      "source": [
        "from sklearn.metrics import confusion_matrix\n",
        "from sklearn.metrics import classification_report\n",
        "\n",
        "knn = KNeighborsClassifier(n_neighbors=65,algorithm = 'brute',metric='cosine')\n",
        "\n",
        "knn.fit(tf_idf_X_train,Y_train)\n",
        "pred = knn.predict(tf_idf_X_test)\n",
        "\n",
        "matrix      = confusion_matrix(Y_test,pred)\n",
        "class_label = [\"NEGATIVE\",\"POSITIVE\"]\n",
        "\n",
        "df = pd.DataFrame(matrix,index=class_label,columns=class_label)\n",
        "\n",
        "plt.figure(figsize=(6,4))\n",
        "sns.heatmap(df,annot = True)\n",
        "plt.title(\"CONFUSION MATRIX\")\n",
        "plt.xlabel(\"Predicted Label\")\n",
        "plt.ylabel(\"ACTUAL Label\")\n",
        "\n",
        "plt.show()\n",
        "\n",
        "print(classification_report(Y_test, pred))"
      ]
    },
    {
      "cell_type": "markdown",
      "metadata": {
        "id": "9TRRXhE4Gb5b"
      },
      "source": [
        "# UnderSampling"
      ]
    },
    {
      "cell_type": "code",
      "execution_count": null,
      "metadata": {
        "cellView": "code",
        "colab": {
          "base_uri": "https://localhost:8080/"
        },
        "id": "dfFLCYMJGmlt",
        "outputId": "d1a7ebd5-b056-4efa-8150-09aa62268828"
      },
      "outputs": [
        {
          "data": {
            "text/plain": [
              "1    8321\n",
              "Name: Score, dtype: int64"
            ]
          },
          "execution_count": 306,
          "metadata": {},
          "output_type": "execute_result"
        }
      ],
      "source": [
        "# to be done later\n",
        "filtered_data['Score'].value_counts()\n",
        "negative_data = filtered_data[ (filtered_data['Score'] == 1 ) | (filtered_data['Score'] == 2) ]\n",
        "\n",
        "negative_data['Score'].value_counts().sum()\n",
        "filtered_data['Score'].values\n",
        "positive_data = filtered_data[ (filtered_data['Score'] == 4 ) | (filtered_data['Score'] == 5) ]\n",
        "\n",
        "positive_data['Score'].value_counts()\n",
        "  \n",
        "negative_data_size = negative_data.shape[0] # selecting first argument returned by shape attribute\n",
        "balanced_positive_data = positive_data.head(negative_data_size)\n",
        "\n",
        "balanced_positive_data.shape\n",
        "filtered_data = pd.concat([ negative_data,balanced_positive_data],ignore_index=True)\n",
        "\n",
        "filtered_data['Score'].value_counts()"
      ]
    },
    {
      "cell_type": "code",
      "execution_count": null,
      "metadata": {
        "id": "wo1Oxa41Gf8S"
      },
      "outputs": [],
      "source": []
    }
  ],
  "metadata": {
    "colab": {
      "collapsed_sections": [
        "k06v0gYWQFd9",
        "hC2MnolmT-kH",
        "eLcBoFd4c2oy",
        "ZG0hzxl2qJre",
        "lrx6XF_pqqNx",
        "9TRRXhE4Gb5b"
      ],
      "include_colab_link": true,
      "name": " Amazon Fine Food Reviews using KNN .ipynb",
      "provenance": []
    },
    "interpreter": {
      "hash": "30fcbf030ddeac3cf2c21b035504007673aab5c55395612ce6bddd5277f642de"
    },
    "kernelspec": {
      "display_name": "Python 3.6.5 64-bit ('base': conda)",
      "name": "python3"
    },
    "language_info": {
      "name": "python",
      "version": "3.6.5"
    }
  },
  "nbformat": 4,
  "nbformat_minor": 2
}
