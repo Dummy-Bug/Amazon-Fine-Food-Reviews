{
  "nbformat": 4,
  "nbformat_minor": 0,
  "metadata": {
    "colab": {
      "name": "Amazon Fine Food Reviews using Logistic Regression .ipynb",
      "provenance": [],
      "collapsed_sections": [],
      "include_colab_link": true
    },
    "kernelspec": {
      "display_name": "Python 3",
      "language": "python",
      "name": "python3"
    }
  },
  "cells": [
    {
      "cell_type": "markdown",
      "metadata": {
        "id": "view-in-github",
        "colab_type": "text"
      },
      "source": [
        "<a href=\"https://colab.research.google.com/github/Dummy-Bug/Amazon-Fine-Food-Reviews/blob/master/Amazon_Fine_Food_Reviews_using_Logistic_Regression_.ipynb\" target=\"_parent\"><img src=\"https://colab.research.google.com/assets/colab-badge.svg\" alt=\"Open In Colab\"/></a>"
      ]
    },
    {
      "cell_type": "code",
      "metadata": {
        "id": "PvDdRsHgCAY5"
      },
      "source": [
        "%matplotlib inline\n",
        "import warnings\n",
        "warnings.filterwarnings(\"ignore\")\n",
        "\n",
        "\n",
        "\n",
        "import sqlite3\n",
        "import pandas as pd\n",
        "import numpy as np\n",
        "import nltk\n",
        "import string\n",
        "import matplotlib.pyplot as plt\n",
        "import seaborn as sns\n",
        "from sklearn.feature_extraction.text import TfidfTransformer\n",
        "\n",
        "from sklearn.metrics import confusion_matrix\n",
        "from sklearn import metrics\n",
        "from sklearn.metrics import roc_curve, auc\n",
        "from nltk.stem.porter import PorterStemmer\n",
        "\n",
        "import re\n",
        "# Tutorial about Python regular expressions: https://pymotw.com/2/re/\n",
        "import string\n",
        "from nltk.corpus import stopwords\n",
        "from nltk.stem import PorterStemmer\n",
        "from nltk.stem.wordnet import WordNetLemmatizer\n",
        "\n",
        "from gensim.models import KeyedVectors\n",
        "import pickle\n",
        "\n",
        "from tqdm import tqdm\n",
        "import os"
      ],
      "execution_count": 1,
      "outputs": []
    },
    {
      "cell_type": "code",
      "metadata": {
        "colab": {
          "base_uri": "https://localhost:8080/"
        },
        "id": "2B70Fd6cd93z",
        "outputId": "f72136d8-5858-4937-fc7c-ab7891a068bf"
      },
      "source": [
        "! sudo pip install imbalanced-learn"
      ],
      "execution_count": 2,
      "outputs": [
        {
          "output_type": "stream",
          "name": "stdout",
          "text": [
            "Requirement already satisfied: imbalanced-learn in /usr/local/lib/python3.7/dist-packages (0.8.1)\n",
            "Requirement already satisfied: scipy>=0.19.1 in /usr/local/lib/python3.7/dist-packages (from imbalanced-learn) (1.4.1)\n",
            "Requirement already satisfied: numpy>=1.13.3 in /usr/local/lib/python3.7/dist-packages (from imbalanced-learn) (1.19.5)\n",
            "Requirement already satisfied: scikit-learn>=0.24 in /usr/local/lib/python3.7/dist-packages (from imbalanced-learn) (1.0.1)\n",
            "Requirement already satisfied: joblib>=0.11 in /usr/local/lib/python3.7/dist-packages (from imbalanced-learn) (1.1.0)\n",
            "Requirement already satisfied: threadpoolctl>=2.0.0 in /usr/local/lib/python3.7/dist-packages (from scikit-learn>=0.24->imbalanced-learn) (3.0.0)\n"
          ]
        }
      ]
    },
    {
      "cell_type": "code",
      "metadata": {
        "colab": {
          "base_uri": "https://localhost:8080/"
        },
        "id": "_sJPOt7seDow",
        "outputId": "69811015-d93b-4240-b1ef-29bbc03d5da0"
      },
      "source": [
        "# check version number\n",
        "import imblearn\n",
        "print(imblearn.__version__)"
      ],
      "execution_count": 3,
      "outputs": [
        {
          "output_type": "stream",
          "name": "stdout",
          "text": [
            "0.8.1\n"
          ]
        }
      ]
    },
    {
      "cell_type": "markdown",
      "metadata": {
        "id": "QOI7X2YgCAY_"
      },
      "source": [
        "# [1]. Reading Data"
      ]
    },
    {
      "cell_type": "code",
      "metadata": {
        "colab": {
          "base_uri": "https://localhost:8080/"
        },
        "id": "VxDPNWYCOQuc",
        "outputId": "465b38be-3549-4826-ee7f-45451c2ce540"
      },
      "source": [
        "from google.colab import drive\n",
        "drive.mount('/content/drive')"
      ],
      "execution_count": 4,
      "outputs": [
        {
          "output_type": "stream",
          "name": "stdout",
          "text": [
            "Mounted at /content/drive\n"
          ]
        }
      ]
    },
    {
      "cell_type": "code",
      "metadata": {
        "colab": {
          "base_uri": "https://localhost:8080/",
          "height": 397
        },
        "id": "3iYH2p1ECAZA",
        "outputId": "60ad064e-32f1-4168-cefd-892e3536a7da"
      },
      "source": [
        "# using the SQLite Table to read data.\n",
        "con = sqlite3.connect('/content/drive/MyDrive/Data sets/database.sqlite') \n",
        "# filtering only positive and negative reviews i.e. \n",
        "# not taking into consideration those reviews with Score = 3\n",
        "# SELECT * FROM Reviews WHERE Score != 3 LIMIT 500000, will give top 500000 data points\n",
        "# you can change the number to any other number based on your computing power\n",
        "\n",
        "# * for tsne assignment you can take 5k data points *\n",
        "\n",
        "filtered_data = pd.read_sql_query(\"\"\" SELECT * FROM Reviews WHERE Score != 3 limit 20000 \"\"\", con)\n",
        "print(\"Number of data points in our data\", filtered_data.shape)\n",
        "filtered_data.head()\n"
      ],
      "execution_count": 5,
      "outputs": [
        {
          "output_type": "stream",
          "name": "stdout",
          "text": [
            "Number of data points in our data (20000, 10)\n"
          ]
        },
        {
          "output_type": "execute_result",
          "data": {
            "text/html": [
              "<div>\n",
              "<style scoped>\n",
              "    .dataframe tbody tr th:only-of-type {\n",
              "        vertical-align: middle;\n",
              "    }\n",
              "\n",
              "    .dataframe tbody tr th {\n",
              "        vertical-align: top;\n",
              "    }\n",
              "\n",
              "    .dataframe thead th {\n",
              "        text-align: right;\n",
              "    }\n",
              "</style>\n",
              "<table border=\"1\" class=\"dataframe\">\n",
              "  <thead>\n",
              "    <tr style=\"text-align: right;\">\n",
              "      <th></th>\n",
              "      <th>Id</th>\n",
              "      <th>ProductId</th>\n",
              "      <th>UserId</th>\n",
              "      <th>ProfileName</th>\n",
              "      <th>HelpfulnessNumerator</th>\n",
              "      <th>HelpfulnessDenominator</th>\n",
              "      <th>Score</th>\n",
              "      <th>Time</th>\n",
              "      <th>Summary</th>\n",
              "      <th>Text</th>\n",
              "    </tr>\n",
              "  </thead>\n",
              "  <tbody>\n",
              "    <tr>\n",
              "      <th>0</th>\n",
              "      <td>1</td>\n",
              "      <td>B001E4KFG0</td>\n",
              "      <td>A3SGXH7AUHU8GW</td>\n",
              "      <td>delmartian</td>\n",
              "      <td>1</td>\n",
              "      <td>1</td>\n",
              "      <td>5</td>\n",
              "      <td>1303862400</td>\n",
              "      <td>Good Quality Dog Food</td>\n",
              "      <td>I have bought several of the Vitality canned d...</td>\n",
              "    </tr>\n",
              "    <tr>\n",
              "      <th>1</th>\n",
              "      <td>2</td>\n",
              "      <td>B00813GRG4</td>\n",
              "      <td>A1D87F6ZCVE5NK</td>\n",
              "      <td>dll pa</td>\n",
              "      <td>0</td>\n",
              "      <td>0</td>\n",
              "      <td>1</td>\n",
              "      <td>1346976000</td>\n",
              "      <td>Not as Advertised</td>\n",
              "      <td>Product arrived labeled as Jumbo Salted Peanut...</td>\n",
              "    </tr>\n",
              "    <tr>\n",
              "      <th>2</th>\n",
              "      <td>3</td>\n",
              "      <td>B000LQOCH0</td>\n",
              "      <td>ABXLMWJIXXAIN</td>\n",
              "      <td>Natalia Corres \"Natalia Corres\"</td>\n",
              "      <td>1</td>\n",
              "      <td>1</td>\n",
              "      <td>4</td>\n",
              "      <td>1219017600</td>\n",
              "      <td>\"Delight\" says it all</td>\n",
              "      <td>This is a confection that has been around a fe...</td>\n",
              "    </tr>\n",
              "    <tr>\n",
              "      <th>3</th>\n",
              "      <td>4</td>\n",
              "      <td>B000UA0QIQ</td>\n",
              "      <td>A395BORC6FGVXV</td>\n",
              "      <td>Karl</td>\n",
              "      <td>3</td>\n",
              "      <td>3</td>\n",
              "      <td>2</td>\n",
              "      <td>1307923200</td>\n",
              "      <td>Cough Medicine</td>\n",
              "      <td>If you are looking for the secret ingredient i...</td>\n",
              "    </tr>\n",
              "    <tr>\n",
              "      <th>4</th>\n",
              "      <td>5</td>\n",
              "      <td>B006K2ZZ7K</td>\n",
              "      <td>A1UQRSCLF8GW1T</td>\n",
              "      <td>Michael D. Bigham \"M. Wassir\"</td>\n",
              "      <td>0</td>\n",
              "      <td>0</td>\n",
              "      <td>5</td>\n",
              "      <td>1350777600</td>\n",
              "      <td>Great taffy</td>\n",
              "      <td>Great taffy at a great price.  There was a wid...</td>\n",
              "    </tr>\n",
              "  </tbody>\n",
              "</table>\n",
              "</div>"
            ],
            "text/plain": [
              "   Id  ...                                               Text\n",
              "0   1  ...  I have bought several of the Vitality canned d...\n",
              "1   2  ...  Product arrived labeled as Jumbo Salted Peanut...\n",
              "2   3  ...  This is a confection that has been around a fe...\n",
              "3   4  ...  If you are looking for the secret ingredient i...\n",
              "4   5  ...  Great taffy at a great price.  There was a wid...\n",
              "\n",
              "[5 rows x 10 columns]"
            ]
          },
          "metadata": {},
          "execution_count": 5
        }
      ]
    },
    {
      "cell_type": "code",
      "metadata": {
        "colab": {
          "base_uri": "https://localhost:8080/"
        },
        "id": "00_hLLHFHu2I",
        "outputId": "d8971a52-beb4-424e-bd3b-f043f44aa100"
      },
      "source": [
        "filtered_data['Score'].value_counts()"
      ],
      "execution_count": 6,
      "outputs": [
        {
          "output_type": "execute_result",
          "data": {
            "text/plain": [
              "5    13745\n",
              "4     3110\n",
              "1     1953\n",
              "2     1192\n",
              "Name: Score, dtype: int64"
            ]
          },
          "metadata": {},
          "execution_count": 6
        }
      ]
    },
    {
      "cell_type": "markdown",
      "metadata": {
        "id": "M_KaIXnR-AUd"
      },
      "source": [
        "let's make the dataset balanced using Undersampling"
      ]
    },
    {
      "cell_type": "code",
      "metadata": {
        "colab": {
          "base_uri": "https://localhost:8080/",
          "height": 877
        },
        "id": "o5dPrgyQDN7s",
        "outputId": "75c1c50e-a2cb-4a50-f8b7-6b963d72b2fc"
      },
      "source": [
        "# Give reviews with Score>3 a positive rating, and reviews with a score<3 a negative rating.\n",
        "def partition(x):\n",
        "    if x < 3:\n",
        "        return 0 # 0 here means negative review\n",
        "    return 1 # it means review is positive\n",
        "\n",
        "# changing reviews with score less than 3 to be positive and vice-versa\n",
        "\n",
        "actualScore = filtered_data['Score']\n",
        "positiveNegative = actualScore.apply(partition) # we can use .apply() also but .map is preffered for series\n",
        "filtered_data['Score'] = positiveNegative\n",
        "\n",
        "print(\"Number of data points in our data\", filtered_data.shape)\n",
        "filtered_data"
      ],
      "execution_count": 7,
      "outputs": [
        {
          "output_type": "stream",
          "name": "stdout",
          "text": [
            "Number of data points in our data (20000, 10)\n"
          ]
        },
        {
          "output_type": "execute_result",
          "data": {
            "text/html": [
              "<div>\n",
              "<style scoped>\n",
              "    .dataframe tbody tr th:only-of-type {\n",
              "        vertical-align: middle;\n",
              "    }\n",
              "\n",
              "    .dataframe tbody tr th {\n",
              "        vertical-align: top;\n",
              "    }\n",
              "\n",
              "    .dataframe thead th {\n",
              "        text-align: right;\n",
              "    }\n",
              "</style>\n",
              "<table border=\"1\" class=\"dataframe\">\n",
              "  <thead>\n",
              "    <tr style=\"text-align: right;\">\n",
              "      <th></th>\n",
              "      <th>Id</th>\n",
              "      <th>ProductId</th>\n",
              "      <th>UserId</th>\n",
              "      <th>ProfileName</th>\n",
              "      <th>HelpfulnessNumerator</th>\n",
              "      <th>HelpfulnessDenominator</th>\n",
              "      <th>Score</th>\n",
              "      <th>Time</th>\n",
              "      <th>Summary</th>\n",
              "      <th>Text</th>\n",
              "    </tr>\n",
              "  </thead>\n",
              "  <tbody>\n",
              "    <tr>\n",
              "      <th>0</th>\n",
              "      <td>1</td>\n",
              "      <td>B001E4KFG0</td>\n",
              "      <td>A3SGXH7AUHU8GW</td>\n",
              "      <td>delmartian</td>\n",
              "      <td>1</td>\n",
              "      <td>1</td>\n",
              "      <td>1</td>\n",
              "      <td>1303862400</td>\n",
              "      <td>Good Quality Dog Food</td>\n",
              "      <td>I have bought several of the Vitality canned d...</td>\n",
              "    </tr>\n",
              "    <tr>\n",
              "      <th>1</th>\n",
              "      <td>2</td>\n",
              "      <td>B00813GRG4</td>\n",
              "      <td>A1D87F6ZCVE5NK</td>\n",
              "      <td>dll pa</td>\n",
              "      <td>0</td>\n",
              "      <td>0</td>\n",
              "      <td>0</td>\n",
              "      <td>1346976000</td>\n",
              "      <td>Not as Advertised</td>\n",
              "      <td>Product arrived labeled as Jumbo Salted Peanut...</td>\n",
              "    </tr>\n",
              "    <tr>\n",
              "      <th>2</th>\n",
              "      <td>3</td>\n",
              "      <td>B000LQOCH0</td>\n",
              "      <td>ABXLMWJIXXAIN</td>\n",
              "      <td>Natalia Corres \"Natalia Corres\"</td>\n",
              "      <td>1</td>\n",
              "      <td>1</td>\n",
              "      <td>1</td>\n",
              "      <td>1219017600</td>\n",
              "      <td>\"Delight\" says it all</td>\n",
              "      <td>This is a confection that has been around a fe...</td>\n",
              "    </tr>\n",
              "    <tr>\n",
              "      <th>3</th>\n",
              "      <td>4</td>\n",
              "      <td>B000UA0QIQ</td>\n",
              "      <td>A395BORC6FGVXV</td>\n",
              "      <td>Karl</td>\n",
              "      <td>3</td>\n",
              "      <td>3</td>\n",
              "      <td>0</td>\n",
              "      <td>1307923200</td>\n",
              "      <td>Cough Medicine</td>\n",
              "      <td>If you are looking for the secret ingredient i...</td>\n",
              "    </tr>\n",
              "    <tr>\n",
              "      <th>4</th>\n",
              "      <td>5</td>\n",
              "      <td>B006K2ZZ7K</td>\n",
              "      <td>A1UQRSCLF8GW1T</td>\n",
              "      <td>Michael D. Bigham \"M. Wassir\"</td>\n",
              "      <td>0</td>\n",
              "      <td>0</td>\n",
              "      <td>1</td>\n",
              "      <td>1350777600</td>\n",
              "      <td>Great taffy</td>\n",
              "      <td>Great taffy at a great price.  There was a wid...</td>\n",
              "    </tr>\n",
              "    <tr>\n",
              "      <th>...</th>\n",
              "      <td>...</td>\n",
              "      <td>...</td>\n",
              "      <td>...</td>\n",
              "      <td>...</td>\n",
              "      <td>...</td>\n",
              "      <td>...</td>\n",
              "      <td>...</td>\n",
              "      <td>...</td>\n",
              "      <td>...</td>\n",
              "      <td>...</td>\n",
              "    </tr>\n",
              "    <tr>\n",
              "      <th>19995</th>\n",
              "      <td>21784</td>\n",
              "      <td>B000KV61FC</td>\n",
              "      <td>A3FVKI0UH9DO2A</td>\n",
              "      <td>S. Malosh</td>\n",
              "      <td>1</td>\n",
              "      <td>1</td>\n",
              "      <td>1</td>\n",
              "      <td>1319414400</td>\n",
              "      <td>Occupies my dog for hours!</td>\n",
              "      <td>My 5-month-old Black Lab/Boston Terrier mix is...</td>\n",
              "    </tr>\n",
              "    <tr>\n",
              "      <th>19996</th>\n",
              "      <td>21785</td>\n",
              "      <td>B000KV61FC</td>\n",
              "      <td>A3ACVJEAM4L2LQ</td>\n",
              "      <td>Elb</td>\n",
              "      <td>1</td>\n",
              "      <td>1</td>\n",
              "      <td>1</td>\n",
              "      <td>1319155200</td>\n",
              "      <td>Keeps my big Dog busy for a long time!</td>\n",
              "      <td>My Doberman/pointer mix has a lot of extra ene...</td>\n",
              "    </tr>\n",
              "    <tr>\n",
              "      <th>19997</th>\n",
              "      <td>21786</td>\n",
              "      <td>B000KV61FC</td>\n",
              "      <td>AHHWZ4723VGOL</td>\n",
              "      <td>Sherry Lynn</td>\n",
              "      <td>1</td>\n",
              "      <td>1</td>\n",
              "      <td>0</td>\n",
              "      <td>1318809600</td>\n",
              "      <td>poor quality !!!!</td>\n",
              "      <td>This is a poor excuse for a dog toy . It laste...</td>\n",
              "    </tr>\n",
              "    <tr>\n",
              "      <th>19998</th>\n",
              "      <td>21787</td>\n",
              "      <td>B000KV61FC</td>\n",
              "      <td>A2O4CZ102I8Q2K</td>\n",
              "      <td>jus42day</td>\n",
              "      <td>1</td>\n",
              "      <td>1</td>\n",
              "      <td>1</td>\n",
              "      <td>1316649600</td>\n",
              "      <td>Great Product.</td>\n",
              "      <td>I bought this item unsure if my dogs would lik...</td>\n",
              "    </tr>\n",
              "    <tr>\n",
              "      <th>19999</th>\n",
              "      <td>21788</td>\n",
              "      <td>B000KV61FC</td>\n",
              "      <td>A3I4GCI6XTX1BB</td>\n",
              "      <td>Eric C. Vizinas \"Q\"</td>\n",
              "      <td>1</td>\n",
              "      <td>1</td>\n",
              "      <td>1</td>\n",
              "      <td>1316563200</td>\n",
              "      <td>This made ALL the difference</td>\n",
              "      <td>I've got a dog who gets bored while I'm away a...</td>\n",
              "    </tr>\n",
              "  </tbody>\n",
              "</table>\n",
              "<p>20000 rows × 10 columns</p>\n",
              "</div>"
            ],
            "text/plain": [
              "          Id  ...                                               Text\n",
              "0          1  ...  I have bought several of the Vitality canned d...\n",
              "1          2  ...  Product arrived labeled as Jumbo Salted Peanut...\n",
              "2          3  ...  This is a confection that has been around a fe...\n",
              "3          4  ...  If you are looking for the secret ingredient i...\n",
              "4          5  ...  Great taffy at a great price.  There was a wid...\n",
              "...      ...  ...                                                ...\n",
              "19995  21784  ...  My 5-month-old Black Lab/Boston Terrier mix is...\n",
              "19996  21785  ...  My Doberman/pointer mix has a lot of extra ene...\n",
              "19997  21786  ...  This is a poor excuse for a dog toy . It laste...\n",
              "19998  21787  ...  I bought this item unsure if my dogs would lik...\n",
              "19999  21788  ...  I've got a dog who gets bored while I'm away a...\n",
              "\n",
              "[20000 rows x 10 columns]"
            ]
          },
          "metadata": {},
          "execution_count": 7
        }
      ]
    },
    {
      "cell_type": "code",
      "metadata": {
        "colab": {
          "base_uri": "https://localhost:8080/"
        },
        "id": "rxAfSEqxHS9M",
        "outputId": "d2151a5a-f456-40ad-9a03-9c9fb9808c19"
      },
      "source": [
        "filtered_data[\"Score\"].value_counts()"
      ],
      "execution_count": 8,
      "outputs": [
        {
          "output_type": "execute_result",
          "data": {
            "text/plain": [
              "1    16855\n",
              "0     3145\n",
              "Name: Score, dtype: int64"
            ]
          },
          "metadata": {},
          "execution_count": 8
        }
      ]
    },
    {
      "cell_type": "code",
      "metadata": {
        "id": "I1jf03kECAZF"
      },
      "source": [
        "display = pd.read_sql_query(\"\"\"\n",
        "SELECT UserId, ProductId, ProfileName, Time, Score, Text, COUNT(*)\n",
        "FROM Reviews\n",
        "GROUP BY UserId\n",
        "HAVING COUNT(*)>1\n",
        "\"\"\", con) # selecting the reviews from only those users who have reviewed more than one products. "
      ],
      "execution_count": 9,
      "outputs": []
    },
    {
      "cell_type": "code",
      "metadata": {
        "colab": {
          "base_uri": "https://localhost:8080/",
          "height": 223
        },
        "id": "Ja8xSefOCAZH",
        "outputId": "4c4825ff-82da-4151-eb11-26ffd1ea5793"
      },
      "source": [
        "print(display.shape)\n",
        "display.head()"
      ],
      "execution_count": 10,
      "outputs": [
        {
          "output_type": "stream",
          "name": "stdout",
          "text": [
            "(80668, 7)\n"
          ]
        },
        {
          "output_type": "execute_result",
          "data": {
            "text/html": [
              "<div>\n",
              "<style scoped>\n",
              "    .dataframe tbody tr th:only-of-type {\n",
              "        vertical-align: middle;\n",
              "    }\n",
              "\n",
              "    .dataframe tbody tr th {\n",
              "        vertical-align: top;\n",
              "    }\n",
              "\n",
              "    .dataframe thead th {\n",
              "        text-align: right;\n",
              "    }\n",
              "</style>\n",
              "<table border=\"1\" class=\"dataframe\">\n",
              "  <thead>\n",
              "    <tr style=\"text-align: right;\">\n",
              "      <th></th>\n",
              "      <th>UserId</th>\n",
              "      <th>ProductId</th>\n",
              "      <th>ProfileName</th>\n",
              "      <th>Time</th>\n",
              "      <th>Score</th>\n",
              "      <th>Text</th>\n",
              "      <th>COUNT(*)</th>\n",
              "    </tr>\n",
              "  </thead>\n",
              "  <tbody>\n",
              "    <tr>\n",
              "      <th>0</th>\n",
              "      <td>#oc-R115TNMSPFT9I7</td>\n",
              "      <td>B007Y59HVM</td>\n",
              "      <td>Breyton</td>\n",
              "      <td>1331510400</td>\n",
              "      <td>2</td>\n",
              "      <td>Overall its just OK when considering the price...</td>\n",
              "      <td>2</td>\n",
              "    </tr>\n",
              "    <tr>\n",
              "      <th>1</th>\n",
              "      <td>#oc-R11D9D7SHXIJB9</td>\n",
              "      <td>B005HG9ET0</td>\n",
              "      <td>Louis E. Emory \"hoppy\"</td>\n",
              "      <td>1342396800</td>\n",
              "      <td>5</td>\n",
              "      <td>My wife has recurring extreme muscle spasms, u...</td>\n",
              "      <td>3</td>\n",
              "    </tr>\n",
              "    <tr>\n",
              "      <th>2</th>\n",
              "      <td>#oc-R11DNU2NBKQ23Z</td>\n",
              "      <td>B007Y59HVM</td>\n",
              "      <td>Kim Cieszykowski</td>\n",
              "      <td>1348531200</td>\n",
              "      <td>1</td>\n",
              "      <td>This coffee is horrible and unfortunately not ...</td>\n",
              "      <td>2</td>\n",
              "    </tr>\n",
              "    <tr>\n",
              "      <th>3</th>\n",
              "      <td>#oc-R11O5J5ZVQE25C</td>\n",
              "      <td>B005HG9ET0</td>\n",
              "      <td>Penguin Chick</td>\n",
              "      <td>1346889600</td>\n",
              "      <td>5</td>\n",
              "      <td>This will be the bottle that you grab from the...</td>\n",
              "      <td>3</td>\n",
              "    </tr>\n",
              "    <tr>\n",
              "      <th>4</th>\n",
              "      <td>#oc-R12KPBODL2B5ZD</td>\n",
              "      <td>B007OSBE1U</td>\n",
              "      <td>Christopher P. Presta</td>\n",
              "      <td>1348617600</td>\n",
              "      <td>1</td>\n",
              "      <td>I didnt like this coffee. Instead of telling y...</td>\n",
              "      <td>2</td>\n",
              "    </tr>\n",
              "  </tbody>\n",
              "</table>\n",
              "</div>"
            ],
            "text/plain": [
              "               UserId  ... COUNT(*)\n",
              "0  #oc-R115TNMSPFT9I7  ...        2\n",
              "1  #oc-R11D9D7SHXIJB9  ...        3\n",
              "2  #oc-R11DNU2NBKQ23Z  ...        2\n",
              "3  #oc-R11O5J5ZVQE25C  ...        3\n",
              "4  #oc-R12KPBODL2B5ZD  ...        2\n",
              "\n",
              "[5 rows x 7 columns]"
            ]
          },
          "metadata": {},
          "execution_count": 10
        }
      ]
    },
    {
      "cell_type": "code",
      "metadata": {
        "colab": {
          "base_uri": "https://localhost:8080/",
          "height": 449
        },
        "id": "o5Xl_-kQMvij",
        "outputId": "d76e0765-b2b7-4381-f649-a3e12e3c31bf"
      },
      "source": [
        "data = pd.read_sql_query(\"\"\"\n",
        "SELECT *\n",
        "FROM Reviews\n",
        "where UserId = 'AZY10LLTJ71NX'\n",
        "\"\"\", con) # selecting all the reviews posted by User\n",
        "\n",
        "data"
      ],
      "execution_count": 11,
      "outputs": [
        {
          "output_type": "execute_result",
          "data": {
            "text/html": [
              "<div>\n",
              "<style scoped>\n",
              "    .dataframe tbody tr th:only-of-type {\n",
              "        vertical-align: middle;\n",
              "    }\n",
              "\n",
              "    .dataframe tbody tr th {\n",
              "        vertical-align: top;\n",
              "    }\n",
              "\n",
              "    .dataframe thead th {\n",
              "        text-align: right;\n",
              "    }\n",
              "</style>\n",
              "<table border=\"1\" class=\"dataframe\">\n",
              "  <thead>\n",
              "    <tr style=\"text-align: right;\">\n",
              "      <th></th>\n",
              "      <th>Id</th>\n",
              "      <th>ProductId</th>\n",
              "      <th>UserId</th>\n",
              "      <th>ProfileName</th>\n",
              "      <th>HelpfulnessNumerator</th>\n",
              "      <th>HelpfulnessDenominator</th>\n",
              "      <th>Score</th>\n",
              "      <th>Time</th>\n",
              "      <th>Summary</th>\n",
              "      <th>Text</th>\n",
              "    </tr>\n",
              "  </thead>\n",
              "  <tbody>\n",
              "    <tr>\n",
              "      <th>0</th>\n",
              "      <td>35174</td>\n",
              "      <td>B001ATMQK2</td>\n",
              "      <td>AZY10LLTJ71NX</td>\n",
              "      <td>undertheshrine \"undertheshrine\"</td>\n",
              "      <td>1</td>\n",
              "      <td>1</td>\n",
              "      <td>5</td>\n",
              "      <td>1296691200</td>\n",
              "      <td>Have you seen how much Ranch 99 is trying to c...</td>\n",
              "      <td>I bought this 6 pack because for the price tha...</td>\n",
              "    </tr>\n",
              "    <tr>\n",
              "      <th>1</th>\n",
              "      <td>332195</td>\n",
              "      <td>B001P7AXXG</td>\n",
              "      <td>AZY10LLTJ71NX</td>\n",
              "      <td>undertheshrine \"undertheshrine\"</td>\n",
              "      <td>1</td>\n",
              "      <td>1</td>\n",
              "      <td>5</td>\n",
              "      <td>1303776000</td>\n",
              "      <td>BEST MICROWAVE POPCORN EVER!!!!</td>\n",
              "      <td>This popcorn is probably the best microwave po...</td>\n",
              "    </tr>\n",
              "    <tr>\n",
              "      <th>2</th>\n",
              "      <td>333057</td>\n",
              "      <td>B000MYW2ZA</td>\n",
              "      <td>AZY10LLTJ71NX</td>\n",
              "      <td>undertheshrine \"undertheshrine\"</td>\n",
              "      <td>0</td>\n",
              "      <td>0</td>\n",
              "      <td>5</td>\n",
              "      <td>1334707200</td>\n",
              "      <td>works for me.  lost 10-15 pounds my first month</td>\n",
              "      <td>I was recommended to try green tea extract to ...</td>\n",
              "    </tr>\n",
              "    <tr>\n",
              "      <th>3</th>\n",
              "      <td>340773</td>\n",
              "      <td>B0043CVIBG</td>\n",
              "      <td>AZY10LLTJ71NX</td>\n",
              "      <td>undertheshrine \"undertheshrine\"</td>\n",
              "      <td>4</td>\n",
              "      <td>4</td>\n",
              "      <td>5</td>\n",
              "      <td>1303776000</td>\n",
              "      <td>girl scout thin mint in disguise</td>\n",
              "      <td>if you love thin mint cookies that the girl sc...</td>\n",
              "    </tr>\n",
              "    <tr>\n",
              "      <th>4</th>\n",
              "      <td>404703</td>\n",
              "      <td>B006P7E5ZI</td>\n",
              "      <td>AZY10LLTJ71NX</td>\n",
              "      <td>undertheshrine \"undertheshrine\"</td>\n",
              "      <td>0</td>\n",
              "      <td>0</td>\n",
              "      <td>5</td>\n",
              "      <td>1334707200</td>\n",
              "      <td>works for me.  lost 10-15 pounds my first month</td>\n",
              "      <td>I was recommended to try green tea extract to ...</td>\n",
              "    </tr>\n",
              "  </tbody>\n",
              "</table>\n",
              "</div>"
            ],
            "text/plain": [
              "       Id  ...                                               Text\n",
              "0   35174  ...  I bought this 6 pack because for the price tha...\n",
              "1  332195  ...  This popcorn is probably the best microwave po...\n",
              "2  333057  ...  I was recommended to try green tea extract to ...\n",
              "3  340773  ...  if you love thin mint cookies that the girl sc...\n",
              "4  404703  ...  I was recommended to try green tea extract to ...\n",
              "\n",
              "[5 rows x 10 columns]"
            ]
          },
          "metadata": {},
          "execution_count": 11
        }
      ]
    },
    {
      "cell_type": "code",
      "metadata": {
        "colab": {
          "base_uri": "https://localhost:8080/",
          "height": 81
        },
        "id": "GXL9rYxVM9FK",
        "outputId": "dd9e0777-1c5a-4705-92a4-c8d33172cf7e"
      },
      "source": [
        "data = pd.read_sql_query(\"\"\"\n",
        "SELECT count(*)\n",
        "FROM Reviews\n",
        "where UserId = 'AZY10LLTJ71NX'\n",
        "\"\"\", con) # selecting all the reviews posted by User\n",
        "\n",
        "data  # it will count all the reviews "
      ],
      "execution_count": 12,
      "outputs": [
        {
          "output_type": "execute_result",
          "data": {
            "text/html": [
              "<div>\n",
              "<style scoped>\n",
              "    .dataframe tbody tr th:only-of-type {\n",
              "        vertical-align: middle;\n",
              "    }\n",
              "\n",
              "    .dataframe tbody tr th {\n",
              "        vertical-align: top;\n",
              "    }\n",
              "\n",
              "    .dataframe thead th {\n",
              "        text-align: right;\n",
              "    }\n",
              "</style>\n",
              "<table border=\"1\" class=\"dataframe\">\n",
              "  <thead>\n",
              "    <tr style=\"text-align: right;\">\n",
              "      <th></th>\n",
              "      <th>count(*)</th>\n",
              "    </tr>\n",
              "  </thead>\n",
              "  <tbody>\n",
              "    <tr>\n",
              "      <th>0</th>\n",
              "      <td>5</td>\n",
              "    </tr>\n",
              "  </tbody>\n",
              "</table>\n",
              "</div>"
            ],
            "text/plain": [
              "   count(*)\n",
              "0         5"
            ]
          },
          "metadata": {},
          "execution_count": 12
        }
      ]
    },
    {
      "cell_type": "code",
      "metadata": {
        "colab": {
          "base_uri": "https://localhost:8080/",
          "height": 81
        },
        "id": "u5ctUTW-CAZK",
        "outputId": "4e72e315-47e2-4071-b955-589f839c0df3"
      },
      "source": [
        "display[display['UserId']=='AZY10LLTJ71NX']"
      ],
      "execution_count": 13,
      "outputs": [
        {
          "output_type": "execute_result",
          "data": {
            "text/html": [
              "<div>\n",
              "<style scoped>\n",
              "    .dataframe tbody tr th:only-of-type {\n",
              "        vertical-align: middle;\n",
              "    }\n",
              "\n",
              "    .dataframe tbody tr th {\n",
              "        vertical-align: top;\n",
              "    }\n",
              "\n",
              "    .dataframe thead th {\n",
              "        text-align: right;\n",
              "    }\n",
              "</style>\n",
              "<table border=\"1\" class=\"dataframe\">\n",
              "  <thead>\n",
              "    <tr style=\"text-align: right;\">\n",
              "      <th></th>\n",
              "      <th>UserId</th>\n",
              "      <th>ProductId</th>\n",
              "      <th>ProfileName</th>\n",
              "      <th>Time</th>\n",
              "      <th>Score</th>\n",
              "      <th>Text</th>\n",
              "      <th>COUNT(*)</th>\n",
              "    </tr>\n",
              "  </thead>\n",
              "  <tbody>\n",
              "    <tr>\n",
              "      <th>80638</th>\n",
              "      <td>AZY10LLTJ71NX</td>\n",
              "      <td>B006P7E5ZI</td>\n",
              "      <td>undertheshrine \"undertheshrine\"</td>\n",
              "      <td>1334707200</td>\n",
              "      <td>5</td>\n",
              "      <td>I was recommended to try green tea extract to ...</td>\n",
              "      <td>5</td>\n",
              "    </tr>\n",
              "  </tbody>\n",
              "</table>\n",
              "</div>"
            ],
            "text/plain": [
              "              UserId  ... COUNT(*)\n",
              "80638  AZY10LLTJ71NX  ...        5\n",
              "\n",
              "[1 rows x 7 columns]"
            ]
          },
          "metadata": {},
          "execution_count": 13
        }
      ]
    },
    {
      "cell_type": "code",
      "metadata": {
        "colab": {
          "base_uri": "https://localhost:8080/"
        },
        "id": "JsxAxA8BcdF9",
        "outputId": "d58c635f-2d48-44ad-efed-5c456ad66e40"
      },
      "source": [
        "display[display['UserId']=='AZY10LLTJ71NX']['Text']"
      ],
      "execution_count": 14,
      "outputs": [
        {
          "output_type": "execute_result",
          "data": {
            "text/plain": [
              "80638    I was recommended to try green tea extract to ...\n",
              "Name: Text, dtype: object"
            ]
          },
          "metadata": {},
          "execution_count": 14
        }
      ]
    },
    {
      "cell_type": "markdown",
      "metadata": {
        "id": "4Sb6wVUzdHo-"
      },
      "source": [
        "https://stackoverflow.com/questions/25351968/how-can-i-display-full-non-truncated-dataframe-information-in-html-when-conver"
      ]
    },
    {
      "cell_type": "code",
      "metadata": {
        "colab": {
          "base_uri": "https://localhost:8080/"
        },
        "id": "zwyhnd5Tc7JF",
        "outputId": "b01f001f-2a14-404c-bf72-632ad9b12af0"
      },
      "source": [
        "pd.set_option('display.max_colwidth', None) # to view the whoole text.\n",
        "display[display['UserId']=='AZY10LLTJ71NX']['Text']"
      ],
      "execution_count": 15,
      "outputs": [
        {
          "output_type": "execute_result",
          "data": {
            "text/plain": [
              "80638    I was recommended to try green tea extract to lose weight.  my first month I lost 10-15lbs.  I will continue taking these to see how well they work in the long term.\n",
              "Name: Text, dtype: object"
            ]
          },
          "metadata": {},
          "execution_count": 15
        }
      ]
    },
    {
      "cell_type": "code",
      "metadata": {
        "colab": {
          "base_uri": "https://localhost:8080/"
        },
        "id": "tiaXnkZxCAZO",
        "outputId": "aa3c69f8-327c-4ac1-9710-dac2fe4711b8"
      },
      "source": [
        "display['COUNT(*)'].sum() # Number of Unique review givers."
      ],
      "execution_count": 16,
      "outputs": [
        {
          "output_type": "execute_result",
          "data": {
            "text/plain": [
              "393063"
            ]
          },
          "metadata": {},
          "execution_count": 16
        }
      ]
    },
    {
      "cell_type": "markdown",
      "metadata": {
        "id": "TX5b3dc5CAZS"
      },
      "source": [
        "#  Exploratory Data Analysis\n",
        "\n",
        "## [2] Data Cleaning: Deduplication\n",
        "\n",
        "It is observed (as shown in the table below) that the reviews data had many duplicate entries. Hence it was necessary to remove duplicates in order to get unbiased results for the analysis of the data.  Following is an example:"
      ]
    },
    {
      "cell_type": "code",
      "metadata": {
        "colab": {
          "base_uri": "https://localhost:8080/",
          "height": 900
        },
        "id": "4jW_0WxCCAZT",
        "scrolled": false,
        "outputId": "f94e1ef0-0ccc-492d-f521-abe53ab7b721"
      },
      "source": [
        "display= pd.read_sql_query(\"\"\"\n",
        "SELECT *\n",
        "FROM Reviews\n",
        "WHERE Score != 3 AND UserId=\"AR5J8UI46CURR\"\n",
        "ORDER BY ProductID\n",
        "\"\"\", con)\n",
        "display.tail()"
      ],
      "execution_count": 17,
      "outputs": [
        {
          "output_type": "execute_result",
          "data": {
            "text/html": [
              "<div>\n",
              "<style scoped>\n",
              "    .dataframe tbody tr th:only-of-type {\n",
              "        vertical-align: middle;\n",
              "    }\n",
              "\n",
              "    .dataframe tbody tr th {\n",
              "        vertical-align: top;\n",
              "    }\n",
              "\n",
              "    .dataframe thead th {\n",
              "        text-align: right;\n",
              "    }\n",
              "</style>\n",
              "<table border=\"1\" class=\"dataframe\">\n",
              "  <thead>\n",
              "    <tr style=\"text-align: right;\">\n",
              "      <th></th>\n",
              "      <th>Id</th>\n",
              "      <th>ProductId</th>\n",
              "      <th>UserId</th>\n",
              "      <th>ProfileName</th>\n",
              "      <th>HelpfulnessNumerator</th>\n",
              "      <th>HelpfulnessDenominator</th>\n",
              "      <th>Score</th>\n",
              "      <th>Time</th>\n",
              "      <th>Summary</th>\n",
              "      <th>Text</th>\n",
              "    </tr>\n",
              "  </thead>\n",
              "  <tbody>\n",
              "    <tr>\n",
              "      <th>0</th>\n",
              "      <td>78445</td>\n",
              "      <td>B000HDL1RQ</td>\n",
              "      <td>AR5J8UI46CURR</td>\n",
              "      <td>Geetha Krishnan</td>\n",
              "      <td>2</td>\n",
              "      <td>2</td>\n",
              "      <td>5</td>\n",
              "      <td>1199577600</td>\n",
              "      <td>LOACKER QUADRATINI VANILLA WAFERS</td>\n",
              "      <td>DELICIOUS WAFERS. I FIND THAT EUROPEAN WAFERS ARE LESS SWEET ( LESS SUGAR AND CARBOHYDRATES) BUT VERY DELECTABLE.</td>\n",
              "    </tr>\n",
              "    <tr>\n",
              "      <th>1</th>\n",
              "      <td>138317</td>\n",
              "      <td>B000HDOPYC</td>\n",
              "      <td>AR5J8UI46CURR</td>\n",
              "      <td>Geetha Krishnan</td>\n",
              "      <td>2</td>\n",
              "      <td>2</td>\n",
              "      <td>5</td>\n",
              "      <td>1199577600</td>\n",
              "      <td>LOACKER QUADRATINI VANILLA WAFERS</td>\n",
              "      <td>DELICIOUS WAFERS. I FIND THAT EUROPEAN WAFERS ARE LESS SWEET ( LESS SUGAR AND CARBOHYDRATES) BUT VERY DELECTABLE.</td>\n",
              "    </tr>\n",
              "    <tr>\n",
              "      <th>2</th>\n",
              "      <td>138277</td>\n",
              "      <td>B000HDOPYM</td>\n",
              "      <td>AR5J8UI46CURR</td>\n",
              "      <td>Geetha Krishnan</td>\n",
              "      <td>2</td>\n",
              "      <td>2</td>\n",
              "      <td>5</td>\n",
              "      <td>1199577600</td>\n",
              "      <td>LOACKER QUADRATINI VANILLA WAFERS</td>\n",
              "      <td>DELICIOUS WAFERS. I FIND THAT EUROPEAN WAFERS ARE LESS SWEET ( LESS SUGAR AND CARBOHYDRATES) BUT VERY DELECTABLE.</td>\n",
              "    </tr>\n",
              "    <tr>\n",
              "      <th>3</th>\n",
              "      <td>73791</td>\n",
              "      <td>B000HDOPZG</td>\n",
              "      <td>AR5J8UI46CURR</td>\n",
              "      <td>Geetha Krishnan</td>\n",
              "      <td>2</td>\n",
              "      <td>2</td>\n",
              "      <td>5</td>\n",
              "      <td>1199577600</td>\n",
              "      <td>LOACKER QUADRATINI VANILLA WAFERS</td>\n",
              "      <td>DELICIOUS WAFERS. I FIND THAT EUROPEAN WAFERS ARE LESS SWEET ( LESS SUGAR AND CARBOHYDRATES) BUT VERY DELECTABLE.</td>\n",
              "    </tr>\n",
              "    <tr>\n",
              "      <th>4</th>\n",
              "      <td>155049</td>\n",
              "      <td>B000PAQ75C</td>\n",
              "      <td>AR5J8UI46CURR</td>\n",
              "      <td>Geetha Krishnan</td>\n",
              "      <td>2</td>\n",
              "      <td>2</td>\n",
              "      <td>5</td>\n",
              "      <td>1199577600</td>\n",
              "      <td>LOACKER QUADRATINI VANILLA WAFERS</td>\n",
              "      <td>DELICIOUS WAFERS. I FIND THAT EUROPEAN WAFERS ARE LESS SWEET ( LESS SUGAR AND CARBOHYDRATES) BUT VERY DELECTABLE.</td>\n",
              "    </tr>\n",
              "  </tbody>\n",
              "</table>\n",
              "</div>"
            ],
            "text/plain": [
              "       Id  ...                                                                                                               Text\n",
              "0   78445  ...  DELICIOUS WAFERS. I FIND THAT EUROPEAN WAFERS ARE LESS SWEET ( LESS SUGAR AND CARBOHYDRATES) BUT VERY DELECTABLE.\n",
              "1  138317  ...  DELICIOUS WAFERS. I FIND THAT EUROPEAN WAFERS ARE LESS SWEET ( LESS SUGAR AND CARBOHYDRATES) BUT VERY DELECTABLE.\n",
              "2  138277  ...  DELICIOUS WAFERS. I FIND THAT EUROPEAN WAFERS ARE LESS SWEET ( LESS SUGAR AND CARBOHYDRATES) BUT VERY DELECTABLE.\n",
              "3   73791  ...  DELICIOUS WAFERS. I FIND THAT EUROPEAN WAFERS ARE LESS SWEET ( LESS SUGAR AND CARBOHYDRATES) BUT VERY DELECTABLE.\n",
              "4  155049  ...  DELICIOUS WAFERS. I FIND THAT EUROPEAN WAFERS ARE LESS SWEET ( LESS SUGAR AND CARBOHYDRATES) BUT VERY DELECTABLE.\n",
              "\n",
              "[5 rows x 10 columns]"
            ]
          },
          "metadata": {},
          "execution_count": 17
        }
      ]
    },
    {
      "cell_type": "markdown",
      "metadata": {
        "id": "BzVTlHiMCAZV"
      },
      "source": [
        "As can be seen above the same user has multiple reviews of the with the same values for HelpfulnessNumerator, HelpfulnessDenominator, Score, Time, Summary and Text  and on doing analysis it was found that <br>\n",
        "<br> \n",
        "ProductId=B000HDOPZG was Loacker Quadratini Vanilla Wafer Cookies, 8.82-Ounce Packages (Pack of 8)<br>\n",
        "<br> \n",
        "ProductId=B000HDL1RQ was Loacker Quadratini Lemon Wafer Cookies, 8.82-Ounce Packages (Pack of 8) and so on<br>\n",
        "\n",
        "It was inferred after analysis that reviews with same parameters other than ProductId belonged to the same product just having different flavour or quantity. Hence in order to reduce redundancy it was decided to eliminate the rows having same parameters.<br>\n",
        "\n",
        "The method used for the same was that we first sort the data according to ProductId and then just keep the first similar product review and delelte the others. for eg. in the above just the review for ProductId=B000HDL1RQ remains. This method ensures that there is only one representative for each product and deduplication without sorting would lead to possibility of different representatives still existing for the same product."
      ]
    },
    {
      "cell_type": "markdown",
      "metadata": {
        "id": "w6R-TGYYRJFq"
      },
      "source": [
        "https://github.com/Dummy-Bug/AI-and-ML/blob/master/Pandas/sort_values_and_sort_index.ipynb"
      ]
    },
    {
      "cell_type": "code",
      "metadata": {
        "id": "DGy2NM7BCAZX"
      },
      "source": [
        "# Sorting data according to ProductId in ascending order\n",
        "sorted_data = filtered_data.sort_values(by = ['ProductId'], axis=0, ascending=True, inplace=False, kind='quicksort', na_position='last')"
      ],
      "execution_count": 18,
      "outputs": []
    },
    {
      "cell_type": "markdown",
      "metadata": {
        "id": "852rVGVWiivG"
      },
      "source": [
        "https://pandas.pydata.org/docs/reference/api/pandas.DataFrame.drop_duplicates.html"
      ]
    },
    {
      "cell_type": "code",
      "metadata": {
        "colab": {
          "base_uri": "https://localhost:8080/"
        },
        "id": "8b-O13XVCAZZ",
        "outputId": "6859d87c-c891-4627-d7eb-4d1409716482"
      },
      "source": [
        "# Deduplication of entries\n",
        "final = sorted_data.drop_duplicates(subset={\"UserId\",\"ProfileName\",\"Time\",\"Text\"}, keep='first', inplace=False)\n",
        "final.shape"
      ],
      "execution_count": 19,
      "outputs": [
        {
          "output_type": "execute_result",
          "data": {
            "text/plain": [
              "(19354, 10)"
            ]
          },
          "metadata": {},
          "execution_count": 19
        }
      ]
    },
    {
      "cell_type": "code",
      "metadata": {
        "colab": {
          "base_uri": "https://localhost:8080/"
        },
        "id": "S72Yh-rHCAZc",
        "outputId": "a2e0cc15-0348-4d26-aac0-5c228b7b2880"
      },
      "source": [
        "# Checking to see how much % of data still remains\n",
        "(final['Id'].size*1.0)/(filtered_data['Id'].size*1.0)*100"
      ],
      "execution_count": 20,
      "outputs": [
        {
          "output_type": "execute_result",
          "data": {
            "text/plain": [
              "96.77"
            ]
          },
          "metadata": {},
          "execution_count": 20
        }
      ]
    },
    {
      "cell_type": "markdown",
      "metadata": {
        "id": "LO5nLKeFCAZf"
      },
      "source": [
        "<b>Observation:-</b> It was also seen that in two rows given below the value of HelpfulnessNumerator is greater than HelpfulnessDenominator which is not practically possible hence these two rows too are removed from calcualtions"
      ]
    },
    {
      "cell_type": "markdown",
      "metadata": {
        "id": "3NdyINqqj6aS"
      },
      "source": [
        "https://towardsdatascience.com/6-pandas-display-options-you-should-memories-84adf8887bc3"
      ]
    },
    {
      "cell_type": "code",
      "metadata": {
        "colab": {
          "base_uri": "https://localhost:8080/",
          "height": 1000
        },
        "id": "L9z5lrsiCAZh",
        "outputId": "b211220e-e8ef-4850-c173-05a97d4f74e9"
      },
      "source": [
        "display= pd.read_sql_query(\"\"\"\n",
        "SELECT *\n",
        "FROM Reviews\n",
        "WHERE Score != 3 AND Id=44737 OR Id=64422\n",
        "ORDER BY ProductID\n",
        "\"\"\", con)\n",
        "\n",
        "display.head()"
      ],
      "execution_count": 21,
      "outputs": [
        {
          "output_type": "execute_result",
          "data": {
            "text/html": [
              "<div>\n",
              "<style scoped>\n",
              "    .dataframe tbody tr th:only-of-type {\n",
              "        vertical-align: middle;\n",
              "    }\n",
              "\n",
              "    .dataframe tbody tr th {\n",
              "        vertical-align: top;\n",
              "    }\n",
              "\n",
              "    .dataframe thead th {\n",
              "        text-align: right;\n",
              "    }\n",
              "</style>\n",
              "<table border=\"1\" class=\"dataframe\">\n",
              "  <thead>\n",
              "    <tr style=\"text-align: right;\">\n",
              "      <th></th>\n",
              "      <th>Id</th>\n",
              "      <th>ProductId</th>\n",
              "      <th>UserId</th>\n",
              "      <th>ProfileName</th>\n",
              "      <th>HelpfulnessNumerator</th>\n",
              "      <th>HelpfulnessDenominator</th>\n",
              "      <th>Score</th>\n",
              "      <th>Time</th>\n",
              "      <th>Summary</th>\n",
              "      <th>Text</th>\n",
              "    </tr>\n",
              "  </thead>\n",
              "  <tbody>\n",
              "    <tr>\n",
              "      <th>0</th>\n",
              "      <td>64422</td>\n",
              "      <td>B000MIDROQ</td>\n",
              "      <td>A161DK06JJMCYF</td>\n",
              "      <td>J. E. Stephens \"Jeanne\"</td>\n",
              "      <td>3</td>\n",
              "      <td>1</td>\n",
              "      <td>5</td>\n",
              "      <td>1224892800</td>\n",
              "      <td>Bought This for My Son at College</td>\n",
              "      <td>My son loves spaghetti so I didn't hesitate ordering this for him. He says they are great. I have tried them myself and they are delicious. Just open and pop them in the microwave. It is very easy. The best thing about ordering from Amazon grocery is that they deliver to your door. If you have a loved one that lives far away and may have limited transportation this is the answer. Just order what you want them to have and Amazon takes care of the rest.</td>\n",
              "    </tr>\n",
              "    <tr>\n",
              "      <th>1</th>\n",
              "      <td>44737</td>\n",
              "      <td>B001EQ55RW</td>\n",
              "      <td>A2V0I904FH7ABY</td>\n",
              "      <td>Ram</td>\n",
              "      <td>3</td>\n",
              "      <td>2</td>\n",
              "      <td>4</td>\n",
              "      <td>1212883200</td>\n",
              "      <td>Pure cocoa taste with crunchy almonds inside</td>\n",
              "      <td>It was almost a 'love at first bite' - the perfectly roasted almond with a nice thin layer of pure flavorful cocoa on the top.&lt;br /&gt;&lt;br /&gt;You can smell the cocoa as soon as you open the canister - making you want to take a bite.&lt;br /&gt;&lt;br /&gt;You may or may not like the taste of this cocoa roasted almonds depending on your likingness for cocoa.  We are so much used to the taste of chocolate (which is actually cocoa + many other ingredients like milk ...) - that you might have never really tasted really cocoa.&lt;br /&gt;&lt;br /&gt;Tasting this item it like tasting and enjoying flavorful pure raw cocoa with crunchy almonds in the center.  Get yourself a box and see for yourself what real cocoa + almonds is !&lt;br /&gt;&lt;br /&gt;Where this product loses a star is in its packaging - the external sleeve is kind of comes in one piece, so if you try to remove the lid, the external sleeve kind of tends to come off fully - so careful when you are removing the external sleeve for the canister.</td>\n",
              "    </tr>\n",
              "  </tbody>\n",
              "</table>\n",
              "</div>"
            ],
            "text/plain": [
              "      Id  ...                                                                                                                                                                                                                                                                                                                                                                                                                                                                                                                                                                                                                                                                                                                                                                                                                                                                                                                                                                                                              Text\n",
              "0  64422  ...                                                                                                                                                                                                                                                                                                                                                                                                                                                                                                                                           My son loves spaghetti so I didn't hesitate ordering this for him. He says they are great. I have tried them myself and they are delicious. Just open and pop them in the microwave. It is very easy. The best thing about ordering from Amazon grocery is that they deliver to your door. If you have a loved one that lives far away and may have limited transportation this is the answer. Just order what you want them to have and Amazon takes care of the rest.\n",
              "1  44737  ...  It was almost a 'love at first bite' - the perfectly roasted almond with a nice thin layer of pure flavorful cocoa on the top.<br /><br />You can smell the cocoa as soon as you open the canister - making you want to take a bite.<br /><br />You may or may not like the taste of this cocoa roasted almonds depending on your likingness for cocoa.  We are so much used to the taste of chocolate (which is actually cocoa + many other ingredients like milk ...) - that you might have never really tasted really cocoa.<br /><br />Tasting this item it like tasting and enjoying flavorful pure raw cocoa with crunchy almonds in the center.  Get yourself a box and see for yourself what real cocoa + almonds is !<br /><br />Where this product loses a star is in its packaging - the external sleeve is kind of comes in one piece, so if you try to remove the lid, the external sleeve kind of tends to come off fully - so careful when you are removing the external sleeve for the canister.\n",
              "\n",
              "[2 rows x 10 columns]"
            ]
          },
          "metadata": {},
          "execution_count": 21
        }
      ]
    },
    {
      "cell_type": "code",
      "metadata": {
        "colab": {
          "base_uri": "https://localhost:8080/",
          "height": 216
        },
        "id": "k7_8a5Qnj8q_",
        "outputId": "a3df46ce-2e74-48f8-de4d-ac019c909bb5"
      },
      "source": [
        "pd.set_option('display.max_colwidth', 60)\n",
        "display= pd.read_sql_query(\"\"\"\n",
        "SELECT *\n",
        "FROM Reviews\n",
        "WHERE Score != 3 AND Id=44737 OR Id=64422\n",
        "ORDER BY ProductID\n",
        "\"\"\", con)\n",
        "\n",
        "display.head()"
      ],
      "execution_count": 22,
      "outputs": [
        {
          "output_type": "execute_result",
          "data": {
            "text/html": [
              "<div>\n",
              "<style scoped>\n",
              "    .dataframe tbody tr th:only-of-type {\n",
              "        vertical-align: middle;\n",
              "    }\n",
              "\n",
              "    .dataframe tbody tr th {\n",
              "        vertical-align: top;\n",
              "    }\n",
              "\n",
              "    .dataframe thead th {\n",
              "        text-align: right;\n",
              "    }\n",
              "</style>\n",
              "<table border=\"1\" class=\"dataframe\">\n",
              "  <thead>\n",
              "    <tr style=\"text-align: right;\">\n",
              "      <th></th>\n",
              "      <th>Id</th>\n",
              "      <th>ProductId</th>\n",
              "      <th>UserId</th>\n",
              "      <th>ProfileName</th>\n",
              "      <th>HelpfulnessNumerator</th>\n",
              "      <th>HelpfulnessDenominator</th>\n",
              "      <th>Score</th>\n",
              "      <th>Time</th>\n",
              "      <th>Summary</th>\n",
              "      <th>Text</th>\n",
              "    </tr>\n",
              "  </thead>\n",
              "  <tbody>\n",
              "    <tr>\n",
              "      <th>0</th>\n",
              "      <td>64422</td>\n",
              "      <td>B000MIDROQ</td>\n",
              "      <td>A161DK06JJMCYF</td>\n",
              "      <td>J. E. Stephens \"Jeanne\"</td>\n",
              "      <td>3</td>\n",
              "      <td>1</td>\n",
              "      <td>5</td>\n",
              "      <td>1224892800</td>\n",
              "      <td>Bought This for My Son at College</td>\n",
              "      <td>My son loves spaghetti so I didn't hesitate ordering thi...</td>\n",
              "    </tr>\n",
              "    <tr>\n",
              "      <th>1</th>\n",
              "      <td>44737</td>\n",
              "      <td>B001EQ55RW</td>\n",
              "      <td>A2V0I904FH7ABY</td>\n",
              "      <td>Ram</td>\n",
              "      <td>3</td>\n",
              "      <td>2</td>\n",
              "      <td>4</td>\n",
              "      <td>1212883200</td>\n",
              "      <td>Pure cocoa taste with crunchy almonds inside</td>\n",
              "      <td>It was almost a 'love at first bite' - the perfectly roa...</td>\n",
              "    </tr>\n",
              "  </tbody>\n",
              "</table>\n",
              "</div>"
            ],
            "text/plain": [
              "      Id  ...                                                         Text\n",
              "0  64422  ...  My son loves spaghetti so I didn't hesitate ordering thi...\n",
              "1  44737  ...  It was almost a 'love at first bite' - the perfectly roa...\n",
              "\n",
              "[2 rows x 10 columns]"
            ]
          },
          "metadata": {},
          "execution_count": 22
        }
      ]
    },
    {
      "cell_type": "code",
      "metadata": {
        "id": "8Tphk1piCAZk"
      },
      "source": [
        "final = final[final.HelpfulnessNumerator<=final.HelpfulnessDenominator]"
      ],
      "execution_count": 23,
      "outputs": []
    },
    {
      "cell_type": "code",
      "metadata": {
        "colab": {
          "base_uri": "https://localhost:8080/"
        },
        "id": "8TpsGDdJCAZm",
        "outputId": "65e1db1f-30d9-4235-f2d1-c4afed7146d7"
      },
      "source": [
        "#Before starting the next phase of preprocessing lets see the number of entries left\n",
        "print(final.shape)\n",
        "\n",
        "#How many positive and negative reviews are present in our dataset?\n",
        "final['Score'].value_counts()"
      ],
      "execution_count": 24,
      "outputs": [
        {
          "output_type": "stream",
          "name": "stdout",
          "text": [
            "(19354, 10)\n"
          ]
        },
        {
          "output_type": "execute_result",
          "data": {
            "text/plain": [
              "1    16339\n",
              "0     3015\n",
              "Name: Score, dtype: int64"
            ]
          },
          "metadata": {},
          "execution_count": 24
        }
      ]
    },
    {
      "cell_type": "markdown",
      "metadata": {
        "id": "QrFUMBQYek2x"
      },
      "source": [
        "Datset is Highly Imbalanced !!\n",
        "\n",
        "https://machinelearningmastery.com/random-oversampling-and-undersampling-for-imbalanced-classification//\n"
      ]
    },
    {
      "cell_type": "code",
      "metadata": {
        "colab": {
          "base_uri": "https://localhost:8080/",
          "height": 467
        },
        "id": "RH5h9t_Tdz_T",
        "outputId": "f6b7beef-ec1b-415c-ab8a-170b2b5b3b9d"
      },
      "source": [
        "final.head()"
      ],
      "execution_count": 25,
      "outputs": [
        {
          "output_type": "execute_result",
          "data": {
            "text/html": [
              "<div>\n",
              "<style scoped>\n",
              "    .dataframe tbody tr th:only-of-type {\n",
              "        vertical-align: middle;\n",
              "    }\n",
              "\n",
              "    .dataframe tbody tr th {\n",
              "        vertical-align: top;\n",
              "    }\n",
              "\n",
              "    .dataframe thead th {\n",
              "        text-align: right;\n",
              "    }\n",
              "</style>\n",
              "<table border=\"1\" class=\"dataframe\">\n",
              "  <thead>\n",
              "    <tr style=\"text-align: right;\">\n",
              "      <th></th>\n",
              "      <th>Id</th>\n",
              "      <th>ProductId</th>\n",
              "      <th>UserId</th>\n",
              "      <th>ProfileName</th>\n",
              "      <th>HelpfulnessNumerator</th>\n",
              "      <th>HelpfulnessDenominator</th>\n",
              "      <th>Score</th>\n",
              "      <th>Time</th>\n",
              "      <th>Summary</th>\n",
              "      <th>Text</th>\n",
              "    </tr>\n",
              "  </thead>\n",
              "  <tbody>\n",
              "    <tr>\n",
              "      <th>2547</th>\n",
              "      <td>2775</td>\n",
              "      <td>B00002NCJC</td>\n",
              "      <td>A13RRPGE79XFFH</td>\n",
              "      <td>reader48</td>\n",
              "      <td>0</td>\n",
              "      <td>0</td>\n",
              "      <td>1</td>\n",
              "      <td>1281052800</td>\n",
              "      <td>Flies Begone</td>\n",
              "      <td>We have used the Victor fly bait for 3 seasons.  Can't b...</td>\n",
              "    </tr>\n",
              "    <tr>\n",
              "      <th>2546</th>\n",
              "      <td>2774</td>\n",
              "      <td>B00002NCJC</td>\n",
              "      <td>A196AJHU9EASJN</td>\n",
              "      <td>Alex Chaffee</td>\n",
              "      <td>0</td>\n",
              "      <td>0</td>\n",
              "      <td>1</td>\n",
              "      <td>1282953600</td>\n",
              "      <td>thirty bucks?</td>\n",
              "      <td>Why is this $[...] when the same product is available fo...</td>\n",
              "    </tr>\n",
              "    <tr>\n",
              "      <th>1146</th>\n",
              "      <td>1245</td>\n",
              "      <td>B00002Z754</td>\n",
              "      <td>A29Z5PI9BW2PU3</td>\n",
              "      <td>Robbie</td>\n",
              "      <td>7</td>\n",
              "      <td>7</td>\n",
              "      <td>1</td>\n",
              "      <td>961718400</td>\n",
              "      <td>Great Product</td>\n",
              "      <td>This was a really good idea and the final product is out...</td>\n",
              "    </tr>\n",
              "    <tr>\n",
              "      <th>1145</th>\n",
              "      <td>1244</td>\n",
              "      <td>B00002Z754</td>\n",
              "      <td>A3B8RCEI0FXFI6</td>\n",
              "      <td>B G Chase</td>\n",
              "      <td>10</td>\n",
              "      <td>10</td>\n",
              "      <td>1</td>\n",
              "      <td>962236800</td>\n",
              "      <td>WOW Make your own 'slickers' !</td>\n",
              "      <td>I just received my shipment and could hardly wait to try...</td>\n",
              "    </tr>\n",
              "    <tr>\n",
              "      <th>8696</th>\n",
              "      <td>9527</td>\n",
              "      <td>B00005V3DC</td>\n",
              "      <td>A8KY7S48EW7LW</td>\n",
              "      <td>A. Daly \"AD\"</td>\n",
              "      <td>0</td>\n",
              "      <td>0</td>\n",
              "      <td>1</td>\n",
              "      <td>1350172800</td>\n",
              "      <td>The Best Cleansing Tea I've Ever Had</td>\n",
              "      <td>I've used this brand for years. If you're feeling clogge...</td>\n",
              "    </tr>\n",
              "  </tbody>\n",
              "</table>\n",
              "</div>"
            ],
            "text/plain": [
              "        Id  ...                                                         Text\n",
              "2547  2775  ...  We have used the Victor fly bait for 3 seasons.  Can't b...\n",
              "2546  2774  ...  Why is this $[...] when the same product is available fo...\n",
              "1146  1245  ...  This was a really good idea and the final product is out...\n",
              "1145  1244  ...  I just received my shipment and could hardly wait to try...\n",
              "8696  9527  ...  I've used this brand for years. If you're feeling clogge...\n",
              "\n",
              "[5 rows x 10 columns]"
            ]
          },
          "metadata": {},
          "execution_count": 25
        }
      ]
    },
    {
      "cell_type": "code",
      "metadata": {
        "colab": {
          "base_uri": "https://localhost:8080/",
          "height": 1000
        },
        "id": "DoDYInUyd3Wj",
        "outputId": "c1e3a740-742e-4d41-cec3-1e6e66f627b9"
      },
      "source": [
        "final.reset_index()"
      ],
      "execution_count": 26,
      "outputs": [
        {
          "output_type": "execute_result",
          "data": {
            "text/html": [
              "<div>\n",
              "<style scoped>\n",
              "    .dataframe tbody tr th:only-of-type {\n",
              "        vertical-align: middle;\n",
              "    }\n",
              "\n",
              "    .dataframe tbody tr th {\n",
              "        vertical-align: top;\n",
              "    }\n",
              "\n",
              "    .dataframe thead th {\n",
              "        text-align: right;\n",
              "    }\n",
              "</style>\n",
              "<table border=\"1\" class=\"dataframe\">\n",
              "  <thead>\n",
              "    <tr style=\"text-align: right;\">\n",
              "      <th></th>\n",
              "      <th>index</th>\n",
              "      <th>Id</th>\n",
              "      <th>ProductId</th>\n",
              "      <th>UserId</th>\n",
              "      <th>ProfileName</th>\n",
              "      <th>HelpfulnessNumerator</th>\n",
              "      <th>HelpfulnessDenominator</th>\n",
              "      <th>Score</th>\n",
              "      <th>Time</th>\n",
              "      <th>Summary</th>\n",
              "      <th>Text</th>\n",
              "    </tr>\n",
              "  </thead>\n",
              "  <tbody>\n",
              "    <tr>\n",
              "      <th>0</th>\n",
              "      <td>2547</td>\n",
              "      <td>2775</td>\n",
              "      <td>B00002NCJC</td>\n",
              "      <td>A13RRPGE79XFFH</td>\n",
              "      <td>reader48</td>\n",
              "      <td>0</td>\n",
              "      <td>0</td>\n",
              "      <td>1</td>\n",
              "      <td>1281052800</td>\n",
              "      <td>Flies Begone</td>\n",
              "      <td>We have used the Victor fly bait for 3 seasons.  Can't b...</td>\n",
              "    </tr>\n",
              "    <tr>\n",
              "      <th>1</th>\n",
              "      <td>2546</td>\n",
              "      <td>2774</td>\n",
              "      <td>B00002NCJC</td>\n",
              "      <td>A196AJHU9EASJN</td>\n",
              "      <td>Alex Chaffee</td>\n",
              "      <td>0</td>\n",
              "      <td>0</td>\n",
              "      <td>1</td>\n",
              "      <td>1282953600</td>\n",
              "      <td>thirty bucks?</td>\n",
              "      <td>Why is this $[...] when the same product is available fo...</td>\n",
              "    </tr>\n",
              "    <tr>\n",
              "      <th>2</th>\n",
              "      <td>1146</td>\n",
              "      <td>1245</td>\n",
              "      <td>B00002Z754</td>\n",
              "      <td>A29Z5PI9BW2PU3</td>\n",
              "      <td>Robbie</td>\n",
              "      <td>7</td>\n",
              "      <td>7</td>\n",
              "      <td>1</td>\n",
              "      <td>961718400</td>\n",
              "      <td>Great Product</td>\n",
              "      <td>This was a really good idea and the final product is out...</td>\n",
              "    </tr>\n",
              "    <tr>\n",
              "      <th>3</th>\n",
              "      <td>1145</td>\n",
              "      <td>1244</td>\n",
              "      <td>B00002Z754</td>\n",
              "      <td>A3B8RCEI0FXFI6</td>\n",
              "      <td>B G Chase</td>\n",
              "      <td>10</td>\n",
              "      <td>10</td>\n",
              "      <td>1</td>\n",
              "      <td>962236800</td>\n",
              "      <td>WOW Make your own 'slickers' !</td>\n",
              "      <td>I just received my shipment and could hardly wait to try...</td>\n",
              "    </tr>\n",
              "    <tr>\n",
              "      <th>4</th>\n",
              "      <td>8696</td>\n",
              "      <td>9527</td>\n",
              "      <td>B00005V3DC</td>\n",
              "      <td>A8KY7S48EW7LW</td>\n",
              "      <td>A. Daly \"AD\"</td>\n",
              "      <td>0</td>\n",
              "      <td>0</td>\n",
              "      <td>1</td>\n",
              "      <td>1350172800</td>\n",
              "      <td>The Best Cleansing Tea I've Ever Had</td>\n",
              "      <td>I've used this brand for years. If you're feeling clogge...</td>\n",
              "    </tr>\n",
              "    <tr>\n",
              "      <th>...</th>\n",
              "      <td>...</td>\n",
              "      <td>...</td>\n",
              "      <td>...</td>\n",
              "      <td>...</td>\n",
              "      <td>...</td>\n",
              "      <td>...</td>\n",
              "      <td>...</td>\n",
              "      <td>...</td>\n",
              "      <td>...</td>\n",
              "      <td>...</td>\n",
              "      <td>...</td>\n",
              "    </tr>\n",
              "    <tr>\n",
              "      <th>19349</th>\n",
              "      <td>11590</td>\n",
              "      <td>12621</td>\n",
              "      <td>B009KP6HBM</td>\n",
              "      <td>A3UCO959VA9MV</td>\n",
              "      <td>Maryann Wardach</td>\n",
              "      <td>0</td>\n",
              "      <td>0</td>\n",
              "      <td>1</td>\n",
              "      <td>1299024000</td>\n",
              "      <td>cappucino t-discs</td>\n",
              "      <td>Some product work needs to be done on the discs. I have ...</td>\n",
              "    </tr>\n",
              "    <tr>\n",
              "      <th>19350</th>\n",
              "      <td>11588</td>\n",
              "      <td>12619</td>\n",
              "      <td>B009KP6HBM</td>\n",
              "      <td>A20NB4UBW4WDKG</td>\n",
              "      <td>Gerardo \"GD\"</td>\n",
              "      <td>1</td>\n",
              "      <td>1</td>\n",
              "      <td>1</td>\n",
              "      <td>1293321600</td>\n",
              "      <td>Coffe shop quality capuccino at home</td>\n",
              "      <td>I love coffee. Usually I would not recommend Maxwell Hou...</td>\n",
              "    </tr>\n",
              "    <tr>\n",
              "      <th>19351</th>\n",
              "      <td>11589</td>\n",
              "      <td>12620</td>\n",
              "      <td>B009KP6HBM</td>\n",
              "      <td>A3D9NUCR4RXDPY</td>\n",
              "      <td>Kathleen San Martino</td>\n",
              "      <td>1</td>\n",
              "      <td>1</td>\n",
              "      <td>1</td>\n",
              "      <td>1292544000</td>\n",
              "      <td>Very,Very Good</td>\n",
              "      <td>This cappuccino is very good and tastes almost as good a...</td>\n",
              "    </tr>\n",
              "    <tr>\n",
              "      <th>19352</th>\n",
              "      <td>1362</td>\n",
              "      <td>1478</td>\n",
              "      <td>B009UOFU20</td>\n",
              "      <td>AJVB004EB0MVK</td>\n",
              "      <td>D. Christofferson</td>\n",
              "      <td>0</td>\n",
              "      <td>0</td>\n",
              "      <td>0</td>\n",
              "      <td>1345852800</td>\n",
              "      <td>weak coffee not good for a premium product and price</td>\n",
              "      <td>This coffee supposedly is premium, it tastes watery--ver...</td>\n",
              "    </tr>\n",
              "    <tr>\n",
              "      <th>19353</th>\n",
              "      <td>5259</td>\n",
              "      <td>5703</td>\n",
              "      <td>B009WSNWC4</td>\n",
              "      <td>AMP7K1O84DH1T</td>\n",
              "      <td>ESTY</td>\n",
              "      <td>0</td>\n",
              "      <td>0</td>\n",
              "      <td>1</td>\n",
              "      <td>1351209600</td>\n",
              "      <td>DELICIOUS</td>\n",
              "      <td>Purchased this product at a local store in NY and my kid...</td>\n",
              "    </tr>\n",
              "  </tbody>\n",
              "</table>\n",
              "<p>19354 rows × 11 columns</p>\n",
              "</div>"
            ],
            "text/plain": [
              "       index  ...                                                         Text\n",
              "0       2547  ...  We have used the Victor fly bait for 3 seasons.  Can't b...\n",
              "1       2546  ...  Why is this $[...] when the same product is available fo...\n",
              "2       1146  ...  This was a really good idea and the final product is out...\n",
              "3       1145  ...  I just received my shipment and could hardly wait to try...\n",
              "4       8696  ...  I've used this brand for years. If you're feeling clogge...\n",
              "...      ...  ...                                                          ...\n",
              "19349  11590  ...  Some product work needs to be done on the discs. I have ...\n",
              "19350  11588  ...  I love coffee. Usually I would not recommend Maxwell Hou...\n",
              "19351  11589  ...  This cappuccino is very good and tastes almost as good a...\n",
              "19352   1362  ...  This coffee supposedly is premium, it tastes watery--ver...\n",
              "19353   5259  ...  Purchased this product at a local store in NY and my kid...\n",
              "\n",
              "[19354 rows x 11 columns]"
            ]
          },
          "metadata": {},
          "execution_count": 26
        }
      ]
    },
    {
      "cell_type": "markdown",
      "metadata": {
        "id": "RxBsuBylCAZr"
      },
      "source": [
        "# [3].  Text Preprocessing.\n",
        "\n",
        "Now that we have finished deduplication our data requires some preprocessing before we go on further with analysis and making the prediction model.\n",
        "\n",
        "Hence in the Preprocessing phase we do the following in the order below:-\n",
        "\n",
        "1. Begin by removing the html tags\n",
        "2. Remove any punctuations or limited set of special characters like , or . or # etc.\n",
        "3. Check if the word is made up of english letters and is not c-numeric\n",
        "4. Check to see if the length of the word is greater than 2 (as it was researched that there is no adjective in 2-letters)\n",
        "5. Convert the word to lowercase\n",
        "6. Remove Stopwords\n",
        "7. Finally Snowball Stemming the word (it was obsereved to be better than Porter Stemming)<br>\n",
        "\n",
        "After which we collect the words used to describe positive and negative reviews"
      ]
    },
    {
      "cell_type": "code",
      "metadata": {
        "colab": {
          "base_uri": "https://localhost:8080/"
        },
        "id": "QxCSbeOKnhMd",
        "outputId": "583464a8-660c-49bd-a552-52bf7a9270ca"
      },
      "source": [
        "Text = final['Text']\n",
        "Text.head()"
      ],
      "execution_count": 27,
      "outputs": [
        {
          "output_type": "execute_result",
          "data": {
            "text/plain": [
              "2547    We have used the Victor fly bait for 3 seasons.  Can't b...\n",
              "2546    Why is this $[...] when the same product is available fo...\n",
              "1146    This was a really good idea and the final product is out...\n",
              "1145    I just received my shipment and could hardly wait to try...\n",
              "8696    I've used this brand for years. If you're feeling clogge...\n",
              "Name: Text, dtype: object"
            ]
          },
          "metadata": {},
          "execution_count": 27
        }
      ]
    },
    {
      "cell_type": "code",
      "metadata": {
        "id": "lNHWbzBaCAZ3"
      },
      "source": [
        "\n",
        "# https://stackoverflow.com/a/47091490/4084039\n",
        "import re\n",
        "\n",
        "def decontracted(phrase):\n",
        "    # specific\n",
        "    phrase = re.sub(r\"won't\", \"will not\", phrase)\n",
        "    phrase = re.sub(r\"can\\'t\", \"can not\", phrase)\n",
        "\n",
        "    # general\n",
        "    phrase = re.sub(r\"n\\'t\", \" not\", phrase)\n",
        "    phrase = re.sub(r\"\\'re\", \" are\", phrase)\n",
        "    phrase = re.sub(r\"\\'s\", \" is\", phrase)\n",
        "    phrase = re.sub(r\"\\'d\", \" would\", phrase)\n",
        "    phrase = re.sub(r\"\\'ll\", \" will\", phrase)\n",
        "    phrase = re.sub(r\"\\'t\", \" not\", phrase)\n",
        "    phrase = re.sub(r\"\\'ve\", \" have\", phrase)\n",
        "    phrase = re.sub(r\"\\'m\", \" am\", phrase)\n",
        "    return phrase"
      ],
      "execution_count": 28,
      "outputs": []
    },
    {
      "cell_type": "code",
      "metadata": {
        "id": "Xsr4xHkJCAaA"
      },
      "source": [
        "# https://gist.github.com/sebleier/554280\n",
        "# we are removing the words from the stop words list: 'no', 'nor', 'not'\n",
        "# <br /><br /> ==> after the above steps, we are getting \"br br\"\n",
        "# we are including them into stop words list\n",
        "# instead of <br /> if we have <br/> these tags would have revmoved in the 1st step\n",
        "\n",
        "stopwords= set(['br', 'the', 'i', 'me', 'my', 'myself', 'we', 'our', 'ours', 'ourselves', 'you', \"you're\", \"you've\",\\\n",
        "            \"you'll\", \"you'd\", 'your', 'yours', 'yourself', 'yourselves', 'he', 'him', 'his', 'himself', \\\n",
        "            'she', \"she's\", 'her', 'hers', 'herself', 'it', \"it's\", 'its', 'itself', 'they', 'them', 'their',\\\n",
        "            'theirs', 'themselves', 'what', 'which', 'who', 'whom', 'this', 'that', \"that'll\", 'these', 'those', \\\n",
        "            'am', 'is', 'are', 'was', 'were', 'be', 'been', 'being', 'have', 'has', 'had', 'having', 'do', 'does', \\\n",
        "            'did', 'doing', 'a', 'an', 'the', 'and', 'but', 'if', 'or', 'because', 'as', 'until', 'while', 'of', \\\n",
        "            'at', 'by', 'for', 'with', 'about', 'against', 'between', 'into', 'through', 'during', 'before', 'after',\\\n",
        "            'above', 'below', 'to', 'from', 'up', 'down', 'in', 'out', 'on', 'off', 'over', 'under', 'again', 'further',\\\n",
        "            'then', 'once', 'here', 'there', 'when', 'where', 'why', 'how', 'all', 'any', 'both', 'each', 'few', 'more',\\\n",
        "            'most', 'other', 'some', 'such', 'only', 'own', 'same', 'so', 'than', 'too', 'very', \\\n",
        "            's', 't', 'can', 'will', 'just', 'don', \"don't\", 'should', \"should've\", 'now', 'd', 'll', 'm', 'o', 're', \\\n",
        "            've', 'y', 'ain', 'aren', \"aren't\", 'couldn', \"couldn't\", 'didn', \"didn't\", 'doesn', \"doesn't\", 'hadn',\\\n",
        "            \"hadn't\", 'hasn', \"hasn't\", 'haven', \"haven't\", 'isn', \"isn't\", 'ma', 'mightn', \"mightn't\", 'mustn',\\\n",
        "            \"mustn't\", 'needn', \"needn't\", 'shan', \"shan't\", 'shouldn', \"shouldn't\", 'wasn', \"wasn't\", 'weren', \"weren't\", \\\n",
        "            'won', \"won't\", 'wouldn', \"wouldn't\"])"
      ],
      "execution_count": 29,
      "outputs": []
    },
    {
      "cell_type": "code",
      "metadata": {
        "id": "MgsJ09NpCAaB"
      },
      "source": [
        "from tqdm import tqdm\n",
        "from bs4 import BeautifulSoup\n",
        "\n",
        "def preprocessing_data(Text):\n",
        "    preprocessed_text = []\n",
        "    # tqdm is for printing the status bar\n",
        "    for sentence in tqdm(Text.values):\n",
        "        sentence = re.sub(r\"http\\S+\", \"\", sentence)\n",
        "        sentence = BeautifulSoup(sentence, 'lxml').get_text()\n",
        "        sentence = decontracted(sentence)\n",
        "        sentence = re.sub(\"\\S*\\d\\S*\", \"\", sentence).strip()\n",
        "        sentence = re.sub('[^A-Za-z]+', ' ', sentence) # anything not a word will be removed.\n",
        "        # https://gist.github.com/sebleier/554280\n",
        "        sentence = ' '.join(e.lower() for e in sentence.split() if e.lower() not in stopwords)\n",
        "        preprocessed_text.append(sentence.strip())\n",
        "    return preprocessed_text"
      ],
      "execution_count": 30,
      "outputs": []
    },
    {
      "cell_type": "code",
      "metadata": {
        "colab": {
          "base_uri": "https://localhost:8080/"
        },
        "id": "xhEa1pB9aSNB",
        "outputId": "9c86f174-0b90-4e75-87db-1f990851ab60"
      },
      "source": [
        "%time\n",
        "preprocessed_reviews = []\n",
        "preprocessed_reviews = preprocessing_data(final['Text'])\n"
      ],
      "execution_count": 31,
      "outputs": [
        {
          "output_type": "stream",
          "name": "stdout",
          "text": [
            "CPU times: user 2 µs, sys: 1 µs, total: 3 µs\n",
            "Wall time: 5.96 µs\n"
          ]
        },
        {
          "output_type": "stream",
          "name": "stderr",
          "text": [
            "100%|██████████| 19354/19354 [00:06<00:00, 2793.04it/s]\n"
          ]
        }
      ]
    },
    {
      "cell_type": "markdown",
      "metadata": {
        "id": "VZDkCw-uPgi8"
      },
      "source": [
        "<h3> Modeling"
      ]
    },
    {
      "cell_type": "code",
      "metadata": {
        "colab": {
          "base_uri": "https://localhost:8080/"
        },
        "id": "MmwnD7Dtxcnr",
        "outputId": "64f7b6e9-99b6-4455-9060-1c265419cef6"
      },
      "source": [
        "final['Score'].value_counts() # dataset is highly imbalanced so some of the metrics(like accuracy) may not be good for evaluation"
      ],
      "execution_count": 32,
      "outputs": [
        {
          "output_type": "execute_result",
          "data": {
            "text/plain": [
              "1    16339\n",
              "0     3015\n",
              "Name: Score, dtype: int64"
            ]
          },
          "metadata": {},
          "execution_count": 32
        }
      ]
    },
    {
      "cell_type": "code",
      "metadata": {
        "colab": {
          "base_uri": "https://localhost:8080/"
        },
        "id": "1cpZ0i1VKGfW",
        "outputId": "272af9b6-b5b2-471b-d6b8-ce3016aa5245"
      },
      "source": [
        "print(type(preprocessed_reviews))\n",
        "len(preprocessed_reviews)"
      ],
      "execution_count": 33,
      "outputs": [
        {
          "output_type": "stream",
          "name": "stdout",
          "text": [
            "<class 'list'>\n"
          ]
        },
        {
          "output_type": "execute_result",
          "data": {
            "text/plain": [
              "19354"
            ]
          },
          "metadata": {},
          "execution_count": 33
        }
      ]
    },
    {
      "cell_type": "code",
      "metadata": {
        "colab": {
          "base_uri": "https://localhost:8080/"
        },
        "id": "F60nJJZPLIxW",
        "outputId": "26e2f792-0134-4985-e99c-b2ed159dd1db"
      },
      "source": [
        "print(type(final['Score']) )\n",
        "\n",
        "X = np.array(preprocessed_reviews)\n",
        "y = np.array(final.Score)\n",
        "print(type(X),type(y))"
      ],
      "execution_count": 34,
      "outputs": [
        {
          "output_type": "stream",
          "name": "stdout",
          "text": [
            "<class 'pandas.core.series.Series'>\n",
            "<class 'numpy.ndarray'> <class 'numpy.ndarray'>\n"
          ]
        }
      ]
    },
    {
      "cell_type": "markdown",
      "metadata": {
        "id": "binpWBVNOYgn"
      },
      "source": [
        "https://stackoverflow.com/questions/34842405/parameter-stratify-from-method-train-test-split-scikit-learn"
      ]
    },
    {
      "cell_type": "code",
      "metadata": {
        "id": "f0ifONkNL8mA"
      },
      "source": [
        "from sklearn.model_selection import train_test_split\n",
        "\n",
        "X_train, X_test, Y_train, Y_test = train_test_split(X,y,test_size = 0.33,random_state=42,stratify=y)"
      ],
      "execution_count": 35,
      "outputs": []
    },
    {
      "cell_type": "code",
      "metadata": {
        "colab": {
          "base_uri": "https://localhost:8080/"
        },
        "id": "__zyQbEkNmYi",
        "outputId": "55dae1c1-3664-49d1-91d8-730c0723a033"
      },
      "source": [
        "print(\"size of X_train = \",len(X_train),type(X_train))\n",
        "print(\"size of X_test  = \",len(X_test), type(X_test))\n",
        "print(\"size of Y_train = \",len(Y_train),type(Y_train))\n",
        "print(\"size of Y_test  = \",len(Y_test), type(Y_test))"
      ],
      "execution_count": 36,
      "outputs": [
        {
          "output_type": "stream",
          "name": "stdout",
          "text": [
            "size of X_train =  12967 <class 'numpy.ndarray'>\n",
            "size of X_test  =  6387 <class 'numpy.ndarray'>\n",
            "size of Y_train =  12967 <class 'numpy.ndarray'>\n",
            "size of Y_test  =  6387 <class 'numpy.ndarray'>\n"
          ]
        }
      ]
    },
    {
      "cell_type": "markdown",
      "metadata": {
        "id": "y81UDvs9Oena"
      },
      "source": [
        "<h3> Cross Validation"
      ]
    },
    {
      "cell_type": "code",
      "metadata": {
        "id": "K-sKAbZGN60D"
      },
      "source": [
        "X_train,X_cv,Y_train,Y_cv = train_test_split(X_train,Y_train,test_size = 0.33,random_state=42,stratify = Y_train) "
      ],
      "execution_count": 37,
      "outputs": []
    },
    {
      "cell_type": "code",
      "metadata": {
        "colab": {
          "base_uri": "https://localhost:8080/"
        },
        "id": "_pu7A0VMPl-3",
        "outputId": "0d91266b-b480-493d-b7e4-5b4662099b42"
      },
      "source": [
        "print(\"size of X_train = \",len(X_train),type(X_train))\n",
        "print(\"size of X_cv    = \",len(X_cv),   type(X_cv))\n",
        "print(\"size of Y_train = \",len(Y_train),type(Y_train))\n",
        "print(\"size of Y_cv    = \",len(Y_cv),   type(Y_cv))"
      ],
      "execution_count": 38,
      "outputs": [
        {
          "output_type": "stream",
          "name": "stdout",
          "text": [
            "size of X_train =  8687 <class 'numpy.ndarray'>\n",
            "size of X_cv    =  4280 <class 'numpy.ndarray'>\n",
            "size of Y_train =  8687 <class 'numpy.ndarray'>\n",
            "size of Y_cv    =  4280 <class 'numpy.ndarray'>\n"
          ]
        }
      ]
    },
    {
      "cell_type": "code",
      "metadata": {
        "colab": {
          "base_uri": "https://localhost:8080/",
          "height": 53
        },
        "id": "nafx7qT_QU3r",
        "outputId": "f56385fb-d20b-4d2a-b5a6-d215d6c9fc11"
      },
      "source": [
        "X_train[5]"
      ],
      "execution_count": 39,
      "outputs": [
        {
          "output_type": "execute_result",
          "data": {
            "application/vnd.google.colaboratory.intrinsic+json": {
              "type": "string"
            },
            "text/plain": [
              "'eating regular spicy several years definitely superior non microwave kind shake bag directed make sure not stacked put popcorn setting microwave soooo good'"
            ]
          },
          "metadata": {},
          "execution_count": 39
        }
      ]
    },
    {
      "cell_type": "markdown",
      "metadata": {
        "id": "k06v0gYWQFd9"
      },
      "source": [
        "##  BOW (Unigram) \n",
        "\n",
        "https://github.com/scikit-learn/scikit-learn/blob/0d378913b/sklearn/feature_extraction/text.py#L884"
      ]
    },
    {
      "cell_type": "code",
      "metadata": {
        "id": "3mkUiApUPzdz"
      },
      "source": [
        "from sklearn.feature_extraction.text import CountVectorizer\n",
        "\n",
        "vectorizer = CountVectorizer(max_features=5000)\n",
        "\n",
        "vectorizer.fit(X_train) # fitting on the training data,building the vocabulary and stuff.\n",
        "\n",
        "BOW_X_train = vectorizer.transform(X_train) \n",
        "BOW_X_cv    = vectorizer.transform(X_cv)\n",
        "BOW_X_test  = vectorizer.transform(X_test)"
      ],
      "execution_count": 42,
      "outputs": []
    },
    {
      "cell_type": "code",
      "metadata": {
        "id": "IZ1-GUDWNaZf"
      },
      "source": [
        "from sklearn.preprocessing import StandardScaler\n",
        "\n",
        "sc = StandardScaler(copy = True,with_mean = False,with_std = True)\n",
        "\n",
        "BOW_X_train = sc.fit_transform(BOW_X_train)\n",
        "BOW_X_cv    = sc.transform(BOW_X_cv)\n",
        "BOW_X_test  = sc.transform(BOW_X_test)"
      ],
      "execution_count": 44,
      "outputs": []
    },
    {
      "cell_type": "markdown",
      "metadata": {
        "id": "1X9AwgkOOB7C"
      },
      "source": [
        "Logistic Regression takes the standadardised data\n",
        "\n",
        "https://scikit-learn.org/stable/modules/generated/sklearn.preprocessing.StandardScaler.html"
      ]
    },
    {
      "cell_type": "code",
      "metadata": {
        "colab": {
          "base_uri": "https://localhost:8080/"
        },
        "id": "h_BPraUTQIY3",
        "outputId": "f596204c-7511-47fd-8ab7-38c23f9316a3"
      },
      "source": [
        "print(\"some feature names:--\",vectorizer.get_feature_names()[:10])\n",
        "\n",
        "print(\"BOW_X_train\",BOW_X_train.shape)\n",
        "print(\"BOW_X_cv   \",BOW_X_cv.shape)\n",
        "print(\"BOW_X_test \",BOW_X_test.shape)\n",
        "\n",
        "print(type(BOW_X_train))"
      ],
      "execution_count": 45,
      "outputs": [
        {
          "output_type": "stream",
          "name": "stdout",
          "text": [
            "some feature names:-- ['ability', 'able', 'absolute', 'absolutely', 'absorb', 'absorbed', 'acai', 'accept', 'acceptable', 'access']\n",
            "BOW_X_train (8687, 5000)\n",
            "BOW_X_cv    (4280, 5000)\n",
            "BOW_X_test  (6387, 5000)\n",
            "<class 'scipy.sparse.csr.csr_matrix'>\n"
          ]
        }
      ]
    },
    {
      "cell_type": "code",
      "metadata": {
        "colab": {
          "base_uri": "https://localhost:8080/"
        },
        "id": "WqhlpYoQoClB",
        "outputId": "2e594195-7b77-4616-f5e4-31f012951e4e"
      },
      "source": [
        "print(\"Y_train\",Y_train.shape)\n",
        "print(\"Y_cv   \",Y_cv.shape)\n",
        "print(\"Y_test\",Y_test.shape)"
      ],
      "execution_count": 46,
      "outputs": [
        {
          "output_type": "stream",
          "name": "stdout",
          "text": [
            "Y_train (8687,)\n",
            "Y_cv    (4280,)\n",
            "Y_test (6387,)\n"
          ]
        }
      ]
    },
    {
      "cell_type": "code",
      "metadata": {
        "colab": {
          "base_uri": "https://localhost:8080/"
        },
        "id": "sS1a_vbkkzx_",
        "outputId": "263fb291-b8dd-4fde-c0ca-9434a582c1b5"
      },
      "source": [
        "from imblearn.over_sampling import SMOTE\n",
        "from collections import Counter\n",
        "\n",
        "print(Counter(Y_train))\n",
        "\n",
        "# oversample = SMOTE()\n",
        "# BOW_X_train, Y_train = oversample.fit_resample(BOW_X_train, Y_train)\n",
        "\n",
        "print(Counter(Y_train))"
      ],
      "execution_count": 47,
      "outputs": [
        {
          "output_type": "stream",
          "name": "stdout",
          "text": [
            "Counter({1: 7334, 0: 1353})\n",
            "Counter({1: 7334, 0: 1353})\n"
          ]
        }
      ]
    },
    {
      "cell_type": "markdown",
      "metadata": {
        "id": "cYj-TuEZVPhv"
      },
      "source": [
        "<h3> Logistic Regression on BOW"
      ]
    },
    {
      "cell_type": "markdown",
      "metadata": {
        "id": "mSmApourlapj"
      },
      "source": [
        "https://scikit-learn.org/stable/modules/naive_bayes.html"
      ]
    },
    {
      "cell_type": "code",
      "metadata": {
        "colab": {
          "base_uri": "https://localhost:8080/"
        },
        "id": "gVzV-AWWUPEW",
        "outputId": "e649cd80-72a0-457b-b433-14ed16557841"
      },
      "source": [
        "%time\n",
        "\n",
        "from sklearn.linear_model import LogisticRegression\n",
        "from sklearn.metrics import   accuracy_score, precision_score , recall_score , f1_score\n",
        "\n",
        "accuracy_list  = []\n",
        "precision_list = []\n",
        "recall_list    = []\n",
        "f1_Score_list  = []\n",
        "c_list         = []  # remember C = 1/lambda . lambda is hyperparamter in LR, just like K and c if 0 then overfit if high then underfit\n",
        "                                          # but bcz c is inverse of lambda , c = 0 would mean underfit and c = very high would mean underfit\n",
        "c = 0.0001 \n",
        "\n",
        "while c <= 0.5:\n",
        "  c_list.append(np.round(c,4))\n",
        "  c = c*2\n",
        "\n",
        "for i in tqdm(c_list):\n",
        "\n",
        "  clf = LogisticRegression(C=i,penalty = 'l1',solver='liblinear')\n",
        "  \n",
        "  clf.fit(BOW_X_train,Y_train) # fitting the model in BOW training data\n",
        "  pred = clf.predict(BOW_X_cv) # predicting the labels of cross validation data\n",
        "\n",
        "    \n",
        "  accuracy  = accuracy_score(Y_cv,pred)*100\n",
        "  precision = np.round(precision_score(Y_cv,pred,average = 'binary')*100)\n",
        "  recall    = np.round(recall_score(Y_cv,pred,average = 'binary')*100) \n",
        "  f1_Score  = np.round( f1_score(Y_cv,pred,average = 'binary')*100) \n",
        "  \n",
        "  accuracy_list.append(accuracy)\n",
        "  precision_list.append(precision)\n",
        "  recall_list.append(recall)\n",
        "  f1_Score_list.append(f1_Score)\n",
        "  \n",
        "  \n",
        "  print(\"---\"*30)\n",
        "  print(\"for C = \",i)\n",
        "  \n",
        "  print(\"Accuracy         = \",accuracy)\n",
        "  print(\"Precision_score  = \",precision)\n",
        "  print(\"Recall_score     = \",recall)\n",
        "  print(\"f1 Score         = \",f1_Score)\n",
        "  print(\"\\n\")\n",
        "\n",
        "print(c_list)\n",
        "print(\"Best Accuracy  = \",max(accuracy_list))\n",
        "print(\"Best Precision = \",max(precision_list))\n",
        "print(\"Best f1_score  = \",max(f1_Score_list))"
      ],
      "execution_count": 97,
      "outputs": [
        {
          "output_type": "stream",
          "name": "stdout",
          "text": [
            "CPU times: user 2 µs, sys: 0 ns, total: 2 µs\n",
            "Wall time: 5.48 µs\n"
          ]
        },
        {
          "output_type": "stream",
          "name": "stderr",
          "text": [
            " 31%|███       | 4/13 [00:00<00:00, 38.40it/s]"
          ]
        },
        {
          "output_type": "stream",
          "name": "stdout",
          "text": [
            "------------------------------------------------------------------------------------------\n",
            "for C =  0.0001\n",
            "Accuracy         =  15.58411214953271\n",
            "Precision_score  =  0.0\n",
            "Recall_score     =  0.0\n",
            "f1 Score         =  0.0\n",
            "\n",
            "\n",
            "------------------------------------------------------------------------------------------\n",
            "for C =  0.0002\n",
            "Accuracy         =  15.58411214953271\n",
            "Precision_score  =  0.0\n",
            "Recall_score     =  0.0\n",
            "f1 Score         =  0.0\n",
            "\n",
            "\n",
            "------------------------------------------------------------------------------------------\n",
            "for C =  0.0004\n",
            "Accuracy         =  84.41588785046729\n",
            "Precision_score  =  84.0\n",
            "Recall_score     =  100.0\n",
            "f1 Score         =  92.0\n",
            "\n",
            "\n",
            "------------------------------------------------------------------------------------------\n",
            "for C =  0.0008\n",
            "Accuracy         =  84.41588785046729\n",
            "Precision_score  =  84.0\n",
            "Recall_score     =  100.0\n",
            "f1 Score         =  92.0\n",
            "\n",
            "\n",
            "------------------------------------------------------------------------------------------\n",
            "for C =  0.0016\n",
            "Accuracy         =  84.41588785046729\n",
            "Precision_score  =  84.0\n",
            "Recall_score     =  100.0\n",
            "f1 Score         =  92.0\n",
            "\n",
            "\n",
            "------------------------------------------------------------------------------------------\n",
            "for C =  0.0032\n",
            "Accuracy         =  84.4392523364486\n",
            "Precision_score  =  84.0\n",
            "Recall_score     =  100.0\n",
            "f1 Score         =  92.0\n",
            "\n",
            "\n"
          ]
        },
        {
          "output_type": "stream",
          "name": "stderr",
          "text": [
            "\r 62%|██████▏   | 8/13 [00:00<00:00, 27.45it/s]"
          ]
        },
        {
          "output_type": "stream",
          "name": "stdout",
          "text": [
            "------------------------------------------------------------------------------------------\n",
            "for C =  0.0064\n",
            "Accuracy         =  86.07476635514018\n",
            "Precision_score  =  86.0\n",
            "Recall_score     =  100.0\n",
            "f1 Score         =  92.0\n",
            "\n",
            "\n",
            "------------------------------------------------------------------------------------------\n",
            "for C =  0.0128\n",
            "Accuracy         =  88.17757009345794\n",
            "Precision_score  =  88.0\n",
            "Recall_score     =  99.0\n",
            "f1 Score         =  93.0\n",
            "\n",
            "\n",
            "------------------------------------------------------------------------------------------\n",
            "for C =  0.0256\n",
            "Accuracy         =  89.76635514018692\n",
            "Precision_score  =  91.0\n",
            "Recall_score     =  98.0\n",
            "f1 Score         =  94.0\n",
            "\n",
            "\n",
            "------------------------------------------------------------------------------------------\n",
            "for C =  0.0512\n",
            "Accuracy         =  90.67757009345794\n",
            "Precision_score  =  92.0\n",
            "Recall_score     =  97.0\n",
            "f1 Score         =  95.0\n",
            "\n",
            "\n"
          ]
        },
        {
          "output_type": "stream",
          "name": "stderr",
          "text": [
            "100%|██████████| 13/13 [00:00<00:00, 19.00it/s]"
          ]
        },
        {
          "output_type": "stream",
          "name": "stdout",
          "text": [
            "------------------------------------------------------------------------------------------\n",
            "for C =  0.1024\n",
            "Accuracy         =  90.53738317757009\n",
            "Precision_score  =  93.0\n",
            "Recall_score     =  96.0\n",
            "f1 Score         =  94.0\n",
            "\n",
            "\n",
            "------------------------------------------------------------------------------------------\n",
            "for C =  0.2048\n",
            "Accuracy         =  89.78971962616824\n",
            "Precision_score  =  93.0\n",
            "Recall_score     =  95.0\n",
            "f1 Score         =  94.0\n",
            "\n",
            "\n",
            "------------------------------------------------------------------------------------------\n",
            "for C =  0.4096\n",
            "Accuracy         =  89.62616822429906\n",
            "Precision_score  =  93.0\n",
            "Recall_score     =  95.0\n",
            "f1 Score         =  94.0\n",
            "\n",
            "\n",
            "[0.0001, 0.0002, 0.0004, 0.0008, 0.0016, 0.0032, 0.0064, 0.0128, 0.0256, 0.0512, 0.1024, 0.2048, 0.4096]\n",
            "Best Accuracy  =  90.67757009345794\n",
            "Best Precision =  93.0\n",
            "Best f1_score  =  95.0\n"
          ]
        },
        {
          "output_type": "stream",
          "name": "stderr",
          "text": [
            "\n"
          ]
        }
      ]
    },
    {
      "cell_type": "code",
      "metadata": {
        "colab": {
          "base_uri": "https://localhost:8080/",
          "height": 675
        },
        "id": "S5i_Q7bkhQ3h",
        "outputId": "dd4d9da0-3462-4d25-a4af-dbfe1a3934bf"
      },
      "source": [
        "plt.figure( figsize = (12,10) )\n",
        "\n",
        "plt.subplot(2,2,1)\n",
        "plt.plot(c_list,accuracy_list,'go-')\n",
        "plt.xlabel(\"c\")\n",
        "plt.ylabel(\"Accuracy\")\n",
        "\n",
        "plt.subplot(2,2,2)\n",
        "plt.plot(c_list,precision_list,'bo-')\n",
        "plt.xlabel(\"c\")\n",
        "plt.ylabel(\"Precision\")\n",
        "\n",
        "plt.subplot(2,2,3)\n",
        "plt.plot(c_list,recall_list,'ro-')\n",
        "plt.xlabel(\"c\")\n",
        "plt.ylabel(\"Recall\")\n",
        "\n",
        "plt.subplot(2,2,4)\n",
        "plt.plot(c_list,f1_Score_list)\n",
        "plt.xlabel(\"c\")\n",
        "plt.ylabel(\"f1_Score\")\n",
        "\n",
        "print(\"Optimal c according to Accuracy = \", c_list[accuracy_list.index(max(accuracy_list))])\n",
        "print(\"Optimal c according to Precision = \", c_list[precision_list.index(max(precision_list))])\n",
        "print(\"Optimal c according to Recall = \", c_list[recall_list.index(max(recall_list))])\n",
        "print(\"Optimal c according to F1_score = \", c_list[f1_Score_list.index(max(f1_Score_list))])"
      ],
      "execution_count": 98,
      "outputs": [
        {
          "output_type": "stream",
          "name": "stdout",
          "text": [
            "Optimal c according to Accuracy =  0.0512\n",
            "Optimal c according to Precision =  0.1024\n",
            "Optimal c according to Recall =  0.0004\n",
            "Optimal c according to F1_score =  0.0512\n"
          ]
        },
        {
          "output_type": "display_data",
          "data": {
            "image/png": "[encoded data removed]",
            "text/plain": [
              "<Figure size 864x720 with 4 Axes>"
            ]
          },
          "metadata": {
            "needs_background": "light"
          }
        }
      ]
    },
    {
      "cell_type": "markdown",
      "metadata": {
        "id": "zxku1Yt-EAbI"
      },
      "source": [
        "* Optimal c according to Accuracy =  0.0593\n",
        "* Optimal c according to Precision =  0.0718\n",
        "* Optimal c according to Recall =  0.0004\n",
        "* Optimal c according to F1_score =  0.0405"
      ]
    },
    {
      "cell_type": "markdown",
      "metadata": {
        "id": "g44ksQhV0Bpk"
      },
      "source": [
        "ROC is prefered as the scoring metric over the precision and the recall for cross validation \n",
        "\n",
        "https://machinelearningmastery.com/roc-curves-and-precision-recall-curves-for-imbalanced-classification/\n",
        "\n",
        "\n",
        "AUC and ROC are used only in Binary class classification problems\n",
        "\n",
        "For Imbalanced Data set AUC can be high for even Dumb Model ."
      ]
    },
    {
      "cell_type": "code",
      "metadata": {
        "colab": {
          "base_uri": "https://localhost:8080/",
          "height": 473
        },
        "id": "Y-nThsE4lRMG",
        "outputId": "f7753003-e70a-445b-9c06-d761ee08322e"
      },
      "source": [
        "%time\n",
        "from sklearn.metrics import roc_auc_score\n",
        "\n",
        "\n",
        "auc_cv     = []\n",
        "auc_train  = []\n",
        "c_list     = []\n",
        "\n",
        "c = 0.0001 \n",
        "\n",
        "while c <= 0.5:\n",
        "  c_list.append(np.round(c,5))\n",
        "  c = c*1.2\n",
        "\n",
        "\n",
        "for i in tqdm(c_list):\n",
        "\n",
        "  clf = LogisticRegression(C = i,penalty='l1',solver='liblinear')\n",
        "\n",
        "  clf.fit(BOW_X_train,Y_train)\n",
        "  y_hat = clf.predict_proba(BOW_X_cv) # predict probabilities.\n",
        "  pos_prob = y_hat[:,1]               # selecting probabilities of positive class only.\n",
        "  auc_cv.append(roc_auc_score(Y_cv,pos_prob))\n",
        "\n",
        "  y_hat = clf.predict_proba(BOW_X_train)\n",
        "  pos_prob = y_hat[:,1]\n",
        "  auc_train.append(roc_auc_score(Y_train,pos_prob)) # appending the auc_score of different c for training data.\n",
        "\n",
        "\n",
        "plt.figure( figsize = (10,6) )\n",
        "\n",
        "plt.plot(c_list,auc_train,label = \"AUC Train\")\n",
        "plt.scatter(c_list,auc_train,label = \"AUC Train\")\n",
        "\n",
        "plt.plot(c_list,auc_cv,label = 'AUC Cv')\n",
        "plt.scatter(c_list,auc_cv,label = 'AUC Cv')\n",
        "\n",
        "plt.title(\"AUC vs C\")\n",
        "plt.xlabel('C')\n",
        "plt.ylabel('AUC')\n",
        "plt.legend() \n",
        "\n",
        "plt.show()\n",
        "\n",
        "optimal_c = c_list[auc_cv.index(max(auc_cv))]\n",
        "\n",
        "print(\"Best c according to AUC-Roc is = \",optimal_c)"
      ],
      "execution_count": 105,
      "outputs": [
        {
          "output_type": "stream",
          "name": "stdout",
          "text": [
            "CPU times: user 2 µs, sys: 0 ns, total: 2 µs\n",
            "Wall time: 5.72 µs\n"
          ]
        },
        {
          "output_type": "stream",
          "name": "stderr",
          "text": [
            "100%|██████████| 47/47 [00:01<00:00, 24.46it/s]\n"
          ]
        },
        {
          "output_type": "display_data",
          "data": {
            "image/png": "[encoded data removed]",
            "text/plain": [
              "<Figure size 720x432 with 1 Axes>"
            ]
          },
          "metadata": {
            "needs_background": "light"
          }
        },
        {
          "output_type": "stream",
          "name": "stdout",
          "text": [
            "Best c according to AUC-Roc is =  0.03418\n"
          ]
        }
      ]
    },
    {
      "cell_type": "markdown",
      "metadata": {
        "id": "VzHpjlEDG4QL"
      },
      "source": [
        "Best c according to AUC-Roc is =  0.03418"
      ]
    },
    {
      "cell_type": "markdown",
      "metadata": {
        "id": "JF0X5S7IcH0n"
      },
      "source": [
        "https://www.kaggle.com/joparga3/2-tuning-parameters-for-logistic-regression"
      ]
    },
    {
      "cell_type": "code",
      "metadata": {
        "colab": {
          "base_uri": "https://localhost:8080/",
          "height": 548
        },
        "id": "2sY3zk4xqZtD",
        "outputId": "2c77b614-9606-438d-9f17-8cb8a857d29d"
      },
      "source": [
        "%time\n",
        "\n",
        "from sklearn.metrics import   roc_auc_score\n",
        "\n",
        "clf = LogisticRegression(C = 0.0348,penalty='l1',solver='liblinear') # small C(1/lambda) will underfit and high C will overfit.\n",
        "\n",
        "clf.fit(BOW_X_train,Y_train)\n",
        "\n",
        "y_hat = clf.predict_proba(BOW_X_cv)\n",
        "pos_prob_cv = y_hat[:,1]\n",
        "\n",
        "fpr_test, tpr_test, thresholds = roc_curve(Y_cv,pos_prob_cv)\n",
        "\n",
        "y_hat = clf.predict_proba(BOW_X_train)\n",
        "pos_prob_train = y_hat[:,1]\n",
        "\n",
        "fpr_train, tpr_train, thresholds = roc_curve(Y_train,pos_prob_train)\n",
        "\n",
        "plt.figure(figsize=(10,8))\n",
        "\n",
        "plt.plot(fpr_test, tpr_test ,label = \" Cross Validated ROC, AUC  = \" + str(roc_auc_score(Y_cv,pos_prob_cv)))\n",
        "plt.plot(fpr_train,tpr_train,label = \" TRAIN ROC, AUC            = \" + str(roc_auc_score(Y_train,pos_prob_train)))\n",
        "\n",
        "plt.title('ROC')\n",
        "plt.xlabel('FPR')\n",
        "plt.ylabel('TPR')\n",
        "plt.legend()\n",
        "\n",
        "plt.show()"
      ],
      "execution_count": 106,
      "outputs": [
        {
          "output_type": "stream",
          "name": "stdout",
          "text": [
            "CPU times: user 4 µs, sys: 0 ns, total: 4 µs\n",
            "Wall time: 8.58 µs\n"
          ]
        },
        {
          "output_type": "display_data",
          "data": {
            "image/png": "[encoded data removed]",
            "text/plain": [
              "<Figure size 720x576 with 1 Axes>"
            ]
          },
          "metadata": {
            "needs_background": "light"
          }
        }
      ]
    },
    {
      "cell_type": "markdown",
      "metadata": {
        "id": "lY9QC4TWE7rL"
      },
      "source": [
        "91 AUC is very good, means our model is able to distinguish positive class points from negative class points 91 percent of the times."
      ]
    },
    {
      "cell_type": "code",
      "metadata": {
        "id": "Y51fiqquYpnE"
      },
      "source": [
        "from sklearn.metrics import plot_confusion_matrix\n",
        "from sklearn.metrics import classification_report\n",
        "\n",
        "def plot_confusionMatrix(optimal_c,X_train,X_test,Y_train,Y_test):\n",
        "  # plotting Confusion Matrix\n",
        "\n",
        "  clf = LogisticRegression(C = optimal_c,penalty='l1',solver = 'liblinear')\n",
        "\n",
        "  clf.fit(X_train,Y_train)\n",
        "  pred = clf.predict(X_test)\n",
        "\n",
        "  print(classification_report(Y_test, pred))\n",
        "  plot_confusion_matrix(clf, X_test, Y_test)\n",
        "\n",
        "\n",
        "  plt.show()"
      ],
      "execution_count": 107,
      "outputs": []
    },
    {
      "cell_type": "code",
      "metadata": {
        "colab": {
          "base_uri": "https://localhost:8080/",
          "height": 435
        },
        "id": "j7GMAJFWGddo",
        "outputId": "07ca6d06-b9ac-4322-95c0-919c8050fa08"
      },
      "source": [
        "plot_confusionMatrix(0.0348,BOW_X_train,BOW_X_test,Y_train,Y_test)"
      ],
      "execution_count": 108,
      "outputs": [
        {
          "output_type": "stream",
          "name": "stdout",
          "text": [
            "              precision    recall  f1-score   support\n",
            "\n",
            "           0       0.82      0.48      0.61       995\n",
            "           1       0.91      0.98      0.94      5392\n",
            "\n",
            "    accuracy                           0.90      6387\n",
            "   macro avg       0.86      0.73      0.78      6387\n",
            "weighted avg       0.90      0.90      0.89      6387\n",
            "\n"
          ]
        },
        {
          "output_type": "display_data",
          "data": {
            "image/png": "[encoded data removed]",
            "text/plain": [
              "<Figure size 432x288 with 2 Axes>"
            ]
          },
          "metadata": {
            "needs_background": "light"
          }
        }
      ]
    },
    {
      "cell_type": "markdown",
      "metadata": {
        "id": "HIwsgEr7Tb65"
      },
      "source": [
        "In imbalanced datasets, the goal is to improve recall without hurting precision. These goals, however, are often conflicting, since in order to increase the TP for the minority class, the number of FP is also often increased, resulting in reduced precision.\n",
        "\n",
        "https://machinelearningmastery.com/precision-recall-and-f-measure-for-imbalanced-classification/"
      ]
    },
    {
      "cell_type": "markdown",
      "metadata": {
        "id": "dECuJNSkd_fl"
      },
      "source": [
        "https://www.codegrepper.com/code-examples/python/skplt.metrics.plot_confusion_matrix"
      ]
    },
    {
      "cell_type": "markdown",
      "metadata": {
        "id": "BSqvhG--g5Z-"
      },
      "source": [
        "https://towardsdatascience.com/7-over-sampling-techniques-to-handle-imbalanced-data-ec51c8db349f"
      ]
    },
    {
      "cell_type": "markdown",
      "metadata": {
        "id": "hC2MnolmT-kH"
      },
      "source": [
        "## <h3> BOW(Bi-gram)"
      ]
    },
    {
      "cell_type": "code",
      "metadata": {
        "id": "4UVa1clMPLnW"
      },
      "source": [
        "from sklearn.feature_extraction.text import CountVectorizer\n",
        "\n",
        "vectorizer = CountVectorizer(ngram_range = (2,2),max_features= 5000)\n",
        "\n",
        "vectorizer.fit(X_train) # fitting on the training data,building the vocabulary and stuff.\n",
        "\n",
        "BOW_X_train = vectorizer.transform(X_train) \n",
        "BOW_X_cv    = vectorizer.transform(X_cv)\n",
        "BOW_X_test  = vectorizer.transform(X_test)"
      ],
      "execution_count": 110,
      "outputs": []
    },
    {
      "cell_type": "code",
      "metadata": {
        "id": "PbofUaAbdl-I"
      },
      "source": [
        "from sklearn.preprocessing import StandardScaler\n",
        "\n",
        "sc = StandardScaler(copy = True,with_mean = False,with_std = True)\n",
        "\n",
        "BOW_X_train = sc.fit_transform(BOW_X_train)\n",
        "BOW_X_cv    = sc.transform(BOW_X_cv)\n",
        "BOW_X_test  = sc.transform(BOW_X_test)"
      ],
      "execution_count": 111,
      "outputs": []
    },
    {
      "cell_type": "code",
      "metadata": {
        "colab": {
          "base_uri": "https://localhost:8080/"
        },
        "id": "SEUUXcfdUpbn",
        "outputId": "93974231-e109-4708-90ff-b952f293d12f"
      },
      "source": [
        "print(\"some feature names:--\",vectorizer.get_feature_names()[:10])\n",
        "\n",
        "print(\"BOW_X_train\",BOW_X_train.shape)\n",
        "print(\"BOW_X_cv   \",BOW_X_cv.shape)\n",
        "print(\"BOW_X_test \",BOW_X_test.shape)\n",
        "\n",
        "print(type(BOW_X_train))"
      ],
      "execution_count": 112,
      "outputs": [
        {
          "output_type": "stream",
          "name": "stdout",
          "text": [
            "some feature names:-- ['able buy', 'able eat', 'able find', 'able get', 'able make', 'able order', 'able purchase', 'able use', 'absolute best', 'absolute favorite']\n",
            "BOW_X_train (8687, 5000)\n",
            "BOW_X_cv    (4280, 5000)\n",
            "BOW_X_test  (6387, 5000)\n",
            "<class 'scipy.sparse.csr.csr_matrix'>\n"
          ]
        }
      ]
    },
    {
      "cell_type": "code",
      "metadata": {
        "colab": {
          "base_uri": "https://localhost:8080/",
          "height": 473
        },
        "id": "DoPpY0jNU_qF",
        "outputId": "61bc5e9b-01ef-4fe9-b4c0-399e63c6e364"
      },
      "source": [
        "%time\n",
        "from sklearn.metrics import roc_auc_score\n",
        "\n",
        "\n",
        "auc_cv     = []\n",
        "auc_train  = []\n",
        "c_list     = []\n",
        "\n",
        "c = 0.0001 \n",
        "\n",
        "while c <= 0.5:\n",
        "  c_list.append(np.round(c,5))\n",
        "  c = c*1.2\n",
        "\n",
        "\n",
        "for i in tqdm(c_list):\n",
        "\n",
        "  clf = LogisticRegression(C = i,penalty='l1',solver='liblinear')\n",
        "\n",
        "  clf.fit(BOW_X_train,Y_train)\n",
        "  y_hat = clf.predict_proba(BOW_X_cv) # predict probabilities.\n",
        "  pos_prob = y_hat[:,1]               # selecting probabilities of positive class only.\n",
        "  auc_cv.append(roc_auc_score(Y_cv,pos_prob))\n",
        "\n",
        "  y_hat = clf.predict_proba(BOW_X_train)\n",
        "  pos_prob = y_hat[:,1]\n",
        "  auc_train.append(roc_auc_score(Y_train,pos_prob)) # appending the auc_score of different c for training data.\n",
        "\n",
        "\n",
        "plt.figure( figsize = (10,6) )\n",
        "\n",
        "plt.plot(c_list,auc_train,label = \"AUC Train\")\n",
        "plt.scatter(c_list,auc_train,label = \"AUC Train\")\n",
        "\n",
        "plt.plot(c_list,auc_cv,label = 'AUC Cv')\n",
        "plt.scatter(c_list,auc_cv,label = 'AUC Cv')\n",
        "\n",
        "plt.title(\"AUC vs C\")\n",
        "plt.xlabel('C')\n",
        "plt.ylabel('AUC')\n",
        "plt.legend() \n",
        "\n",
        "plt.show()\n",
        "\n",
        "optimal_c = c_list[auc_cv.index(max(auc_cv))]\n",
        "\n",
        "print(\"Best c according to AUC-Roc is = \",optimal_c)"
      ],
      "execution_count": 113,
      "outputs": [
        {
          "output_type": "stream",
          "name": "stdout",
          "text": [
            "CPU times: user 2 µs, sys: 0 ns, total: 2 µs\n",
            "Wall time: 5.48 µs\n"
          ]
        },
        {
          "output_type": "stream",
          "name": "stderr",
          "text": [
            "100%|██████████| 47/47 [00:01<00:00, 44.34it/s]\n"
          ]
        },
        {
          "output_type": "display_data",
          "data": {
            "image/png": "[encoded data removed]",
            "text/plain": [
              "<Figure size 720x432 with 1 Axes>"
            ]
          },
          "metadata": {
            "needs_background": "light"
          }
        },
        {
          "output_type": "stream",
          "name": "stdout",
          "text": [
            "Best c according to AUC-Roc is =  0.07088\n"
          ]
        }
      ]
    },
    {
      "cell_type": "markdown",
      "metadata": {
        "id": "NrpZKk-rWIAj"
      },
      "source": [
        "optimal c has increased from 0.0348 to 0.07 that means lambda has reduced , implies we nearing overfiting"
      ]
    },
    {
      "cell_type": "code",
      "metadata": {
        "colab": {
          "base_uri": "https://localhost:8080/",
          "height": 548
        },
        "id": "aA_cC_44VjIg",
        "outputId": "9fa630a2-f489-4d27-c745-c534634989b6"
      },
      "source": [
        "%time\n",
        "\n",
        "from sklearn.metrics import   roc_auc_score\n",
        "\n",
        "clf = LogisticRegression(C = 0.07088,penalty='l1',solver='liblinear') # small C(1/lambda) will underfit and high C will overfit.\n",
        "\n",
        "clf.fit(BOW_X_train,Y_train)\n",
        "\n",
        "y_hat = clf.predict_proba(BOW_X_cv)\n",
        "pos_prob_cv = y_hat[:,1]\n",
        "\n",
        "fpr_test, tpr_test, thresholds = roc_curve(Y_cv,pos_prob_cv)\n",
        "\n",
        "y_hat = clf.predict_proba(BOW_X_train)\n",
        "pos_prob_train = y_hat[:,1]\n",
        "\n",
        "fpr_train, tpr_train, thresholds = roc_curve(Y_train,pos_prob_train)\n",
        "\n",
        "plt.figure(figsize=(10,8))\n",
        "\n",
        "plt.plot(fpr_test, tpr_test ,label = \" Cross Validated ROC, AUC  = \" + str(roc_auc_score(Y_cv,pos_prob_cv)))\n",
        "plt.plot(fpr_train,tpr_train,label = \" TRAIN ROC, AUC            = \" + str(roc_auc_score(Y_train,pos_prob_train)))\n",
        "\n",
        "plt.title('ROC')\n",
        "plt.xlabel('FPR')\n",
        "plt.ylabel('TPR')\n",
        "plt.legend()\n",
        "\n",
        "plt.show()"
      ],
      "execution_count": 114,
      "outputs": [
        {
          "output_type": "stream",
          "name": "stdout",
          "text": [
            "CPU times: user 2 µs, sys: 0 ns, total: 2 µs\n",
            "Wall time: 6.68 µs\n"
          ]
        },
        {
          "output_type": "display_data",
          "data": {
            "image/png": "[encoded data removed]",
            "text/plain": [
              "<Figure size 720x576 with 1 Axes>"
            ]
          },
          "metadata": {
            "needs_background": "light"
          }
        }
      ]
    },
    {
      "cell_type": "markdown",
      "metadata": {
        "id": "cP7EGdlvWyCH"
      },
      "source": [
        "Poor performance compared to Unigram as we overfitted , more the difference in train and cv AUC more is the overfitting"
      ]
    },
    {
      "cell_type": "code",
      "metadata": {
        "colab": {
          "base_uri": "https://localhost:8080/",
          "height": 435
        },
        "id": "u_xbUfZdXB4X",
        "outputId": "40be624d-248e-430c-c5de-4c119f216977"
      },
      "source": [
        "plot_confusionMatrix(0.07088,BOW_X_train,BOW_X_test,Y_train,Y_test)\n"
      ],
      "execution_count": 115,
      "outputs": [
        {
          "output_type": "stream",
          "name": "stdout",
          "text": [
            "              precision    recall  f1-score   support\n",
            "\n",
            "           0       0.62      0.38      0.47       995\n",
            "           1       0.89      0.96      0.92      5392\n",
            "\n",
            "    accuracy                           0.87      6387\n",
            "   macro avg       0.75      0.67      0.70      6387\n",
            "weighted avg       0.85      0.87      0.85      6387\n",
            "\n"
          ]
        },
        {
          "output_type": "display_data",
          "data": {
            "image/png": "[encoded data removed]",
            "text/plain": [
              "<Figure size 432x288 with 2 Axes>"
            ]
          },
          "metadata": {
            "needs_background": "light"
          }
        }
      ]
    },
    {
      "cell_type": "markdown",
      "metadata": {
        "id": "tOVj9xMhcxye"
      },
      "source": [
        "* False Positives Increased\n",
        "\n",
        "* False negatives Increased\n",
        "\n",
        "* True positives Decreased\n",
        "\n",
        "* True negatives Increased"
      ]
    },
    {
      "cell_type": "markdown",
      "metadata": {
        "id": "eLcBoFd4c2oy"
      },
      "source": [
        "## <h3> BOW (ngram_range(1,2)"
      ]
    },
    {
      "cell_type": "code",
      "metadata": {
        "id": "RcmHBrQXcjfq"
      },
      "source": [
        "from sklearn.feature_extraction.text import CountVectorizer\n",
        "\n",
        "vectorizer = CountVectorizer(ngram_range=(1,2),max_features=5000,min_df = 3) # result may vary if we take more max_features\n",
        "\n",
        "vectorizer.fit(X_train) # fitting on the training data,building the vocabulary and stuff.\n",
        "\n",
        "BOW_X_train = vectorizer.transform(X_train) \n",
        "BOW_X_cv    = vectorizer.transform(X_cv)\n",
        "BOW_X_test  = vectorizer.transform(X_test)"
      ],
      "execution_count": 183,
      "outputs": []
    },
    {
      "cell_type": "code",
      "metadata": {
        "id": "GmmIc8gCe1yK"
      },
      "source": [
        "from sklearn.preprocessing import StandardScaler\n",
        "\n",
        "sc = StandardScaler(copy = True,with_mean = False,with_std = True)\n",
        "\n",
        "BOW_X_train = sc.fit_transform(BOW_X_train)\n",
        "BOW_X_cv    = sc.transform(BOW_X_cv)\n",
        "BOW_X_test  = sc.transform(BOW_X_test)"
      ],
      "execution_count": 184,
      "outputs": []
    },
    {
      "cell_type": "code",
      "metadata": {
        "colab": {
          "base_uri": "https://localhost:8080/"
        },
        "id": "prJD2kjhdI3o",
        "outputId": "2b2181f2-1c87-45b7-827c-cc1ea55c4c1e"
      },
      "source": [
        "print(\"some feature names:--\",vectorizer.get_feature_names()[:10])\n",
        "\n",
        "print(\"BOW_X_train\",BOW_X_train.shape)\n",
        "print(\"BOW_X_cv   \",BOW_X_cv.shape)\n",
        "print(\"BOW_X_test \",BOW_X_test.shape)\n",
        "\n",
        "print(type(BOW_X_train))"
      ],
      "execution_count": 185,
      "outputs": [
        {
          "output_type": "stream",
          "name": "stdout",
          "text": [
            "some feature names:-- ['able', 'able buy', 'able eat', 'able find', 'able get', 'absolute', 'absolute favorite', 'absolutely', 'absolutely best', 'absolutely delicious']\n",
            "BOW_X_train (8687, 5000)\n",
            "BOW_X_cv    (4280, 5000)\n",
            "BOW_X_test  (6387, 5000)\n",
            "<class 'scipy.sparse.csr.csr_matrix'>\n"
          ]
        }
      ]
    },
    {
      "cell_type": "code",
      "metadata": {
        "colab": {
          "base_uri": "https://localhost:8080/",
          "height": 473
        },
        "id": "54NlWm7kdYeM",
        "outputId": "df3f5e78-7ac3-41da-f0a2-d52bfa894aef"
      },
      "source": [
        "%time\n",
        "from sklearn.metrics import roc_auc_score\n",
        "\n",
        "\n",
        "auc_cv     = []\n",
        "auc_train  = []\n",
        "c_list     = []\n",
        "\n",
        "c = 0.0001 \n",
        "\n",
        "while c <= 0.5:\n",
        "  c_list.append(np.round(c,5))\n",
        "  c = c*1.2\n",
        "\n",
        "\n",
        "for i in tqdm(c_list):\n",
        "\n",
        "  clf = LogisticRegression(C = i,penalty='l1',solver='liblinear')\n",
        "\n",
        "  clf.fit(BOW_X_train,Y_train)\n",
        "  y_hat = clf.predict_proba(BOW_X_cv) # predict probabilities.\n",
        "  pos_prob = y_hat[:,1]               # selecting probabilities of positive class only.\n",
        "  auc_cv.append(roc_auc_score(Y_cv,pos_prob))\n",
        "\n",
        "  y_hat = clf.predict_proba(BOW_X_train)\n",
        "  pos_prob = y_hat[:,1]\n",
        "  auc_train.append(roc_auc_score(Y_train,pos_prob)) # appending the auc_score of different c for training data.\n",
        "\n",
        "\n",
        "plt.figure( figsize = (10,6) )\n",
        "\n",
        "plt.plot(c_list,auc_train,label = \"AUC Train\")\n",
        "plt.scatter(c_list,auc_train,label = \"AUC Train\")\n",
        "\n",
        "plt.plot(c_list,auc_cv,label = 'AUC Cv')\n",
        "plt.scatter(c_list,auc_cv,label = 'AUC Cv')\n",
        "\n",
        "plt.title(\"AUC vs C\")\n",
        "plt.xlabel('C')\n",
        "plt.ylabel('AUC')\n",
        "plt.legend() \n",
        "\n",
        "plt.show()\n",
        "\n",
        "optimal_c = c_list[auc_cv.index(max(auc_cv))]\n",
        "\n",
        "print(\"Best c according to AUC-Roc is = \",optimal_c)"
      ],
      "execution_count": 186,
      "outputs": [
        {
          "output_type": "stream",
          "name": "stdout",
          "text": [
            "CPU times: user 2 µs, sys: 1e+03 ns, total: 3 µs\n",
            "Wall time: 5.48 µs\n"
          ]
        },
        {
          "output_type": "stream",
          "name": "stderr",
          "text": [
            "100%|██████████| 47/47 [00:02<00:00, 22.35it/s]\n"
          ]
        },
        {
          "output_type": "display_data",
          "data": {
            "image/png": "[encoded data removed]",
            "text/plain": [
              "<Figure size 720x432 with 1 Axes>"
            ]
          },
          "metadata": {
            "needs_background": "light"
          }
        },
        {
          "output_type": "stream",
          "name": "stdout",
          "text": [
            "Best c according to AUC-Roc is =  0.04102\n"
          ]
        }
      ]
    },
    {
      "cell_type": "markdown",
      "metadata": {
        "id": "O_Aof2coeq63"
      },
      "source": [
        "C reduced from 0.07088 to 0.4102 , let us see if that has improced performance or not"
      ]
    },
    {
      "cell_type": "code",
      "metadata": {
        "colab": {
          "base_uri": "https://localhost:8080/",
          "height": 548
        },
        "id": "Om07xTf2dhb-",
        "outputId": "5081e0b8-fbc8-4d0d-fee2-fa6af6ee0eff"
      },
      "source": [
        "%time\n",
        "\n",
        "from sklearn.metrics import   roc_auc_score\n",
        "\n",
        "clf = LogisticRegression(C = 0.04102,penalty='l1',solver='liblinear') # small C(1/lambda) will underfit and high C will overfit.\n",
        "\n",
        "clf.fit(BOW_X_train,Y_train)\n",
        "\n",
        "y_hat = clf.predict_proba(BOW_X_cv)\n",
        "pos_prob_cv = y_hat[:,1]\n",
        "\n",
        "fpr_test, tpr_test, thresholds = roc_curve(Y_cv,pos_prob_cv)\n",
        "\n",
        "y_hat = clf.predict_proba(BOW_X_train)\n",
        "pos_prob_train = y_hat[:,1]\n",
        "\n",
        "fpr_train, tpr_train, thresholds = roc_curve(Y_train,pos_prob_train)\n",
        "\n",
        "plt.figure(figsize=(10,8))\n",
        "\n",
        "plt.plot(fpr_test, tpr_test ,label = \" Cross Validated ROC, AUC  = \" + str(roc_auc_score(Y_cv,pos_prob_cv)))\n",
        "plt.plot(fpr_train,tpr_train,label = \" TRAIN ROC, AUC            = \" + str(roc_auc_score(Y_train,pos_prob_train)))\n",
        "\n",
        "plt.title('ROC')\n",
        "plt.xlabel('FPR')\n",
        "plt.ylabel('TPR')\n",
        "plt.legend()\n",
        "\n",
        "plt.show()"
      ],
      "execution_count": 121,
      "outputs": [
        {
          "output_type": "stream",
          "name": "stdout",
          "text": [
            "CPU times: user 3 µs, sys: 0 ns, total: 3 µs\n",
            "Wall time: 6.68 µs\n"
          ]
        },
        {
          "output_type": "display_data",
          "data": {
            "image/png": "[encoded data removed]",
            "text/plain": [
              "<Figure size 720x576 with 1 Axes>"
            ]
          },
          "metadata": {
            "needs_background": "light"
          }
        }
      ]
    },
    {
      "cell_type": "markdown",
      "metadata": {
        "id": "7zLdG5SLiLnx"
      },
      "source": [
        "Auc has increased from 0.82 to 0.93 ⚡\n",
        "\n",
        "The lesser the difference in train and test AUC , means lesser is the overfitting "
      ]
    },
    {
      "cell_type": "code",
      "metadata": {
        "colab": {
          "base_uri": "https://localhost:8080/",
          "height": 435
        },
        "id": "lBDlRs47dw0Q",
        "outputId": "20a5e482-82de-40a8-b9cb-d07c373956bd"
      },
      "source": [
        "plot_confusionMatrix(0.4102,BOW_X_train,BOW_X_test,Y_train,Y_test)"
      ],
      "execution_count": 122,
      "outputs": [
        {
          "output_type": "stream",
          "name": "stdout",
          "text": [
            "              precision    recall  f1-score   support\n",
            "\n",
            "           0       0.72      0.64      0.68       995\n",
            "           1       0.94      0.95      0.94      5392\n",
            "\n",
            "    accuracy                           0.91      6387\n",
            "   macro avg       0.83      0.80      0.81      6387\n",
            "weighted avg       0.90      0.91      0.90      6387\n",
            "\n"
          ]
        },
        {
          "output_type": "display_data",
          "data": {
            "image/png": "[encoded data removed]",
            "text/plain": [
              "<Figure size 432x288 with 2 Axes>"
            ]
          },
          "metadata": {
            "needs_background": "light"
          }
        }
      ]
    },
    {
      "cell_type": "markdown",
      "metadata": {
        "id": "1uykt25ipLtY"
      },
      "source": [
        "True Negatives have Increased immensly"
      ]
    },
    {
      "cell_type": "markdown",
      "metadata": {
        "id": "TZiVYX11f6Zp"
      },
      "source": [
        "<h3> SParsity of weight vectors"
      ]
    },
    {
      "cell_type": "code",
      "metadata": {
        "colab": {
          "base_uri": "https://localhost:8080/"
        },
        "id": "puEiNI4Tf4UR",
        "outputId": "1784db94-0ab4-49a0-c8b6-e1523d97bb9f"
      },
      "source": [
        "# Please write all the code with proper documentation\n",
        "clf = LogisticRegression(penalty='l1',C=0.04102,solver='liblinear')\n",
        "clf.fit(BOW_X_train,Y_train)\n",
        "\n",
        "weight = clf.coef_\n",
        "# Sparsity of vector weight == no of zero in weight vector\n",
        "print('No of non zero element in weight vector ',np.count_nonzero(weight))\n"
      ],
      "execution_count": 127,
      "outputs": [
        {
          "output_type": "stream",
          "name": "stdout",
          "text": [
            "No of non zero element in weight vector  935\n"
          ]
        }
      ]
    },
    {
      "cell_type": "code",
      "metadata": {
        "colab": {
          "base_uri": "https://localhost:8080/"
        },
        "id": "QiMW6dRDg0xy",
        "outputId": "bd1b81a7-a7b0-4b37-8240-bed301447834"
      },
      "source": [
        "# Please write all the code with proper documentation\n",
        "clf = LogisticRegression(penalty='l1',C=0.03102,solver='liblinear') # decrease the value of hyperparamter to make weight vector more sparse\n",
        "clf.fit(BOW_X_train,Y_train)\n",
        "\n",
        "weight = clf.coef_\n",
        "# Sparsity of vector weight == no of zero in weight vector\n",
        "print('No of non zero element in weight vector ',np.count_nonzero(weight))\n"
      ],
      "execution_count": 129,
      "outputs": [
        {
          "output_type": "stream",
          "name": "stdout",
          "text": [
            "No of non zero element in weight vector  722\n"
          ]
        }
      ]
    },
    {
      "cell_type": "markdown",
      "metadata": {
        "id": "sLL1hGFwvuOI"
      },
      "source": [
        "<h2> <font color = \"red\" > Pertubation Test </font> </h2>\n",
        "\n",
        "https://www.kaggle.com/arunmohan003/perturbation-test-on-logistic-regression"
      ]
    },
    {
      "cell_type": "markdown",
      "metadata": {
        "id": "ZG0hzxl2qJre"
      },
      "source": [
        "# BOW(ngram_range(1,3)"
      ]
    },
    {
      "cell_type": "code",
      "metadata": {
        "id": "HUo01lxKd6P0"
      },
      "source": [
        "from sklearn.feature_extraction.text import CountVectorizer\n",
        "\n",
        "vectorizer = CountVectorizer(ngram_range=(1,3),max_features=20000,min_df = 3)\n",
        "\n",
        "vectorizer.fit(X_train) # fitting on the training data,building the vocabulary and stuff.\n",
        "\n",
        "BOW_X_train = vectorizer.transform(X_train) \n",
        "BOW_X_cv    = vectorizer.transform(X_cv)\n",
        "BOW_X_test  = vectorizer.transform(X_test)"
      ],
      "execution_count": 167,
      "outputs": []
    },
    {
      "cell_type": "code",
      "metadata": {
        "id": "YkN6sQyxtU7W"
      },
      "source": [
        "from sklearn.preprocessing import StandardScaler\n",
        "\n",
        "sc = StandardScaler(copy = True,with_mean = False,with_std = True)\n",
        "\n",
        "BOW_X_train = sc.fit_transform(BOW_X_train)\n",
        "BOW_X_cv    = sc.transform(BOW_X_cv)\n",
        "BOW_X_test  = sc.transform(BOW_X_test)"
      ],
      "execution_count": 168,
      "outputs": []
    },
    {
      "cell_type": "code",
      "metadata": {
        "colab": {
          "base_uri": "https://localhost:8080/"
        },
        "id": "ZHrIVTm5l1ma",
        "outputId": "3d4ff90b-4a3a-4caf-f3c9-4b45f0e5ff4c"
      },
      "source": [
        "print(\"some feature names:--\",vectorizer.get_feature_names()[:10])\n",
        "\n",
        "print(\"BOW_X_train\",BOW_X_train.shape)\n",
        "print(\"BOW_X_cv   \",BOW_X_cv.shape)\n",
        "print(\"BOW_X_test \",BOW_X_test.shape)\n",
        "\n",
        "print(type(BOW_X_train))"
      ],
      "execution_count": 169,
      "outputs": [
        {
          "output_type": "stream",
          "name": "stdout",
          "text": [
            "some feature names:-- ['ability', 'able', 'able add', 'able breathe', 'able buy', 'able digest', 'able eat', 'able enjoy', 'able feed', 'able find']\n",
            "BOW_X_train (8687, 20000)\n",
            "BOW_X_cv    (4280, 20000)\n",
            "BOW_X_test  (6387, 20000)\n",
            "<class 'scipy.sparse.csr.csr_matrix'>\n"
          ]
        }
      ]
    },
    {
      "cell_type": "code",
      "metadata": {
        "colab": {
          "base_uri": "https://localhost:8080/",
          "height": 473
        },
        "id": "FSHJXDaMl37f",
        "outputId": "0b8d6a19-60c8-4f73-936b-084602ad0092"
      },
      "source": [
        "%time\n",
        "from sklearn.metrics import roc_auc_score\n",
        "\n",
        "\n",
        "auc_cv     = []\n",
        "auc_train  = []\n",
        "c_list     = []\n",
        "\n",
        "c = 0.0001 \n",
        "\n",
        "while c <= 0.5:\n",
        "  c_list.append(np.round(c,5))\n",
        "  c = c*1.2\n",
        "\n",
        "\n",
        "for i in tqdm(c_list):\n",
        "\n",
        "  clf = LogisticRegression(C = i,penalty='l1',solver='liblinear')\n",
        "\n",
        "  clf.fit(BOW_X_train,Y_train)\n",
        "  y_hat = clf.predict_proba(BOW_X_cv) # predict probabilities.\n",
        "  pos_prob = y_hat[:,1]               # selecting probabilities of positive class only.\n",
        "  auc_cv.append(roc_auc_score(Y_cv,pos_prob))\n",
        "\n",
        "  y_hat = clf.predict_proba(BOW_X_train)\n",
        "  pos_prob = y_hat[:,1]\n",
        "  auc_train.append(roc_auc_score(Y_train,pos_prob)) # appending the auc_score of different c for training data.\n",
        "\n",
        "\n",
        "plt.figure( figsize = (10,6) )\n",
        "\n",
        "plt.plot(c_list,auc_train,label = \"AUC Train\")\n",
        "plt.scatter(c_list,auc_train,label = \"AUC Train\")\n",
        "\n",
        "plt.plot(c_list,auc_cv,label = 'AUC Cv')\n",
        "plt.scatter(c_list,auc_cv,label = 'AUC Cv')\n",
        "\n",
        "plt.title(\"AUC vs C\")\n",
        "plt.xlabel('C')\n",
        "plt.ylabel('AUC')\n",
        "plt.legend() \n",
        "\n",
        "plt.show()\n",
        "\n",
        "optimal_c = c_list[auc_cv.index(max(auc_cv))]\n",
        "\n",
        "print(\"Best c according to AUC-Roc is = \",optimal_c)"
      ],
      "execution_count": 170,
      "outputs": [
        {
          "output_type": "stream",
          "name": "stdout",
          "text": [
            "CPU times: user 3 µs, sys: 0 ns, total: 3 µs\n",
            "Wall time: 7.87 µs\n"
          ]
        },
        {
          "output_type": "stream",
          "name": "stderr",
          "text": [
            "100%|██████████| 47/47 [00:02<00:00, 16.54it/s]\n"
          ]
        },
        {
          "output_type": "display_data",
          "data": {
            "image/png": "[encoded data removed]",
            "text/plain": [
              "<Figure size 720x432 with 1 Axes>"
            ]
          },
          "metadata": {
            "needs_background": "light"
          }
        },
        {
          "output_type": "stream",
          "name": "stdout",
          "text": [
            "Best c according to AUC-Roc is =  0.02849\n"
          ]
        }
      ]
    },
    {
      "cell_type": "markdown",
      "metadata": {
        "id": "DerbnWEnm517"
      },
      "source": [
        "This is the lowest C of all the techniques , might overfit the most"
      ]
    },
    {
      "cell_type": "code",
      "metadata": {
        "colab": {
          "base_uri": "https://localhost:8080/",
          "height": 548
        },
        "id": "fv7lo5I-l6q2",
        "outputId": "f98fee0d-7f4b-4bcb-f9f1-c6fd648aace7"
      },
      "source": [
        "%time\n",
        "\n",
        "from sklearn.metrics import   roc_auc_score\n",
        "\n",
        "clf = LogisticRegression(C = 0.02849,penalty='l1',solver='liblinear') # small C(1/lambda) will underfit and high C will overfit.\n",
        "\n",
        "clf.fit(BOW_X_train,Y_train)\n",
        "\n",
        "y_hat = clf.predict_proba(BOW_X_cv)\n",
        "pos_prob_cv = y_hat[:,1]\n",
        "\n",
        "fpr_test, tpr_test, thresholds = roc_curve(Y_cv,pos_prob_cv)\n",
        "\n",
        "y_hat = clf.predict_proba(BOW_X_train)\n",
        "pos_prob_train = y_hat[:,1]\n",
        "\n",
        "fpr_train, tpr_train, thresholds = roc_curve(Y_train,pos_prob_train)\n",
        "\n",
        "plt.figure(figsize=(10,8))\n",
        "\n",
        "plt.plot(fpr_test, tpr_test ,label = \" Cross Validated ROC, AUC  = \" + str(roc_auc_score(Y_cv,pos_prob_cv)))\n",
        "plt.plot(fpr_train,tpr_train,label = \" TRAIN ROC, AUC            = \" + str(roc_auc_score(Y_train,pos_prob_train)))\n",
        "\n",
        "plt.title('ROC')\n",
        "plt.xlabel('FPR')\n",
        "plt.ylabel('TPR')\n",
        "plt.legend()\n",
        "\n",
        "plt.show()"
      ],
      "execution_count": 171,
      "outputs": [
        {
          "output_type": "stream",
          "name": "stdout",
          "text": [
            "CPU times: user 4 µs, sys: 1e+03 ns, total: 5 µs\n",
            "Wall time: 9.54 µs\n"
          ]
        },
        {
          "output_type": "display_data",
          "data": {
            "image/png": "[encoded data removed]",
            "text/plain": [
              "<Figure size 720x576 with 1 Axes>"
            ]
          },
          "metadata": {
            "needs_background": "light"
          }
        }
      ]
    },
    {
      "cell_type": "markdown",
      "metadata": {
        "id": "jDLb-rvjjgto"
      },
      "source": [
        "AUC is very very good in this case also but The difference in ROC of train and cross validated data is high Hence it may lead to overfitting"
      ]
    },
    {
      "cell_type": "code",
      "metadata": {
        "colab": {
          "base_uri": "https://localhost:8080/",
          "height": 435
        },
        "id": "Kt0W_gMGmDAj",
        "outputId": "53d5e12e-fcd2-469f-9770-cd634bbd82a7"
      },
      "source": [
        "plot_confusionMatrix(0.2849,BOW_X_train,BOW_X_test,Y_train,Y_test)"
      ],
      "execution_count": 172,
      "outputs": [
        {
          "output_type": "stream",
          "name": "stdout",
          "text": [
            "              precision    recall  f1-score   support\n",
            "\n",
            "           0       0.74      0.52      0.61       995\n",
            "           1       0.92      0.97      0.94      5392\n",
            "\n",
            "    accuracy                           0.90      6387\n",
            "   macro avg       0.83      0.75      0.78      6387\n",
            "weighted avg       0.89      0.90      0.89      6387\n",
            "\n"
          ]
        },
        {
          "output_type": "display_data",
          "data": {
            "image/png": "[encoded data removed]",
            "text/plain": [
              "<Figure size 432x288 with 2 Axes>"
            ]
          },
          "metadata": {
            "needs_background": "light"
          }
        }
      ]
    },
    {
      "cell_type": "markdown",
      "metadata": {
        "id": "emi94QPjosMi"
      },
      "source": [
        "True negative increased compared ngram(1,2)\n",
        "\n",
        "False positive decreased compared to ngram(1,2)\n",
        "\n",
        "false negative increased"
      ]
    },
    {
      "cell_type": "markdown",
      "metadata": {
        "id": "lrx6XF_pqqNx"
      },
      "source": [
        "# TF-IDF"
      ]
    },
    {
      "cell_type": "code",
      "metadata": {
        "id": "zNsAjYG5qul1"
      },
      "source": [
        "from sklearn.feature_extraction.text import TfidfVectorizer\n",
        "\n",
        "vectorizer  = TfidfVectorizer(ngram_range = (1,2),norm = 'l2',min_df = 10,max_df = 0.7,max_features=5000)\n",
        "\n",
        "tf_idf_X_train = vectorizer.fit_transform(X_train)\n",
        "tf_idf_X_cv    = vectorizer.transform(X_cv)\n",
        "tf_idf_X_test  = vectorizer.transform(X_test)"
      ],
      "execution_count": 189,
      "outputs": []
    },
    {
      "cell_type": "code",
      "metadata": {
        "id": "vK4JDahPlu1u"
      },
      "source": [
        "sc = StandardScaler(copy= True,with_mean = False,with_std = True)\n",
        "\n",
        "tf_idf_X_train  = sc.fit_transform(tf_idf_X_train)\n",
        "tf_idf_X_cv     = sc.transform(tf_idf_X_cv)\n",
        "tf_idf_X_test   = sc.transform(tf_idf_X_test)"
      ],
      "execution_count": 190,
      "outputs": []
    },
    {
      "cell_type": "code",
      "metadata": {
        "colab": {
          "base_uri": "https://localhost:8080/"
        },
        "id": "y8-dVoCZrHrh",
        "outputId": "65a2ffd8-89df-4c4d-cc02-bdf56405670f"
      },
      "source": [
        "print(\"some feature names:--\",vectorizer.get_feature_names()[:10])\n",
        "\n",
        "print(\"tf_idf_X_train\",tf_idf_X_train.shape)\n",
        "print(\"tf_idf_X_cv   \",tf_idf_X_cv.shape)\n",
        "print(\"tf_idf_X_test \",tf_idf_X_test.shape)\n",
        "\n",
        "print(type(tf_idf_X_train))"
      ],
      "execution_count": 191,
      "outputs": [
        {
          "output_type": "stream",
          "name": "stdout",
          "text": [
            "some feature names:-- ['able', 'able buy', 'able eat', 'able find', 'able get', 'absolute', 'absolute favorite', 'absolutely', 'absolutely best', 'absolutely delicious']\n",
            "tf_idf_X_train (8687, 5000)\n",
            "tf_idf_X_cv    (4280, 5000)\n",
            "tf_idf_X_test  (6387, 5000)\n",
            "<class 'scipy.sparse.csr.csr_matrix'>\n"
          ]
        }
      ]
    },
    {
      "cell_type": "code",
      "metadata": {
        "id": "r55_EBFjsvye",
        "colab": {
          "base_uri": "https://localhost:8080/",
          "height": 473
        },
        "outputId": "06179070-1578-46b1-ba74-96ddcf053df9"
      },
      "source": [
        "%time\n",
        "from sklearn.metrics import roc_auc_score\n",
        "\n",
        "\n",
        "auc_cv     = []\n",
        "auc_train  = []\n",
        "c_list     = []\n",
        "\n",
        "c = 0.0001 \n",
        "\n",
        "while c <= 1:\n",
        "  c_list.append(np.round(c,5))\n",
        "  c = c*1.1\n",
        "\n",
        "\n",
        "for i in tqdm(c_list):\n",
        "\n",
        "  clf = LogisticRegression(C = i,penalty='l1',solver='liblinear')\n",
        "\n",
        "  clf.fit(BOW_X_train,Y_train)\n",
        "  y_hat = clf.predict_proba(BOW_X_cv) # predict probabilities.\n",
        "  pos_prob = y_hat[:,1]               # selecting probabilities of positive class only.\n",
        "  auc_cv.append(roc_auc_score(Y_cv,pos_prob))\n",
        "\n",
        "  y_hat = clf.predict_proba(BOW_X_train)\n",
        "  pos_prob = y_hat[:,1]\n",
        "  auc_train.append(roc_auc_score(Y_train,pos_prob)) # appending the auc_score of different c for training data.\n",
        "\n",
        "\n",
        "plt.figure( figsize = (10,6) )\n",
        "\n",
        "plt.plot(c_list,auc_train,label = \"AUC Train\")\n",
        "plt.scatter(c_list,auc_train,label = \"AUC Train\")\n",
        "\n",
        "plt.plot(c_list,auc_cv,label = 'AUC Cv')\n",
        "plt.scatter(c_list,auc_cv,label = 'AUC Cv')\n",
        "\n",
        "plt.title(\"AUC vs C\")\n",
        "plt.xlabel('C')\n",
        "plt.ylabel('AUC')\n",
        "plt.legend() \n",
        "\n",
        "plt.show()\n",
        "\n",
        "optimal_c = c_list[auc_cv.index(max(auc_cv))]\n",
        "\n",
        "print(\"Best c according to AUC-Roc is = \",optimal_c)"
      ],
      "execution_count": 193,
      "outputs": [
        {
          "output_type": "stream",
          "name": "stdout",
          "text": [
            "CPU times: user 3 µs, sys: 0 ns, total: 3 µs\n",
            "Wall time: 5.96 µs\n"
          ]
        },
        {
          "output_type": "stream",
          "name": "stderr",
          "text": [
            "100%|██████████| 97/97 [00:04<00:00, 21.10it/s]\n"
          ]
        },
        {
          "output_type": "display_data",
          "data": {
            "image/png": "[encoded data removed]",
            "text/plain": [
              "<Figure size 720x432 with 1 Axes>"
            ]
          },
          "metadata": {
            "needs_background": "light"
          }
        },
        {
          "output_type": "stream",
          "name": "stdout",
          "text": [
            "Best c according to AUC-Roc is =  0.04053\n"
          ]
        }
      ]
    },
    {
      "cell_type": "code",
      "metadata": {
        "colab": {
          "base_uri": "https://localhost:8080/",
          "height": 548
        },
        "id": "iDRF7qlkxyKs",
        "outputId": "a4606b48-012d-494f-a354-08e23fdf7b4b"
      },
      "source": [
        "%time\n",
        "\n",
        "from sklearn.metrics import   roc_auc_score\n",
        "\n",
        "clf = LogisticRegression(C = 0.04053,penalty='l1',solver='liblinear') # small C(1/lambda) will underfit and high C will overfit.\n",
        "\n",
        "clf.fit(BOW_X_train,Y_train)\n",
        "\n",
        "y_hat = clf.predict_proba(BOW_X_cv)\n",
        "pos_prob_cv = y_hat[:,1]\n",
        "\n",
        "fpr_test, tpr_test, thresholds = roc_curve(Y_cv,pos_prob_cv)\n",
        "\n",
        "y_hat = clf.predict_proba(BOW_X_train)\n",
        "pos_prob_train = y_hat[:,1]\n",
        "\n",
        "fpr_train, tpr_train, thresholds = roc_curve(Y_train,pos_prob_train)\n",
        "\n",
        "plt.figure(figsize=(10,8))\n",
        "\n",
        "plt.plot(fpr_test, tpr_test ,label = \" Cross Validated ROC, AUC  = \" + str(roc_auc_score(Y_cv,pos_prob_cv)))\n",
        "plt.plot(fpr_train,tpr_train,label = \" TRAIN ROC, AUC            = \" + str(roc_auc_score(Y_train,pos_prob_train)))\n",
        "\n",
        "plt.title('ROC')\n",
        "plt.xlabel('FPR')\n",
        "plt.ylabel('TPR')\n",
        "plt.legend()\n",
        "\n",
        "plt.show()"
      ],
      "execution_count": 197,
      "outputs": [
        {
          "output_type": "stream",
          "name": "stdout",
          "text": [
            "CPU times: user 3 µs, sys: 0 ns, total: 3 µs\n",
            "Wall time: 5.96 µs\n"
          ]
        },
        {
          "output_type": "display_data",
          "data": {
            "image/png": "[encoded data removed]",
            "text/plain": [
              "<Figure size 720x576 with 1 Axes>"
            ]
          },
          "metadata": {
            "needs_background": "light"
          }
        }
      ]
    },
    {
      "cell_type": "markdown",
      "metadata": {
        "id": "KwGv4REGnr3s"
      },
      "source": [
        "Best ROC "
      ]
    },
    {
      "cell_type": "code",
      "metadata": {
        "colab": {
          "base_uri": "https://localhost:8080/",
          "height": 435
        },
        "id": "xULRHz48yBJw",
        "outputId": "7153a42c-7feb-40e7-cb92-1de12f83eccd"
      },
      "source": [
        "plot_confusionMatrix(0.4053,tf_idf_X_train,tf_idf_X_test,Y_train,Y_test)"
      ],
      "execution_count": 198,
      "outputs": [
        {
          "output_type": "stream",
          "name": "stdout",
          "text": [
            "              precision    recall  f1-score   support\n",
            "\n",
            "           0       0.73      0.64      0.68       995\n",
            "           1       0.93      0.96      0.95      5392\n",
            "\n",
            "    accuracy                           0.91      6387\n",
            "   macro avg       0.83      0.80      0.81      6387\n",
            "weighted avg       0.90      0.91      0.90      6387\n",
            "\n"
          ]
        },
        {
          "output_type": "display_data",
          "data": {
            "image/png": "[encoded data removed]",
            "text/plain": [
              "<Figure size 432x288 with 2 Axes>"
            ]
          },
          "metadata": {
            "needs_background": "light"
          }
        }
      ]
    },
    {
      "cell_type": "markdown",
      "metadata": {
        "id": "UnIuANlFn5-h"
      },
      "source": [
        "-ve class\n",
        "\n",
        "*   Precision Improved\n",
        "*   Recall    Improved\n",
        "*   f1 score  Improved\n",
        "\n",
        "+ve class\n",
        "*  precision improved\n",
        "*  Recall is same \n",
        "*  f1 score is same\n",
        "\n",
        "Area Under the Curve of ROC is similar to BOW(ngram_range(1,2))\n"
      ]
    },
    {
      "cell_type": "markdown",
      "metadata": {
        "id": "MUjnVXBEtvz0"
      },
      "source": [
        "<h3> Feature Importance </h3>\n",
        "\n",
        "if features are not multi-Collinear then we can find feature importance in LR, otherwise we have to do foreward selection to get the feature importance."
      ]
    },
    {
      "cell_type": "markdown",
      "metadata": {
        "id": "H21weXqczeUb"
      },
      "source": [
        "# Conclusions"
      ]
    },
    {
      "cell_type": "code",
      "metadata": {
        "colab": {
          "base_uri": "https://localhost:8080/"
        },
        "id": "7pQnwpikzg36",
        "outputId": "1b730e2f-234a-4f10-ecf8-061dc1886dc7"
      },
      "source": [
        "from prettytable import PrettyTable    \n",
        "\n",
        "x = PrettyTable()\n",
        "\n",
        "x.field_names = [\"Vectorizer\",\"ngram_range\", \"Hyperameter(C)\",\"AUC\"]\n",
        "\n",
        "x.add_row( [\"BOW\",(1,1),0.0348,0.9188] )\n",
        "x.add_row( [\"BOW\",(2,2),0.07088,0.8322] )\n",
        "\n",
        "x.add_row( [\"BOW\",(1,2),0.04102,0.9243] )\n",
        "x.add_row( [\"BOW\",(1,3),0.0289,0.9155] )\n",
        "\n",
        "x.add_row( [\"TFIDF\",(1,2),0.4053,0.9244] )\n",
        "\n",
        "print(x)"
      ],
      "execution_count": 199,
      "outputs": [
        {
          "output_type": "stream",
          "name": "stdout",
          "text": [
            "+------------+-------------+----------------+--------+\n",
            "| Vectorizer | ngram_range | Hyperameter(C) |  AUC   |\n",
            "+------------+-------------+----------------+--------+\n",
            "|    BOW     |    (1, 1)   |     0.0348     | 0.9188 |\n",
            "|    BOW     |    (2, 2)   |    0.07088     | 0.8322 |\n",
            "|    BOW     |    (1, 2)   |    0.04102     | 0.9243 |\n",
            "|    BOW     |    (1, 3)   |     0.0289     | 0.9155 |\n",
            "|   TFIDF    |    (1, 2)   |     0.4053     | 0.9244 |\n",
            "+------------+-------------+----------------+--------+\n"
          ]
        }
      ]
    },
    {
      "cell_type": "code",
      "metadata": {
        "id": "noe0-s-fzh5T"
      },
      "source": [
        ""
      ],
      "execution_count": null,
      "outputs": []
    }
  ]
}