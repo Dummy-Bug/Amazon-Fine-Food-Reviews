{
  "cells": [
    {
      "cell_type": "markdown",
      "metadata": {
        "colab_type": "text",
        "id": "view-in-github"
      },
      "source": [
        "<a href=\"https://colab.research.google.com/github/Dummy-Bug/Amazon-Fine-Food-Reviews/blob/master/Amazon_Fine_Food_Reviews_using_KNN_.ipynb\" target=\"_parent\"><img src=\"https://colab.research.google.com/assets/colab-badge.svg\" alt=\"Open In Colab\"/></a>"
      ]
    },
    {
      "cell_type": "code",
      "execution_count": 1,
      "metadata": {
        "id": "PvDdRsHgCAY5"
      },
      "outputs": [],
      "source": [
        "%matplotlib inline\n",
        "import warnings\n",
        "warnings.filterwarnings(\"ignore\")\n",
        "\n",
        "\n",
        "\n",
        "import sqlite3\n",
        "import pandas as pd\n",
        "import numpy as np\n",
        "import nltk\n",
        "import string\n",
        "import matplotlib.pyplot as plt\n",
        "import seaborn as sns\n",
        "from sklearn.feature_extraction.text import TfidfTransformer\n",
        "\n",
        "from sklearn.metrics import confusion_matrix\n",
        "from sklearn import metrics\n",
        "from sklearn.metrics import roc_curve, auc\n",
        "from nltk.stem.porter import PorterStemmer\n",
        "\n",
        "import re\n",
        "import string\n",
        "from nltk.corpus import stopwords\n",
        "from nltk.stem import PorterStemmer\n",
        "from nltk.stem.wordnet import WordNetLemmatizer\n",
        "\n",
        "from gensim.models import KeyedVectors\n",
        "import pickle\n",
        "\n",
        "from tqdm import tqdm\n",
        "import os"
      ]
    },
    {
      "cell_type": "code",
      "execution_count": 2,
      "metadata": {
        "colab": {
          "base_uri": "https://localhost:8080/"
        },
        "id": "2B70Fd6cd93z",
        "outputId": "e58aadfc-599b-4691-abd7-a0e8b27939dd"
      },
      "outputs": [
        {
          "name": "stdout",
          "output_type": "stream",
          "text": [
            "Requirement already satisfied: imbalanced-learn in /usr/local/lib/python3.7/dist-packages (0.8.1)\n",
            "Requirement already satisfied: numpy>=1.13.3 in /usr/local/lib/python3.7/dist-packages (from imbalanced-learn) (1.19.5)\n",
            "Requirement already satisfied: scikit-learn>=0.24 in /usr/local/lib/python3.7/dist-packages (from imbalanced-learn) (1.0.1)\n",
            "Requirement already satisfied: scipy>=0.19.1 in /usr/local/lib/python3.7/dist-packages (from imbalanced-learn) (1.4.1)\n",
            "Requirement already satisfied: joblib>=0.11 in /usr/local/lib/python3.7/dist-packages (from imbalanced-learn) (1.1.0)\n",
            "Requirement already satisfied: threadpoolctl>=2.0.0 in /usr/local/lib/python3.7/dist-packages (from scikit-learn>=0.24->imbalanced-learn) (3.0.0)\n"
          ]
        }
      ],
      "source": [
        "! sudo pip install imbalanced-learn"
      ]
    },
    {
      "cell_type": "code",
      "execution_count": 3,
      "metadata": {
        "colab": {
          "base_uri": "https://localhost:8080/"
        },
        "id": "_sJPOt7seDow",
        "outputId": "2036775e-36d7-406f-fbe2-d1726026cdf5"
      },
      "outputs": [
        {
          "name": "stdout",
          "output_type": "stream",
          "text": [
            "0.8.1\n"
          ]
        }
      ],
      "source": [
        "# check version number\n",
        "import imblearn\n",
        "print(imblearn.__version__)"
      ]
    },
    {
      "cell_type": "markdown",
      "metadata": {
        "id": "QOI7X2YgCAY_"
      },
      "source": [
        "# [1]. Reading Data"
      ]
    },
    {
      "cell_type": "code",
      "execution_count": 4,
      "metadata": {
        "colab": {
          "base_uri": "https://localhost:8080/"
        },
        "id": "VxDPNWYCOQuc",
        "outputId": "0d2d950a-fba9-4bde-a93e-4c3135758c45"
      },
      "outputs": [
        {
          "name": "stdout",
          "output_type": "stream",
          "text": [
            "Mounted at /content/drive\n"
          ]
        }
      ],
      "source": [
        "from google.colab import drive\n",
        "drive.mount('/content/drive')"
      ]
    },
    {
      "cell_type": "code",
      "execution_count": 5,
      "metadata": {
        "colab": {
          "base_uri": "https://localhost:8080/",
          "height": 397
        },
        "id": "3iYH2p1ECAZA",
        "outputId": "0bb52229-c824-4c2c-b54c-b4a8a1cba250"
      },
      "outputs": [
        {
          "name": "stdout",
          "output_type": "stream",
          "text": [
            "Number of data points in our data (20000, 10)\n"
          ]
        },
        {
          "data": {
            "text/html": [
              "<div>\n",
              "<style scoped>\n",
              "    .dataframe tbody tr th:only-of-type {\n",
              "        vertical-align: middle;\n",
              "    }\n",
              "\n",
              "    .dataframe tbody tr th {\n",
              "        vertical-align: top;\n",
              "    }\n",
              "\n",
              "    .dataframe thead th {\n",
              "        text-align: right;\n",
              "    }\n",
              "</style>\n",
              "<table border=\"1\" class=\"dataframe\">\n",
              "  <thead>\n",
              "    <tr style=\"text-align: right;\">\n",
              "      <th></th>\n",
              "      <th>Id</th>\n",
              "      <th>ProductId</th>\n",
              "      <th>UserId</th>\n",
              "      <th>ProfileName</th>\n",
              "      <th>HelpfulnessNumerator</th>\n",
              "      <th>HelpfulnessDenominator</th>\n",
              "      <th>Score</th>\n",
              "      <th>Time</th>\n",
              "      <th>Summary</th>\n",
              "      <th>Text</th>\n",
              "    </tr>\n",
              "  </thead>\n",
              "  <tbody>\n",
              "    <tr>\n",
              "      <th>0</th>\n",
              "      <td>1</td>\n",
              "      <td>B001E4KFG0</td>\n",
              "      <td>A3SGXH7AUHU8GW</td>\n",
              "      <td>delmartian</td>\n",
              "      <td>1</td>\n",
              "      <td>1</td>\n",
              "      <td>5</td>\n",
              "      <td>1303862400</td>\n",
              "      <td>Good Quality Dog Food</td>\n",
              "      <td>I have bought several of the Vitality canned d...</td>\n",
              "    </tr>\n",
              "    <tr>\n",
              "      <th>1</th>\n",
              "      <td>2</td>\n",
              "      <td>B00813GRG4</td>\n",
              "      <td>A1D87F6ZCVE5NK</td>\n",
              "      <td>dll pa</td>\n",
              "      <td>0</td>\n",
              "      <td>0</td>\n",
              "      <td>1</td>\n",
              "      <td>1346976000</td>\n",
              "      <td>Not as Advertised</td>\n",
              "      <td>Product arrived labeled as Jumbo Salted Peanut...</td>\n",
              "    </tr>\n",
              "    <tr>\n",
              "      <th>2</th>\n",
              "      <td>3</td>\n",
              "      <td>B000LQOCH0</td>\n",
              "      <td>ABXLMWJIXXAIN</td>\n",
              "      <td>Natalia Corres \"Natalia Corres\"</td>\n",
              "      <td>1</td>\n",
              "      <td>1</td>\n",
              "      <td>4</td>\n",
              "      <td>1219017600</td>\n",
              "      <td>\"Delight\" says it all</td>\n",
              "      <td>This is a confection that has been around a fe...</td>\n",
              "    </tr>\n",
              "    <tr>\n",
              "      <th>3</th>\n",
              "      <td>4</td>\n",
              "      <td>B000UA0QIQ</td>\n",
              "      <td>A395BORC6FGVXV</td>\n",
              "      <td>Karl</td>\n",
              "      <td>3</td>\n",
              "      <td>3</td>\n",
              "      <td>2</td>\n",
              "      <td>1307923200</td>\n",
              "      <td>Cough Medicine</td>\n",
              "      <td>If you are looking for the secret ingredient i...</td>\n",
              "    </tr>\n",
              "    <tr>\n",
              "      <th>4</th>\n",
              "      <td>5</td>\n",
              "      <td>B006K2ZZ7K</td>\n",
              "      <td>A1UQRSCLF8GW1T</td>\n",
              "      <td>Michael D. Bigham \"M. Wassir\"</td>\n",
              "      <td>0</td>\n",
              "      <td>0</td>\n",
              "      <td>5</td>\n",
              "      <td>1350777600</td>\n",
              "      <td>Great taffy</td>\n",
              "      <td>Great taffy at a great price.  There was a wid...</td>\n",
              "    </tr>\n",
              "  </tbody>\n",
              "</table>\n",
              "</div>"
            ],
            "text/plain": [
              "   Id  ...                                               Text\n",
              "0   1  ...  I have bought several of the Vitality canned d...\n",
              "1   2  ...  Product arrived labeled as Jumbo Salted Peanut...\n",
              "2   3  ...  This is a confection that has been around a fe...\n",
              "3   4  ...  If you are looking for the secret ingredient i...\n",
              "4   5  ...  Great taffy at a great price.  There was a wid...\n",
              "\n",
              "[5 rows x 10 columns]"
            ]
          },
          "execution_count": 5,
          "metadata": {},
          "output_type": "execute_result"
        }
      ],
      "source": [
        "# using the SQLite Table to read data.\n",
        "con = sqlite3.connect('/content/drive/MyDrive/Data sets/database.sqlite') \n",
        "# filtering only positive and negative reviews i.e. \n",
        "# not taking into consideration those reviews with Score = 3\n",
        "# SELECT * FROM Reviews WHERE Score != 3 LIMIT 500000, will give top 500000 data points\n",
        "# you can change the number to any other number based on your computing power\n",
        "\n",
        "# * for tsne assignment you can take 5k data points *\n",
        "\n",
        "filtered_data = pd.read_sql_query(\"\"\" SELECT * FROM Reviews WHERE Score != 3 limit 20000 \"\"\", con)\n",
        "print(\"Number of data points in our data\", filtered_data.shape)\n",
        "filtered_data.head()\n"
      ]
    },
    {
      "cell_type": "code",
      "execution_count": 6,
      "metadata": {
        "colab": {
          "base_uri": "https://localhost:8080/"
        },
        "id": "00_hLLHFHu2I",
        "outputId": "916391ee-4f50-483e-df7d-1692c8fce142"
      },
      "outputs": [
        {
          "data": {
            "text/plain": [
              "5    13745\n",
              "4     3110\n",
              "1     1953\n",
              "2     1192\n",
              "Name: Score, dtype: int64"
            ]
          },
          "execution_count": 6,
          "metadata": {},
          "output_type": "execute_result"
        }
      ],
      "source": [
        "filtered_data['Score'].value_counts()"
      ]
    },
    {
      "cell_type": "markdown",
      "metadata": {
        "id": "M_KaIXnR-AUd"
      },
      "source": [
        "let's make the dataset balanced using Undersampling"
      ]
    },
    {
      "cell_type": "code",
      "execution_count": 7,
      "metadata": {
        "colab": {
          "base_uri": "https://localhost:8080/",
          "height": 877
        },
        "id": "o5dPrgyQDN7s",
        "outputId": "56e00769-32df-47bf-e305-8f26b92890ff"
      },
      "outputs": [
        {
          "name": "stdout",
          "output_type": "stream",
          "text": [
            "Number of data points in our data (20000, 10)\n"
          ]
        },
        {
          "data": {
            "text/html": [
              "<div>\n",
              "<style scoped>\n",
              "    .dataframe tbody tr th:only-of-type {\n",
              "        vertical-align: middle;\n",
              "    }\n",
              "\n",
              "    .dataframe tbody tr th {\n",
              "        vertical-align: top;\n",
              "    }\n",
              "\n",
              "    .dataframe thead th {\n",
              "        text-align: right;\n",
              "    }\n",
              "</style>\n",
              "<table border=\"1\" class=\"dataframe\">\n",
              "  <thead>\n",
              "    <tr style=\"text-align: right;\">\n",
              "      <th></th>\n",
              "      <th>Id</th>\n",
              "      <th>ProductId</th>\n",
              "      <th>UserId</th>\n",
              "      <th>ProfileName</th>\n",
              "      <th>HelpfulnessNumerator</th>\n",
              "      <th>HelpfulnessDenominator</th>\n",
              "      <th>Score</th>\n",
              "      <th>Time</th>\n",
              "      <th>Summary</th>\n",
              "      <th>Text</th>\n",
              "    </tr>\n",
              "  </thead>\n",
              "  <tbody>\n",
              "    <tr>\n",
              "      <th>0</th>\n",
              "      <td>1</td>\n",
              "      <td>B001E4KFG0</td>\n",
              "      <td>A3SGXH7AUHU8GW</td>\n",
              "      <td>delmartian</td>\n",
              "      <td>1</td>\n",
              "      <td>1</td>\n",
              "      <td>1</td>\n",
              "      <td>1303862400</td>\n",
              "      <td>Good Quality Dog Food</td>\n",
              "      <td>I have bought several of the Vitality canned d...</td>\n",
              "    </tr>\n",
              "    <tr>\n",
              "      <th>1</th>\n",
              "      <td>2</td>\n",
              "      <td>B00813GRG4</td>\n",
              "      <td>A1D87F6ZCVE5NK</td>\n",
              "      <td>dll pa</td>\n",
              "      <td>0</td>\n",
              "      <td>0</td>\n",
              "      <td>0</td>\n",
              "      <td>1346976000</td>\n",
              "      <td>Not as Advertised</td>\n",
              "      <td>Product arrived labeled as Jumbo Salted Peanut...</td>\n",
              "    </tr>\n",
              "    <tr>\n",
              "      <th>2</th>\n",
              "      <td>3</td>\n",
              "      <td>B000LQOCH0</td>\n",
              "      <td>ABXLMWJIXXAIN</td>\n",
              "      <td>Natalia Corres \"Natalia Corres\"</td>\n",
              "      <td>1</td>\n",
              "      <td>1</td>\n",
              "      <td>1</td>\n",
              "      <td>1219017600</td>\n",
              "      <td>\"Delight\" says it all</td>\n",
              "      <td>This is a confection that has been around a fe...</td>\n",
              "    </tr>\n",
              "    <tr>\n",
              "      <th>3</th>\n",
              "      <td>4</td>\n",
              "      <td>B000UA0QIQ</td>\n",
              "      <td>A395BORC6FGVXV</td>\n",
              "      <td>Karl</td>\n",
              "      <td>3</td>\n",
              "      <td>3</td>\n",
              "      <td>0</td>\n",
              "      <td>1307923200</td>\n",
              "      <td>Cough Medicine</td>\n",
              "      <td>If you are looking for the secret ingredient i...</td>\n",
              "    </tr>\n",
              "    <tr>\n",
              "      <th>4</th>\n",
              "      <td>5</td>\n",
              "      <td>B006K2ZZ7K</td>\n",
              "      <td>A1UQRSCLF8GW1T</td>\n",
              "      <td>Michael D. Bigham \"M. Wassir\"</td>\n",
              "      <td>0</td>\n",
              "      <td>0</td>\n",
              "      <td>1</td>\n",
              "      <td>1350777600</td>\n",
              "      <td>Great taffy</td>\n",
              "      <td>Great taffy at a great price.  There was a wid...</td>\n",
              "    </tr>\n",
              "    <tr>\n",
              "      <th>...</th>\n",
              "      <td>...</td>\n",
              "      <td>...</td>\n",
              "      <td>...</td>\n",
              "      <td>...</td>\n",
              "      <td>...</td>\n",
              "      <td>...</td>\n",
              "      <td>...</td>\n",
              "      <td>...</td>\n",
              "      <td>...</td>\n",
              "      <td>...</td>\n",
              "    </tr>\n",
              "    <tr>\n",
              "      <th>19995</th>\n",
              "      <td>21784</td>\n",
              "      <td>B000KV61FC</td>\n",
              "      <td>A3FVKI0UH9DO2A</td>\n",
              "      <td>S. Malosh</td>\n",
              "      <td>1</td>\n",
              "      <td>1</td>\n",
              "      <td>1</td>\n",
              "      <td>1319414400</td>\n",
              "      <td>Occupies my dog for hours!</td>\n",
              "      <td>My 5-month-old Black Lab/Boston Terrier mix is...</td>\n",
              "    </tr>\n",
              "    <tr>\n",
              "      <th>19996</th>\n",
              "      <td>21785</td>\n",
              "      <td>B000KV61FC</td>\n",
              "      <td>A3ACVJEAM4L2LQ</td>\n",
              "      <td>Elb</td>\n",
              "      <td>1</td>\n",
              "      <td>1</td>\n",
              "      <td>1</td>\n",
              "      <td>1319155200</td>\n",
              "      <td>Keeps my big Dog busy for a long time!</td>\n",
              "      <td>My Doberman/pointer mix has a lot of extra ene...</td>\n",
              "    </tr>\n",
              "    <tr>\n",
              "      <th>19997</th>\n",
              "      <td>21786</td>\n",
              "      <td>B000KV61FC</td>\n",
              "      <td>AHHWZ4723VGOL</td>\n",
              "      <td>Sherry Lynn</td>\n",
              "      <td>1</td>\n",
              "      <td>1</td>\n",
              "      <td>0</td>\n",
              "      <td>1318809600</td>\n",
              "      <td>poor quality !!!!</td>\n",
              "      <td>This is a poor excuse for a dog toy . It laste...</td>\n",
              "    </tr>\n",
              "    <tr>\n",
              "      <th>19998</th>\n",
              "      <td>21787</td>\n",
              "      <td>B000KV61FC</td>\n",
              "      <td>A2O4CZ102I8Q2K</td>\n",
              "      <td>jus42day</td>\n",
              "      <td>1</td>\n",
              "      <td>1</td>\n",
              "      <td>1</td>\n",
              "      <td>1316649600</td>\n",
              "      <td>Great Product.</td>\n",
              "      <td>I bought this item unsure if my dogs would lik...</td>\n",
              "    </tr>\n",
              "    <tr>\n",
              "      <th>19999</th>\n",
              "      <td>21788</td>\n",
              "      <td>B000KV61FC</td>\n",
              "      <td>A3I4GCI6XTX1BB</td>\n",
              "      <td>Eric C. Vizinas \"Q\"</td>\n",
              "      <td>1</td>\n",
              "      <td>1</td>\n",
              "      <td>1</td>\n",
              "      <td>1316563200</td>\n",
              "      <td>This made ALL the difference</td>\n",
              "      <td>I've got a dog who gets bored while I'm away a...</td>\n",
              "    </tr>\n",
              "  </tbody>\n",
              "</table>\n",
              "<p>20000 rows × 10 columns</p>\n",
              "</div>"
            ],
            "text/plain": [
              "          Id  ...                                               Text\n",
              "0          1  ...  I have bought several of the Vitality canned d...\n",
              "1          2  ...  Product arrived labeled as Jumbo Salted Peanut...\n",
              "2          3  ...  This is a confection that has been around a fe...\n",
              "3          4  ...  If you are looking for the secret ingredient i...\n",
              "4          5  ...  Great taffy at a great price.  There was a wid...\n",
              "...      ...  ...                                                ...\n",
              "19995  21784  ...  My 5-month-old Black Lab/Boston Terrier mix is...\n",
              "19996  21785  ...  My Doberman/pointer mix has a lot of extra ene...\n",
              "19997  21786  ...  This is a poor excuse for a dog toy . It laste...\n",
              "19998  21787  ...  I bought this item unsure if my dogs would lik...\n",
              "19999  21788  ...  I've got a dog who gets bored while I'm away a...\n",
              "\n",
              "[20000 rows x 10 columns]"
            ]
          },
          "execution_count": 7,
          "metadata": {},
          "output_type": "execute_result"
        }
      ],
      "source": [
        "# Give reviews with Score>3 a positive rating, and reviews with a score<3 a negative rating.\n",
        "def partition(x):\n",
        "    if x < 3:\n",
        "        return 0 # 0 here means negative review\n",
        "    return 1 # it means review is positive\n",
        "\n",
        "# changing reviews with score less than 3 to be positive and vice-versa\n",
        "\n",
        "actualScore = filtered_data['Score']\n",
        "positiveNegative = actualScore.apply(partition) # we can use .apply() also but .map is preffered for series\n",
        "filtered_data['Score'] = positiveNegative\n",
        "\n",
        "print(\"Number of data points in our data\", filtered_data.shape)\n",
        "filtered_data"
      ]
    },
    {
      "cell_type": "code",
      "execution_count": 8,
      "metadata": {
        "colab": {
          "base_uri": "https://localhost:8080/"
        },
        "id": "rxAfSEqxHS9M",
        "outputId": "c434c286-2c2a-4b43-a1bf-3373e405148a"
      },
      "outputs": [
        {
          "data": {
            "text/plain": [
              "1    16855\n",
              "0     3145\n",
              "Name: Score, dtype: int64"
            ]
          },
          "execution_count": 8,
          "metadata": {},
          "output_type": "execute_result"
        }
      ],
      "source": [
        "filtered_data[\"Score\"].value_counts()"
      ]
    },
    {
      "cell_type": "code",
      "execution_count": 9,
      "metadata": {
        "id": "I1jf03kECAZF"
      },
      "outputs": [],
      "source": [
        "display = pd.read_sql_query(\"\"\"\n",
        "SELECT UserId, ProductId, ProfileName, Time, Score, Text, COUNT(*)\n",
        "FROM Reviews\n",
        "GROUP BY UserId\n",
        "HAVING COUNT(*)>1\n",
        "\"\"\", con) # selecting the reviews from only those users who have reviewed more than one products. "
      ]
    },
    {
      "cell_type": "code",
      "execution_count": 10,
      "metadata": {
        "colab": {
          "base_uri": "https://localhost:8080/",
          "height": 223
        },
        "id": "Ja8xSefOCAZH",
        "outputId": "34a9b4e4-17fa-4e48-9040-d956f6de38c4"
      },
      "outputs": [
        {
          "name": "stdout",
          "output_type": "stream",
          "text": [
            "(80668, 7)\n"
          ]
        },
        {
          "data": {
            "text/html": [
              "<div>\n",
              "<style scoped>\n",
              "    .dataframe tbody tr th:only-of-type {\n",
              "        vertical-align: middle;\n",
              "    }\n",
              "\n",
              "    .dataframe tbody tr th {\n",
              "        vertical-align: top;\n",
              "    }\n",
              "\n",
              "    .dataframe thead th {\n",
              "        text-align: right;\n",
              "    }\n",
              "</style>\n",
              "<table border=\"1\" class=\"dataframe\">\n",
              "  <thead>\n",
              "    <tr style=\"text-align: right;\">\n",
              "      <th></th>\n",
              "      <th>UserId</th>\n",
              "      <th>ProductId</th>\n",
              "      <th>ProfileName</th>\n",
              "      <th>Time</th>\n",
              "      <th>Score</th>\n",
              "      <th>Text</th>\n",
              "      <th>COUNT(*)</th>\n",
              "    </tr>\n",
              "  </thead>\n",
              "  <tbody>\n",
              "    <tr>\n",
              "      <th>0</th>\n",
              "      <td>#oc-R115TNMSPFT9I7</td>\n",
              "      <td>B007Y59HVM</td>\n",
              "      <td>Breyton</td>\n",
              "      <td>1331510400</td>\n",
              "      <td>2</td>\n",
              "      <td>Overall its just OK when considering the price...</td>\n",
              "      <td>2</td>\n",
              "    </tr>\n",
              "    <tr>\n",
              "      <th>1</th>\n",
              "      <td>#oc-R11D9D7SHXIJB9</td>\n",
              "      <td>B005HG9ET0</td>\n",
              "      <td>Louis E. Emory \"hoppy\"</td>\n",
              "      <td>1342396800</td>\n",
              "      <td>5</td>\n",
              "      <td>My wife has recurring extreme muscle spasms, u...</td>\n",
              "      <td>3</td>\n",
              "    </tr>\n",
              "    <tr>\n",
              "      <th>2</th>\n",
              "      <td>#oc-R11DNU2NBKQ23Z</td>\n",
              "      <td>B007Y59HVM</td>\n",
              "      <td>Kim Cieszykowski</td>\n",
              "      <td>1348531200</td>\n",
              "      <td>1</td>\n",
              "      <td>This coffee is horrible and unfortunately not ...</td>\n",
              "      <td>2</td>\n",
              "    </tr>\n",
              "    <tr>\n",
              "      <th>3</th>\n",
              "      <td>#oc-R11O5J5ZVQE25C</td>\n",
              "      <td>B005HG9ET0</td>\n",
              "      <td>Penguin Chick</td>\n",
              "      <td>1346889600</td>\n",
              "      <td>5</td>\n",
              "      <td>This will be the bottle that you grab from the...</td>\n",
              "      <td>3</td>\n",
              "    </tr>\n",
              "    <tr>\n",
              "      <th>4</th>\n",
              "      <td>#oc-R12KPBODL2B5ZD</td>\n",
              "      <td>B007OSBE1U</td>\n",
              "      <td>Christopher P. Presta</td>\n",
              "      <td>1348617600</td>\n",
              "      <td>1</td>\n",
              "      <td>I didnt like this coffee. Instead of telling y...</td>\n",
              "      <td>2</td>\n",
              "    </tr>\n",
              "  </tbody>\n",
              "</table>\n",
              "</div>"
            ],
            "text/plain": [
              "               UserId  ... COUNT(*)\n",
              "0  #oc-R115TNMSPFT9I7  ...        2\n",
              "1  #oc-R11D9D7SHXIJB9  ...        3\n",
              "2  #oc-R11DNU2NBKQ23Z  ...        2\n",
              "3  #oc-R11O5J5ZVQE25C  ...        3\n",
              "4  #oc-R12KPBODL2B5ZD  ...        2\n",
              "\n",
              "[5 rows x 7 columns]"
            ]
          },
          "execution_count": 10,
          "metadata": {},
          "output_type": "execute_result"
        }
      ],
      "source": [
        "print(display.shape)\n",
        "display.head()"
      ]
    },
    {
      "cell_type": "code",
      "execution_count": 11,
      "metadata": {
        "colab": {
          "base_uri": "https://localhost:8080/",
          "height": 449
        },
        "id": "o5Xl_-kQMvij",
        "outputId": "fa26d46e-996d-418b-a8ac-bf4b28c45675"
      },
      "outputs": [
        {
          "data": {
            "text/html": [
              "<div>\n",
              "<style scoped>\n",
              "    .dataframe tbody tr th:only-of-type {\n",
              "        vertical-align: middle;\n",
              "    }\n",
              "\n",
              "    .dataframe tbody tr th {\n",
              "        vertical-align: top;\n",
              "    }\n",
              "\n",
              "    .dataframe thead th {\n",
              "        text-align: right;\n",
              "    }\n",
              "</style>\n",
              "<table border=\"1\" class=\"dataframe\">\n",
              "  <thead>\n",
              "    <tr style=\"text-align: right;\">\n",
              "      <th></th>\n",
              "      <th>Id</th>\n",
              "      <th>ProductId</th>\n",
              "      <th>UserId</th>\n",
              "      <th>ProfileName</th>\n",
              "      <th>HelpfulnessNumerator</th>\n",
              "      <th>HelpfulnessDenominator</th>\n",
              "      <th>Score</th>\n",
              "      <th>Time</th>\n",
              "      <th>Summary</th>\n",
              "      <th>Text</th>\n",
              "    </tr>\n",
              "  </thead>\n",
              "  <tbody>\n",
              "    <tr>\n",
              "      <th>0</th>\n",
              "      <td>35174</td>\n",
              "      <td>B001ATMQK2</td>\n",
              "      <td>AZY10LLTJ71NX</td>\n",
              "      <td>undertheshrine \"undertheshrine\"</td>\n",
              "      <td>1</td>\n",
              "      <td>1</td>\n",
              "      <td>5</td>\n",
              "      <td>1296691200</td>\n",
              "      <td>Have you seen how much Ranch 99 is trying to c...</td>\n",
              "      <td>I bought this 6 pack because for the price tha...</td>\n",
              "    </tr>\n",
              "    <tr>\n",
              "      <th>1</th>\n",
              "      <td>332195</td>\n",
              "      <td>B001P7AXXG</td>\n",
              "      <td>AZY10LLTJ71NX</td>\n",
              "      <td>undertheshrine \"undertheshrine\"</td>\n",
              "      <td>1</td>\n",
              "      <td>1</td>\n",
              "      <td>5</td>\n",
              "      <td>1303776000</td>\n",
              "      <td>BEST MICROWAVE POPCORN EVER!!!!</td>\n",
              "      <td>This popcorn is probably the best microwave po...</td>\n",
              "    </tr>\n",
              "    <tr>\n",
              "      <th>2</th>\n",
              "      <td>333057</td>\n",
              "      <td>B000MYW2ZA</td>\n",
              "      <td>AZY10LLTJ71NX</td>\n",
              "      <td>undertheshrine \"undertheshrine\"</td>\n",
              "      <td>0</td>\n",
              "      <td>0</td>\n",
              "      <td>5</td>\n",
              "      <td>1334707200</td>\n",
              "      <td>works for me.  lost 10-15 pounds my first month</td>\n",
              "      <td>I was recommended to try green tea extract to ...</td>\n",
              "    </tr>\n",
              "    <tr>\n",
              "      <th>3</th>\n",
              "      <td>340773</td>\n",
              "      <td>B0043CVIBG</td>\n",
              "      <td>AZY10LLTJ71NX</td>\n",
              "      <td>undertheshrine \"undertheshrine\"</td>\n",
              "      <td>4</td>\n",
              "      <td>4</td>\n",
              "      <td>5</td>\n",
              "      <td>1303776000</td>\n",
              "      <td>girl scout thin mint in disguise</td>\n",
              "      <td>if you love thin mint cookies that the girl sc...</td>\n",
              "    </tr>\n",
              "    <tr>\n",
              "      <th>4</th>\n",
              "      <td>404703</td>\n",
              "      <td>B006P7E5ZI</td>\n",
              "      <td>AZY10LLTJ71NX</td>\n",
              "      <td>undertheshrine \"undertheshrine\"</td>\n",
              "      <td>0</td>\n",
              "      <td>0</td>\n",
              "      <td>5</td>\n",
              "      <td>1334707200</td>\n",
              "      <td>works for me.  lost 10-15 pounds my first month</td>\n",
              "      <td>I was recommended to try green tea extract to ...</td>\n",
              "    </tr>\n",
              "  </tbody>\n",
              "</table>\n",
              "</div>"
            ],
            "text/plain": [
              "       Id  ...                                               Text\n",
              "0   35174  ...  I bought this 6 pack because for the price tha...\n",
              "1  332195  ...  This popcorn is probably the best microwave po...\n",
              "2  333057  ...  I was recommended to try green tea extract to ...\n",
              "3  340773  ...  if you love thin mint cookies that the girl sc...\n",
              "4  404703  ...  I was recommended to try green tea extract to ...\n",
              "\n",
              "[5 rows x 10 columns]"
            ]
          },
          "execution_count": 11,
          "metadata": {},
          "output_type": "execute_result"
        }
      ],
      "source": [
        "data = pd.read_sql_query(\"\"\"\n",
        "SELECT *\n",
        "FROM Reviews\n",
        "where UserId = 'AZY10LLTJ71NX'\n",
        "\"\"\", con) # selecting all the reviews posted by User\n",
        "\n",
        "data"
      ]
    },
    {
      "cell_type": "code",
      "execution_count": 12,
      "metadata": {
        "colab": {
          "base_uri": "https://localhost:8080/",
          "height": 81
        },
        "id": "GXL9rYxVM9FK",
        "outputId": "d3f680e4-f742-425b-c08e-39ab2f2ca787"
      },
      "outputs": [
        {
          "data": {
            "text/html": [
              "<div>\n",
              "<style scoped>\n",
              "    .dataframe tbody tr th:only-of-type {\n",
              "        vertical-align: middle;\n",
              "    }\n",
              "\n",
              "    .dataframe tbody tr th {\n",
              "        vertical-align: top;\n",
              "    }\n",
              "\n",
              "    .dataframe thead th {\n",
              "        text-align: right;\n",
              "    }\n",
              "</style>\n",
              "<table border=\"1\" class=\"dataframe\">\n",
              "  <thead>\n",
              "    <tr style=\"text-align: right;\">\n",
              "      <th></th>\n",
              "      <th>count(*)</th>\n",
              "    </tr>\n",
              "  </thead>\n",
              "  <tbody>\n",
              "    <tr>\n",
              "      <th>0</th>\n",
              "      <td>5</td>\n",
              "    </tr>\n",
              "  </tbody>\n",
              "</table>\n",
              "</div>"
            ],
            "text/plain": [
              "   count(*)\n",
              "0         5"
            ]
          },
          "execution_count": 12,
          "metadata": {},
          "output_type": "execute_result"
        }
      ],
      "source": [
        "data = pd.read_sql_query(\"\"\"\n",
        "SELECT count(*)\n",
        "FROM Reviews\n",
        "where UserId = 'AZY10LLTJ71NX'\n",
        "\"\"\", con) # selecting all the reviews posted by User\n",
        "\n",
        "data  # it will count all the reviews "
      ]
    },
    {
      "cell_type": "code",
      "execution_count": 13,
      "metadata": {
        "colab": {
          "base_uri": "https://localhost:8080/",
          "height": 81
        },
        "id": "u5ctUTW-CAZK",
        "outputId": "a855a3d1-cffe-4241-eef6-81636159b8d5"
      },
      "outputs": [
        {
          "data": {
            "text/html": [
              "<div>\n",
              "<style scoped>\n",
              "    .dataframe tbody tr th:only-of-type {\n",
              "        vertical-align: middle;\n",
              "    }\n",
              "\n",
              "    .dataframe tbody tr th {\n",
              "        vertical-align: top;\n",
              "    }\n",
              "\n",
              "    .dataframe thead th {\n",
              "        text-align: right;\n",
              "    }\n",
              "</style>\n",
              "<table border=\"1\" class=\"dataframe\">\n",
              "  <thead>\n",
              "    <tr style=\"text-align: right;\">\n",
              "      <th></th>\n",
              "      <th>UserId</th>\n",
              "      <th>ProductId</th>\n",
              "      <th>ProfileName</th>\n",
              "      <th>Time</th>\n",
              "      <th>Score</th>\n",
              "      <th>Text</th>\n",
              "      <th>COUNT(*)</th>\n",
              "    </tr>\n",
              "  </thead>\n",
              "  <tbody>\n",
              "    <tr>\n",
              "      <th>80638</th>\n",
              "      <td>AZY10LLTJ71NX</td>\n",
              "      <td>B006P7E5ZI</td>\n",
              "      <td>undertheshrine \"undertheshrine\"</td>\n",
              "      <td>1334707200</td>\n",
              "      <td>5</td>\n",
              "      <td>I was recommended to try green tea extract to ...</td>\n",
              "      <td>5</td>\n",
              "    </tr>\n",
              "  </tbody>\n",
              "</table>\n",
              "</div>"
            ],
            "text/plain": [
              "              UserId  ... COUNT(*)\n",
              "80638  AZY10LLTJ71NX  ...        5\n",
              "\n",
              "[1 rows x 7 columns]"
            ]
          },
          "execution_count": 13,
          "metadata": {},
          "output_type": "execute_result"
        }
      ],
      "source": [
        "display[display['UserId']=='AZY10LLTJ71NX']"
      ]
    },
    {
      "cell_type": "code",
      "execution_count": 14,
      "metadata": {
        "colab": {
          "base_uri": "https://localhost:8080/"
        },
        "id": "JsxAxA8BcdF9",
        "outputId": "0ba2c774-a4fd-4d4d-e398-29315e239ba0"
      },
      "outputs": [
        {
          "data": {
            "text/plain": [
              "80638    I was recommended to try green tea extract to ...\n",
              "Name: Text, dtype: object"
            ]
          },
          "execution_count": 14,
          "metadata": {},
          "output_type": "execute_result"
        }
      ],
      "source": [
        "display[display['UserId']=='AZY10LLTJ71NX']['Text']"
      ]
    },
    {
      "cell_type": "markdown",
      "metadata": {
        "id": "4Sb6wVUzdHo-"
      },
      "source": [
        "https://stackoverflow.com/questions/25351968/how-can-i-display-full-non-truncated-dataframe-information-in-html-when-conver"
      ]
    },
    {
      "cell_type": "code",
      "execution_count": 15,
      "metadata": {
        "colab": {
          "base_uri": "https://localhost:8080/"
        },
        "id": "zwyhnd5Tc7JF",
        "outputId": "b9e83f58-fde2-436e-94e0-d5e83dd9c57d"
      },
      "outputs": [
        {
          "data": {
            "text/plain": [
              "80638    I was recommended to try green tea extract to lose weight.  my first month I lost 10-15lbs.  I will continue taking these to see how well they work in the long term.\n",
              "Name: Text, dtype: object"
            ]
          },
          "execution_count": 15,
          "metadata": {},
          "output_type": "execute_result"
        }
      ],
      "source": [
        "pd.set_option('display.max_colwidth', None) # to view the whoole text.\n",
        "display[display['UserId']=='AZY10LLTJ71NX']['Text']"
      ]
    },
    {
      "cell_type": "code",
      "execution_count": 16,
      "metadata": {
        "colab": {
          "base_uri": "https://localhost:8080/"
        },
        "id": "tiaXnkZxCAZO",
        "outputId": "3650496e-7cf4-422f-fef6-1a7cab364358"
      },
      "outputs": [
        {
          "data": {
            "text/plain": [
              "393063"
            ]
          },
          "execution_count": 16,
          "metadata": {},
          "output_type": "execute_result"
        }
      ],
      "source": [
        "display['COUNT(*)'].sum() # Number of Unique review givers."
      ]
    },
    {
      "cell_type": "markdown",
      "metadata": {
        "id": "TX5b3dc5CAZS"
      },
      "source": [
        "#  Exploratory Data Analysis\n",
        "\n",
        "## [2] Data Cleaning: Deduplication\n",
        "\n",
        "It is observed (as shown in the table below) that the reviews data had many duplicate entries. Hence it was necessary to remove duplicates in order to get unbiased results for the analysis of the data.  Following is an example:"
      ]
    },
    {
      "cell_type": "code",
      "execution_count": 17,
      "metadata": {
        "colab": {
          "base_uri": "https://localhost:8080/",
          "height": 900
        },
        "id": "4jW_0WxCCAZT",
        "outputId": "aefbe455-937d-4a8c-a458-9266d231b3b4",
        "scrolled": false
      },
      "outputs": [
        {
          "data": {
            "text/html": [
              "<div>\n",
              "<style scoped>\n",
              "    .dataframe tbody tr th:only-of-type {\n",
              "        vertical-align: middle;\n",
              "    }\n",
              "\n",
              "    .dataframe tbody tr th {\n",
              "        vertical-align: top;\n",
              "    }\n",
              "\n",
              "    .dataframe thead th {\n",
              "        text-align: right;\n",
              "    }\n",
              "</style>\n",
              "<table border=\"1\" class=\"dataframe\">\n",
              "  <thead>\n",
              "    <tr style=\"text-align: right;\">\n",
              "      <th></th>\n",
              "      <th>Id</th>\n",
              "      <th>ProductId</th>\n",
              "      <th>UserId</th>\n",
              "      <th>ProfileName</th>\n",
              "      <th>HelpfulnessNumerator</th>\n",
              "      <th>HelpfulnessDenominator</th>\n",
              "      <th>Score</th>\n",
              "      <th>Time</th>\n",
              "      <th>Summary</th>\n",
              "      <th>Text</th>\n",
              "    </tr>\n",
              "  </thead>\n",
              "  <tbody>\n",
              "    <tr>\n",
              "      <th>0</th>\n",
              "      <td>78445</td>\n",
              "      <td>B000HDL1RQ</td>\n",
              "      <td>AR5J8UI46CURR</td>\n",
              "      <td>Geetha Krishnan</td>\n",
              "      <td>2</td>\n",
              "      <td>2</td>\n",
              "      <td>5</td>\n",
              "      <td>1199577600</td>\n",
              "      <td>LOACKER QUADRATINI VANILLA WAFERS</td>\n",
              "      <td>DELICIOUS WAFERS. I FIND THAT EUROPEAN WAFERS ARE LESS SWEET ( LESS SUGAR AND CARBOHYDRATES) BUT VERY DELECTABLE.</td>\n",
              "    </tr>\n",
              "    <tr>\n",
              "      <th>1</th>\n",
              "      <td>138317</td>\n",
              "      <td>B000HDOPYC</td>\n",
              "      <td>AR5J8UI46CURR</td>\n",
              "      <td>Geetha Krishnan</td>\n",
              "      <td>2</td>\n",
              "      <td>2</td>\n",
              "      <td>5</td>\n",
              "      <td>1199577600</td>\n",
              "      <td>LOACKER QUADRATINI VANILLA WAFERS</td>\n",
              "      <td>DELICIOUS WAFERS. I FIND THAT EUROPEAN WAFERS ARE LESS SWEET ( LESS SUGAR AND CARBOHYDRATES) BUT VERY DELECTABLE.</td>\n",
              "    </tr>\n",
              "    <tr>\n",
              "      <th>2</th>\n",
              "      <td>138277</td>\n",
              "      <td>B000HDOPYM</td>\n",
              "      <td>AR5J8UI46CURR</td>\n",
              "      <td>Geetha Krishnan</td>\n",
              "      <td>2</td>\n",
              "      <td>2</td>\n",
              "      <td>5</td>\n",
              "      <td>1199577600</td>\n",
              "      <td>LOACKER QUADRATINI VANILLA WAFERS</td>\n",
              "      <td>DELICIOUS WAFERS. I FIND THAT EUROPEAN WAFERS ARE LESS SWEET ( LESS SUGAR AND CARBOHYDRATES) BUT VERY DELECTABLE.</td>\n",
              "    </tr>\n",
              "    <tr>\n",
              "      <th>3</th>\n",
              "      <td>73791</td>\n",
              "      <td>B000HDOPZG</td>\n",
              "      <td>AR5J8UI46CURR</td>\n",
              "      <td>Geetha Krishnan</td>\n",
              "      <td>2</td>\n",
              "      <td>2</td>\n",
              "      <td>5</td>\n",
              "      <td>1199577600</td>\n",
              "      <td>LOACKER QUADRATINI VANILLA WAFERS</td>\n",
              "      <td>DELICIOUS WAFERS. I FIND THAT EUROPEAN WAFERS ARE LESS SWEET ( LESS SUGAR AND CARBOHYDRATES) BUT VERY DELECTABLE.</td>\n",
              "    </tr>\n",
              "    <tr>\n",
              "      <th>4</th>\n",
              "      <td>155049</td>\n",
              "      <td>B000PAQ75C</td>\n",
              "      <td>AR5J8UI46CURR</td>\n",
              "      <td>Geetha Krishnan</td>\n",
              "      <td>2</td>\n",
              "      <td>2</td>\n",
              "      <td>5</td>\n",
              "      <td>1199577600</td>\n",
              "      <td>LOACKER QUADRATINI VANILLA WAFERS</td>\n",
              "      <td>DELICIOUS WAFERS. I FIND THAT EUROPEAN WAFERS ARE LESS SWEET ( LESS SUGAR AND CARBOHYDRATES) BUT VERY DELECTABLE.</td>\n",
              "    </tr>\n",
              "  </tbody>\n",
              "</table>\n",
              "</div>"
            ],
            "text/plain": [
              "       Id  ...                                                                                                               Text\n",
              "0   78445  ...  DELICIOUS WAFERS. I FIND THAT EUROPEAN WAFERS ARE LESS SWEET ( LESS SUGAR AND CARBOHYDRATES) BUT VERY DELECTABLE.\n",
              "1  138317  ...  DELICIOUS WAFERS. I FIND THAT EUROPEAN WAFERS ARE LESS SWEET ( LESS SUGAR AND CARBOHYDRATES) BUT VERY DELECTABLE.\n",
              "2  138277  ...  DELICIOUS WAFERS. I FIND THAT EUROPEAN WAFERS ARE LESS SWEET ( LESS SUGAR AND CARBOHYDRATES) BUT VERY DELECTABLE.\n",
              "3   73791  ...  DELICIOUS WAFERS. I FIND THAT EUROPEAN WAFERS ARE LESS SWEET ( LESS SUGAR AND CARBOHYDRATES) BUT VERY DELECTABLE.\n",
              "4  155049  ...  DELICIOUS WAFERS. I FIND THAT EUROPEAN WAFERS ARE LESS SWEET ( LESS SUGAR AND CARBOHYDRATES) BUT VERY DELECTABLE.\n",
              "\n",
              "[5 rows x 10 columns]"
            ]
          },
          "execution_count": 17,
          "metadata": {},
          "output_type": "execute_result"
        }
      ],
      "source": [
        "display= pd.read_sql_query(\"\"\"\n",
        "SELECT *\n",
        "FROM Reviews\n",
        "WHERE Score != 3 AND UserId=\"AR5J8UI46CURR\"\n",
        "ORDER BY ProductID\n",
        "\"\"\", con)\n",
        "display.tail()"
      ]
    },
    {
      "cell_type": "markdown",
      "metadata": {
        "id": "BzVTlHiMCAZV"
      },
      "source": [
        "As can be seen above the same user has multiple reviews of the with the same values for HelpfulnessNumerator, HelpfulnessDenominator, Score, Time, Summary and Text  and on doing analysis it was found that <br>\n",
        "<br> \n",
        "ProductId=B000HDOPZG was Loacker Quadratini Vanilla Wafer Cookies, 8.82-Ounce Packages (Pack of 8)<br>\n",
        "<br> \n",
        "ProductId=B000HDL1RQ was Loacker Quadratini Lemon Wafer Cookies, 8.82-Ounce Packages (Pack of 8) and so on<br>\n",
        "\n",
        "It was inferred after analysis that reviews with same parameters other than ProductId belonged to the same product just having different flavour or quantity. Hence in order to reduce redundancy it was decided to eliminate the rows having same parameters.<br>\n",
        "\n",
        "The method used for the same was that we first sort the data according to ProductId and then just keep the first similar product review and delelte the others. for eg. in the above just the review for ProductId=B000HDL1RQ remains. This method ensures that there is only one representative for each product and deduplication without sorting would lead to possibility of different representatives still existing for the same product."
      ]
    },
    {
      "cell_type": "markdown",
      "metadata": {
        "id": "w6R-TGYYRJFq"
      },
      "source": [
        "https://github.com/Dummy-Bug/AI-and-ML/blob/master/Pandas/sort_values_and_sort_index.ipynb"
      ]
    },
    {
      "cell_type": "code",
      "execution_count": 18,
      "metadata": {
        "id": "DGy2NM7BCAZX"
      },
      "outputs": [],
      "source": [
        "# Sorting data according to ProductId in ascending order\n",
        "sorted_data = filtered_data.sort_values(by = ['ProductId'], axis=0, ascending=True, inplace=False, kind='quicksort', na_position='last')"
      ]
    },
    {
      "cell_type": "markdown",
      "metadata": {
        "id": "852rVGVWiivG"
      },
      "source": [
        "https://pandas.pydata.org/docs/reference/api/pandas.DataFrame.drop_duplicates.html"
      ]
    },
    {
      "cell_type": "code",
      "execution_count": 19,
      "metadata": {
        "colab": {
          "base_uri": "https://localhost:8080/"
        },
        "id": "8b-O13XVCAZZ",
        "outputId": "47eacf38-69c6-4605-b325-897c7b18ecf5"
      },
      "outputs": [
        {
          "data": {
            "text/plain": [
              "(19354, 10)"
            ]
          },
          "execution_count": 19,
          "metadata": {},
          "output_type": "execute_result"
        }
      ],
      "source": [
        "# Deduplication of entries\n",
        "final = sorted_data.drop_duplicates(subset={\"UserId\",\"ProfileName\",\"Time\",\"Text\"}, keep='first', inplace=False)\n",
        "final.shape"
      ]
    },
    {
      "cell_type": "code",
      "execution_count": 20,
      "metadata": {
        "colab": {
          "base_uri": "https://localhost:8080/"
        },
        "id": "S72Yh-rHCAZc",
        "outputId": "01d8791b-6351-438d-e71f-3b3483dddd23"
      },
      "outputs": [
        {
          "data": {
            "text/plain": [
              "96.77"
            ]
          },
          "execution_count": 20,
          "metadata": {},
          "output_type": "execute_result"
        }
      ],
      "source": [
        "# Checking to see how much % of data still remains\n",
        "(final['Id'].size*1.0)/(filtered_data['Id'].size*1.0)*100"
      ]
    },
    {
      "cell_type": "markdown",
      "metadata": {
        "id": "LO5nLKeFCAZf"
      },
      "source": [
        "<b>Observation:-</b> It was also seen that in two rows given below the value of HelpfulnessNumerator is greater than HelpfulnessDenominator which is not practically possible hence these two rows too are removed from calcualtions"
      ]
    },
    {
      "cell_type": "markdown",
      "metadata": {
        "id": "3NdyINqqj6aS"
      },
      "source": [
        "https://towardsdatascience.com/6-pandas-display-options-you-should-memories-84adf8887bc3"
      ]
    },
    {
      "cell_type": "code",
      "execution_count": 21,
      "metadata": {
        "colab": {
          "base_uri": "https://localhost:8080/",
          "height": 1000
        },
        "id": "L9z5lrsiCAZh",
        "outputId": "fdef0ed2-75e7-4acb-d605-ba0f51192d26"
      },
      "outputs": [
        {
          "data": {
            "text/html": [
              "<div>\n",
              "<style scoped>\n",
              "    .dataframe tbody tr th:only-of-type {\n",
              "        vertical-align: middle;\n",
              "    }\n",
              "\n",
              "    .dataframe tbody tr th {\n",
              "        vertical-align: top;\n",
              "    }\n",
              "\n",
              "    .dataframe thead th {\n",
              "        text-align: right;\n",
              "    }\n",
              "</style>\n",
              "<table border=\"1\" class=\"dataframe\">\n",
              "  <thead>\n",
              "    <tr style=\"text-align: right;\">\n",
              "      <th></th>\n",
              "      <th>Id</th>\n",
              "      <th>ProductId</th>\n",
              "      <th>UserId</th>\n",
              "      <th>ProfileName</th>\n",
              "      <th>HelpfulnessNumerator</th>\n",
              "      <th>HelpfulnessDenominator</th>\n",
              "      <th>Score</th>\n",
              "      <th>Time</th>\n",
              "      <th>Summary</th>\n",
              "      <th>Text</th>\n",
              "    </tr>\n",
              "  </thead>\n",
              "  <tbody>\n",
              "    <tr>\n",
              "      <th>0</th>\n",
              "      <td>64422</td>\n",
              "      <td>B000MIDROQ</td>\n",
              "      <td>A161DK06JJMCYF</td>\n",
              "      <td>J. E. Stephens \"Jeanne\"</td>\n",
              "      <td>3</td>\n",
              "      <td>1</td>\n",
              "      <td>5</td>\n",
              "      <td>1224892800</td>\n",
              "      <td>Bought This for My Son at College</td>\n",
              "      <td>My son loves spaghetti so I didn't hesitate ordering this for him. He says they are great. I have tried them myself and they are delicious. Just open and pop them in the microwave. It is very easy. The best thing about ordering from Amazon grocery is that they deliver to your door. If you have a loved one that lives far away and may have limited transportation this is the answer. Just order what you want them to have and Amazon takes care of the rest.</td>\n",
              "    </tr>\n",
              "    <tr>\n",
              "      <th>1</th>\n",
              "      <td>44737</td>\n",
              "      <td>B001EQ55RW</td>\n",
              "      <td>A2V0I904FH7ABY</td>\n",
              "      <td>Ram</td>\n",
              "      <td>3</td>\n",
              "      <td>2</td>\n",
              "      <td>4</td>\n",
              "      <td>1212883200</td>\n",
              "      <td>Pure cocoa taste with crunchy almonds inside</td>\n",
              "      <td>It was almost a 'love at first bite' - the perfectly roasted almond with a nice thin layer of pure flavorful cocoa on the top.&lt;br /&gt;&lt;br /&gt;You can smell the cocoa as soon as you open the canister - making you want to take a bite.&lt;br /&gt;&lt;br /&gt;You may or may not like the taste of this cocoa roasted almonds depending on your likingness for cocoa.  We are so much used to the taste of chocolate (which is actually cocoa + many other ingredients like milk ...) - that you might have never really tasted really cocoa.&lt;br /&gt;&lt;br /&gt;Tasting this item it like tasting and enjoying flavorful pure raw cocoa with crunchy almonds in the center.  Get yourself a box and see for yourself what real cocoa + almonds is !&lt;br /&gt;&lt;br /&gt;Where this product loses a star is in its packaging - the external sleeve is kind of comes in one piece, so if you try to remove the lid, the external sleeve kind of tends to come off fully - so careful when you are removing the external sleeve for the canister.</td>\n",
              "    </tr>\n",
              "  </tbody>\n",
              "</table>\n",
              "</div>"
            ],
            "text/plain": [
              "      Id  ...                                                                                                                                                                                                                                                                                                                                                                                                                                                                                                                                                                                                                                                                                                                                                                                                                                                                                                                                                                                                              Text\n",
              "0  64422  ...                                                                                                                                                                                                                                                                                                                                                                                                                                                                                                                                           My son loves spaghetti so I didn't hesitate ordering this for him. He says they are great. I have tried them myself and they are delicious. Just open and pop them in the microwave. It is very easy. The best thing about ordering from Amazon grocery is that they deliver to your door. If you have a loved one that lives far away and may have limited transportation this is the answer. Just order what you want them to have and Amazon takes care of the rest.\n",
              "1  44737  ...  It was almost a 'love at first bite' - the perfectly roasted almond with a nice thin layer of pure flavorful cocoa on the top.<br /><br />You can smell the cocoa as soon as you open the canister - making you want to take a bite.<br /><br />You may or may not like the taste of this cocoa roasted almonds depending on your likingness for cocoa.  We are so much used to the taste of chocolate (which is actually cocoa + many other ingredients like milk ...) - that you might have never really tasted really cocoa.<br /><br />Tasting this item it like tasting and enjoying flavorful pure raw cocoa with crunchy almonds in the center.  Get yourself a box and see for yourself what real cocoa + almonds is !<br /><br />Where this product loses a star is in its packaging - the external sleeve is kind of comes in one piece, so if you try to remove the lid, the external sleeve kind of tends to come off fully - so careful when you are removing the external sleeve for the canister.\n",
              "\n",
              "[2 rows x 10 columns]"
            ]
          },
          "execution_count": 21,
          "metadata": {},
          "output_type": "execute_result"
        }
      ],
      "source": [
        "display= pd.read_sql_query(\"\"\"\n",
        "SELECT *\n",
        "FROM Reviews\n",
        "WHERE Score != 3 AND Id=44737 OR Id=64422\n",
        "ORDER BY ProductID\n",
        "\"\"\", con)\n",
        "\n",
        "display.head()"
      ]
    },
    {
      "cell_type": "code",
      "execution_count": 22,
      "metadata": {
        "colab": {
          "base_uri": "https://localhost:8080/",
          "height": 216
        },
        "id": "k7_8a5Qnj8q_",
        "outputId": "2aa2a2cf-a57a-48ad-f8ee-9ddf05a81cc0"
      },
      "outputs": [
        {
          "data": {
            "text/html": [
              "<div>\n",
              "<style scoped>\n",
              "    .dataframe tbody tr th:only-of-type {\n",
              "        vertical-align: middle;\n",
              "    }\n",
              "\n",
              "    .dataframe tbody tr th {\n",
              "        vertical-align: top;\n",
              "    }\n",
              "\n",
              "    .dataframe thead th {\n",
              "        text-align: right;\n",
              "    }\n",
              "</style>\n",
              "<table border=\"1\" class=\"dataframe\">\n",
              "  <thead>\n",
              "    <tr style=\"text-align: right;\">\n",
              "      <th></th>\n",
              "      <th>Id</th>\n",
              "      <th>ProductId</th>\n",
              "      <th>UserId</th>\n",
              "      <th>ProfileName</th>\n",
              "      <th>HelpfulnessNumerator</th>\n",
              "      <th>HelpfulnessDenominator</th>\n",
              "      <th>Score</th>\n",
              "      <th>Time</th>\n",
              "      <th>Summary</th>\n",
              "      <th>Text</th>\n",
              "    </tr>\n",
              "  </thead>\n",
              "  <tbody>\n",
              "    <tr>\n",
              "      <th>0</th>\n",
              "      <td>64422</td>\n",
              "      <td>B000MIDROQ</td>\n",
              "      <td>A161DK06JJMCYF</td>\n",
              "      <td>J. E. Stephens \"Jeanne\"</td>\n",
              "      <td>3</td>\n",
              "      <td>1</td>\n",
              "      <td>5</td>\n",
              "      <td>1224892800</td>\n",
              "      <td>Bought This for My Son at College</td>\n",
              "      <td>My son loves spaghetti so I didn't hesitate ordering thi...</td>\n",
              "    </tr>\n",
              "    <tr>\n",
              "      <th>1</th>\n",
              "      <td>44737</td>\n",
              "      <td>B001EQ55RW</td>\n",
              "      <td>A2V0I904FH7ABY</td>\n",
              "      <td>Ram</td>\n",
              "      <td>3</td>\n",
              "      <td>2</td>\n",
              "      <td>4</td>\n",
              "      <td>1212883200</td>\n",
              "      <td>Pure cocoa taste with crunchy almonds inside</td>\n",
              "      <td>It was almost a 'love at first bite' - the perfectly roa...</td>\n",
              "    </tr>\n",
              "  </tbody>\n",
              "</table>\n",
              "</div>"
            ],
            "text/plain": [
              "      Id  ...                                                         Text\n",
              "0  64422  ...  My son loves spaghetti so I didn't hesitate ordering thi...\n",
              "1  44737  ...  It was almost a 'love at first bite' - the perfectly roa...\n",
              "\n",
              "[2 rows x 10 columns]"
            ]
          },
          "execution_count": 22,
          "metadata": {},
          "output_type": "execute_result"
        }
      ],
      "source": [
        "pd.set_option('display.max_colwidth', 60)\n",
        "display= pd.read_sql_query(\"\"\"\n",
        "SELECT *\n",
        "FROM Reviews\n",
        "WHERE Score != 3 AND Id=44737 OR Id=64422\n",
        "ORDER BY ProductID\n",
        "\"\"\", con)\n",
        "\n",
        "display.head()"
      ]
    },
    {
      "cell_type": "code",
      "execution_count": 23,
      "metadata": {
        "id": "8Tphk1piCAZk"
      },
      "outputs": [],
      "source": [
        "final = final[final.HelpfulnessNumerator<=final.HelpfulnessDenominator]"
      ]
    },
    {
      "cell_type": "code",
      "execution_count": 24,
      "metadata": {
        "colab": {
          "base_uri": "https://localhost:8080/"
        },
        "id": "8TpsGDdJCAZm",
        "outputId": "cadc70f4-2d12-404e-b5b5-0da43acce1ba"
      },
      "outputs": [
        {
          "name": "stdout",
          "output_type": "stream",
          "text": [
            "(19354, 10)\n"
          ]
        },
        {
          "data": {
            "text/plain": [
              "1    16339\n",
              "0     3015\n",
              "Name: Score, dtype: int64"
            ]
          },
          "execution_count": 24,
          "metadata": {},
          "output_type": "execute_result"
        }
      ],
      "source": [
        "#Before starting the next phase of preprocessing lets see the number of entries left\n",
        "print(final.shape)\n",
        "\n",
        "#How many positive and negative reviews are present in our dataset?\n",
        "final['Score'].value_counts()"
      ]
    },
    {
      "cell_type": "markdown",
      "metadata": {
        "id": "QrFUMBQYek2x"
      },
      "source": [
        "Datset is Highly Imbalanced !!\n",
        "\n",
        "https://machinelearningmastery.com/random-oversampling-and-undersampling-for-imbalanced-classification//\n"
      ]
    },
    {
      "cell_type": "code",
      "execution_count": 25,
      "metadata": {
        "colab": {
          "base_uri": "https://localhost:8080/",
          "height": 467
        },
        "id": "RH5h9t_Tdz_T",
        "outputId": "cc773bf0-44aa-4690-c84d-9b2c5c490ac8"
      },
      "outputs": [
        {
          "data": {
            "text/html": [
              "<div>\n",
              "<style scoped>\n",
              "    .dataframe tbody tr th:only-of-type {\n",
              "        vertical-align: middle;\n",
              "    }\n",
              "\n",
              "    .dataframe tbody tr th {\n",
              "        vertical-align: top;\n",
              "    }\n",
              "\n",
              "    .dataframe thead th {\n",
              "        text-align: right;\n",
              "    }\n",
              "</style>\n",
              "<table border=\"1\" class=\"dataframe\">\n",
              "  <thead>\n",
              "    <tr style=\"text-align: right;\">\n",
              "      <th></th>\n",
              "      <th>Id</th>\n",
              "      <th>ProductId</th>\n",
              "      <th>UserId</th>\n",
              "      <th>ProfileName</th>\n",
              "      <th>HelpfulnessNumerator</th>\n",
              "      <th>HelpfulnessDenominator</th>\n",
              "      <th>Score</th>\n",
              "      <th>Time</th>\n",
              "      <th>Summary</th>\n",
              "      <th>Text</th>\n",
              "    </tr>\n",
              "  </thead>\n",
              "  <tbody>\n",
              "    <tr>\n",
              "      <th>2547</th>\n",
              "      <td>2775</td>\n",
              "      <td>B00002NCJC</td>\n",
              "      <td>A13RRPGE79XFFH</td>\n",
              "      <td>reader48</td>\n",
              "      <td>0</td>\n",
              "      <td>0</td>\n",
              "      <td>1</td>\n",
              "      <td>1281052800</td>\n",
              "      <td>Flies Begone</td>\n",
              "      <td>We have used the Victor fly bait for 3 seasons.  Can't b...</td>\n",
              "    </tr>\n",
              "    <tr>\n",
              "      <th>2546</th>\n",
              "      <td>2774</td>\n",
              "      <td>B00002NCJC</td>\n",
              "      <td>A196AJHU9EASJN</td>\n",
              "      <td>Alex Chaffee</td>\n",
              "      <td>0</td>\n",
              "      <td>0</td>\n",
              "      <td>1</td>\n",
              "      <td>1282953600</td>\n",
              "      <td>thirty bucks?</td>\n",
              "      <td>Why is this $[...] when the same product is available fo...</td>\n",
              "    </tr>\n",
              "    <tr>\n",
              "      <th>1146</th>\n",
              "      <td>1245</td>\n",
              "      <td>B00002Z754</td>\n",
              "      <td>A29Z5PI9BW2PU3</td>\n",
              "      <td>Robbie</td>\n",
              "      <td>7</td>\n",
              "      <td>7</td>\n",
              "      <td>1</td>\n",
              "      <td>961718400</td>\n",
              "      <td>Great Product</td>\n",
              "      <td>This was a really good idea and the final product is out...</td>\n",
              "    </tr>\n",
              "    <tr>\n",
              "      <th>1145</th>\n",
              "      <td>1244</td>\n",
              "      <td>B00002Z754</td>\n",
              "      <td>A3B8RCEI0FXFI6</td>\n",
              "      <td>B G Chase</td>\n",
              "      <td>10</td>\n",
              "      <td>10</td>\n",
              "      <td>1</td>\n",
              "      <td>962236800</td>\n",
              "      <td>WOW Make your own 'slickers' !</td>\n",
              "      <td>I just received my shipment and could hardly wait to try...</td>\n",
              "    </tr>\n",
              "    <tr>\n",
              "      <th>8696</th>\n",
              "      <td>9527</td>\n",
              "      <td>B00005V3DC</td>\n",
              "      <td>A8KY7S48EW7LW</td>\n",
              "      <td>A. Daly \"AD\"</td>\n",
              "      <td>0</td>\n",
              "      <td>0</td>\n",
              "      <td>1</td>\n",
              "      <td>1350172800</td>\n",
              "      <td>The Best Cleansing Tea I've Ever Had</td>\n",
              "      <td>I've used this brand for years. If you're feeling clogge...</td>\n",
              "    </tr>\n",
              "  </tbody>\n",
              "</table>\n",
              "</div>"
            ],
            "text/plain": [
              "        Id  ...                                                         Text\n",
              "2547  2775  ...  We have used the Victor fly bait for 3 seasons.  Can't b...\n",
              "2546  2774  ...  Why is this $[...] when the same product is available fo...\n",
              "1146  1245  ...  This was a really good idea and the final product is out...\n",
              "1145  1244  ...  I just received my shipment and could hardly wait to try...\n",
              "8696  9527  ...  I've used this brand for years. If you're feeling clogge...\n",
              "\n",
              "[5 rows x 10 columns]"
            ]
          },
          "execution_count": 25,
          "metadata": {},
          "output_type": "execute_result"
        }
      ],
      "source": [
        "final.head()"
      ]
    },
    {
      "cell_type": "code",
      "execution_count": 26,
      "metadata": {
        "colab": {
          "base_uri": "https://localhost:8080/",
          "height": 1000
        },
        "id": "DoDYInUyd3Wj",
        "outputId": "eedbaf50-35c3-4052-98ca-7f555bb6649e"
      },
      "outputs": [
        {
          "data": {
            "text/html": [
              "<div>\n",
              "<style scoped>\n",
              "    .dataframe tbody tr th:only-of-type {\n",
              "        vertical-align: middle;\n",
              "    }\n",
              "\n",
              "    .dataframe tbody tr th {\n",
              "        vertical-align: top;\n",
              "    }\n",
              "\n",
              "    .dataframe thead th {\n",
              "        text-align: right;\n",
              "    }\n",
              "</style>\n",
              "<table border=\"1\" class=\"dataframe\">\n",
              "  <thead>\n",
              "    <tr style=\"text-align: right;\">\n",
              "      <th></th>\n",
              "      <th>index</th>\n",
              "      <th>Id</th>\n",
              "      <th>ProductId</th>\n",
              "      <th>UserId</th>\n",
              "      <th>ProfileName</th>\n",
              "      <th>HelpfulnessNumerator</th>\n",
              "      <th>HelpfulnessDenominator</th>\n",
              "      <th>Score</th>\n",
              "      <th>Time</th>\n",
              "      <th>Summary</th>\n",
              "      <th>Text</th>\n",
              "    </tr>\n",
              "  </thead>\n",
              "  <tbody>\n",
              "    <tr>\n",
              "      <th>0</th>\n",
              "      <td>2547</td>\n",
              "      <td>2775</td>\n",
              "      <td>B00002NCJC</td>\n",
              "      <td>A13RRPGE79XFFH</td>\n",
              "      <td>reader48</td>\n",
              "      <td>0</td>\n",
              "      <td>0</td>\n",
              "      <td>1</td>\n",
              "      <td>1281052800</td>\n",
              "      <td>Flies Begone</td>\n",
              "      <td>We have used the Victor fly bait for 3 seasons.  Can't b...</td>\n",
              "    </tr>\n",
              "    <tr>\n",
              "      <th>1</th>\n",
              "      <td>2546</td>\n",
              "      <td>2774</td>\n",
              "      <td>B00002NCJC</td>\n",
              "      <td>A196AJHU9EASJN</td>\n",
              "      <td>Alex Chaffee</td>\n",
              "      <td>0</td>\n",
              "      <td>0</td>\n",
              "      <td>1</td>\n",
              "      <td>1282953600</td>\n",
              "      <td>thirty bucks?</td>\n",
              "      <td>Why is this $[...] when the same product is available fo...</td>\n",
              "    </tr>\n",
              "    <tr>\n",
              "      <th>2</th>\n",
              "      <td>1146</td>\n",
              "      <td>1245</td>\n",
              "      <td>B00002Z754</td>\n",
              "      <td>A29Z5PI9BW2PU3</td>\n",
              "      <td>Robbie</td>\n",
              "      <td>7</td>\n",
              "      <td>7</td>\n",
              "      <td>1</td>\n",
              "      <td>961718400</td>\n",
              "      <td>Great Product</td>\n",
              "      <td>This was a really good idea and the final product is out...</td>\n",
              "    </tr>\n",
              "    <tr>\n",
              "      <th>3</th>\n",
              "      <td>1145</td>\n",
              "      <td>1244</td>\n",
              "      <td>B00002Z754</td>\n",
              "      <td>A3B8RCEI0FXFI6</td>\n",
              "      <td>B G Chase</td>\n",
              "      <td>10</td>\n",
              "      <td>10</td>\n",
              "      <td>1</td>\n",
              "      <td>962236800</td>\n",
              "      <td>WOW Make your own 'slickers' !</td>\n",
              "      <td>I just received my shipment and could hardly wait to try...</td>\n",
              "    </tr>\n",
              "    <tr>\n",
              "      <th>4</th>\n",
              "      <td>8696</td>\n",
              "      <td>9527</td>\n",
              "      <td>B00005V3DC</td>\n",
              "      <td>A8KY7S48EW7LW</td>\n",
              "      <td>A. Daly \"AD\"</td>\n",
              "      <td>0</td>\n",
              "      <td>0</td>\n",
              "      <td>1</td>\n",
              "      <td>1350172800</td>\n",
              "      <td>The Best Cleansing Tea I've Ever Had</td>\n",
              "      <td>I've used this brand for years. If you're feeling clogge...</td>\n",
              "    </tr>\n",
              "    <tr>\n",
              "      <th>...</th>\n",
              "      <td>...</td>\n",
              "      <td>...</td>\n",
              "      <td>...</td>\n",
              "      <td>...</td>\n",
              "      <td>...</td>\n",
              "      <td>...</td>\n",
              "      <td>...</td>\n",
              "      <td>...</td>\n",
              "      <td>...</td>\n",
              "      <td>...</td>\n",
              "      <td>...</td>\n",
              "    </tr>\n",
              "    <tr>\n",
              "      <th>19349</th>\n",
              "      <td>11590</td>\n",
              "      <td>12621</td>\n",
              "      <td>B009KP6HBM</td>\n",
              "      <td>A3UCO959VA9MV</td>\n",
              "      <td>Maryann Wardach</td>\n",
              "      <td>0</td>\n",
              "      <td>0</td>\n",
              "      <td>1</td>\n",
              "      <td>1299024000</td>\n",
              "      <td>cappucino t-discs</td>\n",
              "      <td>Some product work needs to be done on the discs. I have ...</td>\n",
              "    </tr>\n",
              "    <tr>\n",
              "      <th>19350</th>\n",
              "      <td>11588</td>\n",
              "      <td>12619</td>\n",
              "      <td>B009KP6HBM</td>\n",
              "      <td>A20NB4UBW4WDKG</td>\n",
              "      <td>Gerardo \"GD\"</td>\n",
              "      <td>1</td>\n",
              "      <td>1</td>\n",
              "      <td>1</td>\n",
              "      <td>1293321600</td>\n",
              "      <td>Coffe shop quality capuccino at home</td>\n",
              "      <td>I love coffee. Usually I would not recommend Maxwell Hou...</td>\n",
              "    </tr>\n",
              "    <tr>\n",
              "      <th>19351</th>\n",
              "      <td>11589</td>\n",
              "      <td>12620</td>\n",
              "      <td>B009KP6HBM</td>\n",
              "      <td>A3D9NUCR4RXDPY</td>\n",
              "      <td>Kathleen San Martino</td>\n",
              "      <td>1</td>\n",
              "      <td>1</td>\n",
              "      <td>1</td>\n",
              "      <td>1292544000</td>\n",
              "      <td>Very,Very Good</td>\n",
              "      <td>This cappuccino is very good and tastes almost as good a...</td>\n",
              "    </tr>\n",
              "    <tr>\n",
              "      <th>19352</th>\n",
              "      <td>1362</td>\n",
              "      <td>1478</td>\n",
              "      <td>B009UOFU20</td>\n",
              "      <td>AJVB004EB0MVK</td>\n",
              "      <td>D. Christofferson</td>\n",
              "      <td>0</td>\n",
              "      <td>0</td>\n",
              "      <td>0</td>\n",
              "      <td>1345852800</td>\n",
              "      <td>weak coffee not good for a premium product and price</td>\n",
              "      <td>This coffee supposedly is premium, it tastes watery--ver...</td>\n",
              "    </tr>\n",
              "    <tr>\n",
              "      <th>19353</th>\n",
              "      <td>5259</td>\n",
              "      <td>5703</td>\n",
              "      <td>B009WSNWC4</td>\n",
              "      <td>AMP7K1O84DH1T</td>\n",
              "      <td>ESTY</td>\n",
              "      <td>0</td>\n",
              "      <td>0</td>\n",
              "      <td>1</td>\n",
              "      <td>1351209600</td>\n",
              "      <td>DELICIOUS</td>\n",
              "      <td>Purchased this product at a local store in NY and my kid...</td>\n",
              "    </tr>\n",
              "  </tbody>\n",
              "</table>\n",
              "<p>19354 rows × 11 columns</p>\n",
              "</div>"
            ],
            "text/plain": [
              "       index  ...                                                         Text\n",
              "0       2547  ...  We have used the Victor fly bait for 3 seasons.  Can't b...\n",
              "1       2546  ...  Why is this $[...] when the same product is available fo...\n",
              "2       1146  ...  This was a really good idea and the final product is out...\n",
              "3       1145  ...  I just received my shipment and could hardly wait to try...\n",
              "4       8696  ...  I've used this brand for years. If you're feeling clogge...\n",
              "...      ...  ...                                                          ...\n",
              "19349  11590  ...  Some product work needs to be done on the discs. I have ...\n",
              "19350  11588  ...  I love coffee. Usually I would not recommend Maxwell Hou...\n",
              "19351  11589  ...  This cappuccino is very good and tastes almost as good a...\n",
              "19352   1362  ...  This coffee supposedly is premium, it tastes watery--ver...\n",
              "19353   5259  ...  Purchased this product at a local store in NY and my kid...\n",
              "\n",
              "[19354 rows x 11 columns]"
            ]
          },
          "execution_count": 26,
          "metadata": {},
          "output_type": "execute_result"
        }
      ],
      "source": [
        "final.reset_index()"
      ]
    },
    {
      "cell_type": "markdown",
      "metadata": {
        "id": "RxBsuBylCAZr"
      },
      "source": [
        "# [3].  Text Preprocessing.\n",
        "\n",
        "Now that we have finished deduplication our data requires some preprocessing before we go on further with analysis and making the prediction model.\n",
        "\n",
        "Hence in the Preprocessing phase we do the following in the order below:-\n",
        "\n",
        "1. Begin by removing the html tags\n",
        "2. Remove any punctuations or limited set of special characters like , or . or # etc.\n",
        "3. Check if the word is made up of english letters and is not alpha-numeric\n",
        "4. Check to see if the length of the word is greater than 2 (as it was researched that there is no adjective in 2-letters)\n",
        "5. Convert the word to lowercase\n",
        "6. Remove Stopwords\n",
        "7. Finally Snowball Stemming the word (it was obsereved to be better than Porter Stemming)<br>\n",
        "\n",
        "After which we collect the words used to describe positive and negative reviews"
      ]
    },
    {
      "cell_type": "code",
      "execution_count": 27,
      "metadata": {
        "colab": {
          "base_uri": "https://localhost:8080/"
        },
        "id": "QxCSbeOKnhMd",
        "outputId": "429c4d9c-61ec-4898-8dd2-d891a8d45c5e"
      },
      "outputs": [
        {
          "data": {
            "text/plain": [
              "2547    We have used the Victor fly bait for 3 seasons.  Can't b...\n",
              "2546    Why is this $[...] when the same product is available fo...\n",
              "1146    This was a really good idea and the final product is out...\n",
              "1145    I just received my shipment and could hardly wait to try...\n",
              "8696    I've used this brand for years. If you're feeling clogge...\n",
              "Name: Text, dtype: object"
            ]
          },
          "execution_count": 27,
          "metadata": {},
          "output_type": "execute_result"
        }
      ],
      "source": [
        "Text = final['Text']\n",
        "Text.head()"
      ]
    },
    {
      "cell_type": "code",
      "execution_count": 28,
      "metadata": {
        "id": "lNHWbzBaCAZ3"
      },
      "outputs": [],
      "source": [
        "\n",
        "# https://stackoverflow.com/a/47091490/4084039\n",
        "import re\n",
        "\n",
        "def decontracted(phrase):\n",
        "    # specific\n",
        "    phrase = re.sub(r\"won't\", \"will not\", phrase)\n",
        "    phrase = re.sub(r\"can\\'t\", \"can not\", phrase)\n",
        "\n",
        "    # general\n",
        "    phrase = re.sub(r\"n\\'t\", \" not\", phrase)\n",
        "    phrase = re.sub(r\"\\'re\", \" are\", phrase)\n",
        "    phrase = re.sub(r\"\\'s\", \" is\", phrase)\n",
        "    phrase = re.sub(r\"\\'d\", \" would\", phrase)\n",
        "    phrase = re.sub(r\"\\'ll\", \" will\", phrase)\n",
        "    phrase = re.sub(r\"\\'t\", \" not\", phrase)\n",
        "    phrase = re.sub(r\"\\'ve\", \" have\", phrase)\n",
        "    phrase = re.sub(r\"\\'m\", \" am\", phrase)\n",
        "    return phrase"
      ]
    },
    {
      "cell_type": "code",
      "execution_count": 29,
      "metadata": {
        "id": "Xsr4xHkJCAaA"
      },
      "outputs": [],
      "source": [
        "# https://gist.github.com/sebleier/554280\n",
        "# we are removing the words from the stop words list: 'no', 'nor', 'not'\n",
        "# <br /><br /> ==> after the above steps, we are getting \"br br\"\n",
        "# we are including them into stop words list\n",
        "# instead of <br /> if we have <br/> these tags would have revmoved in the 1st step\n",
        "\n",
        "stopwords= set(['br', 'the', 'i', 'me', 'my', 'myself', 'we', 'our', 'ours', 'ourselves', 'you', \"you're\", \"you've\",\\\n",
        "            \"you'll\", \"you'd\", 'your', 'yours', 'yourself', 'yourselves', 'he', 'him', 'his', 'himself', \\\n",
        "            'she', \"she's\", 'her', 'hers', 'herself', 'it', \"it's\", 'its', 'itself', 'they', 'them', 'their',\\\n",
        "            'theirs', 'themselves', 'what', 'which', 'who', 'whom', 'this', 'that', \"that'll\", 'these', 'those', \\\n",
        "            'am', 'is', 'are', 'was', 'were', 'be', 'been', 'being', 'have', 'has', 'had', 'having', 'do', 'does', \\\n",
        "            'did', 'doing', 'a', 'an', 'the', 'and', 'but', 'if', 'or', 'because', 'as', 'until', 'while', 'of', \\\n",
        "            'at', 'by', 'for', 'with', 'about', 'against', 'between', 'into', 'through', 'during', 'before', 'after',\\\n",
        "            'above', 'below', 'to', 'from', 'up', 'down', 'in', 'out', 'on', 'off', 'over', 'under', 'again', 'further',\\\n",
        "            'then', 'once', 'here', 'there', 'when', 'where', 'why', 'how', 'all', 'any', 'both', 'each', 'few', 'more',\\\n",
        "            'most', 'other', 'some', 'such', 'only', 'own', 'same', 'so', 'than', 'too', 'very', \\\n",
        "            's', 't', 'can', 'will', 'just', 'don', \"don't\", 'should', \"should've\", 'now', 'd', 'll', 'm', 'o', 're', \\\n",
        "            've', 'y', 'ain', 'aren', \"aren't\", 'couldn', \"couldn't\", 'didn', \"didn't\", 'doesn', \"doesn't\", 'hadn',\\\n",
        "            \"hadn't\", 'hasn', \"hasn't\", 'haven', \"haven't\", 'isn', \"isn't\", 'ma', 'mightn', \"mightn't\", 'mustn',\\\n",
        "            \"mustn't\", 'needn', \"needn't\", 'shan', \"shan't\", 'shouldn', \"shouldn't\", 'wasn', \"wasn't\", 'weren', \"weren't\", \\\n",
        "            'won', \"won't\", 'wouldn', \"wouldn't\"])"
      ]
    },
    {
      "cell_type": "code",
      "execution_count": 30,
      "metadata": {
        "id": "MgsJ09NpCAaB"
      },
      "outputs": [],
      "source": [
        "from tqdm import tqdm\n",
        "from bs4 import BeautifulSoup\n",
        "\n",
        "def preprocessing_data(Text):\n",
        "    preprocessed_text = []\n",
        "    # tqdm is for printing the status bar\n",
        "    for sentence in tqdm(Text.values):\n",
        "        sentence = re.sub(r\"http\\S+\", \"\", sentence)\n",
        "        sentence = BeautifulSoup(sentence, 'lxml').get_text()\n",
        "        sentence = decontracted(sentence)\n",
        "        sentence = re.sub(\"\\S*\\d\\S*\", \"\", sentence).strip()\n",
        "        sentence = re.sub('[^A-Za-z]+', ' ', sentence) # anything not a word will be removed.\n",
        "        # https://gist.github.com/sebleier/554280\n",
        "        sentence = ' '.join(e.lower() for e in sentence.split() if e.lower() not in stopwords)\n",
        "        preprocessed_text.append(sentence.strip())\n",
        "    return preprocessed_text"
      ]
    },
    {
      "cell_type": "code",
      "execution_count": 31,
      "metadata": {
        "colab": {
          "base_uri": "https://localhost:8080/"
        },
        "id": "xhEa1pB9aSNB",
        "outputId": "433d50d8-003f-4109-c75b-7aa34dcd98d3"
      },
      "outputs": [
        {
          "name": "stdout",
          "output_type": "stream",
          "text": [
            "CPU times: user 3 µs, sys: 1 µs, total: 4 µs\n",
            "Wall time: 7.63 µs\n"
          ]
        },
        {
          "name": "stderr",
          "output_type": "stream",
          "text": [
            "100%|██████████| 19354/19354 [00:07<00:00, 2740.50it/s]\n"
          ]
        }
      ],
      "source": [
        "%time\n",
        "preprocessed_reviews = []\n",
        "preprocessed_reviews = preprocessing_data(final['Text'])\n"
      ]
    },
    {
      "cell_type": "markdown",
      "metadata": {
        "id": "VZDkCw-uPgi8"
      },
      "source": [
        "<h3> Modeling"
      ]
    },
    {
      "cell_type": "code",
      "execution_count": 32,
      "metadata": {
        "colab": {
          "base_uri": "https://localhost:8080/"
        },
        "id": "MmwnD7Dtxcnr",
        "outputId": "5377162f-71e2-4caa-cf90-c03c8b0a57c5"
      },
      "outputs": [
        {
          "data": {
            "text/plain": [
              "1    16339\n",
              "0     3015\n",
              "Name: Score, dtype: int64"
            ]
          },
          "execution_count": 32,
          "metadata": {},
          "output_type": "execute_result"
        }
      ],
      "source": [
        "final['Score'].value_counts() # dataset is highly imbalanced so some of the metrics(like accuracy) may not be good for evaluation"
      ]
    },
    {
      "cell_type": "code",
      "execution_count": 33,
      "metadata": {
        "colab": {
          "base_uri": "https://localhost:8080/"
        },
        "id": "1cpZ0i1VKGfW",
        "outputId": "03334fee-529d-4ff4-91ea-ed43cc2b7e47"
      },
      "outputs": [
        {
          "name": "stdout",
          "output_type": "stream",
          "text": [
            "<class 'list'>\n"
          ]
        },
        {
          "data": {
            "text/plain": [
              "19354"
            ]
          },
          "execution_count": 33,
          "metadata": {},
          "output_type": "execute_result"
        }
      ],
      "source": [
        "print(type(preprocessed_reviews))\n",
        "len(preprocessed_reviews)"
      ]
    },
    {
      "cell_type": "code",
      "execution_count": 34,
      "metadata": {
        "colab": {
          "base_uri": "https://localhost:8080/"
        },
        "id": "F60nJJZPLIxW",
        "outputId": "805a6b48-8958-4e5a-db42-da81fd7e8509"
      },
      "outputs": [
        {
          "name": "stdout",
          "output_type": "stream",
          "text": [
            "<class 'pandas.core.series.Series'>\n",
            "<class 'numpy.ndarray'> <class 'numpy.ndarray'>\n"
          ]
        }
      ],
      "source": [
        "print(type(final['Score']) )\n",
        "\n",
        "X = np.array(preprocessed_reviews)\n",
        "y = np.array(final.Score)\n",
        "print(type(X),type(y))"
      ]
    },
    {
      "cell_type": "markdown",
      "metadata": {
        "id": "binpWBVNOYgn"
      },
      "source": [
        "https://stackoverflow.com/questions/34842405/parameter-stratify-from-method-train-test-split-scikit-learn"
      ]
    },
    {
      "cell_type": "code",
      "execution_count": 139,
      "metadata": {
        "id": "f0ifONkNL8mA"
      },
      "outputs": [],
      "source": [
        "from sklearn.model_selection import train_test_split\n",
        "\n",
        "X_train, X_test, Y_train, Y_test = train_test_split(X,y,test_size = 0.33,random_state=42,stratify=y)"
      ]
    },
    {
      "cell_type": "code",
      "execution_count": 140,
      "metadata": {
        "colab": {
          "base_uri": "https://localhost:8080/"
        },
        "id": "__zyQbEkNmYi",
        "outputId": "3113732c-db89-4233-d12e-4feb83c4d3e5"
      },
      "outputs": [
        {
          "name": "stdout",
          "output_type": "stream",
          "text": [
            "size of X_train =  12967 <class 'numpy.ndarray'>\n",
            "size of X_test  =  6387 <class 'numpy.ndarray'>\n",
            "size of Y_train =  12967 <class 'numpy.ndarray'>\n",
            "size of Y_test  =  6387 <class 'numpy.ndarray'>\n"
          ]
        }
      ],
      "source": [
        "print(\"size of X_train = \",len(X_train),type(X_train))\n",
        "print(\"size of X_test  = \",len(X_test), type(X_test))\n",
        "print(\"size of Y_train = \",len(Y_train),type(Y_train))\n",
        "print(\"size of Y_test  = \",len(Y_test), type(Y_test))"
      ]
    },
    {
      "cell_type": "markdown",
      "metadata": {
        "id": "y81UDvs9Oena"
      },
      "source": [
        "<h3> Cross Validation"
      ]
    },
    {
      "cell_type": "code",
      "execution_count": 141,
      "metadata": {
        "id": "K-sKAbZGN60D"
      },
      "outputs": [],
      "source": [
        "X_train,X_cv,Y_train,Y_cv = train_test_split(X_train,Y_train,test_size = 0.33,random_state=42,stratify = Y_train) "
      ]
    },
    {
      "cell_type": "code",
      "execution_count": 142,
      "metadata": {
        "colab": {
          "base_uri": "https://localhost:8080/"
        },
        "id": "_pu7A0VMPl-3",
        "outputId": "b1cc05f6-29a5-4d76-d483-118fa7ed9d0e"
      },
      "outputs": [
        {
          "name": "stdout",
          "output_type": "stream",
          "text": [
            "size of X_train =  8687 <class 'numpy.ndarray'>\n",
            "size of X_cv    =  4280 <class 'numpy.ndarray'>\n",
            "size of Y_train =  8687 <class 'numpy.ndarray'>\n",
            "size of Y_cv    =  4280 <class 'numpy.ndarray'>\n"
          ]
        }
      ],
      "source": [
        "print(\"size of X_train = \",len(X_train),type(X_train))\n",
        "print(\"size of X_cv    = \",len(X_cv),   type(X_cv))\n",
        "print(\"size of Y_train = \",len(Y_train),type(Y_train))\n",
        "print(\"size of Y_cv    = \",len(Y_cv),   type(Y_cv))"
      ]
    },
    {
      "cell_type": "code",
      "execution_count": 143,
      "metadata": {
        "colab": {
          "base_uri": "https://localhost:8080/",
          "height": 53
        },
        "id": "nafx7qT_QU3r",
        "outputId": "96002590-c803-4a35-c3ad-bc69864a6c35"
      },
      "outputs": [
        {
          "data": {
            "application/vnd.google.colaboratory.intrinsic+json": {
              "type": "string"
            },
            "text/plain": [
              "'eating regular spicy several years definitely superior non microwave kind shake bag directed make sure not stacked put popcorn setting microwave soooo good'"
            ]
          },
          "execution_count": 143,
          "metadata": {},
          "output_type": "execute_result"
        }
      ],
      "source": [
        "X_train[5]"
      ]
    },
    {
      "cell_type": "markdown",
      "metadata": {
        "id": "k06v0gYWQFd9"
      },
      "source": [
        "##  BOW (Unigram) \n",
        "\n",
        "https://github.com/scikit-learn/scikit-learn/blob/0d378913b/sklearn/feature_extraction/text.py#L884"
      ]
    },
    {
      "cell_type": "code",
      "execution_count": 102,
      "metadata": {
        "id": "3mkUiApUPzdz"
      },
      "outputs": [],
      "source": [
        "from sklearn.feature_extraction.text import CountVectorizer\n",
        "\n",
        "vectorizer = CountVectorizer(max_features=5000)\n",
        "\n",
        "vectorizer.fit(X_train) # fitting on the training data,building the vocabulary and stuff.\n",
        "\n",
        "BOW_X_train = vectorizer.transform(X_train) \n",
        "BOW_X_cv    = vectorizer.transform(X_cv)\n",
        "BOW_X_test  = vectorizer.transform(X_test)"
      ]
    },
    {
      "cell_type": "code",
      "execution_count": 103,
      "metadata": {
        "colab": {
          "base_uri": "https://localhost:8080/"
        },
        "id": "h_BPraUTQIY3",
        "outputId": "75941768-3c99-4d78-f390-5497c64949e1"
      },
      "outputs": [
        {
          "name": "stdout",
          "output_type": "stream",
          "text": [
            "some feature names:-- ['ability', 'able', 'absolute', 'absolutely', 'absorb', 'absorbed', 'acai', 'accept', 'acceptable', 'access']\n",
            "BOW_X_train (8687, 5000)\n",
            "BOW_X_cv    (4280, 5000)\n",
            "BOW_X_test  (6387, 5000)\n",
            "<class 'scipy.sparse.csr.csr_matrix'>\n"
          ]
        }
      ],
      "source": [
        "print(\"some feature names:--\",vectorizer.get_feature_names()[:10])\n",
        "\n",
        "print(\"BOW_X_train\",BOW_X_train.shape)\n",
        "print(\"BOW_X_cv   \",BOW_X_cv.shape)\n",
        "print(\"BOW_X_test \",BOW_X_test.shape)\n",
        "\n",
        "print(type(BOW_X_train))"
      ]
    },
    {
      "cell_type": "code",
      "execution_count": 104,
      "metadata": {
        "colab": {
          "base_uri": "https://localhost:8080/"
        },
        "id": "WqhlpYoQoClB",
        "outputId": "3413b049-cd41-4923-e060-c7670d379429"
      },
      "outputs": [
        {
          "name": "stdout",
          "output_type": "stream",
          "text": [
            "Y_train (8687,)\n",
            "Y_cv    (4280,)\n",
            "Y_test (6387,)\n"
          ]
        }
      ],
      "source": [
        "print(\"Y_train\",Y_train.shape)\n",
        "print(\"Y_cv   \",Y_cv.shape)\n",
        "print(\"Y_test\",Y_test.shape)"
      ]
    },
    {
      "cell_type": "code",
      "execution_count": 105,
      "metadata": {
        "colab": {
          "base_uri": "https://localhost:8080/"
        },
        "id": "sS1a_vbkkzx_",
        "outputId": "f22a1786-af8b-404a-d96d-27761b53c122"
      },
      "outputs": [
        {
          "name": "stdout",
          "output_type": "stream",
          "text": [
            "Counter({1: 7334, 0: 1353})\n",
            "Counter({1: 7334, 0: 1353})\n"
          ]
        }
      ],
      "source": [
        "from imblearn.over_sampling import SMOTE\n",
        "from collections import Counter\n",
        "\n",
        "print(Counter(Y_train))\n",
        "\n",
        "# oversample = SMOTE()\n",
        "# BOW_X_train, Y_train = oversample.fit_resample(BOW_X_train, Y_train)\n",
        "\n",
        "print(Counter(Y_train))"
      ]
    },
    {
      "cell_type": "markdown",
      "metadata": {
        "id": "cYj-TuEZVPhv"
      },
      "source": [
        "<h3> KNN on BOW"
      ]
    },
    {
      "cell_type": "markdown",
      "metadata": {
        "id": "mSmApourlapj"
      },
      "source": [
        "https://scikit-learn.org/stable/modules/generated/sklearn.neighbors.KNeighborsClassifier.html\n",
        "\n",
        "https://scikit-learn.org/stable/modules/generated/sklearn.metrics.accuracy_score.html\n",
        "\n",
        "https://scikit-learn.org/stable/modules/generated/sklearn.metrics.f1_score.html"
      ]
    },
    {
      "cell_type": "code",
      "execution_count": 117,
      "metadata": {
        "colab": {
          "base_uri": "https://localhost:8080/"
        },
        "id": "gVzV-AWWUPEW",
        "outputId": "e0af9e19-b46e-4f4d-858f-1bc9d921c4a4"
      },
      "outputs": [
        {
          "name": "stdout",
          "output_type": "stream",
          "text": [
            "CPU times: user 3 µs, sys: 0 ns, total: 3 µs\n",
            "Wall time: 5.96 µs\n"
          ]
        },
        {
          "name": "stderr",
          "output_type": "stream",
          "text": [
            " 10%|█         | 1/10 [00:02<00:23,  2.65s/it]"
          ]
        },
        {
          "name": "stdout",
          "output_type": "stream",
          "text": [
            "------------------------------------------------------------------------------------------\n",
            "for K =  1\n",
            "Accuracy         =  79.29906542056074\n",
            "Precision_score  =  89.0\n",
            "Recall_score     =  86.0\n",
            "f1 Score         =  88.0\n",
            "\n",
            "\n"
          ]
        },
        {
          "name": "stderr",
          "output_type": "stream",
          "text": [
            "\r 20%|██        | 2/10 [00:05<00:23,  2.89s/it]"
          ]
        },
        {
          "name": "stdout",
          "output_type": "stream",
          "text": [
            "------------------------------------------------------------------------------------------\n",
            "for K =  9\n",
            "Accuracy         =  84.53271028037383\n",
            "Precision_score  =  88.0\n",
            "Recall_score     =  94.0\n",
            "f1 Score         =  91.0\n",
            "\n",
            "\n"
          ]
        },
        {
          "name": "stderr",
          "output_type": "stream",
          "text": [
            "\r 30%|███       | 3/10 [00:08<00:20,  2.96s/it]"
          ]
        },
        {
          "name": "stdout",
          "output_type": "stream",
          "text": [
            "------------------------------------------------------------------------------------------\n",
            "for K =  17\n",
            "Accuracy         =  84.88317757009347\n",
            "Precision_score  =  87.0\n",
            "Recall_score     =  96.0\n",
            "f1 Score         =  91.0\n",
            "\n",
            "\n"
          ]
        },
        {
          "name": "stderr",
          "output_type": "stream",
          "text": [
            "\r 40%|████      | 4/10 [00:11<00:18,  3.00s/it]"
          ]
        },
        {
          "name": "stdout",
          "output_type": "stream",
          "text": [
            "------------------------------------------------------------------------------------------\n",
            "for K =  25\n",
            "Accuracy         =  85.37383177570094\n",
            "Precision_score  =  87.0\n",
            "Recall_score     =  97.0\n",
            "f1 Score         =  92.0\n",
            "\n",
            "\n"
          ]
        },
        {
          "name": "stderr",
          "output_type": "stream",
          "text": [
            "\r 50%|█████     | 5/10 [00:14<00:15,  3.03s/it]"
          ]
        },
        {
          "name": "stdout",
          "output_type": "stream",
          "text": [
            "------------------------------------------------------------------------------------------\n",
            "for K =  33\n",
            "Accuracy         =  85.49065420560747\n",
            "Precision_score  =  87.0\n",
            "Recall_score     =  98.0\n",
            "f1 Score         =  92.0\n",
            "\n",
            "\n"
          ]
        },
        {
          "name": "stderr",
          "output_type": "stream",
          "text": [
            "\r 60%|██████    | 6/10 [00:17<00:12,  3.04s/it]"
          ]
        },
        {
          "name": "stdout",
          "output_type": "stream",
          "text": [
            "------------------------------------------------------------------------------------------\n",
            "for K =  41\n",
            "Accuracy         =  85.63084112149532\n",
            "Precision_score  =  87.0\n",
            "Recall_score     =  98.0\n",
            "f1 Score         =  92.0\n",
            "\n",
            "\n"
          ]
        },
        {
          "name": "stderr",
          "output_type": "stream",
          "text": [
            "\r 70%|███████   | 7/10 [00:21<00:09,  3.06s/it]"
          ]
        },
        {
          "name": "stdout",
          "output_type": "stream",
          "text": [
            "------------------------------------------------------------------------------------------\n",
            "for K =  49\n",
            "Accuracy         =  85.46728971962617\n",
            "Precision_score  =  86.0\n",
            "Recall_score     =  98.0\n",
            "f1 Score         =  92.0\n",
            "\n",
            "\n"
          ]
        },
        {
          "name": "stderr",
          "output_type": "stream",
          "text": [
            "\r 80%|████████  | 8/10 [00:24<00:06,  3.08s/it]"
          ]
        },
        {
          "name": "stdout",
          "output_type": "stream",
          "text": [
            "------------------------------------------------------------------------------------------\n",
            "for K =  57\n",
            "Accuracy         =  85.53738317757009\n",
            "Precision_score  =  86.0\n",
            "Recall_score     =  99.0\n",
            "f1 Score         =  92.0\n",
            "\n",
            "\n"
          ]
        },
        {
          "name": "stderr",
          "output_type": "stream",
          "text": [
            "\r 90%|█████████ | 9/10 [00:27<00:03,  3.08s/it]"
          ]
        },
        {
          "name": "stdout",
          "output_type": "stream",
          "text": [
            "------------------------------------------------------------------------------------------\n",
            "for K =  65\n",
            "Accuracy         =  85.60747663551402\n",
            "Precision_score  =  86.0\n",
            "Recall_score     =  99.0\n",
            "f1 Score         =  92.0\n",
            "\n",
            "\n"
          ]
        },
        {
          "name": "stderr",
          "output_type": "stream",
          "text": [
            "100%|██████████| 10/10 [00:30<00:00,  3.04s/it]"
          ]
        },
        {
          "name": "stdout",
          "output_type": "stream",
          "text": [
            "------------------------------------------------------------------------------------------\n",
            "for K =  73\n",
            "Accuracy         =  85.74766355140187\n",
            "Precision_score  =  86.0\n",
            "Recall_score     =  99.0\n",
            "f1 Score         =  92.0\n",
            "\n",
            "\n"
          ]
        },
        {
          "name": "stderr",
          "output_type": "stream",
          "text": [
            "\n"
          ]
        }
      ],
      "source": [
        "%time\n",
        "from sklearn.neighbors import KNeighborsClassifier\n",
        "from sklearn.metrics import   accuracy_score\n",
        "from sklearn.metrics import   precision_score\n",
        "from sklearn.metrics import   recall_score\n",
        "from sklearn.metrics import   f1_score\n",
        "\n",
        "accuracy_list  = []\n",
        "precision_list = []\n",
        "recall_list    = []\n",
        "f1_Score_list  = []\n",
        "k_list         = []\n",
        "\n",
        "for i in tqdm(range(1,80,8)):\n",
        "\n",
        "  knn = KNeighborsClassifier(n_neighbors = i, algorithm = 'brute',n_jobs = -1,metric = 'cosine')\n",
        "  \n",
        "  knn.fit(BOW_X_train,Y_train) # fitting the model in BOW training data\n",
        "  pred = knn.predict(BOW_X_cv) # predicting the labels of cross validation data\n",
        "\n",
        "    \n",
        "  accuracy  = accuracy_score(Y_cv,pred)*100\n",
        "  precision = np.round(precision_score(Y_cv,pred,average = 'binary')*100)\n",
        "  recall    = np.round(recall_score(Y_cv,pred,average = 'binary')*100) \n",
        "  f1_Score  = np.round( f1_score(Y_cv,pred,average = 'binary')*100) \n",
        "  \n",
        "  accuracy_list.append(accuracy)\n",
        "  precision_list.append(precision)\n",
        "  recall_list.append(recall)\n",
        "  f1_Score_list.append(f1_Score)\n",
        "  k_list.append(i)\n",
        "  \n",
        "  \n",
        "  print(\"---\"*30)\n",
        "  print(\"for K = \",i)\n",
        "  \n",
        "  print(\"Accuracy         = \",accuracy)\n",
        "  print(\"Precision_score  = \",precision)\n",
        "  print(\"Recall_score     = \",recall)\n",
        "  print(\"f1 Score         = \",f1_Score)\n",
        "  print(\"\\n\")\n"
      ]
    },
    {
      "cell_type": "code",
      "execution_count": 109,
      "metadata": {
        "colab": {
          "base_uri": "https://localhost:8080/",
          "height": 623
        },
        "id": "S5i_Q7bkhQ3h",
        "outputId": "31c68faa-8c47-487b-ac8d-e1993bf437af"
      },
      "outputs": [
        {
          "data": {
            "text/plain": [
              "Text(0, 0.5, 'f1_Score')"
            ]
          },
          "execution_count": 109,
          "metadata": {},
          "output_type": "execute_result"
        },
        {
          "data": {
            "image/png": "[encoded data removed]",
            "text/plain": [
              "<Figure size 864x720 with 4 Axes>"
            ]
          },
          "metadata": {
            "needs_background": "light"
          },
          "output_type": "display_data"
        }
      ],
      "source": [
        "plt.figure( figsize = (12,10) )\n",
        "\n",
        "plt.subplot(2,2,1)\n",
        "plt.plot(k_list,accuracy_list,'go-')\n",
        "plt.xlabel(\"K\")\n",
        "plt.ylabel(\"Accuracy\")\n",
        "\n",
        "plt.subplot(2,2,2)\n",
        "plt.plot(k_list,precision_list,'bo-')\n",
        "plt.xlabel(\"K\")\n",
        "plt.ylabel(\"Precision\")\n",
        "\n",
        "plt.subplot(2,2,3)\n",
        "plt.plot(k_list,recall_list,'ro-')\n",
        "plt.xlabel(\"K\")\n",
        "plt.ylabel(\"Recall\")\n",
        "\n",
        "plt.subplot(2,2,4)\n",
        "plt.plot(k_list,f1_Score_list)\n",
        "plt.xlabel(\"K\")\n",
        "plt.ylabel(\"f1_Score\")"
      ]
    },
    {
      "cell_type": "markdown",
      "metadata": {
        "id": "zxku1Yt-EAbI"
      },
      "source": [
        "any k above 40 is good according to accuracy(but datset is imbalanced so more K will favour positive class and hence higher accuracy)\n",
        "\n",
        "k below 40 is good according to precision (more K will eventually leads to constant precision meaning all points predicted are positive )\n",
        "\n",
        "k above 45 has stable recall \n",
        "\n",
        "k above 30 is giving the best f1 score"
      ]
    },
    {
      "cell_type": "markdown",
      "metadata": {
        "id": "g44ksQhV0Bpk"
      },
      "source": [
        "ROC is prefered as the scoring metric over the precision and the recall for cross validation \n",
        "\n",
        "https://machinelearningmastery.com/roc-curves-and-precision-recall-curves-for-imbalanced-classification/\n",
        "\n",
        "\n",
        "AUC and ROC are used only in Binary class classification problems\n",
        "\n",
        "For Imbalanced Data set AUC can be high for even Dumb Model ."
      ]
    },
    {
      "cell_type": "code",
      "execution_count": 119,
      "metadata": {
        "colab": {
          "base_uri": "https://localhost:8080/",
          "height": 456
        },
        "id": "Y-nThsE4lRMG",
        "outputId": "3cefb4bc-c22c-402e-b5e0-95ccf03fcc88"
      },
      "outputs": [
        {
          "name": "stdout",
          "output_type": "stream",
          "text": [
            "CPU times: user 3 µs, sys: 0 ns, total: 3 µs\n",
            "Wall time: 6.68 µs\n"
          ]
        },
        {
          "name": "stderr",
          "output_type": "stream",
          "text": [
            "100%|██████████| 12/12 [01:40<00:00,  8.41s/it]\n"
          ]
        },
        {
          "data": {
            "image/png": "[encoded data removed]",
            "text/plain": [
              "<Figure size 720x432 with 1 Axes>"
            ]
          },
          "metadata": {
            "needs_background": "light"
          },
          "output_type": "display_data"
        }
      ],
      "source": [
        "%time\n",
        "from sklearn.metrics import roc_auc_score\n",
        "from sklearn.neighbors import KNeighborsClassifier\n",
        "\n",
        "auc_cv    = []\n",
        "auc_train = []\n",
        "k         = list(range(1,85,7) )\n",
        "\n",
        "for i in tqdm(range(1,85,7)):\n",
        "\n",
        "  knn = KNeighborsClassifier(n_neighbors = i, algorithm = 'brute',n_jobs = -1,metric = 'cosine')\n",
        "\n",
        "  knn.fit(BOW_X_train,Y_train)\n",
        "  y_hat = knn.predict_proba(BOW_X_cv) # predict probabilities.\n",
        "  pos_prob = y_hat[:,1]               # selecting probabilities of positive class only.\n",
        "  auc_cv.append(roc_auc_score(Y_cv,pos_prob))\n",
        "\n",
        "  y_hat = knn.predict_proba(BOW_X_train)\n",
        "  pos_prob = y_hat[:,1]\n",
        "  auc_train.append(roc_auc_score(Y_train,pos_prob)) # appending the auc_score of different K for training data.\n",
        "\n",
        "\n",
        "plt.figure( figsize = (10,6) )\n",
        "\n",
        "plt.plot(k,auc_train,label = \"AUC Train\")\n",
        "plt.scatter(k,auc_train,label = \"AUC Train\")\n",
        "\n",
        "plt.plot(k,auc_cv,label = 'AUC Cv')\n",
        "plt.scatter(k,auc_cv,label = 'AUC Cv')\n",
        "\n",
        "plt.title(\"AUC vs K\")\n",
        "plt.xlabel('K')\n",
        "plt.ylabel('AUC')\n",
        "plt.legend() \n",
        "\n",
        "plt.show()"
      ]
    },
    {
      "cell_type": "markdown",
      "metadata": {
        "id": "VzHpjlEDG4QL"
      },
      "source": [
        "* so on the basis of AUC, 50 <= K <= 100 (after 100 both blue and orange lines \n",
        "started declining ) is the  optimal k and on the basis of f1 score optimal k \n",
        "\n",
        "* should be around 27 for 5k dataset points\n",
        "\n",
        "* for 10k dataset points Optimal K according to AUC is 50 to 60"
      ]
    },
    {
      "cell_type": "code",
      "execution_count": 120,
      "metadata": {
        "colab": {
          "base_uri": "https://localhost:8080/",
          "height": 548
        },
        "id": "2sY3zk4xqZtD",
        "outputId": "b0d9368b-9f5a-465b-cf7e-41e1d7c96373"
      },
      "outputs": [
        {
          "name": "stdout",
          "output_type": "stream",
          "text": [
            "CPU times: user 4 µs, sys: 0 ns, total: 4 µs\n",
            "Wall time: 7.15 µs\n"
          ]
        },
        {
          "data": {
            "image/png": "[encoded data removed]",
            "text/plain": [
              "<Figure size 720x576 with 1 Axes>"
            ]
          },
          "metadata": {
            "needs_background": "light"
          },
          "output_type": "display_data"
        }
      ],
      "source": [
        "%time\n",
        "from sklearn.neighbors import KNeighborsClassifier\n",
        "from sklearn.metrics import   roc_auc_score\n",
        "\n",
        "knn = KNeighborsClassifier(n_neighbors=65,algorithm='brute',n_jobs=-1) # selecting k according to AUC\n",
        "\n",
        "knn.fit(BOW_X_train,Y_train)\n",
        "\n",
        "y_hat = knn.predict_proba(BOW_X_cv)\n",
        "pos_prob_cv = y_hat[:,1]\n",
        "\n",
        "fpr_test, tpr_test, thresholds = roc_curve(Y_cv,pos_prob_cv)\n",
        "\n",
        "y_hat = knn.predict_proba(BOW_X_train)\n",
        "pos_prob_train = y_hat[:,1]\n",
        "\n",
        "fpr_train, tpr_train, thresholds = roc_curve(Y_train,pos_prob_train)\n",
        "\n",
        "plt.figure(figsize=(10,8))\n",
        "\n",
        "plt.plot(fpr_test, tpr_test ,label = \" Cross Validated ROC, AUC  = \" + str(roc_auc_score(Y_cv,pos_prob_cv)))\n",
        "plt.plot(fpr_train,tpr_train,label = \" TRAIN ROC, AUC            = \" + str(roc_auc_score(Y_train,pos_prob_train)))\n",
        "\n",
        "plt.title('ROC')\n",
        "plt.xlabel('FPR')\n",
        "plt.ylabel('TPR')\n",
        "plt.legend()\n",
        "\n",
        "plt.show()"
      ]
    },
    {
      "cell_type": "markdown",
      "metadata": {
        "id": "lY9QC4TWE7rL"
      },
      "source": [
        "0.76 AUC is acceptable, means our model is able to distinguish positive class points from negative class points 76 percent of the times."
      ]
    },
    {
      "cell_type": "code",
      "execution_count": 175,
      "metadata": {
        "id": "Y51fiqquYpnE"
      },
      "outputs": [],
      "source": [
        "from sklearn.metrics import plot_confusion_matrix\n",
        "from sklearn.metrics import classification_report\n",
        "\n",
        "def plot_confusionMatrix(neighbors,X_train,X_test,Y_train,Y_test):\n",
        "  # plotting Confusion Matrix\n",
        "\n",
        "  clf = KNeighborsClassifier(n_neighbors = neighbors,algorithm='brute',metric = 'cosine')\n",
        "\n",
        "  clf.fit(X_train,Y_train)\n",
        "  pred = clf.predict(X_test)\n",
        "\n",
        "  print(classification_report(Y_test, pred))\n",
        "  plot_confusion_matrix(clf, X_test, Y_test)\n",
        "\n",
        "\n",
        "  plt.show()"
      ]
    },
    {
      "cell_type": "code",
      "execution_count": 122,
      "metadata": {
        "colab": {
          "base_uri": "https://localhost:8080/",
          "height": 453
        },
        "id": "j7GMAJFWGddo",
        "outputId": "965cea33-0f41-4845-decc-8806c37f4b04"
      },
      "outputs": [
        {
          "name": "stdout",
          "output_type": "stream",
          "text": [
            "{0: 995, 1: 5392}\n",
            "              precision    recall  f1-score   support\n",
            "\n",
            "           0       0.68      0.13      0.22       995\n",
            "           1       0.86      0.99      0.92      5392\n",
            "\n",
            "    accuracy                           0.86      6387\n",
            "   macro avg       0.77      0.56      0.57      6387\n",
            "weighted avg       0.83      0.86      0.81      6387\n",
            "\n"
          ]
        },
        {
          "data": {
            "image/png": "[encoded data removed]",
            "text/plain": [
              "<Figure size 432x288 with 2 Axes>"
            ]
          },
          "metadata": {
            "needs_background": "light"
          },
          "output_type": "display_data"
        }
      ],
      "source": [
        "plot_confusionMatrix(65,BOW_X_train,BOW_X_test,Y_train,Y_test)"
      ]
    },
    {
      "cell_type": "code",
      "execution_count": 125,
      "metadata": {
        "colab": {
          "base_uri": "https://localhost:8080/",
          "height": 513
        },
        "id": "B3RU-Amlqpix",
        "outputId": "63362685-1289-4f09-e12a-67e995b439c5"
      },
      "outputs": [
        {
          "data": {
            "image/png": "[encoded data removed]",
            "text/plain": [
              "<Figure size 720x576 with 1 Axes>"
            ]
          },
          "metadata": {
            "needs_background": "light"
          },
          "output_type": "display_data"
        }
      ],
      "source": [
        "knn = KNeighborsClassifier(n_neighbors=45,algorithm='brute',n_jobs=-1) # selecting k according to Accuracy\n",
        "\n",
        "knn.fit(BOW_X_train,Y_train)\n",
        "\n",
        "y_hat = knn.predict_proba(BOW_X_cv)\n",
        "pos_prob_test = y_hat[:,1]\n",
        "\n",
        "fpr_test, tpr_test, thresholds = roc_curve(Y_cv,pos_prob_test)\n",
        "\n",
        "y_hat = knn.predict_proba(BOW_X_train)\n",
        "pos_prob_train = y_hat[:,1]\n",
        "\n",
        "fpr_train, tpr_train, thresholds = roc_curve(Y_train,pos_prob_train)\n",
        "\n",
        "plt.figure(figsize=(10,8))\n",
        "\n",
        "plt.plot(fpr_test, tpr_test ,label = \" Cross Validated ROC, AUC  = \" + str(roc_auc_score(Y_cv,pos_prob_test)))\n",
        "plt.plot(fpr_train,tpr_train,label = \" TRAIN ROC, AUC = \" + str(roc_auc_score(Y_train,pos_prob_train)))\n",
        "\n",
        "plt.title('ROC')\n",
        "plt.xlabel('FPR')\n",
        "plt.ylabel('TPR')\n",
        "plt.legend()\n",
        "\n",
        "plt.show()"
      ]
    },
    {
      "cell_type": "markdown",
      "metadata": {
        "id": "zKo8KbUGFuZg"
      },
      "source": [
        "here AUC of cv is 0.75 but the difference in train and cv AUC much bigger than when we selectd k = 65 ,\n",
        "\n",
        "Remember if train error is low and test error is high then it means we are overfitting our model, so we should increase K so that our test error becomes low also,Hence K acording to AUC is preferred here"
      ]
    },
    {
      "cell_type": "code",
      "execution_count": 126,
      "metadata": {
        "colab": {
          "base_uri": "https://localhost:8080/",
          "height": 453
        },
        "id": "Mf9dO6KVXnbl",
        "outputId": "774bf825-26b1-432b-9be8-f3425e719862"
      },
      "outputs": [
        {
          "name": "stdout",
          "output_type": "stream",
          "text": [
            "{0: 995, 1: 5392}\n",
            "              precision    recall  f1-score   support\n",
            "\n",
            "           0       0.64      0.17      0.27       995\n",
            "           1       0.86      0.98      0.92      5392\n",
            "\n",
            "    accuracy                           0.86      6387\n",
            "   macro avg       0.75      0.58      0.59      6387\n",
            "weighted avg       0.83      0.86      0.82      6387\n",
            "\n"
          ]
        },
        {
          "data": {
            "image/png": "[encoded data removed]",
            "text/plain": [
              "<Figure size 432x288 with 2 Axes>"
            ]
          },
          "metadata": {
            "needs_background": "light"
          },
          "output_type": "display_data"
        }
      ],
      "source": [
        "plot_confusionMatrix(45,BOW_X_train,BOW_X_test,Y_train,Y_test)\n"
      ]
    },
    {
      "cell_type": "markdown",
      "metadata": {
        "id": "HIwsgEr7Tb65"
      },
      "source": [
        "In imbalanced datasets, the goal is to improve recall without hurting precision. These goals, however, are often conflicting, since in order to increase the TP for the minority class, the number of FP is also often increased, resulting in reduced precision.\n",
        "\n",
        "https://machinelearningmastery.com/precision-recall-and-f-measure-for-imbalanced-classification/"
      ]
    },
    {
      "cell_type": "markdown",
      "metadata": {
        "id": "dECuJNSkd_fl"
      },
      "source": [
        "https://www.codegrepper.com/code-examples/python/skplt.metrics.plot_confusion_matrix"
      ]
    },
    {
      "cell_type": "markdown",
      "metadata": {
        "id": "BUFXOvmDfcBJ"
      },
      "source": [
        "Why Log-Loss should not be used as scoring metrics for KNN \n",
        "\n",
        "https://medium.com/@bengikoseoglu/why-log-loss-metric-shouldnt-be-used-to-evaluate-nearest-neighbour-classification-1fe314f460a2"
      ]
    },
    {
      "cell_type": "markdown",
      "metadata": {
        "id": "BSqvhG--g5Z-"
      },
      "source": [
        "https://towardsdatascience.com/7-over-sampling-techniques-to-handle-imbalanced-data-ec51c8db349f"
      ]
    },
    {
      "cell_type": "markdown",
      "metadata": {
        "id": "hC2MnolmT-kH"
      },
      "source": [
        "## <h3> BOW(Bi-gram)"
      ]
    },
    {
      "cell_type": "code",
      "execution_count": 128,
      "metadata": {
        "id": "4UVa1clMPLnW"
      },
      "outputs": [],
      "source": [
        "from sklearn.feature_extraction.text import CountVectorizer\n",
        "\n",
        "vectorizer = CountVectorizer(ngram_range = (2,2),max_features= 5000)\n",
        "\n",
        "vectorizer.fit(X_train) # fitting on the training data,building the vocabulary and stuff.\n",
        "\n",
        "BOW_X_train = vectorizer.transform(X_train) \n",
        "BOW_X_cv    = vectorizer.transform(X_cv)\n",
        "BOW_X_test  = vectorizer.transform(X_test)"
      ]
    },
    {
      "cell_type": "code",
      "execution_count": 129,
      "metadata": {
        "colab": {
          "base_uri": "https://localhost:8080/"
        },
        "id": "SEUUXcfdUpbn",
        "outputId": "62540963-fff6-4eaf-e3ac-fd9051778275"
      },
      "outputs": [
        {
          "name": "stdout",
          "output_type": "stream",
          "text": [
            "some feature names:-- ['able buy', 'able eat', 'able find', 'able get', 'able make', 'able order', 'able purchase', 'able use', 'absolute best', 'absolute favorite']\n",
            "BOW_X_train (8687, 5000)\n",
            "BOW_X_cv    (4280, 5000)\n",
            "BOW_X_test  (6387, 5000)\n",
            "<class 'scipy.sparse.csr.csr_matrix'>\n"
          ]
        }
      ],
      "source": [
        "print(\"some feature names:--\",vectorizer.get_feature_names()[:10])\n",
        "\n",
        "print(\"BOW_X_train\",BOW_X_train.shape)\n",
        "print(\"BOW_X_cv   \",BOW_X_cv.shape)\n",
        "print(\"BOW_X_test \",BOW_X_test.shape)\n",
        "\n",
        "print(type(BOW_X_train))"
      ]
    },
    {
      "cell_type": "code",
      "execution_count": 130,
      "metadata": {
        "colab": {
          "base_uri": "https://localhost:8080/",
          "height": 456
        },
        "id": "DoPpY0jNU_qF",
        "outputId": "edd99aa4-ea92-4fea-842a-c329d68f10ea"
      },
      "outputs": [
        {
          "name": "stdout",
          "output_type": "stream",
          "text": [
            "CPU times: user 3 µs, sys: 0 ns, total: 3 µs\n",
            "Wall time: 5.72 µs\n"
          ]
        },
        {
          "name": "stderr",
          "output_type": "stream",
          "text": [
            "100%|██████████| 16/16 [01:38<00:00,  6.17s/it]\n"
          ]
        },
        {
          "data": {
            "image/png": "[encoded data removed]",
            "text/plain": [
              "<Figure size 720x432 with 1 Axes>"
            ]
          },
          "metadata": {
            "needs_background": "light"
          },
          "output_type": "display_data"
        }
      ],
      "source": [
        "%time\n",
        "from sklearn.metrics import roc_auc_score\n",
        "from sklearn.neighbors import KNeighborsClassifier\n",
        "\n",
        "auc_cv    = []\n",
        "auc_train = []\n",
        "k         = list(range(1,80,5) )\n",
        "\n",
        "for i in tqdm(range(1,80,5)):\n",
        "\n",
        "  knn = KNeighborsClassifier(n_neighbors = i, algorithm = 'brute',n_jobs = -1,metric='cosine')\n",
        "\n",
        "  knn.fit(BOW_X_train,Y_train)\n",
        "  y_hat = knn.predict_proba(BOW_X_cv) # predict probabilities.\n",
        "  pos_prob = y_hat[:,1]               # selecting probabilities of positive class only.\n",
        "  auc_cv.append(roc_auc_score(Y_cv,pos_prob))\n",
        "\n",
        "  y_hat = knn.predict_proba(BOW_X_train)\n",
        "  pos_prob = y_hat[:,1]\n",
        "  auc_train.append(roc_auc_score(Y_train,pos_prob)) # appending the auc_score of different K for training data.\n",
        "\n",
        "\n",
        "plt.figure( figsize = (10,6) )\n",
        "\n",
        "plt.plot(k,auc_train,label = \"AUC Train\")\n",
        "plt.scatter(k,auc_train,label = \"AUC Train\")\n",
        "\n",
        "plt.plot(k,auc_cv,label = 'AUC Cv')\n",
        "plt.scatter(k,auc_cv,label = 'AUC Cv')\n",
        "\n",
        "plt.title(\"AUC vs K\")\n",
        "plt.xlabel('K')\n",
        "plt.ylabel('AUC')\n",
        "plt.legend() \n",
        "\n",
        "plt.show()"
      ]
    },
    {
      "cell_type": "markdown",
      "metadata": {
        "id": "NrpZKk-rWIAj"
      },
      "source": [
        "optimal k is around 40"
      ]
    },
    {
      "cell_type": "code",
      "execution_count": 131,
      "metadata": {
        "colab": {
          "base_uri": "https://localhost:8080/",
          "height": 548
        },
        "id": "aA_cC_44VjIg",
        "outputId": "c14359e1-3dcb-4690-d18c-334646400311"
      },
      "outputs": [
        {
          "name": "stdout",
          "output_type": "stream",
          "text": [
            "CPU times: user 3 µs, sys: 0 ns, total: 3 µs\n",
            "Wall time: 6.91 µs\n"
          ]
        },
        {
          "data": {
            "image/png": "[encoded data removed]",
            "text/plain": [
              "<Figure size 720x576 with 1 Axes>"
            ]
          },
          "metadata": {
            "needs_background": "light"
          },
          "output_type": "display_data"
        }
      ],
      "source": [
        "%time\n",
        "from sklearn.neighbors import KNeighborsClassifier\n",
        "from sklearn.metrics   import roc_auc_score\n",
        "\n",
        "knn = KNeighborsClassifier(n_neighbors=39,algorithm='brute',n_jobs=-1,metric= 'cosine') # selecting an odd k\n",
        "\n",
        "knn.fit(BOW_X_train,Y_train)\n",
        "\n",
        "y_hat = knn.predict_proba(BOW_X_cv)\n",
        "pos_prob_cv = y_hat[:,1]\n",
        "\n",
        "fpr_test, tpr_test, thresholds = roc_curve(Y_cv,pos_prob_cv)\n",
        "\n",
        "y_hat = knn.predict_proba(BOW_X_train)\n",
        "pos_prob_train = y_hat[:,1]\n",
        "\n",
        "fpr_train, tpr_train, thresholds = roc_curve(Y_train,pos_prob_train)\n",
        "\n",
        "plt.figure(figsize=(10,8))\n",
        "\n",
        "plt.plot(fpr_test, tpr_test ,label = \" Cross Validated ROC, AUC  = \" + str(roc_auc_score(Y_cv,pos_prob_cv)))\n",
        "plt.plot(fpr_train,tpr_train,label = \" TRAIN ROC, AUC            = \" + str(roc_auc_score(Y_train,pos_prob_train)))\n",
        "\n",
        "plt.title('ROC')\n",
        "plt.xlabel('FPR')\n",
        "plt.ylabel('TPR')\n",
        "plt.legend()\n",
        "\n",
        "plt.show()"
      ]
    },
    {
      "cell_type": "markdown",
      "metadata": {
        "id": "cP7EGdlvWyCH"
      },
      "source": [
        "AUC score has increased immensely from 0.76(uni-gram) to 0.82(bi-grams)"
      ]
    },
    {
      "cell_type": "code",
      "execution_count": 132,
      "metadata": {
        "colab": {
          "base_uri": "https://localhost:8080/",
          "height": 453
        },
        "id": "u_xbUfZdXB4X",
        "outputId": "7f7629d9-aa21-42fa-f254-bed8cebfc6fd"
      },
      "outputs": [
        {
          "name": "stdout",
          "output_type": "stream",
          "text": [
            "{0: 995, 1: 5392}\n",
            "              precision    recall  f1-score   support\n",
            "\n",
            "           0       0.72      0.13      0.22       995\n",
            "           1       0.86      0.99      0.92      5392\n",
            "\n",
            "    accuracy                           0.86      6387\n",
            "   macro avg       0.79      0.56      0.57      6387\n",
            "weighted avg       0.84      0.86      0.81      6387\n",
            "\n"
          ]
        },
        {
          "data": {
            "image/png": "[encoded data removed]",
            "text/plain": [
              "<Figure size 432x288 with 2 Axes>"
            ]
          },
          "metadata": {
            "needs_background": "light"
          },
          "output_type": "display_data"
        }
      ],
      "source": [
        "plot_confusionMatrix(39,BOW_X_train,BOW_X_test,Y_train,Y_test)\n"
      ]
    },
    {
      "cell_type": "markdown",
      "metadata": {
        "id": "tOVj9xMhcxye"
      },
      "source": [
        "our main diognals performance has imporoved\n",
        "\n",
        "\n",
        "*   Precision has imporoved of negative points from 0.64 to 0.72\n",
        "*   Recall of +ve class has impropved but recall of negative points has decreased\n",
        "\n"
      ]
    },
    {
      "cell_type": "markdown",
      "metadata": {
        "id": "eLcBoFd4c2oy"
      },
      "source": [
        "## <h3> BOW (ngram_range(1,2)"
      ]
    },
    {
      "cell_type": "code",
      "execution_count": 144,
      "metadata": {
        "id": "RcmHBrQXcjfq"
      },
      "outputs": [],
      "source": [
        "from sklearn.feature_extraction.text import CountVectorizer\n",
        "\n",
        "vectorizer = CountVectorizer(ngram_range=(1,2),max_features=7000)\n",
        "\n",
        "vectorizer.fit(X_train) # fitting on the training data,building the vocabulary and stuff.\n",
        "\n",
        "BOW_X_train = vectorizer.transform(X_train) \n",
        "BOW_X_cv    = vectorizer.transform(X_cv)\n",
        "BOW_X_test  = vectorizer.transform(X_test)"
      ]
    },
    {
      "cell_type": "code",
      "execution_count": 145,
      "metadata": {
        "id": "63tXUglSt9T7"
      },
      "outputs": [],
      "source": [
        "from sklearn.preprocessing import Normalizer # \"Cosine metric\" requires data to be normalized\n",
        "Data_normalizer = Normalizer(norm='l2').fit(BOW_X_train)\n",
        "\n",
        "BOW_X_train     = Data_normalizer.transform(BOW_X_train)\n",
        "BOW_X_cv        = Data_normalizer.transform(BOW_X_cv)\n",
        "BOW_X_test      = Data_normalizer.transform(BOW_X_test)"
      ]
    },
    {
      "cell_type": "code",
      "execution_count": 146,
      "metadata": {
        "colab": {
          "base_uri": "https://localhost:8080/"
        },
        "id": "prJD2kjhdI3o",
        "outputId": "9ab357c9-ea3e-48ae-f8be-32f2b75000bf"
      },
      "outputs": [
        {
          "name": "stdout",
          "output_type": "stream",
          "text": [
            "some feature names:-- ['able', 'able buy', 'able eat', 'able find', 'able get', 'absolute', 'absolute favorite', 'absolutely', 'absolutely best', 'absolutely delicious']\n",
            "BOW_X_train (8687, 5000)\n",
            "BOW_X_cv    (4280, 5000)\n",
            "BOW_X_test  (6387, 5000)\n",
            "<class 'scipy.sparse.csr.csr_matrix'>\n"
          ]
        }
      ],
      "source": [
        "print(\"some feature names:--\",vectorizer.get_feature_names()[:10])\n",
        "\n",
        "print(\"BOW_X_train\",BOW_X_train.shape)\n",
        "print(\"BOW_X_cv   \",BOW_X_cv.shape)\n",
        "print(\"BOW_X_test \",BOW_X_test.shape)\n",
        "\n",
        "print(type(BOW_X_train))"
      ]
    },
    {
      "cell_type": "code",
      "execution_count": 147,
      "metadata": {
        "colab": {
          "base_uri": "https://localhost:8080/",
          "height": 456
        },
        "id": "54NlWm7kdYeM",
        "outputId": "8d6a63dd-3982-4930-aa53-a08ab45e75e9"
      },
      "outputs": [
        {
          "name": "stdout",
          "output_type": "stream",
          "text": [
            "CPU times: user 3 µs, sys: 0 ns, total: 3 µs\n",
            "Wall time: 6.44 µs\n"
          ]
        },
        {
          "name": "stderr",
          "output_type": "stream",
          "text": [
            "100%|██████████| 7/7 [01:04<00:00,  9.15s/it]\n"
          ]
        },
        {
          "data": {
            "image/png": "[encoded data removed]",
            "text/plain": [
              "<Figure size 720x432 with 1 Axes>"
            ]
          },
          "metadata": {
            "needs_background": "light"
          },
          "output_type": "display_data"
        }
      ],
      "source": [
        "%time\n",
        "from sklearn.metrics import roc_auc_score\n",
        "from sklearn.neighbors import KNeighborsClassifier\n",
        "\n",
        "auc_cv    = []\n",
        "auc_train = []\n",
        "k         = list(range(1,65,10) )\n",
        "\n",
        "for i in tqdm(range(1,65,10)):\n",
        "\n",
        "  knn = KNeighborsClassifier(n_neighbors = i, algorithm = 'brute',n_jobs = -1,metric ='cosine')\n",
        "\n",
        "  knn.fit(BOW_X_train,Y_train)\n",
        "  y_hat = knn.predict_proba(BOW_X_cv) # predict probabilities.\n",
        "  pos_prob = y_hat[:,1]               # selecting probabilities of positive class only.\n",
        "  auc_cv.append(roc_auc_score(Y_cv,pos_prob))\n",
        "\n",
        "  y_hat = knn.predict_proba(BOW_X_train)\n",
        "  pos_prob = y_hat[:,1]\n",
        "  auc_train.append(roc_auc_score(Y_train,pos_prob)) # appending the auc_score of different K for training data.\n",
        "\n",
        "\n",
        "plt.figure( figsize = (10,6) )\n",
        "\n",
        "plt.plot(k,auc_train,label = \"AUC Train\")\n",
        "plt.scatter(k,auc_train,label = \"AUC Train\")\n",
        "\n",
        "plt.plot(k,auc_cv,label = 'AUC Cv')\n",
        "plt.scatter(k,auc_cv,label = 'AUC Cv')\n",
        "\n",
        "plt.title(\"AUC vs K\")\n",
        "plt.xlabel('K')\n",
        "plt.ylabel('AUC')\n",
        "plt.legend() \n",
        "\n",
        "plt.show()"
      ]
    },
    {
      "cell_type": "markdown",
      "metadata": {
        "id": "O_Aof2coeq63"
      },
      "source": [
        "optimal k = 40"
      ]
    },
    {
      "cell_type": "code",
      "execution_count": 149,
      "metadata": {
        "colab": {
          "base_uri": "https://localhost:8080/",
          "height": 548
        },
        "id": "Om07xTf2dhb-",
        "outputId": "894e186b-b78b-4d41-aa7f-69d3a666a942"
      },
      "outputs": [
        {
          "name": "stdout",
          "output_type": "stream",
          "text": [
            "CPU times: user 11 µs, sys: 0 ns, total: 11 µs\n",
            "Wall time: 14.1 µs\n"
          ]
        },
        {
          "data": {
            "image/png": "[encoded data removed]",
            "text/plain": [
              "<Figure size 720x576 with 1 Axes>"
            ]
          },
          "metadata": {
            "needs_background": "light"
          },
          "output_type": "display_data"
        }
      ],
      "source": [
        "%time\n",
        "from sklearn.neighbors import KNeighborsClassifier\n",
        "from sklearn.metrics import   roc_auc_score\n",
        "\n",
        "knn = KNeighborsClassifier(n_neighbors=39,algorithm='brute',n_jobs=-1,metric = 'cosine') # selecting k according to AUC\n",
        "\n",
        "knn.fit(BOW_X_train,Y_train)\n",
        "\n",
        "y_hat = knn.predict_proba(BOW_X_cv)\n",
        "pos_prob_cv = y_hat[:,1]\n",
        "\n",
        "fpr_test, tpr_test, thresholds = roc_curve(Y_cv,pos_prob_cv)\n",
        "\n",
        "y_hat = knn.predict_proba(BOW_X_train)\n",
        "pos_prob_train = y_hat[:,1]\n",
        "\n",
        "fpr_train, tpr_train, thresholds = roc_curve(Y_train,pos_prob_train)\n",
        "\n",
        "plt.figure(figsize=(10,8))\n",
        "\n",
        "plt.plot(fpr_test, tpr_test ,label = \" Cross Validated ROC, AUC  = \" + str(roc_auc_score(Y_cv,pos_prob_cv)))\n",
        "plt.plot(fpr_train,tpr_train,label = \" TRAIN ROC, AUC            = \" + str(roc_auc_score(Y_train,pos_prob_train)))\n",
        "\n",
        "plt.title('ROC')\n",
        "plt.xlabel('FPR')\n",
        "plt.ylabel('TPR')\n",
        "plt.legend()\n",
        "\n",
        "plt.show()"
      ]
    },
    {
      "cell_type": "code",
      "execution_count": 151,
      "metadata": {
        "colab": {
          "base_uri": "https://localhost:8080/",
          "height": 453
        },
        "id": "lBDlRs47dw0Q",
        "outputId": "5169dd8c-c3e1-439b-eda0-c4bb088b45a2"
      },
      "outputs": [
        {
          "name": "stdout",
          "output_type": "stream",
          "text": [
            "{0: 995, 1: 5392}\n",
            "              precision    recall  f1-score   support\n",
            "\n",
            "           0       0.67      0.19      0.29       995\n",
            "           1       0.87      0.98      0.92      5392\n",
            "\n",
            "    accuracy                           0.86      6387\n",
            "   macro avg       0.77      0.59      0.61      6387\n",
            "weighted avg       0.84      0.86      0.82      6387\n",
            "\n"
          ]
        },
        {
          "data": {
            "image/png": "[encoded data removed]",
            "text/plain": [
              "<Figure size 432x288 with 2 Axes>"
            ]
          },
          "metadata": {
            "needs_background": "light"
          },
          "output_type": "display_data"
        }
      ],
      "source": [
        "plot_confusionMatrix(39,BOW_X_train,BOW_X_test,Y_train,Y_test)"
      ]
    },
    {
      "cell_type": "markdown",
      "metadata": {
        "id": "1uykt25ipLtY"
      },
      "source": [
        "* Decrease in \"Precision\" \n",
        "\n",
        "\n",
        "* increase in \"Recall\" and \"f1-score\" of the negative class compared to Bi-gram"
      ]
    },
    {
      "cell_type": "markdown",
      "metadata": {
        "id": "ZG0hzxl2qJre"
      },
      "source": [
        "# BOW(ngram_range(1,3)"
      ]
    },
    {
      "cell_type": "code",
      "execution_count": 153,
      "metadata": {
        "id": "HUo01lxKd6P0"
      },
      "outputs": [],
      "source": [
        "from sklearn.feature_extraction.text import CountVectorizer\n",
        "\n",
        "vectorizer = CountVectorizer(ngram_range=(1,3),max_features=10000)\n",
        "\n",
        "vectorizer.fit(X_train) # fitting on the training data,building the vocabulary and stuff.\n",
        "\n",
        "BOW_X_train = vectorizer.transform(X_train) \n",
        "BOW_X_cv    = vectorizer.transform(X_cv)\n",
        "BOW_X_test  = vectorizer.transform(X_test)"
      ]
    },
    {
      "cell_type": "code",
      "execution_count": 154,
      "metadata": {
        "id": "YkN6sQyxtU7W"
      },
      "outputs": [],
      "source": [
        "from sklearn.preprocessing import Normalizer\n",
        "Data_normalizer = Normalizer(norm='l2').fit(BOW_X_train)\n",
        "\n",
        "BOW_X_train     = Data_normalizer.transform(BOW_X_train)\n",
        "BOW_X_cv        = Data_normalizer.transform(BOW_X_cv)\n",
        "BOW_X_test      = Data_normalizer.transform(BOW_X_test)"
      ]
    },
    {
      "cell_type": "code",
      "execution_count": 155,
      "metadata": {
        "colab": {
          "base_uri": "https://localhost:8080/"
        },
        "id": "ZHrIVTm5l1ma",
        "outputId": "121dbd12-5b01-4dd7-81c4-1952aedca053"
      },
      "outputs": [
        {
          "name": "stdout",
          "output_type": "stream",
          "text": [
            "some feature names:-- ['ability', 'able', 'able buy', 'able eat', 'able find', 'able get', 'able make', 'able order', 'able purchase', 'able use']\n",
            "BOW_X_train (8687, 10000)\n",
            "BOW_X_cv    (4280, 10000)\n",
            "BOW_X_test  (6387, 10000)\n",
            "<class 'scipy.sparse.csr.csr_matrix'>\n"
          ]
        }
      ],
      "source": [
        "print(\"some feature names:--\",vectorizer.get_feature_names()[:10])\n",
        "\n",
        "print(\"BOW_X_train\",BOW_X_train.shape)\n",
        "print(\"BOW_X_cv   \",BOW_X_cv.shape)\n",
        "print(\"BOW_X_test \",BOW_X_test.shape)\n",
        "\n",
        "print(type(BOW_X_train))"
      ]
    },
    {
      "cell_type": "code",
      "execution_count": 156,
      "metadata": {
        "colab": {
          "base_uri": "https://localhost:8080/",
          "height": 456
        },
        "id": "FSHJXDaMl37f",
        "outputId": "b2a9384d-ac24-4a03-f936-7d932250c3c9"
      },
      "outputs": [
        {
          "name": "stdout",
          "output_type": "stream",
          "text": [
            "CPU times: user 2 µs, sys: 0 ns, total: 2 µs\n",
            "Wall time: 6.44 µs\n"
          ]
        },
        {
          "name": "stderr",
          "output_type": "stream",
          "text": [
            "100%|██████████| 7/7 [01:04<00:00,  9.17s/it]\n"
          ]
        },
        {
          "data": {
            "image/png": "[encoded data removed]",
            "text/plain": [
              "<Figure size 720x432 with 1 Axes>"
            ]
          },
          "metadata": {
            "needs_background": "light"
          },
          "output_type": "display_data"
        }
      ],
      "source": [
        "%time\n",
        "from sklearn.metrics import roc_auc_score\n",
        "from sklearn.neighbors import KNeighborsClassifier\n",
        "\n",
        "auc_cv    = []\n",
        "auc_train = []\n",
        "k         = list(range(1,65,10) )\n",
        "\n",
        "for i in tqdm(range(1,65,10)):\n",
        "\n",
        "  knn = KNeighborsClassifier(n_neighbors = i, algorithm = 'brute',n_jobs = -1,metric ='cosine')\n",
        "\n",
        "  knn.fit(BOW_X_train,Y_train)\n",
        "  y_hat = knn.predict_proba(BOW_X_cv) # predict probabilities.\n",
        "  pos_prob = y_hat[:,1]               # selecting probabilities of positive class only.\n",
        "  auc_cv.append(roc_auc_score(Y_cv,pos_prob))\n",
        "\n",
        "  y_hat = knn.predict_proba(BOW_X_train)\n",
        "  pos_prob = y_hat[:,1]\n",
        "  auc_train.append(roc_auc_score(Y_train,pos_prob)) # appending the auc_score of different K for training data.\n",
        "\n",
        "\n",
        "plt.figure( figsize = (10,6) )\n",
        "\n",
        "plt.plot(k,auc_train,label = \"AUC Train\")\n",
        "plt.scatter(k,auc_train,label = \"AUC Train\")\n",
        "\n",
        "plt.plot(k,auc_cv,label = 'AUC Cv')\n",
        "plt.scatter(k,auc_cv,label = 'AUC Cv')\n",
        "\n",
        "plt.title(\"AUC vs K\")\n",
        "plt.xlabel('K')\n",
        "plt.ylabel('AUC')\n",
        "plt.legend() \n",
        "\n",
        "plt.show()"
      ]
    },
    {
      "cell_type": "markdown",
      "metadata": {
        "id": "DerbnWEnm517"
      },
      "source": [
        "Optimal k = 40"
      ]
    },
    {
      "cell_type": "code",
      "execution_count": 163,
      "metadata": {
        "colab": {
          "base_uri": "https://localhost:8080/",
          "height": 548
        },
        "id": "fv7lo5I-l6q2",
        "outputId": "4dfd2e43-5eff-4155-9d0e-a5d607b4958f"
      },
      "outputs": [
        {
          "name": "stdout",
          "output_type": "stream",
          "text": [
            "CPU times: user 5 µs, sys: 0 ns, total: 5 µs\n",
            "Wall time: 9.06 µs\n"
          ]
        },
        {
          "data": {
            "image/png": "[encoded data removed]",
            "text/plain": [
              "<Figure size 720x576 with 1 Axes>"
            ]
          },
          "metadata": {
            "needs_background": "light"
          },
          "output_type": "display_data"
        }
      ],
      "source": [
        "%time\n",
        "from sklearn.neighbors import KNeighborsClassifier\n",
        "from sklearn.metrics import   roc_auc_score\n",
        "\n",
        "knn = KNeighborsClassifier(n_neighbors=40,algorithm='brute',n_jobs=-1,metric = 'cosine') # selecting k according to AUC\n",
        "\n",
        "knn.fit(BOW_X_train,Y_train)\n",
        "\n",
        "y_hat = knn.predict_proba(BOW_X_cv)\n",
        "pos_prob_cv = y_hat[:,1]\n",
        "\n",
        "fpr_test, tpr_test, thresholds = roc_curve(Y_cv,pos_prob_cv)\n",
        "\n",
        "y_hat = knn.predict_proba(BOW_X_train)\n",
        "pos_prob_train = y_hat[:,1]\n",
        "\n",
        "fpr_train, tpr_train, thresholds = roc_curve(Y_train,pos_prob_train)\n",
        "\n",
        "plt.figure(figsize=(10,8))\n",
        "\n",
        "plt.plot(fpr_test, tpr_test ,label = \" Cross Validated ROC, AUC  = \" + str(roc_auc_score(Y_cv,pos_prob_cv)))\n",
        "plt.plot(fpr_train,tpr_train,label = \" TRAIN ROC, AUC            = \" + str(roc_auc_score(Y_train,pos_prob_train)))\n",
        "\n",
        "plt.title('ROC')\n",
        "plt.xlabel('FPR')\n",
        "plt.ylabel('TPR')\n",
        "plt.legend()\n",
        "\n",
        "plt.show()"
      ]
    },
    {
      "cell_type": "code",
      "execution_count": 162,
      "metadata": {
        "colab": {
          "base_uri": "https://localhost:8080/",
          "height": 453
        },
        "id": "Kt0W_gMGmDAj",
        "outputId": "1ad946b6-ab6a-4589-c5c1-b5a0714cec58"
      },
      "outputs": [
        {
          "name": "stdout",
          "output_type": "stream",
          "text": [
            "{0: 995, 1: 5392}\n",
            "              precision    recall  f1-score   support\n",
            "\n",
            "           0       0.66      0.20      0.31       995\n",
            "           1       0.87      0.98      0.92      5392\n",
            "\n",
            "    accuracy                           0.86      6387\n",
            "   macro avg       0.76      0.59      0.61      6387\n",
            "weighted avg       0.84      0.86      0.83      6387\n",
            "\n"
          ]
        },
        {
          "data": {
            "image/png": "[encoded data removed]",
            "text/plain": [
              "<Figure size 432x288 with 2 Axes>"
            ]
          },
          "metadata": {
            "needs_background": "light"
          },
          "output_type": "display_data"
        }
      ],
      "source": [
        "plot_confusionMatrix(40,BOW_X_train,BOW_X_test,Y_train,Y_test)"
      ]
    },
    {
      "cell_type": "markdown",
      "metadata": {
        "id": "emi94QPjosMi"
      },
      "source": [
        "Not any significant improvement in the performance"
      ]
    },
    {
      "cell_type": "markdown",
      "metadata": {
        "id": "lrx6XF_pqqNx"
      },
      "source": [
        "# TF-IDF"
      ]
    },
    {
      "cell_type": "code",
      "execution_count": 164,
      "metadata": {
        "id": "zNsAjYG5qul1"
      },
      "outputs": [],
      "source": [
        "from sklearn.feature_extraction.text import TfidfVectorizer\n",
        "\n",
        "vectorizer  = TfidfVectorizer(ngram_range = (1,2),norm = 'l2',min_df = 10,max_df = 0.7,max_features=5000)\n",
        "\n",
        "tf_idf_X_train = vectorizer.fit_transform(X_train)\n",
        "tf_idf_X_cv    = vectorizer.transform(X_cv)\n",
        "tf_idf_X_test  = vectorizer.transform(X_test)"
      ]
    },
    {
      "cell_type": "code",
      "execution_count": 165,
      "metadata": {
        "colab": {
          "base_uri": "https://localhost:8080/"
        },
        "id": "y8-dVoCZrHrh",
        "outputId": "6fd15057-8181-4c2c-9f97-f4e0294a1d13"
      },
      "outputs": [
        {
          "name": "stdout",
          "output_type": "stream",
          "text": [
            "some feature names:-- ['able', 'able buy', 'able eat', 'able find', 'able get', 'absolute', 'absolute favorite', 'absolutely', 'absolutely best', 'absolutely delicious']\n",
            "tf_idf_X_train (8687, 5000)\n",
            "tf_idf_X_cv    (4280, 5000)\n",
            "tf_idf_X_test  (6387, 5000)\n",
            "<class 'scipy.sparse.csr.csr_matrix'>\n"
          ]
        }
      ],
      "source": [
        "print(\"some feature names:--\",vectorizer.get_feature_names()[:10])\n",
        "\n",
        "print(\"tf_idf_X_train\",tf_idf_X_train.shape)\n",
        "print(\"tf_idf_X_cv   \",tf_idf_X_cv.shape)\n",
        "print(\"tf_idf_X_test \",tf_idf_X_test.shape)\n",
        "\n",
        "print(type(tf_idf_X_train))"
      ]
    },
    {
      "cell_type": "code",
      "execution_count": 166,
      "metadata": {
        "colab": {
          "base_uri": "https://localhost:8080/",
          "height": 456
        },
        "id": "r55_EBFjsvye",
        "outputId": "c3e262e3-d58d-4b67-aab7-258c0594abea"
      },
      "outputs": [
        {
          "name": "stdout",
          "output_type": "stream",
          "text": [
            "CPU times: user 3 µs, sys: 0 ns, total: 3 µs\n",
            "Wall time: 6.44 µs\n"
          ]
        },
        {
          "name": "stderr",
          "output_type": "stream",
          "text": [
            "100%|██████████| 10/10 [01:30<00:00,  9.10s/it]\n"
          ]
        },
        {
          "data": {
            "image/png": "[encoded data removed]",
            "text/plain": [
              "<Figure size 720x432 with 1 Axes>"
            ]
          },
          "metadata": {
            "needs_background": "light"
          },
          "output_type": "display_data"
        }
      ],
      "source": [
        "%time\n",
        "from sklearn.metrics import roc_auc_score\n",
        "from sklearn.neighbors import KNeighborsClassifier\n",
        "\n",
        "auc_cv    = []\n",
        "auc_train = []\n",
        "k         = list(range(1,70,7) )\n",
        "\n",
        "for i in tqdm(range(1,70,7)):\n",
        "\n",
        "  knn = KNeighborsClassifier(n_neighbors = i, algorithm = 'brute',n_jobs = -1,metric ='cosine')\n",
        "\n",
        "  knn.fit(tf_idf_X_train,Y_train)\n",
        "  y_hat = knn.predict_proba(tf_idf_X_cv) # predict probabilities.\n",
        "  pos_prob = y_hat[:,1]                  # selecting probabilities of positive class only.\n",
        "  auc_cv.append(roc_auc_score(Y_cv,pos_prob))\n",
        "\n",
        "  y_hat = knn.predict_proba(tf_idf_X_train)\n",
        "  pos_prob = y_hat[:,1]\n",
        "  auc_train.append(roc_auc_score(Y_train,pos_prob)) # appending the auc_score of different K for training data.\n",
        "\n",
        "\n",
        "plt.figure( figsize = (10,6) )\n",
        "\n",
        "plt.plot(k,auc_train,label = \"AUC Train\")\n",
        "plt.scatter(k,auc_train,label = \"AUC Train\")\n",
        "\n",
        "plt.plot(k,auc_cv,label = 'AUC Cv')\n",
        "plt.scatter(k,auc_cv,label = 'AUC Cv')\n",
        "\n",
        "plt.title(\"AUC vs K\")\n",
        "plt.xlabel('K')\n",
        "plt.ylabel('AUC')\n",
        "plt.legend() \n",
        "\n",
        "plt.show()"
      ]
    },
    {
      "cell_type": "code",
      "execution_count": 173,
      "metadata": {
        "colab": {
          "base_uri": "https://localhost:8080/",
          "height": 548
        },
        "id": "iDRF7qlkxyKs",
        "outputId": "b435f5f7-4f4f-4549-89a9-35b860a9b170"
      },
      "outputs": [
        {
          "name": "stdout",
          "output_type": "stream",
          "text": [
            "CPU times: user 2 µs, sys: 0 ns, total: 2 µs\n",
            "Wall time: 6.2 µs\n"
          ]
        },
        {
          "data": {
            "image/png": "[encoded data removed]",
            "text/plain": [
              "<Figure size 720x576 with 1 Axes>"
            ]
          },
          "metadata": {
            "needs_background": "light"
          },
          "output_type": "display_data"
        }
      ],
      "source": [
        "%time\n",
        "from sklearn.neighbors import KNeighborsClassifier\n",
        "from sklearn.metrics import   roc_auc_score\n",
        "\n",
        "knn = KNeighborsClassifier(n_neighbors=55,algorithm='brute',n_jobs=-1,metric = 'cosine') # selecting k according to AUC\n",
        "\n",
        "knn.fit(tf_idf_X_train,Y_train)\n",
        "\n",
        "y_hat = knn.predict_proba(tf_idf_X_cv)\n",
        "pos_prob_cv = y_hat[:,1]\n",
        "\n",
        "fpr_test, tpr_test, thresholds = roc_curve(Y_cv,pos_prob_cv)\n",
        "\n",
        "y_hat = knn.predict_proba(tf_idf_X_train)\n",
        "pos_prob_train = y_hat[:,1]\n",
        "\n",
        "fpr_train, tpr_train, thresholds = roc_curve(Y_train,pos_prob_train)\n",
        "\n",
        "plt.figure(figsize=(10,8))\n",
        "\n",
        "plt.plot(fpr_test, tpr_test ,label = \" Cross Validated ROC, AUC  = \" + str(roc_auc_score(Y_cv,pos_prob_cv)))\n",
        "plt.plot(fpr_train,tpr_train,label = \" TRAIN ROC, AUC            = \" + str(roc_auc_score(Y_train,pos_prob_train)))\n",
        "\n",
        "plt.title('ROC')\n",
        "plt.xlabel('FPR')\n",
        "plt.ylabel('TPR')\n",
        "plt.legend()\n",
        "\n",
        "plt.show()"
      ]
    },
    {
      "cell_type": "markdown",
      "metadata": {
        "id": "KwGv4REGnr3s"
      },
      "source": [
        "Best ROC score compared every other technique"
      ]
    },
    {
      "cell_type": "code",
      "execution_count": 174,
      "metadata": {
        "colab": {
          "base_uri": "https://localhost:8080/",
          "height": 453
        },
        "id": "xULRHz48yBJw",
        "outputId": "7abd1a0a-6e84-428a-e6e4-41adb2ee649e"
      },
      "outputs": [
        {
          "name": "stdout",
          "output_type": "stream",
          "text": [
            "{0: 995, 1: 5392}\n",
            "              precision    recall  f1-score   support\n",
            "\n",
            "           0       0.75      0.17      0.27       995\n",
            "           1       0.87      0.99      0.92      5392\n",
            "\n",
            "    accuracy                           0.86      6387\n",
            "   macro avg       0.81      0.58      0.60      6387\n",
            "weighted avg       0.85      0.86      0.82      6387\n",
            "\n"
          ]
        },
        {
          "data": {
            "image/png": "[encoded data removed]",
            "text/plain": [
              "<Figure size 432x288 with 2 Axes>"
            ]
          },
          "metadata": {
            "needs_background": "light"
          },
          "output_type": "display_data"
        }
      ],
      "source": [
        "plot_confusionMatrix(55,BOW_X_train,BOW_X_test,Y_train,Y_test)"
      ]
    },
    {
      "cell_type": "markdown",
      "metadata": {
        "id": "UnIuANlFn5-h"
      },
      "source": [
        "\n",
        "\n",
        "*   Precision Improved\n",
        "*   Recall    Improved\n",
        "*   f1 score  Improved\n",
        "*   Area Under the Curve of ROC increased\n",
        "\n"
      ]
    },
    {
      "cell_type": "markdown",
      "metadata": {
        "id": "9TRRXhE4Gb5b"
      },
      "source": [
        "# UnderSampling"
      ]
    },
    {
      "cell_type": "code",
      "execution_count": null,
      "metadata": {
        "cellView": "code",
        "colab": {
          "base_uri": "https://localhost:8080/"
        },
        "id": "dfFLCYMJGmlt",
        "outputId": "d1a7ebd5-b056-4efa-8150-09aa62268828"
      },
      "outputs": [
        {
          "data": {
            "text/plain": [
              "1    8321\n",
              "Name: Score, dtype: int64"
            ]
          },
          "execution_count": 306,
          "metadata": {},
          "output_type": "execute_result"
        }
      ],
      "source": [
        "# to be done later\n",
        "filtered_data['Score'].value_counts()\n",
        "negative_data = filtered_data[ (filtered_data['Score'] == 1 ) | (filtered_data['Score'] == 2) ]\n",
        "\n",
        "negative_data['Score'].value_counts().sum()\n",
        "filtered_data['Score'].values\n",
        "positive_data = filtered_data[ (filtered_data['Score'] == 4 ) | (filtered_data['Score'] == 5) ]\n",
        "\n",
        "positive_data['Score'].value_counts()\n",
        "  \n",
        "negative_data_size = negative_data.shape[0] # selecting first argument returned by shape attribute\n",
        "balanced_positive_data = positive_data.head(negative_data_size)\n",
        "\n",
        "balanced_positive_data.shape\n",
        "filtered_data = pd.concat([ negative_data,balanced_positive_data],ignore_index=True)\n",
        "\n",
        "filtered_data['Score'].value_counts()"
      ]
    },
    {
      "cell_type": "code",
      "execution_count": null,
      "metadata": {
        "id": "wo1Oxa41Gf8S"
      },
      "outputs": [],
      "source": []
    }
  ],
  "metadata": {
    "colab": {
      "collapsed_sections": [
        "k06v0gYWQFd9",
        "hC2MnolmT-kH",
        "eLcBoFd4c2oy",
        "ZG0hzxl2qJre",
        "lrx6XF_pqqNx",
        "9TRRXhE4Gb5b"
      ],
      "include_colab_link": true,
      "name": " Amazon Fine Food Reviews using KNN .ipynb",
      "provenance": []
    },
    "kernelspec": {
      "display_name": "Python 3",
      "language": "python",
      "name": "python3"
    }
  },
  "nbformat": 4,
  "nbformat_minor": 0
}
